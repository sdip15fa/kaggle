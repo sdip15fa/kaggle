{
 "cells": [
  {
   "cell_type": "code",
   "execution_count": null,
   "metadata": {},
   "outputs": [],
   "source": []
  }
 ],
 "metadata": {
  "kernelspec": {
   "display_name": "Python 3.10.6 ('gym': venv)",
   "language": "python",
   "name": "python3"
  },
  "language_info": {
   "name": "python",
   "version": "3.10.6"
  },
  "orig_nbformat": 4,
  "vscode": {
   "interpreter": {
    "hash": "e12c9e6d74ef0e49071478d3ce65c0072fedf22fc4558997fb59ee75dc96b3a4"
   }
  }
 },
 "nbformat": 4,
 "nbformat_minor": 2
}
