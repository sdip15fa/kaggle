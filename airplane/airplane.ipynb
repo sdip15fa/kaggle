{
  "cells": [
    {
      "cell_type": "markdown",
      "metadata": {
        "id": "X-mBwnRSXYr_"
      },
      "source": [
        "@author wcyat"
      ]
    },
    {
      "cell_type": "markdown",
      "metadata": {
        "id": "_bF7N-MKXYsC"
      },
      "source": [
        "# Airplane Competition\n",
        "\n",
        "https://www.kaggle.com/competitions/10botics-x-hkage-competition-1/overview\n",
        "\n",
        "In this competition, your goal is to predict airplane ticket prices using the given training data. Please use your real name as the Team Name, as this will be part of the course grade. You will also need to submit your Notebook at the Google Classroom course page. Please put your name in the notebook in a comment or markdown. The data column information is as follows:\n",
        "\n",
        "- [MktCoupons] - Numbers of market coupons for that flight\n",
        "- [Quarter] - Season when the ticket was purchased\n",
        "- [Origin] - Origin Airport Name\n",
        "- [OriginWac] - Origin Airport Area Code\n",
        "- [Dest] - Origin Airport Name\n",
        "- [DestWac] - Origin Airport Area Code\n",
        "- [Miles] - Flight Distance\n",
        "- [ContiguousUSA] - 2: Lower 48 States / 1: Alaska / Hawaii / etc\n",
        "- [NumTicketsOrdered] - Number of tickets purchased in the transaction\n",
        "- [AirlineCompany] - Flight Airline\n",
        "\n",
        "- [PricePerTicket] - Price per Ticket purchased (Target Column)"
      ]
    },
    {
      "cell_type": "code",
      "execution_count": 1,
      "metadata": {
        "id": "LfonHgMyXYsE"
      },
      "outputs": [
        {
          "name": "stderr",
          "output_type": "stream",
          "text": [
            "2022-07-30 09:55:19.456226: I tensorflow/core/util/util.cc:169] oneDNN custom operations are on. You may see slightly different numerical results due to floating-point round-off errors from different computation orders. To turn them off, set the environment variable `TF_ENABLE_ONEDNN_OPTS=0`.\n",
            "2022-07-30 09:55:19.459189: W tensorflow/stream_executor/platform/default/dso_loader.cc:64] Could not load dynamic library 'libcudart.so.11.0'; dlerror: libcudart.so.11.0: cannot open shared object file: No such file or directory\n",
            "2022-07-30 09:55:19.459203: I tensorflow/stream_executor/cuda/cudart_stub.cc:29] Ignore above cudart dlerror if you do not have a GPU set up on your machine.\n"
          ]
        }
      ],
      "source": [
        "import pandas as pd\n",
        "import numpy as np\n",
        "from sklearn.linear_model import LinearRegression\n",
        "from sklearn.cluster import KMeans\n",
        "from sklearn.tree import DecisionTreeRegressor\n",
        "from sklearn.model_selection import train_test_split\n",
        "from sklearn.pipeline import Pipeline\n",
        "from xgboost import XGBRegressor\n",
        "from sklearn.ensemble import RandomForestRegressor\n",
        "from sklearn.metrics import mean_squared_error, mean_absolute_error\n",
        "from sklearn.pipeline import Pipeline\n",
        "from sklearn.impute import SimpleImputer\n",
        "from sklearn.model_selection import cross_val_score\n",
        "from sklearn.preprocessing import OneHotEncoder\n",
        "import tensorflow as tf\n",
        "from tensorflow import keras\n",
        "import matplotlib.pyplot as plt\n",
        "from sklearn.metrics import mean_squared_error, mean_absolute_error\n",
        "import seaborn as sns"
      ]
    },
    {
      "cell_type": "code",
      "execution_count": 2,
      "metadata": {
        "id": "N0oRvjODXYsH"
      },
      "outputs": [],
      "source": [
        "df_train = pd.read_csv('data/train.csv', index_col=0)\n",
        "df_test = pd.read_csv('data/test.csv', index_col=0)"
      ]
    },
    {
      "cell_type": "code",
      "execution_count": 3,
      "metadata": {
        "colab": {
          "base_uri": "https://localhost:8080/",
          "height": 270
        },
        "id": "0XTZfZSLXYsI",
        "outputId": "02cae2c7-3761-48d5-bac0-d3223ec913e7"
      },
      "outputs": [
        {
          "data": {
            "text/html": [
              "<div>\n",
              "<style scoped>\n",
              "    .dataframe tbody tr th:only-of-type {\n",
              "        vertical-align: middle;\n",
              "    }\n",
              "\n",
              "    .dataframe tbody tr th {\n",
              "        vertical-align: top;\n",
              "    }\n",
              "\n",
              "    .dataframe thead th {\n",
              "        text-align: right;\n",
              "    }\n",
              "</style>\n",
              "<table border=\"1\" class=\"dataframe\">\n",
              "  <thead>\n",
              "    <tr style=\"text-align: right;\">\n",
              "      <th></th>\n",
              "      <th>MktCoupons</th>\n",
              "      <th>Quarter</th>\n",
              "      <th>Origin</th>\n",
              "      <th>OriginWac</th>\n",
              "      <th>Dest</th>\n",
              "      <th>DestWac</th>\n",
              "      <th>Miles</th>\n",
              "      <th>ContiguousUSA</th>\n",
              "      <th>NumTicketsOrdered</th>\n",
              "      <th>AirlineCompany</th>\n",
              "      <th>PricePerTicket</th>\n",
              "    </tr>\n",
              "  </thead>\n",
              "  <tbody>\n",
              "    <tr>\n",
              "      <th>5</th>\n",
              "      <td>1</td>\n",
              "      <td>1</td>\n",
              "      <td>LAX</td>\n",
              "      <td>91</td>\n",
              "      <td>ORD</td>\n",
              "      <td>41</td>\n",
              "      <td>1744.0</td>\n",
              "      <td>2</td>\n",
              "      <td>1.0</td>\n",
              "      <td>AA</td>\n",
              "      <td>221.41</td>\n",
              "    </tr>\n",
              "    <tr>\n",
              "      <th>1328</th>\n",
              "      <td>1</td>\n",
              "      <td>1</td>\n",
              "      <td>MCO</td>\n",
              "      <td>33</td>\n",
              "      <td>ORD</td>\n",
              "      <td>41</td>\n",
              "      <td>1005.0</td>\n",
              "      <td>2</td>\n",
              "      <td>1.0</td>\n",
              "      <td>AA</td>\n",
              "      <td>159.64</td>\n",
              "    </tr>\n",
              "    <tr>\n",
              "      <th>5376</th>\n",
              "      <td>1</td>\n",
              "      <td>1</td>\n",
              "      <td>ORD</td>\n",
              "      <td>41</td>\n",
              "      <td>BOS</td>\n",
              "      <td>13</td>\n",
              "      <td>867.0</td>\n",
              "      <td>2</td>\n",
              "      <td>2.0</td>\n",
              "      <td>AA</td>\n",
              "      <td>184.62</td>\n",
              "    </tr>\n",
              "    <tr>\n",
              "      <th>5378</th>\n",
              "      <td>1</td>\n",
              "      <td>1</td>\n",
              "      <td>ORD</td>\n",
              "      <td>41</td>\n",
              "      <td>BOS</td>\n",
              "      <td>13</td>\n",
              "      <td>867.0</td>\n",
              "      <td>2</td>\n",
              "      <td>1.0</td>\n",
              "      <td>AA</td>\n",
              "      <td>198.60</td>\n",
              "    </tr>\n",
              "    <tr>\n",
              "      <th>5382</th>\n",
              "      <td>1</td>\n",
              "      <td>1</td>\n",
              "      <td>ORD</td>\n",
              "      <td>41</td>\n",
              "      <td>BOS</td>\n",
              "      <td>13</td>\n",
              "      <td>867.0</td>\n",
              "      <td>2</td>\n",
              "      <td>1.0</td>\n",
              "      <td>AA</td>\n",
              "      <td>255.89</td>\n",
              "    </tr>\n",
              "  </tbody>\n",
              "</table>\n",
              "</div>"
            ],
            "text/plain": [
              "      MktCoupons  Quarter Origin  OriginWac Dest  DestWac   Miles  \\\n",
              "5              1        1    LAX         91  ORD       41  1744.0   \n",
              "1328           1        1    MCO         33  ORD       41  1005.0   \n",
              "5376           1        1    ORD         41  BOS       13   867.0   \n",
              "5378           1        1    ORD         41  BOS       13   867.0   \n",
              "5382           1        1    ORD         41  BOS       13   867.0   \n",
              "\n",
              "      ContiguousUSA  NumTicketsOrdered AirlineCompany  PricePerTicket  \n",
              "5                 2                1.0             AA          221.41  \n",
              "1328              2                1.0             AA          159.64  \n",
              "5376              2                2.0             AA          184.62  \n",
              "5378              2                1.0             AA          198.60  \n",
              "5382              2                1.0             AA          255.89  "
            ]
          },
          "execution_count": 3,
          "metadata": {},
          "output_type": "execute_result"
        }
      ],
      "source": [
        "df_train.head()"
      ]
    },
    {
      "cell_type": "code",
      "execution_count": 4,
      "metadata": {
        "id": "xL2NAIl1XYsK"
      },
      "outputs": [],
      "source": [
        "# df_train['PricePerTicket'] = df_train['PricePerTicket'].clip(\n",
        "#    lower=df_train['PricePerTicket'].quantile(0.05), upper=df_train['PricePerTicket'].quantile(0.95))\n"
      ]
    },
    {
      "cell_type": "code",
      "execution_count": 5,
      "metadata": {
        "id": "fLHyxJ6EXYsL"
      },
      "outputs": [],
      "source": [
        "features = ['MktCoupons', 'Quarter', 'Origin', 'Dest', 'Miles', 'ContiguousUSA', 'NumTicketsOrdered', 'AirlineCompany']"
      ]
    },
    {
      "cell_type": "markdown",
      "metadata": {
        "id": "AkPxs-MZXYsM"
      },
      "source": [
        "Clustering / linear regression (one-hard encoding)"
      ]
    },
    {
      "cell_type": "code",
      "execution_count": 6,
      "metadata": {
        "id": "vXnqWXH-XYsN"
      },
      "outputs": [],
      "source": [
        "X = df_train[features]\n",
        "Y = df_train['PricePerTicket']"
      ]
    },
    {
      "cell_type": "code",
      "execution_count": 7,
      "metadata": {
        "colab": {
          "base_uri": "https://localhost:8080/"
        },
        "id": "BgeTZbAHXYsP",
        "outputId": "556a8a92-f714-42d8-b4ac-8b043803c40f"
      },
      "outputs": [
        {
          "name": "stderr",
          "output_type": "stream",
          "text": [
            "/tmp/ipykernel_121063/2080582453.py:1: SettingWithCopyWarning: \n",
            "A value is trying to be set on a copy of a slice from a DataFrame.\n",
            "Try using .loc[row_indexer,col_indexer] = value instead\n",
            "\n",
            "See the caveats in the documentation: https://pandas.pydata.org/pandas-docs/stable/user_guide/indexing.html#returning-a-view-versus-a-copy\n",
            "  X['Route'] = X['Origin'] + '-' + X['Dest']\n",
            "/tmp/ipykernel_121063/2080582453.py:2: SettingWithCopyWarning: \n",
            "A value is trying to be set on a copy of a slice from a DataFrame\n",
            "\n",
            "See the caveats in the documentation: https://pandas.pydata.org/pandas-docs/stable/user_guide/indexing.html#returning-a-view-versus-a-copy\n",
            "  X.drop(['Origin', 'Dest'], axis=1, inplace=True)\n"
          ]
        }
      ],
      "source": [
        "X['Route'] = X['Origin'] + '-' + X['Dest']\n",
        "X.drop(['Origin', 'Dest'], axis=1, inplace=True)"
      ]
    },
    {
      "cell_type": "code",
      "execution_count": 8,
      "metadata": {
        "colab": {
          "base_uri": "https://localhost:8080/",
          "height": 351
        },
        "id": "byV3mjYLXYsQ",
        "outputId": "c4e211cf-7f2d-47ec-be66-0f8e74c24ded"
      },
      "outputs": [
        {
          "name": "stderr",
          "output_type": "stream",
          "text": [
            "/home/wcyat/dev/kaggle/code/venv/lib/python3.10/site-packages/seaborn/_decorators.py:36: FutureWarning: Pass the following variables as keyword args: x, y. From version 0.12, the only valid positional argument will be `data`, and passing other arguments without an explicit keyword will result in an error or misinterpretation.\n",
            "  warnings.warn(\n"
          ]
        },
        {
          "data": {
            "text/plain": [
              "<AxesSubplot:xlabel='Route', ylabel='PricePerTicket'>"
            ]
          },
          "execution_count": 8,
          "metadata": {},
          "output_type": "execute_result"
        },
        {
          "data": {
            "image/png": "[encoded data removed]",
            "text/plain": [
              "<Figure size 432x288 with 1 Axes>"
            ]
          },
          "metadata": {
            "needs_background": "light"
          },
          "output_type": "display_data"
        }
      ],
      "source": [
        "sns.barplot(X['Route'], Y)"
      ]
    },
    {
      "cell_type": "code",
      "execution_count": 9,
      "metadata": {
        "id": "5O1g37U4XYsR"
      },
      "outputs": [],
      "source": [
        "# sns.boxplot(X)"
      ]
    },
    {
      "cell_type": "code",
      "execution_count": 10,
      "metadata": {
        "id": "2XXHjuAUXYsS"
      },
      "outputs": [],
      "source": [
        "encoder = OneHotEncoder(handle_unknown='ignore')\n",
        "cat_features = ['Route', 'MktCoupons', 'ContiguousUSA', 'AirlineCompany']"
      ]
    },
    {
      "cell_type": "code",
      "execution_count": 11,
      "metadata": {
        "id": "i-s9wFtEXYsT"
      },
      "outputs": [],
      "source": [
        "X = pd.get_dummies(X, columns=cat_features)"
      ]
    },
    {
      "cell_type": "code",
      "execution_count": 12,
      "metadata": {
        "id": "TwdpgSojXYsU"
      },
      "outputs": [],
      "source": [
        "x_train, x_test, y_train, y_test = train_test_split(X, Y, test_size=0.2, random_state=17)           "
      ]
    },
    {
      "cell_type": "code",
      "execution_count": 13,
      "metadata": {
        "id": "UMZQF7keXYsU"
      },
      "outputs": [],
      "source": [
        "# y_train.fillna(y_train.median(), inplace=True)\n",
        "# y_test.fillna(y_test.median(), inplace=True)\n"
      ]
    },
    {
      "cell_type": "code",
      "execution_count": 14,
      "metadata": {
        "colab": {
          "base_uri": "https://localhost:8080/",
          "height": 53
        },
        "id": "4VLYnq9rXYsV",
        "outputId": "73853c05-e65a-4adb-ac20-675e5f2a33a1"
      },
      "outputs": [
        {
          "data": {
            "text/plain": [
              "\"input = keras.layers.Input(X.shape[1])\\n\\nx = keras.layers.Dense(64, activation='selu')(input)\\n\\nfor i in range(0, 8):\\n    x = keras.layers.Dense(8, activation='selu')(x)\\n\\noutput = keras.layers.Dense(1)(x)\""
            ]
          },
          "execution_count": 14,
          "metadata": {},
          "output_type": "execute_result"
        }
      ],
      "source": [
        "\"\"\"input = keras.layers.Input(X.shape[1])\n",
        "\n",
        "x = keras.layers.Dense(64, activation='selu')(input)\n",
        "\n",
        "for i in range(0, 8):\n",
        "    x = keras.layers.Dense(8, activation='selu')(x)\n",
        "\n",
        "output = keras.layers.Dense(1)(x)\"\"\""
      ]
    },
    {
      "cell_type": "code",
      "execution_count": 15,
      "metadata": {
        "id": "xkWBfJFVXYsX"
      },
      "outputs": [],
      "source": [
        "#model4 = keras.Model(input, output)"
      ]
    },
    {
      "cell_type": "code",
      "execution_count": 16,
      "metadata": {
        "id": "b3ubN8Y-XYsX"
      },
      "outputs": [],
      "source": [
        "#model4.summary()"
      ]
    },
    {
      "cell_type": "code",
      "execution_count": 17,
      "metadata": {
        "id": "XXaT2ijNXYsY"
      },
      "outputs": [],
      "source": [
        "#model4.compile(optimizer='adam', loss='mse', metrics=['mse'])"
      ]
    },
    {
      "cell_type": "code",
      "execution_count": 18,
      "metadata": {
        "id": "Cb3Q_QN3XYsY"
      },
      "outputs": [],
      "source": [
        "#callback = tf.keras.callbacks.EarlyStopping(monitor='loss', patience=10)\n",
        "#history = model4.fit(X, Y, epochs=1000, batch_size=4096, callbacks=[callback])\n",
        "#plt.plot(history.history['loss'])"
      ]
    },
    {
      "cell_type": "code",
      "execution_count": 19,
      "metadata": {
        "id": "NgloUafcXYsY"
      },
      "outputs": [],
      "source": [
        "#predict = model4.predict(x_test)\n",
        "#np.sqrt(mean_squared_error(y_test, predict))"
      ]
    },
    {
      "cell_type": "code",
      "execution_count": 20,
      "metadata": {
        "id": "M4-JnM-tXYsZ"
      },
      "outputs": [],
      "source": [
        "#plt.scatter(y_test, predict)\n",
        "#plt.show()"
      ]
    },
    {
      "cell_type": "code",
      "execution_count": 21,
      "metadata": {
        "id": "K2wNkQ6WXYsa"
      },
      "outputs": [],
      "source": [
        "#X.nunique()"
      ]
    },
    {
      "cell_type": "code",
      "execution_count": 22,
      "metadata": {
        "colab": {
          "base_uri": "https://localhost:8080/",
          "height": 105
        },
        "id": "ufQ3VFkPXYsa",
        "outputId": "39099e93-dd9f-4850-b402-c1cd4fea2f52"
      },
      "outputs": [
        {
          "data": {
            "text/plain": [
              "'def get_score(n_estimators: int):\\n    \"\"\"\\'Return the average MAE over 3 CV folds of random forest model.\\n\\n    Keyword argument:\\n    n_estimators -- the number of trees in the forest\\'\"\"\"\\n    \\n    my_pipeline = Pipeline(steps=[\\n        (\\'preprocessor\\', SimpleImputer()),\\n        (\\'model\\', XGBRegressor(n_estimators=n_estimators, random_state=0))\\n    ])\\n    scores = -1 * cross_val_score(my_pipeline, X, Y,\\n                                  cv=3,\\n                                  scoring=\\'neg_mean_absolute_error\\')\\n    return scores.mean()\\n     # Replace this body with your own code'"
            ]
          },
          "execution_count": 22,
          "metadata": {},
          "output_type": "execute_result"
        }
      ],
      "source": [
        "\"\"\"def get_score(n_estimators: int):\n",
        "    \\\"\\\"\\\"\\'Return the average MAE over 3 CV folds of random forest model.\n",
        "\n",
        "    Keyword argument:\n",
        "    n_estimators -- the number of trees in the forest\\'\\\"\\\"\\\"\n",
        "    \n",
        "    my_pipeline = Pipeline(steps=[\n",
        "        ('preprocessor', SimpleImputer()),\n",
        "        ('model', XGBRegressor(n_estimators=n_estimators, random_state=0))\n",
        "    ])\n",
        "    scores = -1 * cross_val_score(my_pipeline, X, Y,\n",
        "                                  cv=3,\n",
        "                                  scoring='neg_mean_absolute_error')\n",
        "    return scores.mean()\n",
        "     # Replace this body with your own code\"\"\""
      ]
    },
    {
      "cell_type": "code",
      "execution_count": 23,
      "metadata": {
        "id": "DLKRrrU0XYsb"
      },
      "outputs": [],
      "source": [
        "# results = {i: get_score(i) for i in  np.array(range(1, 9)) * 50} # Your code here\n",
        "# min(results, key=results.get)\"\"\""
      ]
    },
    {
      "cell_type": "code",
      "execution_count": 24,
      "metadata": {
        "colab": {
          "base_uri": "https://localhost:8080/"
        },
        "id": "TIO0XjYUXYsb",
        "outputId": "85e93968-31f3-447a-e09b-703c5a2ff28a"
      },
      "outputs": [
        {
          "ename": "KeyboardInterrupt",
          "evalue": "",
          "output_type": "error",
          "traceback": [
            "\u001b[0;31m---------------------------------------------------------------------------\u001b[0m",
            "\u001b[0;31mKeyboardInterrupt\u001b[0m                         Traceback (most recent call last)",
            "\u001b[1;32m/home/wcyat/dev/kaggle/code/airplane/airplane.ipynb Cell 27\u001b[0m in \u001b[0;36m<cell line: 1>\u001b[0;34m()\u001b[0m\n\u001b[0;32m----> <a href='vscode-notebook-cell:/home/wcyat/dev/kaggle/code/airplane/airplane.ipynb#ch0000026?line=0'>1</a>\u001b[0m obj \u001b[39m=\u001b[39m {i: cross_val_score(XGBRegressor(n_estimators\u001b[39m=\u001b[39mi, random_state\u001b[39m=\u001b[39m\u001b[39m0\u001b[39m, n_jobs\u001b[39m=\u001b[39m\u001b[39m8\u001b[39m, learning_rate\u001b[39m=\u001b[39m\u001b[39m0.1\u001b[39m,\n\u001b[1;32m      <a href='vscode-notebook-cell:/home/wcyat/dev/kaggle/code/airplane/airplane.ipynb#ch0000026?line=1'>2</a>\u001b[0m                 eval_metric\u001b[39m=\u001b[39m\u001b[39m'\u001b[39m\u001b[39mrmse\u001b[39m\u001b[39m'\u001b[39m), X, Y, cv\u001b[39m=\u001b[39m\u001b[39m3\u001b[39m, scoring\u001b[39m=\u001b[39m\u001b[39m'\u001b[39m\u001b[39mneg_mean_squared_error\u001b[39m\u001b[39m'\u001b[39m)\u001b[39m.\u001b[39mmean() \u001b[39mfor\u001b[39;00m i \u001b[39min\u001b[39;00m np\u001b[39m.\u001b[39marray(\u001b[39mrange\u001b[39m(\u001b[39m1\u001b[39m, \u001b[39m12\u001b[39m)) \u001b[39m*\u001b[39m \u001b[39m10\u001b[39m \u001b[39m+\u001b[39m \u001b[39m950\u001b[39m}\n\u001b[1;32m      <a href='vscode-notebook-cell:/home/wcyat/dev/kaggle/code/airplane/airplane.ipynb#ch0000026?line=2'>3</a>\u001b[0m \u001b[39mprint\u001b[39m(obj)\n\u001b[1;32m      <a href='vscode-notebook-cell:/home/wcyat/dev/kaggle/code/airplane/airplane.ipynb#ch0000026?line=3'>4</a>\u001b[0m best \u001b[39m=\u001b[39m \u001b[39mmax\u001b[39m(obj\u001b[39m.\u001b[39mkeys(), key\u001b[39m=\u001b[39m\u001b[39mlambda\u001b[39;00m i: obj\u001b[39m.\u001b[39mget(i))\n",
            "\u001b[1;32m/home/wcyat/dev/kaggle/code/airplane/airplane.ipynb Cell 27\u001b[0m in \u001b[0;36m<dictcomp>\u001b[0;34m(.0)\u001b[0m\n\u001b[0;32m----> <a href='vscode-notebook-cell:/home/wcyat/dev/kaggle/code/airplane/airplane.ipynb#ch0000026?line=0'>1</a>\u001b[0m obj \u001b[39m=\u001b[39m {i: cross_val_score(XGBRegressor(n_estimators\u001b[39m=\u001b[39;49mi, random_state\u001b[39m=\u001b[39;49m\u001b[39m0\u001b[39;49m, n_jobs\u001b[39m=\u001b[39;49m\u001b[39m8\u001b[39;49m, learning_rate\u001b[39m=\u001b[39;49m\u001b[39m0.1\u001b[39;49m,\n\u001b[1;32m      <a href='vscode-notebook-cell:/home/wcyat/dev/kaggle/code/airplane/airplane.ipynb#ch0000026?line=1'>2</a>\u001b[0m                 eval_metric\u001b[39m=\u001b[39;49m\u001b[39m'\u001b[39;49m\u001b[39mrmse\u001b[39;49m\u001b[39m'\u001b[39;49m), X, Y, cv\u001b[39m=\u001b[39;49m\u001b[39m3\u001b[39;49m, scoring\u001b[39m=\u001b[39;49m\u001b[39m'\u001b[39;49m\u001b[39mneg_mean_squared_error\u001b[39;49m\u001b[39m'\u001b[39;49m)\u001b[39m.\u001b[39mmean() \u001b[39mfor\u001b[39;00m i \u001b[39min\u001b[39;00m np\u001b[39m.\u001b[39marray(\u001b[39mrange\u001b[39m(\u001b[39m1\u001b[39m, \u001b[39m12\u001b[39m)) \u001b[39m*\u001b[39m \u001b[39m10\u001b[39m \u001b[39m+\u001b[39m \u001b[39m950\u001b[39m}\n\u001b[1;32m      <a href='vscode-notebook-cell:/home/wcyat/dev/kaggle/code/airplane/airplane.ipynb#ch0000026?line=2'>3</a>\u001b[0m \u001b[39mprint\u001b[39m(obj)\n\u001b[1;32m      <a href='vscode-notebook-cell:/home/wcyat/dev/kaggle/code/airplane/airplane.ipynb#ch0000026?line=3'>4</a>\u001b[0m best \u001b[39m=\u001b[39m \u001b[39mmax\u001b[39m(obj\u001b[39m.\u001b[39mkeys(), key\u001b[39m=\u001b[39m\u001b[39mlambda\u001b[39;00m i: obj\u001b[39m.\u001b[39mget(i))\n",
            "File \u001b[0;32m~/dev/kaggle/code/venv/lib/python3.10/site-packages/sklearn/model_selection/_validation.py:515\u001b[0m, in \u001b[0;36mcross_val_score\u001b[0;34m(estimator, X, y, groups, scoring, cv, n_jobs, verbose, fit_params, pre_dispatch, error_score)\u001b[0m\n\u001b[1;32m    512\u001b[0m \u001b[39m# To ensure multimetric format is not supported\u001b[39;00m\n\u001b[1;32m    513\u001b[0m scorer \u001b[39m=\u001b[39m check_scoring(estimator, scoring\u001b[39m=\u001b[39mscoring)\n\u001b[0;32m--> 515\u001b[0m cv_results \u001b[39m=\u001b[39m cross_validate(\n\u001b[1;32m    516\u001b[0m     estimator\u001b[39m=\u001b[39;49mestimator,\n\u001b[1;32m    517\u001b[0m     X\u001b[39m=\u001b[39;49mX,\n\u001b[1;32m    518\u001b[0m     y\u001b[39m=\u001b[39;49my,\n\u001b[1;32m    519\u001b[0m     groups\u001b[39m=\u001b[39;49mgroups,\n\u001b[1;32m    520\u001b[0m     scoring\u001b[39m=\u001b[39;49m{\u001b[39m\"\u001b[39;49m\u001b[39mscore\u001b[39;49m\u001b[39m\"\u001b[39;49m: scorer},\n\u001b[1;32m    521\u001b[0m     cv\u001b[39m=\u001b[39;49mcv,\n\u001b[1;32m    522\u001b[0m     n_jobs\u001b[39m=\u001b[39;49mn_jobs,\n\u001b[1;32m    523\u001b[0m     verbose\u001b[39m=\u001b[39;49mverbose,\n\u001b[1;32m    524\u001b[0m     fit_params\u001b[39m=\u001b[39;49mfit_params,\n\u001b[1;32m    525\u001b[0m     pre_dispatch\u001b[39m=\u001b[39;49mpre_dispatch,\n\u001b[1;32m    526\u001b[0m     error_score\u001b[39m=\u001b[39;49merror_score,\n\u001b[1;32m    527\u001b[0m )\n\u001b[1;32m    528\u001b[0m \u001b[39mreturn\u001b[39;00m cv_results[\u001b[39m\"\u001b[39m\u001b[39mtest_score\u001b[39m\u001b[39m\"\u001b[39m]\n",
            "File \u001b[0;32m~/dev/kaggle/code/venv/lib/python3.10/site-packages/sklearn/model_selection/_validation.py:266\u001b[0m, in \u001b[0;36mcross_validate\u001b[0;34m(estimator, X, y, groups, scoring, cv, n_jobs, verbose, fit_params, pre_dispatch, return_train_score, return_estimator, error_score)\u001b[0m\n\u001b[1;32m    263\u001b[0m \u001b[39m# We clone the estimator to make sure that all the folds are\u001b[39;00m\n\u001b[1;32m    264\u001b[0m \u001b[39m# independent, and that it is pickle-able.\u001b[39;00m\n\u001b[1;32m    265\u001b[0m parallel \u001b[39m=\u001b[39m Parallel(n_jobs\u001b[39m=\u001b[39mn_jobs, verbose\u001b[39m=\u001b[39mverbose, pre_dispatch\u001b[39m=\u001b[39mpre_dispatch)\n\u001b[0;32m--> 266\u001b[0m results \u001b[39m=\u001b[39m parallel(\n\u001b[1;32m    267\u001b[0m     delayed(_fit_and_score)(\n\u001b[1;32m    268\u001b[0m         clone(estimator),\n\u001b[1;32m    269\u001b[0m         X,\n\u001b[1;32m    270\u001b[0m         y,\n\u001b[1;32m    271\u001b[0m         scorers,\n\u001b[1;32m    272\u001b[0m         train,\n\u001b[1;32m    273\u001b[0m         test,\n\u001b[1;32m    274\u001b[0m         verbose,\n\u001b[1;32m    275\u001b[0m         \u001b[39mNone\u001b[39;49;00m,\n\u001b[1;32m    276\u001b[0m         fit_params,\n\u001b[1;32m    277\u001b[0m         return_train_score\u001b[39m=\u001b[39;49mreturn_train_score,\n\u001b[1;32m    278\u001b[0m         return_times\u001b[39m=\u001b[39;49m\u001b[39mTrue\u001b[39;49;00m,\n\u001b[1;32m    279\u001b[0m         return_estimator\u001b[39m=\u001b[39;49mreturn_estimator,\n\u001b[1;32m    280\u001b[0m         error_score\u001b[39m=\u001b[39;49merror_score,\n\u001b[1;32m    281\u001b[0m     )\n\u001b[1;32m    282\u001b[0m     \u001b[39mfor\u001b[39;49;00m train, test \u001b[39min\u001b[39;49;00m cv\u001b[39m.\u001b[39;49msplit(X, y, groups)\n\u001b[1;32m    283\u001b[0m )\n\u001b[1;32m    285\u001b[0m _warn_or_raise_about_fit_failures(results, error_score)\n\u001b[1;32m    287\u001b[0m \u001b[39m# For callabe scoring, the return type is only know after calling. If the\u001b[39;00m\n\u001b[1;32m    288\u001b[0m \u001b[39m# return type is a dictionary, the error scores can now be inserted with\u001b[39;00m\n\u001b[1;32m    289\u001b[0m \u001b[39m# the correct key.\u001b[39;00m\n",
            "File \u001b[0;32m~/dev/kaggle/code/venv/lib/python3.10/site-packages/joblib/parallel.py:1043\u001b[0m, in \u001b[0;36mParallel.__call__\u001b[0;34m(self, iterable)\u001b[0m\n\u001b[1;32m   1034\u001b[0m \u001b[39mtry\u001b[39;00m:\n\u001b[1;32m   1035\u001b[0m     \u001b[39m# Only set self._iterating to True if at least a batch\u001b[39;00m\n\u001b[1;32m   1036\u001b[0m     \u001b[39m# was dispatched. In particular this covers the edge\u001b[39;00m\n\u001b[0;32m   (...)\u001b[0m\n\u001b[1;32m   1040\u001b[0m     \u001b[39m# was very quick and its callback already dispatched all the\u001b[39;00m\n\u001b[1;32m   1041\u001b[0m     \u001b[39m# remaining jobs.\u001b[39;00m\n\u001b[1;32m   1042\u001b[0m     \u001b[39mself\u001b[39m\u001b[39m.\u001b[39m_iterating \u001b[39m=\u001b[39m \u001b[39mFalse\u001b[39;00m\n\u001b[0;32m-> 1043\u001b[0m     \u001b[39mif\u001b[39;00m \u001b[39mself\u001b[39;49m\u001b[39m.\u001b[39;49mdispatch_one_batch(iterator):\n\u001b[1;32m   1044\u001b[0m         \u001b[39mself\u001b[39m\u001b[39m.\u001b[39m_iterating \u001b[39m=\u001b[39m \u001b[39mself\u001b[39m\u001b[39m.\u001b[39m_original_iterator \u001b[39mis\u001b[39;00m \u001b[39mnot\u001b[39;00m \u001b[39mNone\u001b[39;00m\n\u001b[1;32m   1046\u001b[0m     \u001b[39mwhile\u001b[39;00m \u001b[39mself\u001b[39m\u001b[39m.\u001b[39mdispatch_one_batch(iterator):\n",
            "File \u001b[0;32m~/dev/kaggle/code/venv/lib/python3.10/site-packages/joblib/parallel.py:861\u001b[0m, in \u001b[0;36mParallel.dispatch_one_batch\u001b[0;34m(self, iterator)\u001b[0m\n\u001b[1;32m    859\u001b[0m     \u001b[39mreturn\u001b[39;00m \u001b[39mFalse\u001b[39;00m\n\u001b[1;32m    860\u001b[0m \u001b[39melse\u001b[39;00m:\n\u001b[0;32m--> 861\u001b[0m     \u001b[39mself\u001b[39;49m\u001b[39m.\u001b[39;49m_dispatch(tasks)\n\u001b[1;32m    862\u001b[0m     \u001b[39mreturn\u001b[39;00m \u001b[39mTrue\u001b[39;00m\n",
            "File \u001b[0;32m~/dev/kaggle/code/venv/lib/python3.10/site-packages/joblib/parallel.py:779\u001b[0m, in \u001b[0;36mParallel._dispatch\u001b[0;34m(self, batch)\u001b[0m\n\u001b[1;32m    777\u001b[0m \u001b[39mwith\u001b[39;00m \u001b[39mself\u001b[39m\u001b[39m.\u001b[39m_lock:\n\u001b[1;32m    778\u001b[0m     job_idx \u001b[39m=\u001b[39m \u001b[39mlen\u001b[39m(\u001b[39mself\u001b[39m\u001b[39m.\u001b[39m_jobs)\n\u001b[0;32m--> 779\u001b[0m     job \u001b[39m=\u001b[39m \u001b[39mself\u001b[39;49m\u001b[39m.\u001b[39;49m_backend\u001b[39m.\u001b[39;49mapply_async(batch, callback\u001b[39m=\u001b[39;49mcb)\n\u001b[1;32m    780\u001b[0m     \u001b[39m# A job can complete so quickly than its callback is\u001b[39;00m\n\u001b[1;32m    781\u001b[0m     \u001b[39m# called before we get here, causing self._jobs to\u001b[39;00m\n\u001b[1;32m    782\u001b[0m     \u001b[39m# grow. To ensure correct results ordering, .insert is\u001b[39;00m\n\u001b[1;32m    783\u001b[0m     \u001b[39m# used (rather than .append) in the following line\u001b[39;00m\n\u001b[1;32m    784\u001b[0m     \u001b[39mself\u001b[39m\u001b[39m.\u001b[39m_jobs\u001b[39m.\u001b[39minsert(job_idx, job)\n",
            "File \u001b[0;32m~/dev/kaggle/code/venv/lib/python3.10/site-packages/joblib/_parallel_backends.py:208\u001b[0m, in \u001b[0;36mSequentialBackend.apply_async\u001b[0;34m(self, func, callback)\u001b[0m\n\u001b[1;32m    206\u001b[0m \u001b[39mdef\u001b[39;00m \u001b[39mapply_async\u001b[39m(\u001b[39mself\u001b[39m, func, callback\u001b[39m=\u001b[39m\u001b[39mNone\u001b[39;00m):\n\u001b[1;32m    207\u001b[0m     \u001b[39m\"\"\"Schedule a func to be run\"\"\"\u001b[39;00m\n\u001b[0;32m--> 208\u001b[0m     result \u001b[39m=\u001b[39m ImmediateResult(func)\n\u001b[1;32m    209\u001b[0m     \u001b[39mif\u001b[39;00m callback:\n\u001b[1;32m    210\u001b[0m         callback(result)\n",
            "File \u001b[0;32m~/dev/kaggle/code/venv/lib/python3.10/site-packages/joblib/_parallel_backends.py:572\u001b[0m, in \u001b[0;36mImmediateResult.__init__\u001b[0;34m(self, batch)\u001b[0m\n\u001b[1;32m    569\u001b[0m \u001b[39mdef\u001b[39;00m \u001b[39m__init__\u001b[39m(\u001b[39mself\u001b[39m, batch):\n\u001b[1;32m    570\u001b[0m     \u001b[39m# Don't delay the application, to avoid keeping the input\u001b[39;00m\n\u001b[1;32m    571\u001b[0m     \u001b[39m# arguments in memory\u001b[39;00m\n\u001b[0;32m--> 572\u001b[0m     \u001b[39mself\u001b[39m\u001b[39m.\u001b[39mresults \u001b[39m=\u001b[39m batch()\n",
            "File \u001b[0;32m~/dev/kaggle/code/venv/lib/python3.10/site-packages/joblib/parallel.py:262\u001b[0m, in \u001b[0;36mBatchedCalls.__call__\u001b[0;34m(self)\u001b[0m\n\u001b[1;32m    258\u001b[0m \u001b[39mdef\u001b[39;00m \u001b[39m__call__\u001b[39m(\u001b[39mself\u001b[39m):\n\u001b[1;32m    259\u001b[0m     \u001b[39m# Set the default nested backend to self._backend but do not set the\u001b[39;00m\n\u001b[1;32m    260\u001b[0m     \u001b[39m# change the default number of processes to -1\u001b[39;00m\n\u001b[1;32m    261\u001b[0m     \u001b[39mwith\u001b[39;00m parallel_backend(\u001b[39mself\u001b[39m\u001b[39m.\u001b[39m_backend, n_jobs\u001b[39m=\u001b[39m\u001b[39mself\u001b[39m\u001b[39m.\u001b[39m_n_jobs):\n\u001b[0;32m--> 262\u001b[0m         \u001b[39mreturn\u001b[39;00m [func(\u001b[39m*\u001b[39margs, \u001b[39m*\u001b[39m\u001b[39m*\u001b[39mkwargs)\n\u001b[1;32m    263\u001b[0m                 \u001b[39mfor\u001b[39;00m func, args, kwargs \u001b[39min\u001b[39;00m \u001b[39mself\u001b[39m\u001b[39m.\u001b[39mitems]\n",
            "File \u001b[0;32m~/dev/kaggle/code/venv/lib/python3.10/site-packages/joblib/parallel.py:262\u001b[0m, in \u001b[0;36m<listcomp>\u001b[0;34m(.0)\u001b[0m\n\u001b[1;32m    258\u001b[0m \u001b[39mdef\u001b[39;00m \u001b[39m__call__\u001b[39m(\u001b[39mself\u001b[39m):\n\u001b[1;32m    259\u001b[0m     \u001b[39m# Set the default nested backend to self._backend but do not set the\u001b[39;00m\n\u001b[1;32m    260\u001b[0m     \u001b[39m# change the default number of processes to -1\u001b[39;00m\n\u001b[1;32m    261\u001b[0m     \u001b[39mwith\u001b[39;00m parallel_backend(\u001b[39mself\u001b[39m\u001b[39m.\u001b[39m_backend, n_jobs\u001b[39m=\u001b[39m\u001b[39mself\u001b[39m\u001b[39m.\u001b[39m_n_jobs):\n\u001b[0;32m--> 262\u001b[0m         \u001b[39mreturn\u001b[39;00m [func(\u001b[39m*\u001b[39;49margs, \u001b[39m*\u001b[39;49m\u001b[39m*\u001b[39;49mkwargs)\n\u001b[1;32m    263\u001b[0m                 \u001b[39mfor\u001b[39;00m func, args, kwargs \u001b[39min\u001b[39;00m \u001b[39mself\u001b[39m\u001b[39m.\u001b[39mitems]\n",
            "File \u001b[0;32m~/dev/kaggle/code/venv/lib/python3.10/site-packages/sklearn/utils/fixes.py:117\u001b[0m, in \u001b[0;36m_FuncWrapper.__call__\u001b[0;34m(self, *args, **kwargs)\u001b[0m\n\u001b[1;32m    115\u001b[0m \u001b[39mdef\u001b[39;00m \u001b[39m__call__\u001b[39m(\u001b[39mself\u001b[39m, \u001b[39m*\u001b[39margs, \u001b[39m*\u001b[39m\u001b[39m*\u001b[39mkwargs):\n\u001b[1;32m    116\u001b[0m     \u001b[39mwith\u001b[39;00m config_context(\u001b[39m*\u001b[39m\u001b[39m*\u001b[39m\u001b[39mself\u001b[39m\u001b[39m.\u001b[39mconfig):\n\u001b[0;32m--> 117\u001b[0m         \u001b[39mreturn\u001b[39;00m \u001b[39mself\u001b[39;49m\u001b[39m.\u001b[39;49mfunction(\u001b[39m*\u001b[39;49margs, \u001b[39m*\u001b[39;49m\u001b[39m*\u001b[39;49mkwargs)\n",
            "File \u001b[0;32m~/dev/kaggle/code/venv/lib/python3.10/site-packages/sklearn/model_selection/_validation.py:686\u001b[0m, in \u001b[0;36m_fit_and_score\u001b[0;34m(estimator, X, y, scorer, train, test, verbose, parameters, fit_params, return_train_score, return_parameters, return_n_test_samples, return_times, return_estimator, split_progress, candidate_progress, error_score)\u001b[0m\n\u001b[1;32m    684\u001b[0m         estimator\u001b[39m.\u001b[39mfit(X_train, \u001b[39m*\u001b[39m\u001b[39m*\u001b[39mfit_params)\n\u001b[1;32m    685\u001b[0m     \u001b[39melse\u001b[39;00m:\n\u001b[0;32m--> 686\u001b[0m         estimator\u001b[39m.\u001b[39;49mfit(X_train, y_train, \u001b[39m*\u001b[39;49m\u001b[39m*\u001b[39;49mfit_params)\n\u001b[1;32m    688\u001b[0m \u001b[39mexcept\u001b[39;00m \u001b[39mException\u001b[39;00m:\n\u001b[1;32m    689\u001b[0m     \u001b[39m# Note fit time as time until error\u001b[39;00m\n\u001b[1;32m    690\u001b[0m     fit_time \u001b[39m=\u001b[39m time\u001b[39m.\u001b[39mtime() \u001b[39m-\u001b[39m start_time\n",
            "File \u001b[0;32m~/dev/kaggle/code/venv/lib/python3.10/site-packages/xgboost/core.py:532\u001b[0m, in \u001b[0;36m_deprecate_positional_args.<locals>.inner_f\u001b[0;34m(*args, **kwargs)\u001b[0m\n\u001b[1;32m    530\u001b[0m \u001b[39mfor\u001b[39;00m k, arg \u001b[39min\u001b[39;00m \u001b[39mzip\u001b[39m(sig\u001b[39m.\u001b[39mparameters, args):\n\u001b[1;32m    531\u001b[0m     kwargs[k] \u001b[39m=\u001b[39m arg\n\u001b[0;32m--> 532\u001b[0m \u001b[39mreturn\u001b[39;00m f(\u001b[39m*\u001b[39;49m\u001b[39m*\u001b[39;49mkwargs)\n",
            "File \u001b[0;32m~/dev/kaggle/code/venv/lib/python3.10/site-packages/xgboost/sklearn.py:961\u001b[0m, in \u001b[0;36mXGBModel.fit\u001b[0;34m(self, X, y, sample_weight, base_margin, eval_set, eval_metric, early_stopping_rounds, verbose, xgb_model, sample_weight_eval_set, base_margin_eval_set, feature_weights, callbacks)\u001b[0m\n\u001b[1;32m    956\u001b[0m     obj \u001b[39m=\u001b[39m \u001b[39mNone\u001b[39;00m\n\u001b[1;32m    958\u001b[0m model, metric, params, early_stopping_rounds, callbacks \u001b[39m=\u001b[39m \u001b[39mself\u001b[39m\u001b[39m.\u001b[39m_configure_fit(\n\u001b[1;32m    959\u001b[0m     xgb_model, eval_metric, params, early_stopping_rounds, callbacks\n\u001b[1;32m    960\u001b[0m )\n\u001b[0;32m--> 961\u001b[0m \u001b[39mself\u001b[39m\u001b[39m.\u001b[39m_Booster \u001b[39m=\u001b[39m train(\n\u001b[1;32m    962\u001b[0m     params,\n\u001b[1;32m    963\u001b[0m     train_dmatrix,\n\u001b[1;32m    964\u001b[0m     \u001b[39mself\u001b[39;49m\u001b[39m.\u001b[39;49mget_num_boosting_rounds(),\n\u001b[1;32m    965\u001b[0m     evals\u001b[39m=\u001b[39;49mevals,\n\u001b[1;32m    966\u001b[0m     early_stopping_rounds\u001b[39m=\u001b[39;49mearly_stopping_rounds,\n\u001b[1;32m    967\u001b[0m     evals_result\u001b[39m=\u001b[39;49mevals_result,\n\u001b[1;32m    968\u001b[0m     obj\u001b[39m=\u001b[39;49mobj,\n\u001b[1;32m    969\u001b[0m     custom_metric\u001b[39m=\u001b[39;49mmetric,\n\u001b[1;32m    970\u001b[0m     verbose_eval\u001b[39m=\u001b[39;49mverbose,\n\u001b[1;32m    971\u001b[0m     xgb_model\u001b[39m=\u001b[39;49mmodel,\n\u001b[1;32m    972\u001b[0m     callbacks\u001b[39m=\u001b[39;49mcallbacks,\n\u001b[1;32m    973\u001b[0m )\n\u001b[1;32m    975\u001b[0m \u001b[39mself\u001b[39m\u001b[39m.\u001b[39m_set_evaluation_result(evals_result)\n\u001b[1;32m    976\u001b[0m \u001b[39mreturn\u001b[39;00m \u001b[39mself\u001b[39m\n",
            "File \u001b[0;32m~/dev/kaggle/code/venv/lib/python3.10/site-packages/xgboost/core.py:532\u001b[0m, in \u001b[0;36m_deprecate_positional_args.<locals>.inner_f\u001b[0;34m(*args, **kwargs)\u001b[0m\n\u001b[1;32m    530\u001b[0m \u001b[39mfor\u001b[39;00m k, arg \u001b[39min\u001b[39;00m \u001b[39mzip\u001b[39m(sig\u001b[39m.\u001b[39mparameters, args):\n\u001b[1;32m    531\u001b[0m     kwargs[k] \u001b[39m=\u001b[39m arg\n\u001b[0;32m--> 532\u001b[0m \u001b[39mreturn\u001b[39;00m f(\u001b[39m*\u001b[39;49m\u001b[39m*\u001b[39;49mkwargs)\n",
            "File \u001b[0;32m~/dev/kaggle/code/venv/lib/python3.10/site-packages/xgboost/training.py:181\u001b[0m, in \u001b[0;36mtrain\u001b[0;34m(params, dtrain, num_boost_round, evals, obj, feval, maximize, early_stopping_rounds, evals_result, verbose_eval, xgb_model, callbacks, custom_metric)\u001b[0m\n\u001b[1;32m    179\u001b[0m \u001b[39mif\u001b[39;00m cb_container\u001b[39m.\u001b[39mbefore_iteration(bst, i, dtrain, evals):\n\u001b[1;32m    180\u001b[0m     \u001b[39mbreak\u001b[39;00m\n\u001b[0;32m--> 181\u001b[0m bst\u001b[39m.\u001b[39;49mupdate(dtrain, i, obj)\n\u001b[1;32m    182\u001b[0m \u001b[39mif\u001b[39;00m cb_container\u001b[39m.\u001b[39mafter_iteration(bst, i, dtrain, evals):\n\u001b[1;32m    183\u001b[0m     \u001b[39mbreak\u001b[39;00m\n",
            "File \u001b[0;32m~/dev/kaggle/code/venv/lib/python3.10/site-packages/xgboost/core.py:1733\u001b[0m, in \u001b[0;36mBooster.update\u001b[0;34m(self, dtrain, iteration, fobj)\u001b[0m\n\u001b[1;32m   1730\u001b[0m \u001b[39mself\u001b[39m\u001b[39m.\u001b[39m_validate_features(dtrain)\n\u001b[1;32m   1732\u001b[0m \u001b[39mif\u001b[39;00m fobj \u001b[39mis\u001b[39;00m \u001b[39mNone\u001b[39;00m:\n\u001b[0;32m-> 1733\u001b[0m     _check_call(_LIB\u001b[39m.\u001b[39;49mXGBoosterUpdateOneIter(\u001b[39mself\u001b[39;49m\u001b[39m.\u001b[39;49mhandle,\n\u001b[1;32m   1734\u001b[0m                                             ctypes\u001b[39m.\u001b[39;49mc_int(iteration),\n\u001b[1;32m   1735\u001b[0m                                             dtrain\u001b[39m.\u001b[39;49mhandle))\n\u001b[1;32m   1736\u001b[0m \u001b[39melse\u001b[39;00m:\n\u001b[1;32m   1737\u001b[0m     pred \u001b[39m=\u001b[39m \u001b[39mself\u001b[39m\u001b[39m.\u001b[39mpredict(dtrain, output_margin\u001b[39m=\u001b[39m\u001b[39mTrue\u001b[39;00m, training\u001b[39m=\u001b[39m\u001b[39mTrue\u001b[39;00m)\n",
            "\u001b[0;31mKeyboardInterrupt\u001b[0m: "
          ]
        }
      ],
      "source": [
        "obj = {i: cross_val_score(XGBRegressor(n_estimators=i, random_state=0, n_jobs=8, learning_rate=0.1,\n",
        "                eval_metric='rmse'), X, Y, cv=3, scoring='neg_mean_squared_error').mean() for i in np.array(range(1, 12)) * 10 + 950}\n",
        "print(obj)\n",
        "best = max(obj.keys(), key=lambda i: obj.get(i))\n",
        "print(best)\n"
      ]
    },
    {
      "cell_type": "code",
      "execution_count": null,
      "metadata": {
        "colab": {
          "base_uri": "https://localhost:8080/"
        },
        "id": "bmQqgcIzXYsb",
        "outputId": "f50b3d21-6bd2-486f-c7c5-f1b0b0911abf"
      },
      "outputs": [],
      "source": [
        "model = XGBRegressor(random_state=17, n_estimators=best,\n",
        "                      n_jobs=8, learning_rate=0.05, eval_metric='rmse', tree_method='gpu_hist')\n",
        "model.fit(x_train, y_train, early_stopping_rounds=5, eval_set=[\n",
        "   (x_test, y_test)])"
      ]
    },
    {
      "cell_type": "code",
      "execution_count": null,
      "metadata": {
        "colab": {
          "base_uri": "https://localhost:8080/"
        },
        "id": "SpgY2J0AXYsc",
        "outputId": "ebadf1bb-bc13-4848-fe87-13a62e06c47b"
      },
      "outputs": [
        {
          "data": {
            "text/plain": [
              "array([250.08913, 344.02582, 199.85262, ..., 279.76395, 304.44482,\n",
              "       422.74963], dtype=float32)"
            ]
          },
          "execution_count": 286,
          "metadata": {},
          "output_type": "execute_result"
        }
      ],
      "source": [
        "predict = model.predict(x_test)\n",
        "predict"
      ]
    },
    {
      "cell_type": "code",
      "execution_count": null,
      "metadata": {
        "colab": {
          "base_uri": "https://localhost:8080/"
        },
        "id": "_1KlTGc4XYsd",
        "outputId": "b7a9c78f-7336-41a0-9240-6334124bedec"
      },
      "outputs": [
        {
          "data": {
            "text/plain": [
              "134.1917706037229"
            ]
          },
          "execution_count": 287,
          "metadata": {},
          "output_type": "execute_result"
        }
      ],
      "source": [
        "np.sqrt(mean_squared_error(y_test, predict))"
      ]
    },
    {
      "cell_type": "code",
      "execution_count": null,
      "metadata": {
        "colab": {
          "base_uri": "https://localhost:8080/"
        },
        "id": "BHLZMzHmXYsd",
        "outputId": "b18c5319-3084-464e-86a0-9ad696b7acb1"
      },
      "outputs": [
        {
          "data": {
            "text/plain": [
              "95.6404042165889"
            ]
          },
          "execution_count": 288,
          "metadata": {},
          "output_type": "execute_result"
        }
      ],
      "source": [
        "mean_absolute_error(y_test, predict)"
      ]
    },
    {
      "cell_type": "code",
      "execution_count": null,
      "metadata": {
        "colab": {
          "base_uri": "https://localhost:8080/"
        },
        "id": "_85eZQZ3XYse",
        "outputId": "1fce37a0-eb7a-4788-f1f7-2b1c4fe578ce"
      },
      "outputs": [
        {
          "name": "stdout",
          "output_type": "stream",
          "text": [
            "[14:21:05] WARNING: /workspace/src/objective/regression_obj.cu:152: reg:linear is now deprecated in favor of reg:squarederror.\n"
          ]
        },
        {
          "data": {
            "text/plain": [
              "XGBRegressor(eval_metric='rmse', learning_rate=0.05, n_estimators=1020,\n",
              "             n_jobs=8, random_state=17, tree_method='gpu_hist')"
            ]
          },
          "execution_count": 289,
          "metadata": {},
          "output_type": "execute_result"
        }
      ],
      "source": [
        "model.fit(X, Y)"
      ]
    },
    {
      "cell_type": "code",
      "execution_count": null,
      "metadata": {
        "id": "a6yCulxaXYsf"
      },
      "outputs": [],
      "source": [
        "df_test['Route'] = df_test['Origin'] + '-' + df_test['Dest']\n",
        "df_test.drop(['Origin', 'Dest'], axis=1, inplace=True)\n",
        "df_test = pd.get_dummies(df_test, columns=cat_features)"
      ]
    },
    {
      "cell_type": "code",
      "execution_count": null,
      "metadata": {
        "id": "c5qBUQwFXYsf"
      },
      "outputs": [],
      "source": [
        "df_test.drop([i for i in df_test.columns if i not in X.columns], axis=1, inplace=True)\n",
        "df_test.columns = df_test.columns.append([i for i in X.columns if i not in df_test.columns])"
      ]
    },
    {
      "cell_type": "code",
      "execution_count": null,
      "metadata": {
        "id": "jN8ks40tXYsg"
      },
      "outputs": [],
      "source": [
        "predict_kaggle = model.predict(df_test)"
      ]
    },
    {
      "cell_type": "code",
      "execution_count": null,
      "metadata": {
        "id": "sLs2kUUEXYsh"
      },
      "outputs": [],
      "source": [
        "df_submit = pd.DataFrame(predict_kaggle, index=df_test.index, columns=['PricePerTicket'])\n",
        "df_submit.index.name = \"id\""
      ]
    },
    {
      "cell_type": "code",
      "execution_count": null,
      "metadata": {
        "id": "BrJTcOwTXYsh"
      },
      "outputs": [],
      "source": [
        "df_submit.to_csv(\"submission.csv\")"
      ]
    }
  ],
  "metadata": {
    "accelerator": "GPU",
    "colab": {
      "name": "airplane.ipynb",
      "provenance": []
    },
    "gpuClass": "standard",
    "kernelspec": {
      "display_name": "Python 3.10.5 ('venv': venv)",
      "language": "python",
      "name": "python3"
    },
    "language_info": {
      "codemirror_mode": {
        "name": "ipython",
        "version": 3
      },
      "file_extension": ".py",
      "mimetype": "text/x-python",
      "name": "python",
      "nbconvert_exporter": "python",
      "pygments_lexer": "ipython3",
      "version": "3.10.5"
    },
    "orig_nbformat": 4,
    "vscode": {
      "interpreter": {
        "hash": "f5ff2f5e56ef3133dccc8e09d46b0dc57e2f5d1229922630f6f4d17b9c4b64d3"
      }
    }
  },
  "nbformat": 4,
  "nbformat_minor": 0
}
