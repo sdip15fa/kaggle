{
 "cells": [
  {
   "cell_type": "markdown",
   "metadata": {},
   "source": [
    "# Table Battle\n",
    "[url](https://keepthescore.co/board/hrqfyzzzixe/)\n",
    "\n",
    "## Code\n",
    "1. Find all of the items as an array\n",
    "2. find the index that is table 1\n",
    "3. click it using getElementById\n",
    "4. wait for a random time from 0 to 500 ms"
   ]
  },
  {
   "cell_type": "code",
   "execution_count": null,
   "metadata": {
    "vscode": {
     "languageId": "javascript"
    }
   },
   "outputs": [],
   "source": [
    "(async () => {\n",
    "  while (true) {\n",
    "    const tables = Array.from(document.querySelectorAll(\".striped-item.list-group-item.d-flex.align-items-center.p-0\"));\n",
    "    const index = tables.findIndex(table => table.innerText.includes(\"Table 1\"));\n",
    "    document.getElementById(`inc-5-${index}`).click();\n",
    "    await new Promise((r) => setTimeout(r, Math.round(Math.random() * 500)));\n",
    "  }\n",
    "})();"
   ]
  }
 ],
 "metadata": {
  "language_info": {
   "name": "python"
  },
  "orig_nbformat": 4
 },
 "nbformat": 4,
 "nbformat_minor": 2
}
