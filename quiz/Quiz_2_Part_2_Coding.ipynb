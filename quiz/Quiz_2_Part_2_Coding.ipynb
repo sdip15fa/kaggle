{
  "cells": [
    {
      "cell_type": "markdown",
      "metadata": {
        "id": "GeQz6CsU_Nuf"
      },
      "source": [
        "# Coding Quiz for L13-14 (23 July 2022)\n",
        "\n",
        "Please complete the following notebook and submit your answers using the following link:\n",
        "\n",
        "https://forms.gle/PTQa79kNH1DgBz2w8\n",
        "\n",
        "There are a total of **5** questions and you have **15 mins** for this quiz. Good luck! "
      ]
    },
    {
      "cell_type": "code",
      "execution_count": 29,
      "metadata": {
        "id": "5CHUAt9T_AL_"
      },
      "outputs": [],
      "source": [
        "import numpy as np\n",
        "import pandas as pd\n",
        "import seaborn as sb\n",
        "from sklearn.model_selection import train_test_split\n",
        "from sklearn.linear_model import LogisticRegression\n",
        "from sklearn.metrics import accuracy_score, precision_score, recall_score\n",
        "from sklearn.preprocessing import OneHotEncoder, StandardScaler"
      ]
    },
    {
      "cell_type": "code",
      "execution_count": 30,
      "metadata": {
        "id": "ucDjjfwF_qJT"
      },
      "outputs": [],
      "source": [
        "df = pd.DataFrame(sb.load_dataset('exercise'), index=None)"
      ]
    },
    {
      "cell_type": "code",
      "execution_count": 31,
      "metadata": {
        "id": "56dGyI4q_qL0"
      },
      "outputs": [
        {
          "data": {
            "text/html": [
              "<div>\n",
              "<style scoped>\n",
              "    .dataframe tbody tr th:only-of-type {\n",
              "        vertical-align: middle;\n",
              "    }\n",
              "\n",
              "    .dataframe tbody tr th {\n",
              "        vertical-align: top;\n",
              "    }\n",
              "\n",
              "    .dataframe thead th {\n",
              "        text-align: right;\n",
              "    }\n",
              "</style>\n",
              "<table border=\"1\" class=\"dataframe\">\n",
              "  <thead>\n",
              "    <tr style=\"text-align: right;\">\n",
              "      <th></th>\n",
              "      <th>Unnamed: 0</th>\n",
              "      <th>id</th>\n",
              "      <th>diet</th>\n",
              "      <th>pulse</th>\n",
              "      <th>time</th>\n",
              "      <th>kind</th>\n",
              "    </tr>\n",
              "  </thead>\n",
              "  <tbody>\n",
              "    <tr>\n",
              "      <th>0</th>\n",
              "      <td>0</td>\n",
              "      <td>1</td>\n",
              "      <td>low fat</td>\n",
              "      <td>85</td>\n",
              "      <td>1 min</td>\n",
              "      <td>rest</td>\n",
              "    </tr>\n",
              "    <tr>\n",
              "      <th>1</th>\n",
              "      <td>1</td>\n",
              "      <td>1</td>\n",
              "      <td>low fat</td>\n",
              "      <td>85</td>\n",
              "      <td>15 min</td>\n",
              "      <td>rest</td>\n",
              "    </tr>\n",
              "    <tr>\n",
              "      <th>2</th>\n",
              "      <td>2</td>\n",
              "      <td>1</td>\n",
              "      <td>low fat</td>\n",
              "      <td>88</td>\n",
              "      <td>30 min</td>\n",
              "      <td>rest</td>\n",
              "    </tr>\n",
              "    <tr>\n",
              "      <th>3</th>\n",
              "      <td>3</td>\n",
              "      <td>2</td>\n",
              "      <td>low fat</td>\n",
              "      <td>90</td>\n",
              "      <td>1 min</td>\n",
              "      <td>rest</td>\n",
              "    </tr>\n",
              "    <tr>\n",
              "      <th>4</th>\n",
              "      <td>4</td>\n",
              "      <td>2</td>\n",
              "      <td>low fat</td>\n",
              "      <td>92</td>\n",
              "      <td>15 min</td>\n",
              "      <td>rest</td>\n",
              "    </tr>\n",
              "  </tbody>\n",
              "</table>\n",
              "</div>"
            ],
            "text/plain": [
              "   Unnamed: 0  id     diet  pulse    time  kind\n",
              "0           0   1  low fat     85   1 min  rest\n",
              "1           1   1  low fat     85  15 min  rest\n",
              "2           2   1  low fat     88  30 min  rest\n",
              "3           3   2  low fat     90   1 min  rest\n",
              "4           4   2  low fat     92  15 min  rest"
            ]
          },
          "execution_count": 31,
          "metadata": {},
          "output_type": "execute_result"
        }
      ],
      "source": [
        "df.head()"
      ]
    },
    {
      "cell_type": "markdown",
      "metadata": {
        "id": "6oYtz72jJnkI"
      },
      "source": [
        "## Data Pre-processing & Analysis"
      ]
    },
    {
      "cell_type": "code",
      "execution_count": 32,
      "metadata": {
        "id": "FU3QcknlCQjE"
      },
      "outputs": [
        {
          "data": {
            "text/html": [
              "<div>\n",
              "<style scoped>\n",
              "    .dataframe tbody tr th:only-of-type {\n",
              "        vertical-align: middle;\n",
              "    }\n",
              "\n",
              "    .dataframe tbody tr th {\n",
              "        vertical-align: top;\n",
              "    }\n",
              "\n",
              "    .dataframe thead th {\n",
              "        text-align: right;\n",
              "    }\n",
              "</style>\n",
              "<table border=\"1\" class=\"dataframe\">\n",
              "  <thead>\n",
              "    <tr style=\"text-align: right;\">\n",
              "      <th></th>\n",
              "      <th>diet</th>\n",
              "      <th>pulse</th>\n",
              "      <th>time</th>\n",
              "      <th>kind</th>\n",
              "    </tr>\n",
              "  </thead>\n",
              "  <tbody>\n",
              "    <tr>\n",
              "      <th>0</th>\n",
              "      <td>low fat</td>\n",
              "      <td>85</td>\n",
              "      <td>1 min</td>\n",
              "      <td>rest</td>\n",
              "    </tr>\n",
              "    <tr>\n",
              "      <th>1</th>\n",
              "      <td>low fat</td>\n",
              "      <td>85</td>\n",
              "      <td>15 min</td>\n",
              "      <td>rest</td>\n",
              "    </tr>\n",
              "    <tr>\n",
              "      <th>2</th>\n",
              "      <td>low fat</td>\n",
              "      <td>88</td>\n",
              "      <td>30 min</td>\n",
              "      <td>rest</td>\n",
              "    </tr>\n",
              "    <tr>\n",
              "      <th>3</th>\n",
              "      <td>low fat</td>\n",
              "      <td>90</td>\n",
              "      <td>1 min</td>\n",
              "      <td>rest</td>\n",
              "    </tr>\n",
              "    <tr>\n",
              "      <th>4</th>\n",
              "      <td>low fat</td>\n",
              "      <td>92</td>\n",
              "      <td>15 min</td>\n",
              "      <td>rest</td>\n",
              "    </tr>\n",
              "    <tr>\n",
              "      <th>...</th>\n",
              "      <td>...</td>\n",
              "      <td>...</td>\n",
              "      <td>...</td>\n",
              "      <td>...</td>\n",
              "    </tr>\n",
              "    <tr>\n",
              "      <th>85</th>\n",
              "      <td>no fat</td>\n",
              "      <td>135</td>\n",
              "      <td>15 min</td>\n",
              "      <td>running</td>\n",
              "    </tr>\n",
              "    <tr>\n",
              "      <th>86</th>\n",
              "      <td>no fat</td>\n",
              "      <td>130</td>\n",
              "      <td>30 min</td>\n",
              "      <td>running</td>\n",
              "    </tr>\n",
              "    <tr>\n",
              "      <th>87</th>\n",
              "      <td>no fat</td>\n",
              "      <td>99</td>\n",
              "      <td>1 min</td>\n",
              "      <td>running</td>\n",
              "    </tr>\n",
              "    <tr>\n",
              "      <th>88</th>\n",
              "      <td>no fat</td>\n",
              "      <td>111</td>\n",
              "      <td>15 min</td>\n",
              "      <td>running</td>\n",
              "    </tr>\n",
              "    <tr>\n",
              "      <th>89</th>\n",
              "      <td>no fat</td>\n",
              "      <td>150</td>\n",
              "      <td>30 min</td>\n",
              "      <td>running</td>\n",
              "    </tr>\n",
              "  </tbody>\n",
              "</table>\n",
              "<p>90 rows × 4 columns</p>\n",
              "</div>"
            ],
            "text/plain": [
              "       diet  pulse    time     kind\n",
              "0   low fat     85   1 min     rest\n",
              "1   low fat     85  15 min     rest\n",
              "2   low fat     88  30 min     rest\n",
              "3   low fat     90   1 min     rest\n",
              "4   low fat     92  15 min     rest\n",
              "..      ...    ...     ...      ...\n",
              "85   no fat    135  15 min  running\n",
              "86   no fat    130  30 min  running\n",
              "87   no fat     99   1 min  running\n",
              "88   no fat    111  15 min  running\n",
              "89   no fat    150  30 min  running\n",
              "\n",
              "[90 rows x 4 columns]"
            ]
          },
          "execution_count": 32,
          "metadata": {},
          "output_type": "execute_result"
        }
      ],
      "source": [
        "# remove the first two columns\n",
        "\n",
        " # your code here (1)\n",
        "df.drop(df.columns[0:2], axis=1, inplace=True)\n",
        "df"
      ]
    },
    {
      "cell_type": "markdown",
      "metadata": {
        "id": "vIRwIJ7LDfKw"
      },
      "source": [
        "**Q1: Which column(s) contain(s) categorical data?**"
      ]
    },
    {
      "cell_type": "code",
      "execution_count": 33,
      "metadata": {
        "id": "B751HivRDSTm"
      },
      "outputs": [],
      "source": [
        " # your code here (2)"
      ]
    },
    {
      "cell_type": "code",
      "execution_count": 42,
      "metadata": {
        "id": "jV6ty-IoFxmw"
      },
      "outputs": [
        {
          "data": {
            "text/plain": [
              "['diet', 'time']"
            ]
          },
          "execution_count": 42,
          "metadata": {},
          "output_type": "execute_result"
        }
      ],
      "source": [
        "# put the column name of categorical features in cat list and numerical features in num list\n",
        "# DO NOT put \"kind\" in either list\n",
        "\n",
        "cat = [\"diet\", \"time\"] # your code here (3)\n",
        "num = [\"pulse\"] # your code here (4)\n",
        "cat"
      ]
    },
    {
      "cell_type": "markdown",
      "metadata": {
        "id": "dYJC5rJ3EJxQ"
      },
      "source": [
        "**Q2: What is the average pulse for people that are at rest, walking and running respectively? (round to nearest integer)**"
      ]
    },
    {
      "cell_type": "code",
      "execution_count": 43,
      "metadata": {
        "id": "9pXg1i-u_qOd"
      },
      "outputs": [
        {
          "data": {
            "text/plain": [
              "rest       30\n",
              "walking    30\n",
              "running    30\n",
              "Name: kind, dtype: int64"
            ]
          },
          "execution_count": 43,
          "metadata": {},
          "output_type": "execute_result"
        }
      ],
      "source": [
        "df.kind.value_counts()"
      ]
    },
    {
      "cell_type": "code",
      "execution_count": 44,
      "metadata": {
        "id": "U2mNwOYgA7Nz"
      },
      "outputs": [
        {
          "data": {
            "text/plain": [
              "kind\n",
              "rest        91.0\n",
              "walking     95.0\n",
              "running    113.0\n",
              "Name: pulse, dtype: float64"
            ]
          },
          "execution_count": 44,
          "metadata": {},
          "output_type": "execute_result"
        }
      ],
      "source": [
        "# Calculate average pulse for people that are at rest, walking and running respectively\n",
        "\n",
        "# your code here (5)\n",
        "\n",
        "df.groupby(\"kind\")[\"pulse\"].mean().round(0)"
      ]
    },
    {
      "cell_type": "markdown",
      "metadata": {
        "id": "Zby8pgD3E8Ev"
      },
      "source": [
        "*Hint: use groupby() and mean()*"
      ]
    },
    {
      "cell_type": "markdown",
      "metadata": {
        "id": "hK9O5KLRKy65"
      },
      "source": [
        "## One-hot encoding & feature scaling"
      ]
    },
    {
      "cell_type": "code",
      "execution_count": 45,
      "metadata": {
        "id": "cQv24QzXHduo"
      },
      "outputs": [],
      "source": [
        "# one-hot encoding on categorical features\n",
        "\n",
        "cat_encoded = OneHotEncoder().fit_transform(df[cat]).toarray()\n"
      ]
    },
    {
      "cell_type": "code",
      "execution_count": 46,
      "metadata": {
        "id": "7YmYQsCWJBlI"
      },
      "outputs": [
        {
          "data": {
            "text/plain": [
              "array([[-0.99487718],\n",
              "       [-0.99487718],\n",
              "       [-0.79184102],\n",
              "       [-0.65648358],\n",
              "       [-0.52112614],\n",
              "       [-0.45344742],\n",
              "       [-0.18273254],\n",
              "       [-0.18273254],\n",
              "       [-0.3857687 ],\n",
              "       [-1.33327078],\n",
              "       [-1.19791334],\n",
              "       [-1.13023462],\n",
              "       [-0.58880486],\n",
              "       [-0.52112614],\n",
              "       [-0.58880486],\n",
              "       [-1.13023462],\n",
              "       [-1.13023462],\n",
              "       [-1.0625559 ],\n",
              "       [-0.85951974],\n",
              "       [-0.79184102],\n",
              "       [-0.65648358],\n",
              "       [-0.52112614],\n",
              "       [-0.3857687 ],\n",
              "       [-0.31808998],\n",
              "       [-0.18273254],\n",
              "       [-0.0473751 ],\n",
              "       [-0.25041126],\n",
              "       [ 0.02030362],\n",
              "       [-0.18273254],\n",
              "       [ 0.02030362],\n",
              "       [-0.92719846],\n",
              "       [-0.92719846],\n",
              "       [-1.0625559 ],\n",
              "       [-0.45344742],\n",
              "       [ 0.22333977],\n",
              "       [ 0.29101849],\n",
              "       [-0.65648358],\n",
              "       [-0.52112614],\n",
              "       [-0.45344742],\n",
              "       [-0.31808998],\n",
              "       [-0.25041126],\n",
              "       [ 0.02030362],\n",
              "       [-0.7241623 ],\n",
              "       [-0.25041126],\n",
              "       [-0.31808998],\n",
              "       [-1.0625559 ],\n",
              "       [-0.92719846],\n",
              "       [-0.7241623 ],\n",
              "       [ 0.22333977],\n",
              "       [ 0.62941209],\n",
              "       [-0.65648358],\n",
              "       [-0.52112614],\n",
              "       [-0.25041126],\n",
              "       [ 0.08798234],\n",
              "       [-0.18273254],\n",
              "       [-0.11505382],\n",
              "       [ 0.02030362],\n",
              "       [ 0.15566105],\n",
              "       [ 0.29101849],\n",
              "       [ 0.22333977],\n",
              "       [-0.45344742],\n",
              "       [-0.11505382],\n",
              "       [ 0.69709081],\n",
              "       [-0.11505382],\n",
              "       [ 0.29101849],\n",
              "       [ 0.83244825],\n",
              "       [-0.11505382],\n",
              "       [ 0.35869721],\n",
              "       [-0.0473751 ],\n",
              "       [-0.85951974],\n",
              "       [ 2.18602264],\n",
              "       [ 1.37387801],\n",
              "       [-0.3857687 ],\n",
              "       [ 0.69709081],\n",
              "       [ 1.10316313],\n",
              "       [-0.31808998],\n",
              "       [ 1.77995032],\n",
              "       [ 2.93048856],\n",
              "       [ 0.02030362],\n",
              "       [ 1.77995032],\n",
              "       [ 2.7274524 ],\n",
              "       [ 0.22333977],\n",
              "       [ 1.64459289],\n",
              "       [ 2.7274524 ],\n",
              "       [-0.3857687 ],\n",
              "       [ 2.3890588 ],\n",
              "       [ 2.0506652 ],\n",
              "       [-0.0473751 ],\n",
              "       [ 0.76476953],\n",
              "       [ 3.40423959]])"
            ]
          },
          "execution_count": 46,
          "metadata": {},
          "output_type": "execute_result"
        }
      ],
      "source": [
        "# scaling on numerical features\n",
        "\n",
        "num_scaled = StandardScaler().fit_transform(df[num])\n",
        "num_scaled"
      ]
    },
    {
      "cell_type": "code",
      "execution_count": null,
      "metadata": {},
      "outputs": [],
      "source": []
    },
    {
      "cell_type": "code",
      "execution_count": 48,
      "metadata": {
        "id": "ZaUZZp2GJyIm"
      },
      "outputs": [],
      "source": [
        "# combine the numpy arrays cat_encoded and num_scaled as input features\n",
        "\n",
        "X = np.concatenate([cat_encoded, num_scaled], axis=1) # your code here (6)"
      ]
    },
    {
      "cell_type": "code",
      "execution_count": 57,
      "metadata": {},
      "outputs": [
        {
          "data": {
            "text/plain": [
              "(90, 6)"
            ]
          },
          "execution_count": 57,
          "metadata": {},
          "output_type": "execute_result"
        }
      ],
      "source": [
        "X.shape"
      ]
    },
    {
      "cell_type": "markdown",
      "metadata": {
        "id": "YCJgWFd2K-t4"
      },
      "source": [
        "*Hint: Try np.concatenate()* \n",
        "\n",
        "*https://numpy.org/doc/stable/reference/generated/numpy.concatenate.html*"
      ]
    },
    {
      "cell_type": "markdown",
      "metadata": {
        "id": "Wn-2QJiRKaw_"
      },
      "source": [
        "**Q3: How many rows and columns are there in X?**"
      ]
    },
    {
      "cell_type": "code",
      "execution_count": null,
      "metadata": {
        "id": "TwNyS5G2KaQ9"
      },
      "outputs": [],
      "source": [
        " # your code here (7)"
      ]
    },
    {
      "cell_type": "code",
      "execution_count": 49,
      "metadata": {
        "id": "STDDtqocHykL"
      },
      "outputs": [],
      "source": [
        "Y = df.kind.to_numpy() # prediction label"
      ]
    },
    {
      "cell_type": "markdown",
      "metadata": {
        "id": "wXl54WARJsq_"
      },
      "source": [
        "## Model Training & Evaluation"
      ]
    },
    {
      "cell_type": "code",
      "execution_count": 50,
      "metadata": {
        "id": "cHgstZWeJsV4"
      },
      "outputs": [],
      "source": [
        "# Split the data into training and testing set with a ratio of 8:2 and random state 10\n",
        "\n",
        "x_train, x_test, y_train, y_test = train_test_split(X, Y, test_size=0.2, random_state=10)"
      ]
    },
    {
      "cell_type": "code",
      "execution_count": 61,
      "metadata": {},
      "outputs": [
        {
          "data": {
            "text/html": [
              "<div>\n",
              "<style scoped>\n",
              "    .dataframe tbody tr th:only-of-type {\n",
              "        vertical-align: middle;\n",
              "    }\n",
              "\n",
              "    .dataframe tbody tr th {\n",
              "        vertical-align: top;\n",
              "    }\n",
              "\n",
              "    .dataframe thead th {\n",
              "        text-align: right;\n",
              "    }\n",
              "</style>\n",
              "<table border=\"1\" class=\"dataframe\">\n",
              "  <thead>\n",
              "    <tr style=\"text-align: right;\">\n",
              "      <th></th>\n",
              "      <th>0</th>\n",
              "    </tr>\n",
              "  </thead>\n",
              "  <tbody>\n",
              "    <tr>\n",
              "      <th>0</th>\n",
              "      <td>running</td>\n",
              "    </tr>\n",
              "    <tr>\n",
              "      <th>1</th>\n",
              "      <td>rest</td>\n",
              "    </tr>\n",
              "    <tr>\n",
              "      <th>2</th>\n",
              "      <td>rest</td>\n",
              "    </tr>\n",
              "    <tr>\n",
              "      <th>3</th>\n",
              "      <td>running</td>\n",
              "    </tr>\n",
              "    <tr>\n",
              "      <th>4</th>\n",
              "      <td>rest</td>\n",
              "    </tr>\n",
              "    <tr>\n",
              "      <th>5</th>\n",
              "      <td>rest</td>\n",
              "    </tr>\n",
              "    <tr>\n",
              "      <th>6</th>\n",
              "      <td>rest</td>\n",
              "    </tr>\n",
              "    <tr>\n",
              "      <th>7</th>\n",
              "      <td>walking</td>\n",
              "    </tr>\n",
              "    <tr>\n",
              "      <th>8</th>\n",
              "      <td>rest</td>\n",
              "    </tr>\n",
              "    <tr>\n",
              "      <th>9</th>\n",
              "      <td>rest</td>\n",
              "    </tr>\n",
              "    <tr>\n",
              "      <th>10</th>\n",
              "      <td>walking</td>\n",
              "    </tr>\n",
              "    <tr>\n",
              "      <th>11</th>\n",
              "      <td>running</td>\n",
              "    </tr>\n",
              "    <tr>\n",
              "      <th>12</th>\n",
              "      <td>running</td>\n",
              "    </tr>\n",
              "    <tr>\n",
              "      <th>13</th>\n",
              "      <td>running</td>\n",
              "    </tr>\n",
              "    <tr>\n",
              "      <th>14</th>\n",
              "      <td>running</td>\n",
              "    </tr>\n",
              "    <tr>\n",
              "      <th>15</th>\n",
              "      <td>walking</td>\n",
              "    </tr>\n",
              "    <tr>\n",
              "      <th>16</th>\n",
              "      <td>walking</td>\n",
              "    </tr>\n",
              "    <tr>\n",
              "      <th>17</th>\n",
              "      <td>rest</td>\n",
              "    </tr>\n",
              "  </tbody>\n",
              "</table>\n",
              "</div>"
            ],
            "text/plain": [
              "          0\n",
              "0   running\n",
              "1      rest\n",
              "2      rest\n",
              "3   running\n",
              "4      rest\n",
              "5      rest\n",
              "6      rest\n",
              "7   walking\n",
              "8      rest\n",
              "9      rest\n",
              "10  walking\n",
              "11  running\n",
              "12  running\n",
              "13  running\n",
              "14  running\n",
              "15  walking\n",
              "16  walking\n",
              "17     rest"
            ]
          },
          "execution_count": 61,
          "metadata": {},
          "output_type": "execute_result"
        }
      ],
      "source": [
        "pd.DataFrame(predict)"
      ]
    },
    {
      "cell_type": "code",
      "execution_count": 51,
      "metadata": {
        "id": "GweUV84QKv3S"
      },
      "outputs": [
        {
          "data": {
            "text/html": [
              "<style>#sk-container-id-2 {color: black;background-color: white;}#sk-container-id-2 pre{padding: 0;}#sk-container-id-2 div.sk-toggleable {background-color: white;}#sk-container-id-2 label.sk-toggleable__label {cursor: pointer;display: block;width: 100%;margin-bottom: 0;padding: 0.3em;box-sizing: border-box;text-align: center;}#sk-container-id-2 label.sk-toggleable__label-arrow:before {content: \"▸\";float: left;margin-right: 0.25em;color: #696969;}#sk-container-id-2 label.sk-toggleable__label-arrow:hover:before {color: black;}#sk-container-id-2 div.sk-estimator:hover label.sk-toggleable__label-arrow:before {color: black;}#sk-container-id-2 div.sk-toggleable__content {max-height: 0;max-width: 0;overflow: hidden;text-align: left;background-color: #f0f8ff;}#sk-container-id-2 div.sk-toggleable__content pre {margin: 0.2em;color: black;border-radius: 0.25em;background-color: #f0f8ff;}#sk-container-id-2 input.sk-toggleable__control:checked~div.sk-toggleable__content {max-height: 200px;max-width: 100%;overflow: auto;}#sk-container-id-2 input.sk-toggleable__control:checked~label.sk-toggleable__label-arrow:before {content: \"▾\";}#sk-container-id-2 div.sk-estimator input.sk-toggleable__control:checked~label.sk-toggleable__label {background-color: #d4ebff;}#sk-container-id-2 div.sk-label input.sk-toggleable__control:checked~label.sk-toggleable__label {background-color: #d4ebff;}#sk-container-id-2 input.sk-hidden--visually {border: 0;clip: rect(1px 1px 1px 1px);clip: rect(1px, 1px, 1px, 1px);height: 1px;margin: -1px;overflow: hidden;padding: 0;position: absolute;width: 1px;}#sk-container-id-2 div.sk-estimator {font-family: monospace;background-color: #f0f8ff;border: 1px dotted black;border-radius: 0.25em;box-sizing: border-box;margin-bottom: 0.5em;}#sk-container-id-2 div.sk-estimator:hover {background-color: #d4ebff;}#sk-container-id-2 div.sk-parallel-item::after {content: \"\";width: 100%;border-bottom: 1px solid gray;flex-grow: 1;}#sk-container-id-2 div.sk-label:hover label.sk-toggleable__label {background-color: #d4ebff;}#sk-container-id-2 div.sk-serial::before {content: \"\";position: absolute;border-left: 1px solid gray;box-sizing: border-box;top: 0;bottom: 0;left: 50%;z-index: 0;}#sk-container-id-2 div.sk-serial {display: flex;flex-direction: column;align-items: center;background-color: white;padding-right: 0.2em;padding-left: 0.2em;position: relative;}#sk-container-id-2 div.sk-item {position: relative;z-index: 1;}#sk-container-id-2 div.sk-parallel {display: flex;align-items: stretch;justify-content: center;background-color: white;position: relative;}#sk-container-id-2 div.sk-item::before, #sk-container-id-2 div.sk-parallel-item::before {content: \"\";position: absolute;border-left: 1px solid gray;box-sizing: border-box;top: 0;bottom: 0;left: 50%;z-index: -1;}#sk-container-id-2 div.sk-parallel-item {display: flex;flex-direction: column;z-index: 1;position: relative;background-color: white;}#sk-container-id-2 div.sk-parallel-item:first-child::after {align-self: flex-end;width: 50%;}#sk-container-id-2 div.sk-parallel-item:last-child::after {align-self: flex-start;width: 50%;}#sk-container-id-2 div.sk-parallel-item:only-child::after {width: 0;}#sk-container-id-2 div.sk-dashed-wrapped {border: 1px dashed gray;margin: 0 0.4em 0.5em 0.4em;box-sizing: border-box;padding-bottom: 0.4em;background-color: white;}#sk-container-id-2 div.sk-label label {font-family: monospace;font-weight: bold;display: inline-block;line-height: 1.2em;}#sk-container-id-2 div.sk-label-container {text-align: center;}#sk-container-id-2 div.sk-container {/* jupyter's `normalize.less` sets `[hidden] { display: none; }` but bootstrap.min.css set `[hidden] { display: none !important; }` so we also need the `!important` here to be able to override the default hidden behavior on the sphinx rendered scikit-learn.org. See: https://github.com/scikit-learn/scikit-learn/issues/21755 */display: inline-block !important;position: relative;}#sk-container-id-2 div.sk-text-repr-fallback {display: none;}</style><div id=\"sk-container-id-2\" class=\"sk-top-container\"><div class=\"sk-text-repr-fallback\"><pre>LogisticRegression()</pre><b>In a Jupyter environment, please rerun this cell to show the HTML representation or trust the notebook. <br />On GitHub, the HTML representation is unable to render, please try loading this page with nbviewer.org.</b></div><div class=\"sk-container\" hidden><div class=\"sk-item\"><div class=\"sk-estimator sk-toggleable\"><input class=\"sk-toggleable__control sk-hidden--visually\" id=\"sk-estimator-id-2\" type=\"checkbox\" checked><label for=\"sk-estimator-id-2\" class=\"sk-toggleable__label sk-toggleable__label-arrow\">LogisticRegression</label><div class=\"sk-toggleable__content\"><pre>LogisticRegression()</pre></div></div></div></div></div>"
            ],
            "text/plain": [
              "LogisticRegression()"
            ]
          },
          "execution_count": 51,
          "metadata": {},
          "output_type": "execute_result"
        }
      ],
      "source": [
        "# Fit a logistic regression model\n",
        "\n",
        "model = LogisticRegression()\n",
        "model.fit(x_train, y_train)"
      ]
    },
    {
      "cell_type": "code",
      "execution_count": 52,
      "metadata": {
        "id": "_EV_gIQILR7Q"
      },
      "outputs": [
        {
          "name": "stdout",
          "output_type": "stream",
          "text": [
            "Accuracy: 0.6111111111111112\n"
          ]
        }
      ],
      "source": [
        "# Prediction on the test set\n",
        "\n",
        "predict = model.predict(x_test)\n",
        "print(\"Accuracy: {}\".format(accuracy_score(y_test, predict)))"
      ]
    },
    {
      "cell_type": "markdown",
      "metadata": {
        "id": "pqGpTfd1ON-C"
      },
      "source": [
        "**Q4: Based on precision score, the model performed best on which kind of exercise (rest/walking/running)?**"
      ]
    },
    {
      "cell_type": "code",
      "execution_count": 54,
      "metadata": {
        "id": "IyUWTnmQLhDr"
      },
      "outputs": [
        {
          "data": {
            "text/plain": [
              "array([0.625     , 0.66666667, 0.5       ])"
            ]
          },
          "execution_count": 54,
          "metadata": {},
          "output_type": "execute_result"
        }
      ],
      "source": [
        "# calculate the precision of the model\n",
        "\n",
        " # your code here (8)\n",
        "precision_score(y_test, predict, average=None)"
      ]
    },
    {
      "cell_type": "markdown",
      "metadata": {
        "id": "82vuv4tTOLkj"
      },
      "source": [
        "*Hint: Try precision_score()* \n",
        "\n",
        "*Hint 2: Remember to set average=None to return the scores for each class*\n",
        "\n",
        "*https://scikit-learn.org/stable/modules/generated/sklearn.metrics.precision_score.html*"
      ]
    },
    {
      "cell_type": "markdown",
      "metadata": {
        "id": "sJvibJzXOo6Z"
      },
      "source": [
        "**Q5: Based on recall score, the model performed best on which kind of exercise (rest/walking/running)?**"
      ]
    },
    {
      "cell_type": "code",
      "execution_count": 55,
      "metadata": {
        "id": "vQTlINzxMntL"
      },
      "outputs": [
        {
          "data": {
            "text/plain": [
              "array([1.        , 0.66666667, 0.28571429])"
            ]
          },
          "execution_count": 55,
          "metadata": {},
          "output_type": "execute_result"
        }
      ],
      "source": [
        "# calculate the recall of the model\n",
        "\n",
        " # your code here (9)\n",
        "recall_score(y_test, predict, average=None)"
      ]
    },
    {
      "cell_type": "markdown",
      "metadata": {
        "id": "a88ZxGasOMJs"
      },
      "source": [
        "*Hint: Try recall_score()* \n",
        "\n",
        "*Hint 2: Remember to set average=None to return the scores for each class*\n",
        "\n",
        "*https://scikit-learn.org/stable/modules/generated/sklearn.metrics.recall_score.html*"
      ]
    },
    {
      "cell_type": "markdown",
      "metadata": {
        "id": "dMKPxarYNvYz"
      },
      "source": [
        "## End of Quiz! 👏\n",
        "## Remember to submit your answers and notebook!"
      ]
    }
  ],
  "metadata": {
    "colab": {
      "collapsed_sections": [],
      "name": "Quiz 2 Part 2 Coding.ipynb",
      "provenance": []
    },
    "kernelspec": {
      "display_name": "Python 3.10.5 ('venv': venv)",
      "language": "python",
      "name": "python3"
    },
    "language_info": {
      "codemirror_mode": {
        "name": "ipython",
        "version": 3
      },
      "file_extension": ".py",
      "mimetype": "text/x-python",
      "name": "python",
      "nbconvert_exporter": "python",
      "pygments_lexer": "ipython3",
      "version": "3.10.5"
    },
    "vscode": {
      "interpreter": {
        "hash": "f5ff2f5e56ef3133dccc8e09d46b0dc57e2f5d1229922630f6f4d17b9c4b64d3"
      }
    }
  },
  "nbformat": 4,
  "nbformat_minor": 0
}
