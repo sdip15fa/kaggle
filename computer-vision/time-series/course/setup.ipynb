{
 "cells": [
  {
   "cell_type": "code",
   "execution_count": 1,
   "metadata": {},
   "outputs": [
    {
     "name": "stdout",
     "output_type": "stream",
     "text": [
      "--2022-08-15 12:17:10--  https://local.wcyat.me/computer-vision/time-series/input/input.zip\n",
      "Resolving local.wcyat.me (local.wcyat.me)... 172.67.189.16, 104.21.81.97, 2606:4700:3031::ac43:bd10, ...\n",
      "Connecting to local.wcyat.me (local.wcyat.me)|172.67.189.16|:443... connected.\n",
      "HTTP request sent, awaiting response... 200 OK\n",
      "Length: 22214921 (21M) [application/zip]\n",
      "Saving to: ‘input.zip’\n",
      "\n",
      "input.zip           100%[===================>]  21.19M  90.4MB/s    in 0.2s    \n",
      "\n",
      "2022-08-15 12:17:10 (90.4 MB/s) - ‘input.zip’ saved [22214921/22214921]\n",
      "\n",
      "Archive:  input.zip\n",
      "   creating: store-sales-time-series-forecasting/\n",
      "  inflating: store-sales-time-series-forecasting/oil.csv  \n",
      "  inflating: store-sales-time-series-forecasting/train.csv  \n",
      "  inflating: store-sales-time-series-forecasting/test.csv  \n",
      "  inflating: store-sales-time-series-forecasting/stores.csv  \n",
      "  inflating: store-sales-time-series-forecasting/sample_submission.csv  \n",
      "  inflating: store-sales-time-series-forecasting/holidays_events.csv  \n",
      "  inflating: store-sales-time-series-forecasting/transactions.csv  \n",
      "   creating: ts-course-data/\n",
      "  inflating: ts-course-data/reserve.csv  \n",
      "  inflating: ts-course-data/flu-trends.csv  \n",
      "  inflating: ts-course-data/us-retail-sales.csv  \n",
      "  inflating: ts-course-data/book_sales.csv  \n",
      "  inflating: ts-course-data/trig.csv  \n",
      "  inflating: ts-course-data/tunnel.csv  \n",
      "  inflating: ts-course-data/avocados.csv  \n",
      "  inflating: ts-course-data/elecdemand.csv  \n",
      "  inflating: ts-course-data/ar.csv   \n",
      "  inflating: ts-course-data/co2.csv  \n"
     ]
    }
   ],
   "source": [
    "!mkdir -p ../input && cd ../input && wget https://local.wcyat.me/computer-vision/time-series/input/input.zip && unzip input.zip && rm input.zip"
   ]
  },
  {
   "cell_type": "code",
   "execution_count": 2,
   "metadata": {},
   "outputs": [
    {
     "name": "stdout",
     "output_type": "stream",
     "text": [
      "Cloning into 'learntools'...\n",
      "remote: Enumerating objects: 17800, done.\u001b[K\n",
      "remote: Counting objects: 100% (180/180), done.\u001b[K\n",
      "remote: Compressing objects: 100% (145/145), done.\u001b[K\n",
      "remote: Total 17800 (delta 90), reused 72 (delta 35), pack-reused 17620\u001b[K\n",
      "Receiving objects: 100% (17800/17800), 104.60 MiB | 28.02 MiB/s, done.\n",
      "Resolving deltas: 100% (13202/13202), done.\n",
      "Looking in indexes: https://pypi.org/simple, https://us-python.pkg.dev/colab-wheels/public/simple/\n",
      "Processing ./learntools\n",
      "\u001b[33m  DEPRECATION: A future pip version will change local packages to be built in-place without first copying to a temporary directory. We recommend you use --use-feature=in-tree-build to test your packages with this new behavior before it becomes the default.\n",
      "   pip 21.3 will remove support for this functionality. You can find discussion regarding this at https://github.com/pypa/pip/issues/7555.\u001b[0m\n",
      "Building wheels for collected packages: learntools\n",
      "  Building wheel for learntools (setup.py) ... \u001b[?25l\u001b[?25hdone\n",
      "  Created wheel for learntools: filename=learntools-0.3.4-py3-none-any.whl size=267787 sha256=41dac345dfafa5c17ff7ee0bf2bc8fd8f96084f9b61333856baa17a5ba4b4033\n",
      "  Stored in directory: /tmp/pip-ephem-wheel-cache-ipo275mg/wheels/6e/69/d4/05d8d1031260d2da730f732aa12a0109e84e22bbb364c0e5d4\n",
      "Successfully built learntools\n",
      "Installing collected packages: learntools\n",
      "Successfully installed learntools-0.3.4\n"
     ]
    }
   ],
   "source": [
    "!git clone https://github.com/Kaggle/learntools\n",
    "!pip install ./learntools"
   ]
  }
 ],
 "metadata": {
  "kernelspec": {
   "display_name": "Python 3",
   "language": "python",
   "name": "python3"
  },
  "language_info": {
   "codemirror_mode": {
    "name": "ipython",
    "version": 3
   },
   "file_extension": ".py",
   "mimetype": "text/x-python",
   "name": "python",
   "nbconvert_exporter": "python",
   "pygments_lexer": "ipython3",
   "version": "3.7.13"
  },
  "orig_nbformat": 4,
  "vscode": {
   "interpreter": {
    "hash": "f5ff2f5e56ef3133dccc8e09d46b0dc57e2f5d1229922630f6f4d17b9c4b64d3"
   }
  }
 },
 "nbformat": 4,
 "nbformat_minor": 2
}
