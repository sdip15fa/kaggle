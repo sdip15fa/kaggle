{
  "cells": [
    {
      "cell_type": "markdown",
      "metadata": {
        "id": "t73rIagC3lrC"
      },
      "source": [
        "## Competition #2: Computer Vision - Facial Recognition\n",
        "Billy Hau - 7/27/2022\n",
        "\n",
        "In this Computer Vision competition, we will learn how to apply Deep Learning to Facial Recognition. This used to be extremely difficult and people earned PhD on solving this problem. But nowadays, with Convolutional Neural Network, you can do it at home! \n",
        "\n",
        "<a href='https://www.kaggle.com/t/9ddb0751768f4d0f8b54d48d99b6c5be'>https://www.kaggle.com/t/9ddb0751768f4d0f8b54d48d99b6c5be</a>\n",
        "\n",
        "** Convolutional Neural Network involve a huge number of parameters. It is highly recommended that you follow the slides to setup your GPU for CUDA computing, else it will take forever! If you don't have a GPU, use Google Collab. Don't forget to upload this notebook and the other image folders **"
      ]
    },
    {
      "cell_type": "markdown",
      "metadata": {
        "id": "f-R0FTEk3lrD"
      },
      "source": [
        "Let's take a look at the data! \n",
        "\n",
        "The there are 3 folder included in this zip folder: train / val / test\n",
        "\n",
        "<li> <b>train</b> - this is the data containing the training images</li>\n",
        "<li> <b>val</b> - this is the data you will use to validate your model</li>\n",
        "<li> <b>test</b> - this is the data where you will make prediction and upload to the kaggle competition page</li>\n",
        "\n",
        "Within the <b>train</b> and <b>val</b> folders, there are sub folders with the name of each person. This is your label or y output. This data will be autocollected by TensorFlow's generator. The <b>test</b> folder don't contain such sub-folders, because that's what you are trying to predict!"
      ]
    },
    {
      "cell_type": "markdown",
      "metadata": {
        "id": "sMaJE-eu3lrE"
      },
      "source": [
        "To get a good score in this competition, you will need to apply the follow:\n",
        "<li>Transfer Learning</li>\n",
        "<li>Data Augmentation</li>\n",
        "\n",
        "Kaggle Submission Format\n",
        "\n",
        "<table>\n",
        "<tr>\n",
        "<th>id</th>\n",
        "<th>name</th>\n",
        "</tr>\n",
        "<tr>\n",
        "<th>0</th>\n",
        "<th>Billy</th>\n",
        "</tr>\n",
        "<tr>\n",
        "<th>1</th>\n",
        "<th>KC</th>\n",
        "</tr>\n",
        "<tr>\n",
        "<th>2</th>\n",
        "<th>Tony</th>\n",
        "</tr>\n",
        "<tr>\n",
        "<th>3</th>\n",
        "<th>Jonathan</th>\n",
        "</tr>\n",
        "<tr>\n",
        "<th>...</th>\n",
        "<th>...</th>\n",
        "</tr>\n",
        "</table>"
      ]
    },
    {
      "cell_type": "code",
      "execution_count": 87,
      "metadata": {
        "id": "ZH0hME1C3ojD",
        "vscode": {
          "languageId": "shellscript"
        }
      },
      "outputs": [],
      "source": [
        "# Download Dataset\n",
        "# !wget 'https://billyhau.com/course/kaggle/resource/Competition_2_Dataset.zip'\n",
        "# !wget https://a6bc-218-102-79-116.ngrok.io/code.zip"
      ]
    },
    {
      "cell_type": "code",
      "execution_count": 88,
      "metadata": {
        "id": "TZemasbO3tZ4",
        "vscode": {
          "languageId": "shellscript"
        }
      },
      "outputs": [],
      "source": [
        "# Unzip Dataset\n",
        "# !unzip 'Competition_2_Dataset.zip'\n",
        "# !unzip code.zip"
      ]
    },
    {
      "cell_type": "code",
      "execution_count": 89,
      "metadata": {
        "id": "QHTinZPI3lrE"
      },
      "outputs": [],
      "source": [
        "import tensorflow as tf;\n",
        "from tensorflow import keras;\n",
        "import numpy as np;\n",
        "import matplotlib.pyplot as plt;\n",
        "import pandas as pd;\n",
        "from PIL import Image;"
      ]
    },
    {
      "cell_type": "code",
      "execution_count": 90,
      "metadata": {
        "id": "R3HJ1nF5poDj"
      },
      "outputs": [],
      "source": [
        "size = (224, 224)"
      ]
    },
    {
      "cell_type": "code",
      "execution_count": 91,
      "metadata": {
        "id": "-hsQtaL1HuP2"
      },
      "outputs": [],
      "source": [
        "from keras.applications.vgg19 import VGG19;\n",
        "from keras.applications.vgg19 import preprocess_input;\n",
        "from keras.applications.resnet import ResNet50;\n",
        "from keras.applications.inception_resnet_v2 import InceptionResNetV2;\n",
        "\n",
        "base_model = VGG19(weights='imagenet', include_top=False)\n",
        "base_model.trainable = False\n",
        "\n",
        "for layer in base_model.layers:\n",
        "    layer.trainable = False\n",
        "\n",
        "resnet = ResNet50(weights='imagenet', include_top=False, input_shape=(size[0], size[1], 3))\n",
        "resnet.trainable = False\n",
        "\n",
        "for layer in resnet.layers:\n",
        "    layer.trainable = False\n",
        "\n",
        "inception = InceptionResNetV2(weights='imagenet', include_top=False, input_shape=(size[0], size[1], 3))\n",
        "inception.trainable = False\n",
        "\n",
        "# for layer in inception.layers:\n",
        "    # layer.trainable = False"
      ]
    },
    {
      "cell_type": "code",
      "execution_count": 92,
      "metadata": {
        "colab": {
          "base_uri": "https://localhost:8080/"
        },
        "id": "DLQck5A0HuP3",
        "outputId": "e1a41d7b-b333-4483-f21b-f4b9463a2cd5"
      },
      "outputs": [
        {
          "output_type": "stream",
          "name": "stdout",
          "text": [
            "Found 225 images belonging to 29 classes.\n",
            "Found 57 images belonging to 29 classes.\n",
            "Found 95 images belonging to 1 classes.\n"
          ]
        }
      ],
      "source": [
        "# Define TensorFlow Image Generator\n",
        "# (optional) - Data Augmentation by Changing the Parameters Here! ex. rotate, flip, zoom... transfer learning preprocessing fucntion\n",
        "\n",
        "from keras.preprocessing.image import ImageDataGenerator\n",
        "\n",
        "train_imageDataGen = ImageDataGenerator(preprocessing_function=preprocess_input)\n",
        "val_imageDataGen = ImageDataGenerator(preprocessing_function=preprocess_input)\n",
        "test_imageDataGen = ImageDataGenerator(preprocessing_function=preprocess_input)\n",
        "# Define Data Generator and set Data Directory\n",
        "\n",
        "\n",
        "train_gen = train_imageDataGen.flow_from_directory('train', target_size=size, shuffle=True)\n",
        "val_gen = val_imageDataGen.flow_from_directory('val', target_size=size, shuffle=False)\n",
        "test_gen = test_imageDataGen.flow_from_directory('.', classes=['test'], target_size=size, shuffle=False)"
      ]
    },
    {
      "cell_type": "code",
      "execution_count": 93,
      "metadata": {
        "id": "WfnzxdPJ3lrF"
      },
      "outputs": [],
      "source": [
        "# Define Model (Categorical Classfication for 29 Classes)\n",
        "# Here's a simple Artificial Neural Network that will perform extremely poorly\n",
        "# Try: Convolutional Neural Network\n",
        "# Try: Transfer Learning (refer to CIFAR-10 Notebook)\n",
        "\n",
        "# TIPS: \n",
        "# - Underfit, add more complexity... aka, more layers, more nodes\n",
        "# - Overfit, add regularization... aka, add Dropout, BatchNormalization, MaxPool, AveragePool...\n",
        "# - Make sure to Flatten at the end of the Neural Network before Dense\n",
        "\n",
        "# Input Image Size = 200 px x 200 px x 3 channels\n",
        "# Output Layer = 29 nodes \n",
        "\n",
        "model = keras.Sequential([\n",
        "    keras.layers.Lambda(lambda x: tf.image.resize_with_pad(x,  size[0], size[1])),\n",
        "    resnet,\n",
        "    # keras.layers.Lambda(lambda x: tf.image.resize_with_pad(x, size[0], size[1])),\n",
        "    # base_model,\n",
        "    # inception,\n",
        "    keras.layers.Conv2D(size[0], 3),\n",
        "    keras.layers.Conv2D(size[0], 3),\n",
        "    keras.layers.Flatten(),\n",
        "    keras.layers.Dense(128, activation='elu'),\n",
        "    keras.layers.Dropout(0.4),\n",
        "    keras.layers.BatchNormalization(),\n",
        "    keras.layers.Dense(29, activation='softmax')\n",
        "])"
      ]
    },
    {
      "cell_type": "code",
      "execution_count": 94,
      "metadata": {
        "id": "KCLzQ_ZS3lrG"
      },
      "outputs": [],
      "source": [
        "# Compile Model\n",
        "model.compile(optimizer=\"adam\", loss=\"categorical_crossentropy\", metrics=[\"categorical_accuracy\"])"
      ]
    },
    {
      "cell_type": "code",
      "execution_count": 95,
      "metadata": {
        "id": "wqrGOfAzHuP7"
      },
      "outputs": [],
      "source": [
        "earlyStop = keras.callbacks.EarlyStopping(monitor='val_categorical_accuracy', patience=5, verbose=1, restore_best_weights=True)"
      ]
    },
    {
      "cell_type": "code",
      "execution_count": 96,
      "metadata": {
        "colab": {
          "base_uri": "https://localhost:8080/"
        },
        "id": "TPAZuTJP3lrG",
        "outputId": "7a7d4a79-921b-4bf6-e2f1-7dd3693de6ef"
      },
      "outputs": [
        {
          "output_type": "stream",
          "name": "stdout",
          "text": [
            "Epoch 1/1000\n",
            "8/8 [==============================] - 8s 516ms/step - loss: 2.7876 - categorical_accuracy: 0.2133 - val_loss: 8.4379 - val_categorical_accuracy: 0.2807\n",
            "Epoch 2/1000\n",
            "8/8 [==============================] - 1s 171ms/step - loss: 1.7382 - categorical_accuracy: 0.5556 - val_loss: 3.5641 - val_categorical_accuracy: 0.4386\n",
            "Epoch 3/1000\n",
            "8/8 [==============================] - 1s 169ms/step - loss: 1.1850 - categorical_accuracy: 0.7289 - val_loss: 1.4941 - val_categorical_accuracy: 0.6140\n",
            "Epoch 4/1000\n",
            "8/8 [==============================] - 1s 171ms/step - loss: 0.6844 - categorical_accuracy: 0.8889 - val_loss: 1.1373 - val_categorical_accuracy: 0.6667\n",
            "Epoch 5/1000\n",
            "8/8 [==============================] - 1s 169ms/step - loss: 0.5371 - categorical_accuracy: 0.9378 - val_loss: 0.5028 - val_categorical_accuracy: 0.8596\n",
            "Epoch 6/1000\n",
            "8/8 [==============================] - 1s 165ms/step - loss: 0.3207 - categorical_accuracy: 0.9867 - val_loss: 0.1451 - val_categorical_accuracy: 0.9649\n",
            "Epoch 7/1000\n",
            "8/8 [==============================] - 1s 172ms/step - loss: 0.2628 - categorical_accuracy: 0.9822 - val_loss: 0.0829 - val_categorical_accuracy: 1.0000\n",
            "Epoch 8/1000\n",
            "8/8 [==============================] - 1s 151ms/step - loss: 0.1931 - categorical_accuracy: 0.9867 - val_loss: 0.0688 - val_categorical_accuracy: 1.0000\n",
            "Epoch 9/1000\n",
            "8/8 [==============================] - 1s 150ms/step - loss: 0.1508 - categorical_accuracy: 0.9956 - val_loss: 0.0703 - val_categorical_accuracy: 1.0000\n",
            "Epoch 10/1000\n",
            "8/8 [==============================] - 1s 150ms/step - loss: 0.1103 - categorical_accuracy: 0.9956 - val_loss: 0.0573 - val_categorical_accuracy: 1.0000\n",
            "Epoch 11/1000\n",
            "8/8 [==============================] - 1s 164ms/step - loss: 0.1034 - categorical_accuracy: 0.9956 - val_loss: 0.0507 - val_categorical_accuracy: 1.0000\n",
            "Epoch 12/1000\n",
            "8/8 [==============================] - ETA: 0s - loss: 0.0840 - categorical_accuracy: 0.9956Restoring model weights from the end of the best epoch: 7.\n",
            "8/8 [==============================] - 1s 170ms/step - loss: 0.0840 - categorical_accuracy: 0.9956 - val_loss: 0.0551 - val_categorical_accuracy: 1.0000\n",
            "Epoch 12: early stopping\n"
          ]
        }
      ],
      "source": [
        "# Train Model\n",
        "history = model.fit(train_gen, validation_data = val_gen, epochs=1000, batch_size=1024, callbacks=[earlyStop])"
      ]
    },
    {
      "cell_type": "code",
      "execution_count": 97,
      "metadata": {
        "colab": {
          "base_uri": "https://localhost:8080/",
          "height": 282
        },
        "id": "a5lmjQgC3lrG",
        "outputId": "c8edab8c-94bd-4ef3-8c4d-8398b4797aa4"
      },
      "outputs": [
        {
          "output_type": "execute_result",
          "data": {
            "text/plain": [
              "[<matplotlib.lines.Line2D at 0x7fc99f69dc10>]"
            ]
          },
          "metadata": {},
          "execution_count": 97
        },
        {
          "output_type": "display_data",
          "data": {
            "text/plain": [
              "<Figure size 432x288 with 1 Axes>"
            ],
            "image/png": "[encoded data removed]"
          },
          "metadata": {
            "needs_background": "light"
          }
        }
      ],
      "source": [
        "# Plot and Evaluate\n",
        "plt.plot(history.history[\"categorical_accuracy\"], label='accuracy')\n",
        "plt.plot(history.history['val_categorical_accuracy'], label='val_accuracy')"
      ]
    },
    {
      "cell_type": "code",
      "execution_count": 98,
      "metadata": {
        "colab": {
          "base_uri": "https://localhost:8080/"
        },
        "id": "Ynbv8JxE3lrH",
        "outputId": "2db4b7da-6933-46ac-ad2f-28b9a4a7acd7"
      },
      "outputs": [
        {
          "output_type": "stream",
          "name": "stdout",
          "text": [
            "WARNING:tensorflow:5 out of the last 13 calls to <function Model.make_predict_function.<locals>.predict_function at 0x7fc7438ff290> triggered tf.function retracing. Tracing is expensive and the excessive number of tracings could be due to (1) creating @tf.function repeatedly in a loop, (2) passing tensors with different shapes, (3) passing Python objects instead of tensors. For (1), please define your @tf.function outside of the loop. For (2), @tf.function has experimental_relax_shapes=True option that relaxes argument shapes that can avoid unnecessary retracing. For (3), please refer to https://www.tensorflow.org/guide/function#controlling_retracing and https://www.tensorflow.org/api_docs/python/tf/function for  more details.\n"
          ]
        },
        {
          "output_type": "execute_result",
          "data": {
            "text/plain": [
              "array([[1.68556071e-05, 5.19890591e-06, 2.66331645e-05, ...,\n",
              "        6.68972643e-06, 4.65087442e-06, 1.08772315e-06],\n",
              "       [3.27169022e-04, 6.46131933e-02, 1.73759072e-05, ...,\n",
              "        1.52741326e-04, 8.08782995e-01, 1.21708414e-04],\n",
              "       [1.82633084e-05, 1.51492839e-06, 1.09704015e-05, ...,\n",
              "        3.11881537e-04, 7.09089436e-05, 3.61371822e-05],\n",
              "       ...,\n",
              "       [1.07240476e-05, 3.38762875e-05, 6.07303491e-06, ...,\n",
              "        1.09635451e-07, 3.16988491e-07, 8.96468407e-07],\n",
              "       [1.47242338e-06, 1.02959448e-05, 7.09212782e-06, ...,\n",
              "        3.03903089e-05, 3.12964607e-06, 5.34172784e-07],\n",
              "       [3.51766997e-04, 1.92377211e-05, 9.55288942e-06, ...,\n",
              "        4.18673648e-04, 5.19617170e-05, 5.83503512e-04]], dtype=float32)"
            ]
          },
          "metadata": {},
          "execution_count": 98
        }
      ],
      "source": [
        "# Make Test Prediction\n",
        "predict = model.predict(test_gen)\n",
        "predict"
      ]
    },
    {
      "cell_type": "code",
      "execution_count": 99,
      "metadata": {
        "colab": {
          "base_uri": "https://localhost:8080/"
        },
        "id": "Or97Y3vf3lrH",
        "outputId": "d43cd4b7-3b83-43d5-b838-4d040e060f5d"
      },
      "outputs": [
        {
          "output_type": "execute_result",
          "data": {
            "text/plain": [
              "array([ 8, 27, 12, 22,  7,  6,  5, 22, 28, 25,  2,  9, 15, 17, 24, 14, 18,\n",
              "       17, 14,  4,  3, 14, 24,  3, 23,  7, 27, 16, 14, 28,  8,  4, 27, 23,\n",
              "       15, 11, 19, 26, 13, 23,  1, 15,  0, 16, 14,  7,  6,  2, 12, 13,  1,\n",
              "       23, 19,  2,  6, 28,  0, 25, 27, 16, 19,  0, 20, 13, 16, 15,  0,  2,\n",
              "        3, 15, 23, 11, 10, 13, 24, 21, 12,  3, 22, 20,  3,  2, 16, 25,  9,\n",
              "       10, 16, 20,  0, 10, 11,  6,  9,  6, 24])"
            ]
          },
          "metadata": {},
          "execution_count": 99
        }
      ],
      "source": [
        "# Find Most Likely Class for each Image\n",
        "prediction_id = np.argmax(predict, axis=1)\n",
        "prediction_id"
      ]
    },
    {
      "cell_type": "code",
      "execution_count": 100,
      "metadata": {
        "colab": {
          "base_uri": "https://localhost:8080/"
        },
        "id": "cXLsfUgY3lrH",
        "outputId": "7339cc68-769d-4a8f-e474-231d0f5ef4bf"
      },
      "outputs": [
        {
          "output_type": "execute_result",
          "data": {
            "text/plain": [
              "{0: 'Alejandra',\n",
              " 1: 'Alessandro',\n",
              " 2: 'Anastasia',\n",
              " 3: 'Andrea Ran',\n",
              " 4: 'Anna',\n",
              " 5: 'Bruno',\n",
              " 6: 'Clarissa',\n",
              " 7: 'Daiane',\n",
              " 8: 'Diego',\n",
              " 9: 'Ewa',\n",
              " 10: 'Fernanda',\n",
              " 11: 'Gabriel',\n",
              " 12: 'Garret',\n",
              " 13: 'Juliana',\n",
              " 14: 'Kasia',\n",
              " 15: 'Kateryna',\n",
              " 16: 'Klara',\n",
              " 17: 'Luis',\n",
              " 18: 'Mark',\n",
              " 19: 'Massimiliano',\n",
              " 20: 'Matheus',\n",
              " 21: 'Miia',\n",
              " 22: 'Mykhailo',\n",
              " 23: 'Paolo',\n",
              " 24: 'Rayanne',\n",
              " 25: 'Romeo',\n",
              " 26: 'Valeriia',\n",
              " 27: 'Vitalijs',\n",
              " 28: 'Weslley'}"
            ]
          },
          "metadata": {},
          "execution_count": 100
        }
      ],
      "source": [
        "# Get Conversion Dictionary\n",
        "class_dict = train_gen.class_indices\n",
        "class_dict = {v: k for k, v in class_dict.items()}\n",
        "class_dict"
      ]
    },
    {
      "cell_type": "code",
      "execution_count": 101,
      "metadata": {
        "colab": {
          "base_uri": "https://localhost:8080/"
        },
        "id": "J446Iu7c3lrH",
        "outputId": "d849b1a4-0bc5-4931-83ef-df0954fb6760"
      },
      "outputs": [
        {
          "output_type": "execute_result",
          "data": {
            "text/plain": [
              "['Diego',\n",
              " 'Vitalijs',\n",
              " 'Garret',\n",
              " 'Mykhailo',\n",
              " 'Daiane',\n",
              " 'Clarissa',\n",
              " 'Bruno',\n",
              " 'Mykhailo',\n",
              " 'Weslley',\n",
              " 'Romeo',\n",
              " 'Anastasia',\n",
              " 'Ewa',\n",
              " 'Kateryna',\n",
              " 'Luis',\n",
              " 'Rayanne',\n",
              " 'Kasia',\n",
              " 'Mark',\n",
              " 'Luis',\n",
              " 'Kasia',\n",
              " 'Anna',\n",
              " 'Andrea Ran',\n",
              " 'Kasia',\n",
              " 'Rayanne',\n",
              " 'Andrea Ran',\n",
              " 'Paolo',\n",
              " 'Daiane',\n",
              " 'Vitalijs',\n",
              " 'Klara',\n",
              " 'Kasia',\n",
              " 'Weslley',\n",
              " 'Diego',\n",
              " 'Anna',\n",
              " 'Vitalijs',\n",
              " 'Paolo',\n",
              " 'Kateryna',\n",
              " 'Gabriel',\n",
              " 'Massimiliano',\n",
              " 'Valeriia',\n",
              " 'Juliana',\n",
              " 'Paolo',\n",
              " 'Alessandro',\n",
              " 'Kateryna',\n",
              " 'Alejandra',\n",
              " 'Klara',\n",
              " 'Kasia',\n",
              " 'Daiane',\n",
              " 'Clarissa',\n",
              " 'Anastasia',\n",
              " 'Garret',\n",
              " 'Juliana',\n",
              " 'Alessandro',\n",
              " 'Paolo',\n",
              " 'Massimiliano',\n",
              " 'Anastasia',\n",
              " 'Clarissa',\n",
              " 'Weslley',\n",
              " 'Alejandra',\n",
              " 'Romeo',\n",
              " 'Vitalijs',\n",
              " 'Klara',\n",
              " 'Massimiliano',\n",
              " 'Alejandra',\n",
              " 'Matheus',\n",
              " 'Juliana',\n",
              " 'Klara',\n",
              " 'Kateryna',\n",
              " 'Alejandra',\n",
              " 'Anastasia',\n",
              " 'Andrea Ran',\n",
              " 'Kateryna',\n",
              " 'Paolo',\n",
              " 'Gabriel',\n",
              " 'Fernanda',\n",
              " 'Juliana',\n",
              " 'Rayanne',\n",
              " 'Miia',\n",
              " 'Garret',\n",
              " 'Andrea Ran',\n",
              " 'Mykhailo',\n",
              " 'Matheus',\n",
              " 'Andrea Ran',\n",
              " 'Anastasia',\n",
              " 'Klara',\n",
              " 'Romeo',\n",
              " 'Ewa',\n",
              " 'Fernanda',\n",
              " 'Klara',\n",
              " 'Matheus',\n",
              " 'Alejandra',\n",
              " 'Fernanda',\n",
              " 'Gabriel',\n",
              " 'Clarissa',\n",
              " 'Ewa',\n",
              " 'Clarissa',\n",
              " 'Rayanne']"
            ]
          },
          "metadata": {},
          "execution_count": 101
        }
      ],
      "source": [
        "# Convert Prediction Indices to Names\n",
        "prediction_name = []\n",
        "\n",
        "for id in prediction_id:\n",
        "    prediction_name.append(class_dict[id])\n",
        "\n",
        "prediction_name\n"
      ]
    },
    {
      "cell_type": "code",
      "execution_count": 102,
      "metadata": {
        "id": "YpJd-Xhu3lrI"
      },
      "outputs": [],
      "source": [
        "# Prep for Submission\n",
        "df = pd.DataFrame(prediction_name, columns=['name'])\n",
        "df.index.name = 'id'\n",
        "df.to_csv('submission.csv')"
      ]
    }
  ],
  "metadata": {
    "accelerator": "GPU",
    "colab": {
      "collapsed_sections": [],
      "name": "Competition_2_Facial_Recognition_Starter_Notebook_(STUDENT).ipynb",
      "provenance": []
    },
    "gpuClass": "standard",
    "kernelspec": {
      "display_name": "Python 3.10.6 ('venv': venv)",
      "language": "python",
      "name": "python3"
    },
    "language_info": {
      "codemirror_mode": {
        "name": "ipython",
        "version": 3
      },
      "file_extension": ".py",
      "mimetype": "text/x-python",
      "name": "python",
      "nbconvert_exporter": "python",
      "pygments_lexer": "ipython3",
      "version": "3.10.6"
    },
    "orig_nbformat": 4,
    "vscode": {
      "interpreter": {
        "hash": "f5ff2f5e56ef3133dccc8e09d46b0dc57e2f5d1229922630f6f4d17b9c4b64d3"
      }
    }
  },
  "nbformat": 4,
  "nbformat_minor": 0
}