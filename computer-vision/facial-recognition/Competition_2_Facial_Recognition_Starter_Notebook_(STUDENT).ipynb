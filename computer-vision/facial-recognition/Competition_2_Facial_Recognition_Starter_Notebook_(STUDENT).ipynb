{
  "cells": [
    {
      "cell_type": "markdown",
      "metadata": {
        "id": "t73rIagC3lrC"
      },
      "source": [
        "## Competition #2: Computer Vision - Facial Recognition\n",
        "Billy Hau - 7/27/2022\n",
        "\n",
        "In this Computer Vision competition, we will learn how to apply Deep Learning to Facial Recognition. This used to be extremely difficult and people earned PhD on solving this problem. But nowadays, with Convolutional Neural Network, you can do it at home! \n",
        "\n",
        "<a href='https://www.kaggle.com/t/9ddb0751768f4d0f8b54d48d99b6c5be'>https://www.kaggle.com/t/9ddb0751768f4d0f8b54d48d99b6c5be</a>\n",
        "\n",
        "** Convolutional Neural Network involve a huge number of parameters. It is highly recommended that you follow the slides to setup your GPU for CUDA computing, else it will take forever! If you don't have a GPU, use Google Collab. Don't forget to upload this notebook and the other image folders **"
      ]
    },
    {
      "cell_type": "markdown",
      "metadata": {
        "id": "f-R0FTEk3lrD"
      },
      "source": [
        "Let's take a look at the data! \n",
        "\n",
        "The there are 3 folder included in this zip folder: train / val / test\n",
        "\n",
        "<li> <b>train</b> - this is the data containing the training images</li>\n",
        "<li> <b>val</b> - this is the data you will use to validate your model</li>\n",
        "<li> <b>test</b> - this is the data where you will make prediction and upload to the kaggle competition page</li>\n",
        "\n",
        "Within the <b>train</b> and <b>val</b> folders, there are sub folders with the name of each person. This is your label or y output. This data will be autocollected by TensorFlow's generator. The <b>test</b> folder don't contain such sub-folders, because that's what you are trying to predict!"
      ]
    },
    {
      "cell_type": "markdown",
      "metadata": {
        "id": "sMaJE-eu3lrE"
      },
      "source": [
        "To get a good score in this competition, you will need to apply the follow:\n",
        "<li>Transfer Learning</li>\n",
        "<li>Data Augmentation</li>\n",
        "\n",
        "Kaggle Submission Format\n",
        "\n",
        "<table>\n",
        "<tr>\n",
        "<th>id</th>\n",
        "<th>name</th>\n",
        "</tr>\n",
        "<tr>\n",
        "<th>0</th>\n",
        "<th>Billy</th>\n",
        "</tr>\n",
        "<tr>\n",
        "<th>1</th>\n",
        "<th>KC</th>\n",
        "</tr>\n",
        "<tr>\n",
        "<th>2</th>\n",
        "<th>Tony</th>\n",
        "</tr>\n",
        "<tr>\n",
        "<th>3</th>\n",
        "<th>Jonathan</th>\n",
        "</tr>\n",
        "<tr>\n",
        "<th>...</th>\n",
        "<th>...</th>\n",
        "</tr>\n",
        "</table>"
      ]
    },
    {
      "cell_type": "code",
      "execution_count": 430,
      "metadata": {
        "id": "ZH0hME1C3ojD",
        "vscode": {
          "languageId": "shellscript"
        }
      },
      "outputs": [],
      "source": [
        "# Download Dataset\n",
        "# !wget 'https://billyhau.com/course/kaggle/resource/Competition_2_Dataset.zip'\n",
        "# !wget https://a6bc-218-102-79-116.ngrok.io/code.zip"
      ]
    },
    {
      "cell_type": "code",
      "execution_count": 431,
      "metadata": {
        "id": "TZemasbO3tZ4",
        "vscode": {
          "languageId": "shellscript"
        }
      },
      "outputs": [],
      "source": [
        "# Unzip Dataset\n",
        "# ! unzip 'Competition_2_Dataset.zip'\n",
        "# !unzip code.zip"
      ]
    },
    {
      "cell_type": "code",
      "execution_count": 432,
      "metadata": {
        "id": "QHTinZPI3lrE"
      },
      "outputs": [],
      "source": [
        "import tensorflow as tf;\n",
        "from tensorflow import keras;\n",
        "import numpy as np;\n",
        "import matplotlib.pyplot as plt;\n",
        "import pandas as pd;\n",
        "from PIL import Image;"
      ]
    },
    {
      "cell_type": "code",
      "source": [
        "size = (224, 224)"
      ],
      "metadata": {
        "id": "R3HJ1nF5poDj"
      },
      "execution_count": 433,
      "outputs": []
    },
    {
      "cell_type": "code",
      "execution_count": 434,
      "metadata": {
        "id": "-hsQtaL1HuP2"
      },
      "outputs": [],
      "source": [
        "from keras.applications.vgg19 import VGG19;\n",
        "from keras.applications.vgg19 import preprocess_input;\n",
        "from keras.applications.resnet import ResNet50;\n",
        "\n",
        "base_model = VGG19(weights='imagenet', include_top=False)\n",
        "base_model.trainable = False\n",
        "\n",
        "for layer in base_model.layers:\n",
        "    layer.trainable = False\n",
        "\n",
        "resnet = ResNet50(weights='imagenet', include_top=False, input_shape=(size[0], size[1], 3))\n",
        "resnet.trainable = False\n",
        "\n",
        "for layer in resnet.layers:\n",
        "    layer.trainable = False\n",
        "\n"
      ]
    },
    {
      "cell_type": "code",
      "execution_count": 435,
      "metadata": {
        "colab": {
          "base_uri": "https://localhost:8080/"
        },
        "id": "DLQck5A0HuP3",
        "outputId": "9438df3b-34bc-40cb-a7c4-a5967fbc2ce3"
      },
      "outputs": [
        {
          "output_type": "stream",
          "name": "stdout",
          "text": [
            "Found 278 images belonging to 29 classes.\n",
            "Found 57 images belonging to 29 classes.\n",
            "Found 95 images belonging to 1 classes.\n"
          ]
        }
      ],
      "source": [
        "# Define TensorFlow Image Generator\n",
        "# (optional) - Data Augmentation by Changing the Parameters Here! ex. rotate, flip, zoom... transfer learning preprocessing fucntion\n",
        "\n",
        "from keras.preprocessing.image import ImageDataGenerator\n",
        "\n",
        "train_imageDataGen = ImageDataGenerator(preprocessing_function=preprocess_input)\n",
        "val_imageDataGen = ImageDataGenerator(preprocessing_function=preprocess_input)\n",
        "test_imageDataGen = ImageDataGenerator(preprocessing_function=preprocess_input)\n",
        "# Define Data Generator and set Data Directory\n",
        "\n",
        "\n",
        "train_gen = train_imageDataGen.flow_from_directory('data', target_size=size, shuffle=True)\n",
        "val_gen = val_imageDataGen.flow_from_directory('val', target_size=size, shuffle=False)\n",
        "test_gen = test_imageDataGen.flow_from_directory('.', classes=['test'], target_size=size, shuffle=False)"
      ]
    },
    {
      "cell_type": "code",
      "execution_count": 436,
      "metadata": {
        "id": "WfnzxdPJ3lrF"
      },
      "outputs": [],
      "source": [
        "# Define Model (Categorical Classfication for 29 Classes)\n",
        "# Here's a simple Artificial Neural Network that will perform extremely poorly\n",
        "# Try: Convolutional Neural Network\n",
        "# Try: Transfer Learning (refer to CIFAR-10 Notebook)\n",
        "\n",
        "# TIPS: \n",
        "# - Underfit, add more complexity... aka, more layers, more nodes\n",
        "# - Overfit, add regularization... aka, add Dropout, BatchNormalization, MaxPool, AveragePool...\n",
        "# - Make sure to Flatten at the end of the Neural Network before Dense\n",
        "\n",
        "# Input Image Size = 200 px x 200 px x 3 channels\n",
        "# Output Layer = 29 nodes \n",
        "\n",
        "model = keras.Sequential([\n",
        "    keras.layers.Lambda(lambda x: tf.image.resize_with_pad(x,  size[0], size[1])),\n",
        "    # resnet,\n",
        "    # keras.layers.Lambda(lambda x: tf.image.resize_with_pad(x, size[0], size[1])),\n",
        "    base_model,\n",
        "    keras.layers.Conv2D(size[0], 3),\n",
        "    keras.layers.Conv2D(size[0], 3),\n",
        "    keras.layers.Flatten(),\n",
        "    keras.layers.Dense(128, activation='elu'),\n",
        "    keras.layers.Dropout(0.4),\n",
        "    keras.layers.BatchNormalization(),\n",
        "    keras.layers.Dense(29, activation='softmax')\n",
        "])"
      ]
    },
    {
      "cell_type": "code",
      "execution_count": 437,
      "metadata": {
        "id": "KCLzQ_ZS3lrG"
      },
      "outputs": [],
      "source": [
        "# Compile Model\n",
        "model.compile(optimizer=\"adam\", loss=\"categorical_crossentropy\", metrics=[\"categorical_accuracy\"])"
      ]
    },
    {
      "cell_type": "code",
      "execution_count": 438,
      "metadata": {
        "id": "wqrGOfAzHuP7"
      },
      "outputs": [],
      "source": [
        "earlyStop = keras.callbacks.EarlyStopping(monitor='val_categorical_accuracy', patience=5, verbose=1, restore_best_weights=True)"
      ]
    },
    {
      "cell_type": "code",
      "execution_count": 439,
      "metadata": {
        "colab": {
          "base_uri": "https://localhost:8080/"
        },
        "id": "TPAZuTJP3lrG",
        "outputId": "a94ea688-0c0e-4bab-d32e-14c76ed0c22c"
      },
      "outputs": [
        {
          "output_type": "stream",
          "name": "stdout",
          "text": [
            "Epoch 1/1000\n",
            "9/9 [==============================] - 4s 295ms/step - loss: 2.4020 - categorical_accuracy: 0.3849 - val_loss: 0.5943 - val_categorical_accuracy: 0.8596\n",
            "Epoch 2/1000\n",
            "9/9 [==============================] - 2s 246ms/step - loss: 0.9307 - categorical_accuracy: 0.8489 - val_loss: 0.0563 - val_categorical_accuracy: 0.9649\n",
            "Epoch 3/1000\n",
            "9/9 [==============================] - 2s 234ms/step - loss: 0.4889 - categorical_accuracy: 0.9424 - val_loss: 0.0179 - val_categorical_accuracy: 1.0000\n",
            "Epoch 4/1000\n",
            "9/9 [==============================] - 2s 225ms/step - loss: 0.3200 - categorical_accuracy: 0.9712 - val_loss: 0.0117 - val_categorical_accuracy: 1.0000\n",
            "Epoch 5/1000\n",
            "9/9 [==============================] - 2s 226ms/step - loss: 0.1985 - categorical_accuracy: 1.0000 - val_loss: 0.0058 - val_categorical_accuracy: 1.0000\n",
            "Epoch 6/1000\n",
            "9/9 [==============================] - 2s 225ms/step - loss: 0.1484 - categorical_accuracy: 1.0000 - val_loss: 0.0057 - val_categorical_accuracy: 1.0000\n",
            "Epoch 7/1000\n",
            "9/9 [==============================] - 2s 227ms/step - loss: 0.1125 - categorical_accuracy: 1.0000 - val_loss: 0.0074 - val_categorical_accuracy: 1.0000\n",
            "Epoch 8/1000\n",
            "9/9 [==============================] - ETA: 0s - loss: 0.0910 - categorical_accuracy: 1.0000Restoring model weights from the end of the best epoch: 3.\n",
            "9/9 [==============================] - 2s 243ms/step - loss: 0.0910 - categorical_accuracy: 1.0000 - val_loss: 0.0065 - val_categorical_accuracy: 1.0000\n",
            "Epoch 8: early stopping\n"
          ]
        }
      ],
      "source": [
        "# Train Model\n",
        "history = model.fit(train_gen, validation_data = val_gen, epochs=1000, batch_size=1024, callbacks=[earlyStop])"
      ]
    },
    {
      "cell_type": "code",
      "execution_count": 440,
      "metadata": {
        "colab": {
          "base_uri": "https://localhost:8080/",
          "height": 282
        },
        "id": "a5lmjQgC3lrG",
        "outputId": "b3a1ed82-a9c1-48f0-a24c-eb6deca773b8"
      },
      "outputs": [
        {
          "output_type": "execute_result",
          "data": {
            "text/plain": [
              "[<matplotlib.lines.Line2D at 0x7f3837b77950>]"
            ]
          },
          "metadata": {},
          "execution_count": 440
        },
        {
          "output_type": "display_data",
          "data": {
            "text/plain": [
              "<Figure size 432x288 with 1 Axes>"
            ],
            "image/png": "[encoded data removed]"
          },
          "metadata": {
            "needs_background": "light"
          }
        }
      ],
      "source": [
        "# Plot and Evaluate\n",
        "plt.plot(history.history[\"categorical_accuracy\"], label='accuracy')\n",
        "plt.plot(history.history['val_categorical_accuracy'], label='val_accuracy')"
      ]
    },
    {
      "cell_type": "code",
      "execution_count": 441,
      "metadata": {
        "colab": {
          "base_uri": "https://localhost:8080/"
        },
        "id": "Ynbv8JxE3lrH",
        "outputId": "19690e47-dfc0-4016-d4a7-1caac1dec7c9"
      },
      "outputs": [
        {
          "output_type": "execute_result",
          "data": {
            "text/plain": [
              "array([[7.77608707e-12, 1.05547336e-07, 2.01394304e-10, ...,\n",
              "        7.35546138e-11, 1.65109697e-11, 1.73155379e-10],\n",
              "       [8.86577531e-04, 1.51510283e-01, 2.01373565e-04, ...,\n",
              "        9.26752295e-03, 7.25261629e-01, 3.02844914e-03],\n",
              "       [3.68854138e-08, 1.40282353e-07, 1.99899031e-08, ...,\n",
              "        2.13366178e-07, 4.63618406e-08, 7.25376736e-09],\n",
              "       ...,\n",
              "       [8.52939193e-05, 5.05542084e-05, 2.06899960e-04, ...,\n",
              "        4.91539249e-04, 2.52889066e-07, 4.10451699e-04],\n",
              "       [6.53172992e-06, 1.88225062e-08, 1.02501661e-04, ...,\n",
              "        2.26914858e-06, 7.52046603e-09, 4.61393812e-09],\n",
              "       [3.88461831e-06, 4.73980009e-07, 4.76987339e-07, ...,\n",
              "        4.13935453e-07, 7.34840189e-09, 5.12020009e-08]], dtype=float32)"
            ]
          },
          "metadata": {},
          "execution_count": 441
        }
      ],
      "source": [
        "# Make Test Prediction\n",
        "predict = model.predict(test_gen)\n",
        "predict"
      ]
    },
    {
      "cell_type": "code",
      "execution_count": 442,
      "metadata": {
        "colab": {
          "base_uri": "https://localhost:8080/"
        },
        "id": "Or97Y3vf3lrH",
        "outputId": "9c95b224-f6f8-4d20-a210-4453c33a55e3"
      },
      "outputs": [
        {
          "output_type": "execute_result",
          "data": {
            "text/plain": [
              "array([ 8, 27, 12, 22,  7,  6,  1, 22, 28, 25,  2,  9, 15, 17, 24, 14, 18,\n",
              "       17, 14, 26,  0, 14, 24, 26, 23,  7, 27, 16, 14, 28,  8,  4, 27, 23,\n",
              "       15, 11, 27, 26, 20, 23,  1, 15,  0, 16, 14,  7,  6,  2, 12, 13,  1,\n",
              "       23, 19,  2,  6, 28,  0, 25, 27, 16, 19,  0, 20, 13, 16, 15,  0,  2,\n",
              "        3, 15, 12, 11, 10, 13, 24, 21, 12,  3, 26, 20, 14,  2, 16, 25,  9,\n",
              "       10, 16, 20,  0, 10, 11,  6,  9,  6, 24])"
            ]
          },
          "metadata": {},
          "execution_count": 442
        }
      ],
      "source": [
        "# Find Most Likely Class for each Image\n",
        "prediction_id = np.argmax(predict, axis=1)\n",
        "prediction_id"
      ]
    },
    {
      "cell_type": "code",
      "execution_count": 443,
      "metadata": {
        "colab": {
          "base_uri": "https://localhost:8080/"
        },
        "id": "cXLsfUgY3lrH",
        "outputId": "cc55502d-f0ee-450d-e599-5557f39a8dd5"
      },
      "outputs": [
        {
          "output_type": "execute_result",
          "data": {
            "text/plain": [
              "{0: 'Alejandra',\n",
              " 1: 'Alessandro',\n",
              " 2: 'Anastasia',\n",
              " 3: 'Andrea Ran',\n",
              " 4: 'Anna',\n",
              " 5: 'Bruno',\n",
              " 6: 'Clarissa',\n",
              " 7: 'Daiane',\n",
              " 8: 'Diego',\n",
              " 9: 'Ewa',\n",
              " 10: 'Fernanda',\n",
              " 11: 'Gabriel',\n",
              " 12: 'Garret',\n",
              " 13: 'Juliana',\n",
              " 14: 'Kasia',\n",
              " 15: 'Kateryna',\n",
              " 16: 'Klara',\n",
              " 17: 'Luis',\n",
              " 18: 'Mark',\n",
              " 19: 'Massimiliano',\n",
              " 20: 'Matheus',\n",
              " 21: 'Miia',\n",
              " 22: 'Mykhailo',\n",
              " 23: 'Paolo',\n",
              " 24: 'Rayanne',\n",
              " 25: 'Romeo',\n",
              " 26: 'Valeriia',\n",
              " 27: 'Vitalijs',\n",
              " 28: 'Weslley'}"
            ]
          },
          "metadata": {},
          "execution_count": 443
        }
      ],
      "source": [
        "# Get Conversion Dictionary\n",
        "class_dict = train_gen.class_indices\n",
        "class_dict = {v: k for k, v in class_dict.items()}\n",
        "class_dict"
      ]
    },
    {
      "cell_type": "code",
      "execution_count": 444,
      "metadata": {
        "colab": {
          "base_uri": "https://localhost:8080/"
        },
        "id": "J446Iu7c3lrH",
        "outputId": "0507b5bb-ecdf-4223-8493-cc3accbcc65f"
      },
      "outputs": [
        {
          "output_type": "execute_result",
          "data": {
            "text/plain": [
              "['Diego',\n",
              " 'Vitalijs',\n",
              " 'Garret',\n",
              " 'Mykhailo',\n",
              " 'Daiane',\n",
              " 'Clarissa',\n",
              " 'Alessandro',\n",
              " 'Mykhailo',\n",
              " 'Weslley',\n",
              " 'Romeo',\n",
              " 'Anastasia',\n",
              " 'Ewa',\n",
              " 'Kateryna',\n",
              " 'Luis',\n",
              " 'Rayanne',\n",
              " 'Kasia',\n",
              " 'Mark',\n",
              " 'Luis',\n",
              " 'Kasia',\n",
              " 'Valeriia',\n",
              " 'Alejandra',\n",
              " 'Kasia',\n",
              " 'Rayanne',\n",
              " 'Valeriia',\n",
              " 'Paolo',\n",
              " 'Daiane',\n",
              " 'Vitalijs',\n",
              " 'Klara',\n",
              " 'Kasia',\n",
              " 'Weslley',\n",
              " 'Diego',\n",
              " 'Anna',\n",
              " 'Vitalijs',\n",
              " 'Paolo',\n",
              " 'Kateryna',\n",
              " 'Gabriel',\n",
              " 'Vitalijs',\n",
              " 'Valeriia',\n",
              " 'Matheus',\n",
              " 'Paolo',\n",
              " 'Alessandro',\n",
              " 'Kateryna',\n",
              " 'Alejandra',\n",
              " 'Klara',\n",
              " 'Kasia',\n",
              " 'Daiane',\n",
              " 'Clarissa',\n",
              " 'Anastasia',\n",
              " 'Garret',\n",
              " 'Juliana',\n",
              " 'Alessandro',\n",
              " 'Paolo',\n",
              " 'Massimiliano',\n",
              " 'Anastasia',\n",
              " 'Clarissa',\n",
              " 'Weslley',\n",
              " 'Alejandra',\n",
              " 'Romeo',\n",
              " 'Vitalijs',\n",
              " 'Klara',\n",
              " 'Massimiliano',\n",
              " 'Alejandra',\n",
              " 'Matheus',\n",
              " 'Juliana',\n",
              " 'Klara',\n",
              " 'Kateryna',\n",
              " 'Alejandra',\n",
              " 'Anastasia',\n",
              " 'Andrea Ran',\n",
              " 'Kateryna',\n",
              " 'Garret',\n",
              " 'Gabriel',\n",
              " 'Fernanda',\n",
              " 'Juliana',\n",
              " 'Rayanne',\n",
              " 'Miia',\n",
              " 'Garret',\n",
              " 'Andrea Ran',\n",
              " 'Valeriia',\n",
              " 'Matheus',\n",
              " 'Kasia',\n",
              " 'Anastasia',\n",
              " 'Klara',\n",
              " 'Romeo',\n",
              " 'Ewa',\n",
              " 'Fernanda',\n",
              " 'Klara',\n",
              " 'Matheus',\n",
              " 'Alejandra',\n",
              " 'Fernanda',\n",
              " 'Gabriel',\n",
              " 'Clarissa',\n",
              " 'Ewa',\n",
              " 'Clarissa',\n",
              " 'Rayanne']"
            ]
          },
          "metadata": {},
          "execution_count": 444
        }
      ],
      "source": [
        "# Convert Prediction Indices to Names\n",
        "prediction_name = []\n",
        "\n",
        "for id in prediction_id:\n",
        "    prediction_name.append(class_dict[id])\n",
        "\n",
        "prediction_name\n"
      ]
    },
    {
      "cell_type": "code",
      "execution_count": 445,
      "metadata": {
        "id": "YpJd-Xhu3lrI"
      },
      "outputs": [],
      "source": [
        "# Prep for Submission\n",
        "df = pd.DataFrame(prediction_name, columns=['name'])\n",
        "df.index.name = 'id'\n",
        "df.to_csv('submission.csv')"
      ]
    }
  ],
  "metadata": {
    "accelerator": "GPU",
    "colab": {
      "collapsed_sections": [],
      "name": "Competition_2_Facial_Recognition_Starter_Notebook_(STUDENT).ipynb",
      "provenance": []
    },
    "gpuClass": "standard",
    "kernelspec": {
      "display_name": "Python 3.10.6 ('venv': venv)",
      "language": "python",
      "name": "python3"
    },
    "language_info": {
      "codemirror_mode": {
        "name": "ipython",
        "version": 3
      },
      "file_extension": ".py",
      "mimetype": "text/x-python",
      "name": "python",
      "nbconvert_exporter": "python",
      "pygments_lexer": "ipython3",
      "version": "3.10.6"
    },
    "orig_nbformat": 4,
    "vscode": {
      "interpreter": {
        "hash": "f5ff2f5e56ef3133dccc8e09d46b0dc57e2f5d1229922630f6f4d17b9c4b64d3"
      }
    }
  },
  "nbformat": 4,
  "nbformat_minor": 0
}