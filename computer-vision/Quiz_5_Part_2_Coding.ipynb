{
  "cells": [
    {
      "cell_type": "markdown",
      "metadata": {
        "id": "rimCOQ2rGsbv"
      },
      "source": [
        "# Coding Quiz for L19-20 (13 Aug 2022)\n",
        "\n",
        "Please complete the following notebook and submit using the following link:\n",
        "\n",
        "https://forms.gle/jwBLDXJhN49miydZ7\n",
        "\n",
        "You have 30 mins for this quiz. Good luck! \n",
        "\n",
        "---\n",
        "\n",
        "**You are strongly recommended to run this notebook with GPUs.**\n",
        "\n",
        "*(For Google Colab users, select Runtime> Change runtime type > Hardware Accelerator > GPU)*"
      ]
    },
    {
      "cell_type": "markdown",
      "metadata": {
        "id": "woZ-RuSs4MnK"
      },
      "source": [
        "### Step 1: Import the following libraries\n",
        "- NumPy\n",
        "- keras (from tensorflow)\n",
        "- matplotlib.pyplot\n",
        "- sklearn\n",
        "\n",
        "[1 point]"
      ]
    },
    {
      "cell_type": "code",
      "execution_count": 16,
      "metadata": {
        "id": "sDb40RgCcbSG"
      },
      "outputs": [],
      "source": [
        "import numpy as np\n",
        "from tensorflow import keras\n",
        "import matplotlib.pyplot as plt\n",
        "import sklearn"
      ]
    },
    {
      "cell_type": "markdown",
      "metadata": {
        "id": "jabT5vFp4bwH"
      },
      "source": [
        "### Step 2: Load the MNIST dataset from keras.datasets\n",
        "\n",
        "[1 point]"
      ]
    },
    {
      "cell_type": "code",
      "execution_count": 17,
      "metadata": {
        "colab": {
          "base_uri": "https://localhost:8080/"
        },
        "id": "vBgWneeScbdJ",
        "outputId": "dc65e97b-6f32-4894-9266-bf4e30fde07a"
      },
      "outputs": [],
      "source": [
        "(x_train, y_train), (x_test, y_test) = keras.datasets.mnist.load_data()"
      ]
    },
    {
      "cell_type": "markdown",
      "metadata": {
        "id": "YCJgWFd2K-t4"
      },
      "source": [
        "*Hint: The data can only be loaded in the following format:*\n",
        "\n",
        "*(x train, y train), (x test, y test)*"
      ]
    },
    {
      "cell_type": "markdown",
      "metadata": {
        "id": "kEW0NuE35TKF"
      },
      "source": [
        "### Step 3: Print the first image in the training dataset\n",
        "\n",
        "[1 point]"
      ]
    },
    {
      "cell_type": "code",
      "execution_count": 18,
      "metadata": {
        "colab": {
          "base_uri": "https://localhost:8080/",
          "height": 298
        },
        "id": "YQcOI14dfbPj",
        "outputId": "d9b72e7f-d302-45be-8525-2551e65564b9"
      },
      "outputs": [
        {
          "data": {
            "text/plain": [
              "Text(0.5, 1.0, 'Digit: 5')"
            ]
          },
          "execution_count": 18,
          "metadata": {},
          "output_type": "execute_result"
        },
        {
          "data": {
            "image/png": "[encoded data removed]",
            "text/plain": [
              "<Figure size 432x288 with 1 Axes>"
            ]
          },
          "metadata": {
            "needs_background": "light"
          },
          "output_type": "display_data"
        }
      ],
      "source": [
        "plt.figure()\n",
        "plt.imshow(x_train[0])    \n",
        "plt.title(f'Digit: {y_train[0]}')"
      ]
    },
    {
      "cell_type": "markdown",
      "metadata": {
        "id": "cq86rxxjBC1t"
      },
      "source": [
        "**Sample output:**\n",
        "\n",
        "![download.png](data:image/png;base64,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)"
      ]
    },
    {
      "cell_type": "markdown",
      "metadata": {
        "id": "Zg9wrhXd5jqe"
      },
      "source": [
        "### Step 4:  Normalize the images in both training and testing datasets (rescale them to the range [0, 1])\n",
        "\n",
        "[1 point]"
      ]
    },
    {
      "cell_type": "code",
      "execution_count": 19,
      "metadata": {
        "id": "BBwYZJc0gDBt"
      },
      "outputs": [],
      "source": [
        "# Normalize the images in both training and testing datasets (rescale them to the range [0, 1])\n",
        "x_train = x_train / 255.0\n",
        "x_test = x_test / 255.0"
      ]
    },
    {
      "cell_type": "markdown",
      "metadata": {
        "id": "AEYO11Rz6IGD"
      },
      "source": [
        "*Hint: The images are currently represented as integers in the range of [0, 255]. Remember to convert them to floats before normalization*"
      ]
    },
    {
      "cell_type": "markdown",
      "metadata": {
        "id": "-cDLtWGJ6vIS"
      },
      "source": [
        "### Step 5: Reshape the images in both training and testing datasets to (28, 28, 1)\n",
        "\n",
        "[1 point]"
      ]
    },
    {
      "cell_type": "code",
      "execution_count": 20,
      "metadata": {
        "id": "eo1KY69EgLk1"
      },
      "outputs": [],
      "source": [
        "x_train2 = x_train.reshape(x_train.shape[0], 28, 28, 1)\n",
        "x_test2 = x_test.reshape(x_test.shape[0], 28, 28, 1)\n"
      ]
    },
    {
      "cell_type": "markdown",
      "metadata": {
        "id": "WPn8s1vq7N3t"
      },
      "source": [
        "### Step 6: Perform One-hot encoding on both training and testing labels\n",
        "\n",
        "[1 point]"
      ]
    },
    {
      "cell_type": "code",
      "execution_count": 21,
      "metadata": {
        "id": "ktob-mJCyvQK"
      },
      "outputs": [],
      "source": [
        "from sklearn.preprocessing import OneHotEncoder;\n",
        "encoder = OneHotEncoder()\n",
        "y_train2 = encoder.fit_transform(y_train.reshape(-1, 1)).toarray()\n",
        "y_test2 = encoder.transform(y_test.reshape(-1, 1)).toarray()"
      ]
    },
    {
      "cell_type": "markdown",
      "metadata": {
        "id": "xTfMnXtu9mn-"
      },
      "source": [
        "*Hint: There are 10 classes in the MNIST dataset*"
      ]
    },
    {
      "cell_type": "markdown",
      "metadata": {
        "id": "OUdg5ev-7fu6"
      },
      "source": [
        "### Step 7: Define a CNN model as follows:\n",
        "- Input layer of shape (28, 28, 1)\n",
        "- 2D convolution layer with 32 filters, kernel size (3,3), and relu activation\n",
        "- 2D max pooling layer with pooling size (2, 2)\n",
        "- 2D convolution layer with 64 filters, kernel size (3,3), and relu activation\n",
        "- 2D max pooling layer with pooling size (2, 2)\n",
        "- Flatten\n",
        "- Fully-connected layer with 100 units and relu activation\n",
        "- Dropout layer with dropout rate 0.2\n",
        "- Output layer with softmax activation\n",
        "\n",
        "[2 points]"
      ]
    },
    {
      "cell_type": "code",
      "execution_count": 22,
      "metadata": {
        "id": "9N2Wi_ZcyvSz"
      },
      "outputs": [],
      "source": [
        "input = keras.layers.Input((28, 28, 1));\n",
        "x = keras.layers.Conv2D(32, (3, 3), activation='relu')(input);\n",
        "x = keras.layers.MaxPool2D((2, 2))(x);\n",
        "x = keras.layers.Conv2D(64, (3, 3), activation='relu')(x);\n",
        "x = keras.layers.MaxPool2D((2, 2))(x);\n",
        "x = keras.layers.Flatten()(x);\n",
        "x = keras.layers.Dense(100, activation='relu')(x);\n",
        "x = keras.layers.Dropout(0.2)(x);\n",
        "output = keras.layers.Dense(10, activation='softmax')(x);\n",
        "\n",
        "model = keras.models.Model(input, output)"
      ]
    },
    {
      "cell_type": "markdown",
      "metadata": {
        "id": "lVO1qWHB9xOh"
      },
      "source": [
        "### Step 8: Print the model summary\n",
        "\n",
        "[1 point]"
      ]
    },
    {
      "cell_type": "code",
      "execution_count": 23,
      "metadata": {
        "colab": {
          "base_uri": "https://localhost:8080/"
        },
        "id": "NVGo4_vz0mkF",
        "outputId": "2054e005-34a0-4072-b787-d89090aeaebf"
      },
      "outputs": [
        {
          "name": "stdout",
          "output_type": "stream",
          "text": [
            "Model: \"model_1\"\n",
            "_________________________________________________________________\n",
            " Layer (type)                Output Shape              Param #   \n",
            "=================================================================\n",
            " input_2 (InputLayer)        [(None, 28, 28, 1)]       0         \n",
            "                                                                 \n",
            " conv2d_2 (Conv2D)           (None, 26, 26, 32)        320       \n",
            "                                                                 \n",
            " max_pooling2d_2 (MaxPooling  (None, 13, 13, 32)       0         \n",
            " 2D)                                                             \n",
            "                                                                 \n",
            " conv2d_3 (Conv2D)           (None, 11, 11, 64)        18496     \n",
            "                                                                 \n",
            " max_pooling2d_3 (MaxPooling  (None, 5, 5, 64)         0         \n",
            " 2D)                                                             \n",
            "                                                                 \n",
            " flatten_1 (Flatten)         (None, 1600)              0         \n",
            "                                                                 \n",
            " dense_2 (Dense)             (None, 100)               160100    \n",
            "                                                                 \n",
            " dropout_1 (Dropout)         (None, 100)               0         \n",
            "                                                                 \n",
            " dense_3 (Dense)             (None, 10)                1010      \n",
            "                                                                 \n",
            "=================================================================\n",
            "Total params: 179,926\n",
            "Trainable params: 179,926\n",
            "Non-trainable params: 0\n",
            "_________________________________________________________________\n"
          ]
        }
      ],
      "source": [
        "model.summary()"
      ]
    },
    {
      "cell_type": "markdown",
      "metadata": {
        "id": "w2P2UlL9BOoa"
      },
      "source": [
        "**Sample Output:**\n",
        "\n",
        "![Screenshot (283).png](data:image/png;base64,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)"
      ]
    },
    {
      "cell_type": "markdown",
      "metadata": {
        "id": "21rb4O6I90oV"
      },
      "source": [
        "### Step 9: Compile the model using Adam as the optimizer, categorical crossentropy loss as the loss function, and categorical accuracy as the evaluation metric\n",
        "\n",
        "[1 point]"
      ]
    },
    {
      "cell_type": "code",
      "execution_count": 24,
      "metadata": {
        "id": "OkT8vnVRyvVW"
      },
      "outputs": [],
      "source": [
        "model.compile(optimizer='adam', loss='categorical_crossentropy', metrics=['categorical_accuracy'])"
      ]
    },
    {
      "cell_type": "markdown",
      "metadata": {
        "id": "6_48t_yE-WAR"
      },
      "source": [
        "### Step 10: Train the model using training data for 5 epochs with batch size 64\n",
        "\n",
        "You should also split 10% of the training data for validation\n",
        "\n",
        "Remember to save the losses and accuracies during training\n",
        "\n",
        "[1 point]"
      ]
    },
    {
      "cell_type": "code",
      "execution_count": 25,
      "metadata": {
        "colab": {
          "base_uri": "https://localhost:8080/"
        },
        "id": "Vx8YYadpyvYB",
        "outputId": "0f5f297a-5a02-40d3-d61c-6e60ce540365"
      },
      "outputs": [
        {
          "name": "stdout",
          "output_type": "stream",
          "text": [
            "Epoch 1/5\n",
            "938/938 [==============================] - 49s 52ms/step - loss: 0.1916 - categorical_accuracy: 0.9432 - val_loss: 0.0520 - val_categorical_accuracy: 0.9837\n",
            "Epoch 2/5\n",
            "938/938 [==============================] - 47s 50ms/step - loss: 0.0603 - categorical_accuracy: 0.9818 - val_loss: 0.0362 - val_categorical_accuracy: 0.9880\n",
            "Epoch 3/5\n",
            "938/938 [==============================] - 48s 51ms/step - loss: 0.0429 - categorical_accuracy: 0.9871 - val_loss: 0.0332 - val_categorical_accuracy: 0.9885\n",
            "Epoch 4/5\n",
            "938/938 [==============================] - 46s 50ms/step - loss: 0.0330 - categorical_accuracy: 0.9898 - val_loss: 0.0295 - val_categorical_accuracy: 0.9897\n",
            "Epoch 5/5\n",
            "938/938 [==============================] - 46s 50ms/step - loss: 0.0283 - categorical_accuracy: 0.9907 - val_loss: 0.0284 - val_categorical_accuracy: 0.9906\n"
          ]
        }
      ],
      "source": [
        "history = model.fit(x_train2, y_train2, epochs=5, validation_data=(x_test2, y_test2), batch_size=64)"
      ]
    },
    {
      "cell_type": "markdown",
      "metadata": {
        "id": "2F_P3D_V_Ddt"
      },
      "source": [
        "### Step 11: Plot the training and validation accuracies as a line graph\n",
        "\n",
        "[1 point]"
      ]
    },
    {
      "cell_type": "code",
      "execution_count": 26,
      "metadata": {
        "colab": {
          "base_uri": "https://localhost:8080/",
          "height": 282
        },
        "id": "TARfyFRpzfl5",
        "outputId": "14b3b4c8-4278-49ad-f309-07ae9cefa671"
      },
      "outputs": [
        {
          "data": {
            "text/plain": [
              "<matplotlib.legend.Legend at 0x7f5a4af53e50>"
            ]
          },
          "execution_count": 26,
          "metadata": {},
          "output_type": "execute_result"
        },
        {
          "data": {
            "image/png": "[encoded data removed]",
            "text/plain": [
              "<Figure size 432x288 with 1 Axes>"
            ]
          },
          "metadata": {
            "needs_background": "light"
          },
          "output_type": "display_data"
        }
      ],
      "source": [
        "# Plot and Evaluate the Model\n",
        "plt.plot(history.history['categorical_accuracy'])\n",
        "plt.plot(history.history['val_categorical_accuracy'])\n",
        "plt.legend('accuracy')\n",
        "plt.legend('val_accuracy')"
      ]
    },
    {
      "cell_type": "markdown",
      "metadata": {
        "id": "ZdsKlna_C3W8"
      },
      "source": [
        "**Sample output:**\n",
        "\n",
        "![download.png](data:image/png;base64,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)"
      ]
    },
    {
      "cell_type": "markdown",
      "metadata": {
        "id": "80ZPTxOL_l7L"
      },
      "source": [
        "### Step 12: Evaluate the model using testing data\n",
        "Print the loss and accuracy\n",
        "\n",
        "[1 point]"
      ]
    },
    {
      "cell_type": "code",
      "execution_count": 27,
      "metadata": {
        "colab": {
          "base_uri": "https://localhost:8080/"
        },
        "id": "OulDbJ_FzfjT",
        "outputId": "99210da1-14a9-4558-f788-6a805e19363d"
      },
      "outputs": [
        {
          "name": "stdout",
          "output_type": "stream",
          "text": [
            "0.9906\n",
            "[2.0802237e-05 1.5974172e-05 9.5367886e-06 ... 1.1920930e-07 4.2671277e-03\n",
            " 1.1920930e-07]\n"
          ]
        }
      ],
      "source": [
        "from sklearn.metrics import accuracy_score, f1_score\n",
        "# Let's Predict and Take a Look at the Output\n",
        "predict = model.predict(x_test2)\n",
        "predictions = np.argmax(predict, axis=1)\n",
        "labels = np.argmax(y_test2, axis=1)\n",
        "\n",
        "print(accuracy_score(labels, predictions))\n",
        "\n",
        "# get categorical cross entropy loss\n",
        "print(keras.losses.categorical_crossentropy(y_test2, predict, axis=1).numpy())"
      ]
    },
    {
      "cell_type": "markdown",
      "metadata": {
        "id": "BIcBmGO6C7zh"
      },
      "source": [
        "**Sample Output:**\n",
        "\n",
        "Test loss: 0.02639956586062908\n",
        "\n",
        "Test accuracy: 0.9904000163078308"
      ]
    },
    {
      "cell_type": "markdown",
      "metadata": {
        "id": "0NjxZRs9AYX0"
      },
      "source": [
        "### Step 13: Generate predictions on the testing data\n",
        "\n",
        "[1 point]"
      ]
    },
    {
      "cell_type": "code",
      "execution_count": 28,
      "metadata": {
        "colab": {
          "base_uri": "https://localhost:8080/"
        },
        "id": "iuKyZgz71iwk",
        "outputId": "b456d406-747b-44f8-9d4c-f8159b310241"
      },
      "outputs": [
        {
          "data": {
            "text/plain": [
              "array([7, 2, 1, ..., 4, 5, 6])"
            ]
          },
          "execution_count": 28,
          "metadata": {},
          "output_type": "execute_result"
        }
      ],
      "source": [
        "predictions"
      ]
    },
    {
      "cell_type": "markdown",
      "metadata": {
        "id": "nr5e-B2-CH5k"
      },
      "source": [
        "### Step 14: Evaluate the predictions using macro F1 score\n",
        "\n",
        "[1 point]"
      ]
    },
    {
      "cell_type": "code",
      "execution_count": 29,
      "metadata": {
        "colab": {
          "base_uri": "https://localhost:8080/"
        },
        "id": "m9RA7hbd25ON",
        "outputId": "42ab81e3-9ed4-46bc-85b6-dc695e40a7eb"
      },
      "outputs": [
        {
          "name": "stdout",
          "output_type": "stream",
          "text": [
            "0.9905166299261008\n"
          ]
        }
      ],
      "source": [
        "print(f1_score(labels, predictions, average='macro'))"
      ]
    },
    {
      "cell_type": "markdown",
      "metadata": {
        "id": "ijgqLpB7DAcj"
      },
      "source": [
        "*Hint: Remeber to convert the predictions and one-hot encoded labels back to class labels before calculating the macro F1 score*"
      ]
    },
    {
      "cell_type": "markdown",
      "metadata": {
        "id": "NYcZ_MwnDWbF"
      },
      "source": [
        "**Sample Output:**\n",
        "\n",
        "Macro F1 score: 0.9902870778760697"
      ]
    },
    {
      "cell_type": "markdown",
      "metadata": {
        "id": "FI_9yObCHArM"
      },
      "source": [
        "## End of Quiz! 👏\n",
        "## Remember to save th output and submit your notebook!"
      ]
    }
  ],
  "metadata": {
    "accelerator": "GPU",
    "colab": {
      "collapsed_sections": [],
      "name": "Quiz_5_Part_2_Coding.ipynb",
      "provenance": []
    },
    "gpuClass": "standard",
    "kernelspec": {
      "display_name": "Python 3",
      "language": "python",
      "name": "python3"
    },
    "language_info": {
      "codemirror_mode": {
        "name": "ipython",
        "version": 3
      },
      "file_extension": ".py",
      "mimetype": "text/x-python",
      "name": "python",
      "nbconvert_exporter": "python",
      "pygments_lexer": "ipython3",
      "version": "3.7.13"
    },
    "vscode": {
      "interpreter": {
        "hash": "f5ff2f5e56ef3133dccc8e09d46b0dc57e2f5d1229922630f6f4d17b9c4b64d3"
      }
    }
  },
  "nbformat": 4,
  "nbformat_minor": 0
}
