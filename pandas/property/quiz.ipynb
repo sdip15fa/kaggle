{
 "cells": [
  {
   "cell_type": "markdown",
   "metadata": {},
   "source": [
    "This is a quiz that you can apply the pandas skills learned this lesson\n",
    "\n",
    "your task is to calculate the average price of every building location with transactions since 2015\n",
    "\n",
    "the output should be sorted by average price from large value to small value"
   ]
  },
  {
   "cell_type": "code",
   "execution_count": 15,
   "metadata": {},
   "outputs": [
    {
     "name": "stderr",
     "output_type": "stream",
     "text": [
      "/tmp/ipykernel_77647/2950028029.py:2: DtypeWarning: Columns (6) have mixed types. Specify dtype option on import or set low_memory=False.\n",
      "  properties = pd.read_csv(\"properties.csv\")\n"
     ]
    }
   ],
   "source": [
    "import pandas as pd\n",
    "properties = pd.read_csv(\"properties.csv\")"
   ]
  },
  {
   "cell_type": "code",
   "execution_count": 30,
   "metadata": {},
   "outputs": [
    {
     "data": {
      "text/html": [
       "<div>\n",
       "<style scoped>\n",
       "    .dataframe tbody tr th:only-of-type {\n",
       "        vertical-align: middle;\n",
       "    }\n",
       "\n",
       "    .dataframe tbody tr th {\n",
       "        vertical-align: top;\n",
       "    }\n",
       "\n",
       "    .dataframe thead th {\n",
       "        text-align: right;\n",
       "    }\n",
       "</style>\n",
       "<table border=\"1\" class=\"dataframe\">\n",
       "  <thead>\n",
       "    <tr style=\"text-align: right;\">\n",
       "      <th></th>\n",
       "      <th>building_unit_type</th>\n",
       "      <th>building_location</th>\n",
       "      <th>building_estate</th>\n",
       "      <th>district</th>\n",
       "      <th>longitude</th>\n",
       "      <th>latitude</th>\n",
       "      <th>building_floor</th>\n",
       "      <th>building_unit</th>\n",
       "      <th>building_net_area</th>\n",
       "      <th>building_gross_area</th>\n",
       "      <th>building_price_hkd</th>\n",
       "      <th>price_per_net_area</th>\n",
       "      <th>price_per_gross_area</th>\n",
       "      <th>transaction_date</th>\n",
       "      <th>change_from_pervious_transaction</th>\n",
       "      <th>date_of_previous_transaction</th>\n",
       "    </tr>\n",
       "  </thead>\n",
       "  <tbody>\n",
       "    <tr>\n",
       "      <th>0</th>\n",
       "      <td>B000000014</td>\n",
       "      <td>Taikoo Shing</td>\n",
       "      <td>Fu Tien Mansion</td>\n",
       "      <td>EST</td>\n",
       "      <td>114.2175</td>\n",
       "      <td>22.2871</td>\n",
       "      <td>26</td>\n",
       "      <td>A</td>\n",
       "      <td>787</td>\n",
       "      <td>-</td>\n",
       "      <td>1165</td>\n",
       "      <td>14,806</td>\n",
       "      <td>-</td>\n",
       "      <td>2016-08-25</td>\n",
       "      <td>+86.4%</td>\n",
       "      <td>1996-11-26</td>\n",
       "    </tr>\n",
       "    <tr>\n",
       "      <th>2</th>\n",
       "      <td>B000000014</td>\n",
       "      <td>Taikoo Shing</td>\n",
       "      <td>Fu Tien Mansion</td>\n",
       "      <td>EST</td>\n",
       "      <td>114.2175</td>\n",
       "      <td>22.2871</td>\n",
       "      <td>26</td>\n",
       "      <td>B</td>\n",
       "      <td>624</td>\n",
       "      <td>-</td>\n",
       "      <td>22</td>\n",
       "      <td>352</td>\n",
       "      <td>-</td>\n",
       "      <td>2016-11-28</td>\n",
       "      <td>-96.6%</td>\n",
       "      <td>2011-08-22</td>\n",
       "    </tr>\n",
       "    <tr>\n",
       "      <th>13</th>\n",
       "      <td>B000000014</td>\n",
       "      <td>Taikoo Shing</td>\n",
       "      <td>Fu Tien Mansion</td>\n",
       "      <td>EST</td>\n",
       "      <td>114.2175</td>\n",
       "      <td>22.2871</td>\n",
       "      <td>26</td>\n",
       "      <td>F</td>\n",
       "      <td>716</td>\n",
       "      <td>-</td>\n",
       "      <td>1200</td>\n",
       "      <td>16,764</td>\n",
       "      <td>-</td>\n",
       "      <td>2017-01-17</td>\n",
       "      <td>+46.3%</td>\n",
       "      <td>2011-03-09</td>\n",
       "    </tr>\n",
       "    <tr>\n",
       "      <th>17</th>\n",
       "      <td>B000000014</td>\n",
       "      <td>Taikoo Shing</td>\n",
       "      <td>Fu Tien Mansion</td>\n",
       "      <td>EST</td>\n",
       "      <td>114.2175</td>\n",
       "      <td>22.2871</td>\n",
       "      <td>26</td>\n",
       "      <td>G</td>\n",
       "      <td>716</td>\n",
       "      <td>-</td>\n",
       "      <td>1380</td>\n",
       "      <td>19,279</td>\n",
       "      <td>-</td>\n",
       "      <td>2016-10-26</td>\n",
       "      <td>NaN</td>\n",
       "      <td>NaN</td>\n",
       "    </tr>\n",
       "    <tr>\n",
       "      <th>23</th>\n",
       "      <td>B000000014</td>\n",
       "      <td>Taikoo Shing</td>\n",
       "      <td>Fu Tien Mansion</td>\n",
       "      <td>EST</td>\n",
       "      <td>114.2175</td>\n",
       "      <td>22.2871</td>\n",
       "      <td>25</td>\n",
       "      <td>D</td>\n",
       "      <td>685</td>\n",
       "      <td>876</td>\n",
       "      <td>1328</td>\n",
       "      <td>19,398</td>\n",
       "      <td>15,160</td>\n",
       "      <td>2018-03-19</td>\n",
       "      <td>+138.0%</td>\n",
       "      <td>1996-12-17</td>\n",
       "    </tr>\n",
       "  </tbody>\n",
       "</table>\n",
       "</div>"
      ],
      "text/plain": [
       "   building_unit_type building_location  building_estate district  longitude  \\\n",
       "0          B000000014      Taikoo Shing  Fu Tien Mansion      EST   114.2175   \n",
       "2          B000000014      Taikoo Shing  Fu Tien Mansion      EST   114.2175   \n",
       "13         B000000014      Taikoo Shing  Fu Tien Mansion      EST   114.2175   \n",
       "17         B000000014      Taikoo Shing  Fu Tien Mansion      EST   114.2175   \n",
       "23         B000000014      Taikoo Shing  Fu Tien Mansion      EST   114.2175   \n",
       "\n",
       "    latitude building_floor building_unit building_net_area  \\\n",
       "0    22.2871             26             A               787   \n",
       "2    22.2871             26             B               624   \n",
       "13   22.2871             26             F               716   \n",
       "17   22.2871             26             G               716   \n",
       "23   22.2871             25             D               685   \n",
       "\n",
       "   building_gross_area  building_price_hkd price_per_net_area  \\\n",
       "0                    -                1165             14,806   \n",
       "2                    -                  22                352   \n",
       "13                   -                1200             16,764   \n",
       "17                   -                1380             19,279   \n",
       "23                 876                1328             19,398   \n",
       "\n",
       "   price_per_gross_area transaction_date change_from_pervious_transaction  \\\n",
       "0                     -       2016-08-25                           +86.4%   \n",
       "2                     -       2016-11-28                           -96.6%   \n",
       "13                    -       2017-01-17                           +46.3%   \n",
       "17                    -       2016-10-26                              NaN   \n",
       "23               15,160       2018-03-19                          +138.0%   \n",
       "\n",
       "   date_of_previous_transaction  \n",
       "0                    1996-11-26  \n",
       "2                    2011-08-22  \n",
       "13                   2011-03-09  \n",
       "17                          NaN  \n",
       "23                   1996-12-17  "
      ]
     },
     "execution_count": 30,
     "metadata": {},
     "output_type": "execute_result"
    }
   ],
   "source": [
    "since2015 = properties.loc[pd.to_numeric(properties.transaction_date.map(lambda date: date.split(\"-\")[0])) >= 2015]\n",
    "since2015.head()"
   ]
  },
  {
   "cell_type": "code",
   "execution_count": 36,
   "metadata": {},
   "outputs": [],
   "source": [
    "average = since2015.groupby(\"building_location\")[\"building_price_hkd\"].mean().rename(\"building_price_hkd_mean\")\n",
    "average.sort_values(ascending=False).to_csv(\"quiz1.csv\")"
   ]
  },
  {
   "cell_type": "code",
   "execution_count": 39,
   "metadata": {},
   "outputs": [
    {
     "data": {
      "text/plain": [
       "<pandas.core.groupby.generic.SeriesGroupBy object at 0x7f7341885870>"
      ]
     },
     "execution_count": 39,
     "metadata": {},
     "output_type": "execute_result"
    }
   ],
   "source": [
    "average = since2015.groupby(\"building_location\")[\"building_price_hkd\"]\n",
    "average"
   ]
  }
 ],
 "metadata": {
  "interpreter": {
   "hash": "f5ff2f5e56ef3133dccc8e09d46b0dc57e2f5d1229922630f6f4d17b9c4b64d3"
  },
  "kernelspec": {
   "display_name": "Python 3.10.5 ('venv': venv)",
   "language": "python",
   "name": "python3"
  },
  "language_info": {
   "codemirror_mode": {
    "name": "ipython",
    "version": 3
   },
   "file_extension": ".py",
   "mimetype": "text/x-python",
   "name": "python",
   "nbconvert_exporter": "python",
   "pygments_lexer": "ipython3",
   "version": "3.10.5"
  },
  "orig_nbformat": 4
 },
 "nbformat": 4,
 "nbformat_minor": 2
}
