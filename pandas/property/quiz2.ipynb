{
 "cells": [
  {
   "cell_type": "markdown",
   "metadata": {
    "pycharm": {
     "name": "#%% md\n"
    }
   },
   "source": [
    "# Quiz 2\n",
    "\n",
    "This is a quiz that you can apply the pandas skills learned this lesson\n",
    "\n",
    "your task to calculated the price of every transaction, standardized by groupings of building location since 2015\n",
    "\n",
    "https://en.wikipedia.org/wiki/Standardization\n",
    "\n",
    "example :\n",
    "\n",
    "for the first record of data,\n",
    "\n",
    "the buildingpricehkd is 1165 and the building_location is Taikoo Shing\n",
    "\n",
    "the mean of transaction price for Taikoo Shing is 1152.912151 and\n",
    "the standard deviation of transaction price for Taikoo Shing is 413.899735\n",
    "\n",
    "the first value you should return is\n",
    "(1165 - 1152.912151) / 413.899735 = 0.029205\n",
    "\n",
    "the output should be ordered by original index value\n"
   ]
  },
  {
   "cell_type": "code",
   "execution_count": 1,
   "metadata": {
    "pycharm": {
     "name": "#%%\n"
    }
   },
   "outputs": [
    {
     "name": "stderr",
     "output_type": "stream",
     "text": [
      "/tmp/ipykernel_320395/3754286840.py:2: DtypeWarning: Columns (6) have mixed types. Specify dtype option on import or set low_memory=False.\n",
      "  properties = pd.read_csv(\"properties.csv\")\n"
     ]
    },
    {
     "data": {
      "text/html": [
       "<div>\n",
       "<style scoped>\n",
       "    .dataframe tbody tr th:only-of-type {\n",
       "        vertical-align: middle;\n",
       "    }\n",
       "\n",
       "    .dataframe tbody tr th {\n",
       "        vertical-align: top;\n",
       "    }\n",
       "\n",
       "    .dataframe thead th {\n",
       "        text-align: right;\n",
       "    }\n",
       "</style>\n",
       "<table border=\"1\" class=\"dataframe\">\n",
       "  <thead>\n",
       "    <tr style=\"text-align: right;\">\n",
       "      <th></th>\n",
       "      <th>building_unit_type</th>\n",
       "      <th>building_location</th>\n",
       "      <th>building_estate</th>\n",
       "      <th>district</th>\n",
       "      <th>longitude</th>\n",
       "      <th>latitude</th>\n",
       "      <th>building_floor</th>\n",
       "      <th>building_unit</th>\n",
       "      <th>building_net_area</th>\n",
       "      <th>building_gross_area</th>\n",
       "      <th>building_price_hkd</th>\n",
       "      <th>price_per_net_area</th>\n",
       "      <th>price_per_gross_area</th>\n",
       "      <th>transaction_date</th>\n",
       "      <th>change_from_pervious_transaction</th>\n",
       "      <th>date_of_previous_transaction</th>\n",
       "    </tr>\n",
       "  </thead>\n",
       "  <tbody>\n",
       "    <tr>\n",
       "      <th>0</th>\n",
       "      <td>B000000014</td>\n",
       "      <td>Taikoo Shing</td>\n",
       "      <td>Fu Tien Mansion</td>\n",
       "      <td>EST</td>\n",
       "      <td>114.2175</td>\n",
       "      <td>22.2871</td>\n",
       "      <td>26</td>\n",
       "      <td>A</td>\n",
       "      <td>787</td>\n",
       "      <td>-</td>\n",
       "      <td>1165</td>\n",
       "      <td>14,806</td>\n",
       "      <td>-</td>\n",
       "      <td>2016-08-25</td>\n",
       "      <td>+86.4%</td>\n",
       "      <td>1996-11-26</td>\n",
       "    </tr>\n",
       "    <tr>\n",
       "      <th>1</th>\n",
       "      <td>B000000014</td>\n",
       "      <td>Taikoo Shing</td>\n",
       "      <td>Fu Tien Mansion</td>\n",
       "      <td>EST</td>\n",
       "      <td>114.2175</td>\n",
       "      <td>22.2871</td>\n",
       "      <td>26</td>\n",
       "      <td>A</td>\n",
       "      <td>787</td>\n",
       "      <td>-</td>\n",
       "      <td>625</td>\n",
       "      <td>7,943</td>\n",
       "      <td>-</td>\n",
       "      <td>1996-11-26</td>\n",
       "      <td>NaN</td>\n",
       "      <td>NaN</td>\n",
       "    </tr>\n",
       "    <tr>\n",
       "      <th>2</th>\n",
       "      <td>B000000014</td>\n",
       "      <td>Taikoo Shing</td>\n",
       "      <td>Fu Tien Mansion</td>\n",
       "      <td>EST</td>\n",
       "      <td>114.2175</td>\n",
       "      <td>22.2871</td>\n",
       "      <td>26</td>\n",
       "      <td>B</td>\n",
       "      <td>624</td>\n",
       "      <td>-</td>\n",
       "      <td>22</td>\n",
       "      <td>352</td>\n",
       "      <td>-</td>\n",
       "      <td>2016-11-28</td>\n",
       "      <td>-96.6%</td>\n",
       "      <td>2011-08-22</td>\n",
       "    </tr>\n",
       "    <tr>\n",
       "      <th>3</th>\n",
       "      <td>B000000014</td>\n",
       "      <td>Taikoo Shing</td>\n",
       "      <td>Fu Tien Mansion</td>\n",
       "      <td>EST</td>\n",
       "      <td>114.2175</td>\n",
       "      <td>22.2871</td>\n",
       "      <td>26</td>\n",
       "      <td>B</td>\n",
       "      <td>624</td>\n",
       "      <td>-</td>\n",
       "      <td>647</td>\n",
       "      <td>10,360</td>\n",
       "      <td>-</td>\n",
       "      <td>2011-08-22</td>\n",
       "      <td>+7.8%</td>\n",
       "      <td>1997-04-14</td>\n",
       "    </tr>\n",
       "    <tr>\n",
       "      <th>4</th>\n",
       "      <td>B000000014</td>\n",
       "      <td>Taikoo Shing</td>\n",
       "      <td>Fu Tien Mansion</td>\n",
       "      <td>EST</td>\n",
       "      <td>114.2175</td>\n",
       "      <td>22.2871</td>\n",
       "      <td>26</td>\n",
       "      <td>B</td>\n",
       "      <td>624</td>\n",
       "      <td>-</td>\n",
       "      <td>600</td>\n",
       "      <td>9,611</td>\n",
       "      <td>-</td>\n",
       "      <td>1997-04-14</td>\n",
       "      <td>+25.0%</td>\n",
       "      <td>1996-11-26</td>\n",
       "    </tr>\n",
       "  </tbody>\n",
       "</table>\n",
       "</div>"
      ],
      "text/plain": [
       "  building_unit_type building_location  building_estate district  longitude  \\\n",
       "0         B000000014      Taikoo Shing  Fu Tien Mansion      EST   114.2175   \n",
       "1         B000000014      Taikoo Shing  Fu Tien Mansion      EST   114.2175   \n",
       "2         B000000014      Taikoo Shing  Fu Tien Mansion      EST   114.2175   \n",
       "3         B000000014      Taikoo Shing  Fu Tien Mansion      EST   114.2175   \n",
       "4         B000000014      Taikoo Shing  Fu Tien Mansion      EST   114.2175   \n",
       "\n",
       "   latitude building_floor building_unit building_net_area  \\\n",
       "0   22.2871             26             A               787   \n",
       "1   22.2871             26             A               787   \n",
       "2   22.2871             26             B               624   \n",
       "3   22.2871             26             B               624   \n",
       "4   22.2871             26             B               624   \n",
       "\n",
       "  building_gross_area  building_price_hkd price_per_net_area  \\\n",
       "0                   -                1165             14,806   \n",
       "1                   -                 625              7,943   \n",
       "2                   -                  22                352   \n",
       "3                   -                 647             10,360   \n",
       "4                   -                 600              9,611   \n",
       "\n",
       "  price_per_gross_area transaction_date change_from_pervious_transaction  \\\n",
       "0                    -       2016-08-25                           +86.4%   \n",
       "1                    -       1996-11-26                              NaN   \n",
       "2                    -       2016-11-28                           -96.6%   \n",
       "3                    -       2011-08-22                            +7.8%   \n",
       "4                    -       1997-04-14                           +25.0%   \n",
       "\n",
       "  date_of_previous_transaction  \n",
       "0                   1996-11-26  \n",
       "1                          NaN  \n",
       "2                   2011-08-22  \n",
       "3                   1997-04-14  \n",
       "4                   1996-11-26  "
      ]
     },
     "execution_count": 1,
     "metadata": {},
     "output_type": "execute_result"
    }
   ],
   "source": [
    "import pandas as pd\n",
    "properties = pd.read_csv(\"properties.csv\")\n",
    "properties.head()\n"
   ]
  },
  {
   "cell_type": "code",
   "execution_count": 2,
   "metadata": {
    "pycharm": {
     "name": "#%%\n"
    }
   },
   "outputs": [],
   "source": [
    "filtered = properties.loc[properties.transaction_date.map(\n",
    "    lambda date: int(date.split(\"-\")[0]) >= 2015)]\n",
    "mean = filtered.groupby([\"building_location\"])[\"building_price_hkd\"].mean()\n",
    "dev = filtered.groupby([\"building_location\"])[\"building_price_hkd\"].std()\n"
   ]
  },
  {
   "cell_type": "markdown",
   "metadata": {
    "pycharm": {
     "name": "#%% md\n"
    }
   },
   "source": [
    "get mean of the building_location as in the first building\n"
   ]
  },
  {
   "cell_type": "code",
   "execution_count": 3,
   "metadata": {
    "pycharm": {
     "is_executing": true,
     "name": "#%%\n"
    }
   },
   "outputs": [
    {
     "name": "stdout",
     "output_type": "stream",
     "text": [
      "The Lodge 465 465.0 nan\n",
      "The Morning Glory 1155 1155.0 nan\n"
     ]
    }
   ],
   "source": [
    "arr = []\n",
    "for i in range(len(filtered)):\n",
    "    row = filtered.iloc[i]\n",
    "    value = (row.building_price_hkd -\n",
    "             mean[row.building_location]) / dev[row.building_location]\n",
    "    arr.append(value if not pd.isna(value) else 0)\n",
    "    if pd.isna(value):\n",
    "        print(row.building_location, row.building_price_hkd,\n",
    "              mean[row.building_location], dev[row.building_location])\n",
    "\n",
    "pd.Series(arr, name=\"building_price_hkd_standardized\",\n",
    "          ).to_csv(\"quiz2.csv\")\n",
    "# filtered.loc[:, [\"building_price_hkd\", \"building_location\"]].applymap(\n",
    "#  lambda x: (filter.building_price_hkd - mean[x.building_location]) / dev[x.building_location])\n"
   ]
  },
  {
   "cell_type": "code",
   "execution_count": 4,
   "metadata": {
    "collapsed": false,
    "pycharm": {
     "name": "#%%\n"
    }
   },
   "outputs": [
    {
     "data": {
      "text/plain": [
       "0"
      ]
     },
     "execution_count": 4,
     "metadata": {},
     "output_type": "execute_result"
    }
   ],
   "source": [
    "arr[22292]"
   ]
  }
 ],
 "metadata": {
  "interpreter": {
   "hash": "f5ff2f5e56ef3133dccc8e09d46b0dc57e2f5d1229922630f6f4d17b9c4b64d3"
  },
  "kernelspec": {
   "display_name": "Python 3.10.5 ('venv': venv)",
   "language": "python",
   "name": "python3"
  },
  "language_info": {
   "codemirror_mode": {
    "name": "ipython",
    "version": 3
   },
   "file_extension": ".py",
   "mimetype": "text/x-python",
   "name": "python",
   "nbconvert_exporter": "python",
   "pygments_lexer": "ipython3",
   "version": "3.10.5"
  },
  "orig_nbformat": 4
 },
 "nbformat": 4,
 "nbformat_minor": 2
}
