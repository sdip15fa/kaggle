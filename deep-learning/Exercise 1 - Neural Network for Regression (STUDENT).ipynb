{
 "cells": [
  {
   "cell_type": "markdown",
   "metadata": {},
   "source": [
    "## Traditional Machine Learning vs Artificial Neural Network for Regression (STUDENT)\n",
    "Billy Hau (7/18/2022)\n",
    "\n",
    "In this notebook, we will go over a simple regression problem to demonstrate why neural networks are much more powerful than traditional machine learning algorithms like those we used in Scikit-Learn. We are only focusing on fitting the trendline today, so we will skip the train-test-split. But make sure when you are dealing with real data, be sure to validate your model!"
   ]
  },
  {
   "cell_type": "code",
   "execution_count": 1,
   "metadata": {},
   "outputs": [],
   "source": [
    "# Import Numpy, Pandas and Matplotlib\n",
    "import numpy as np\n",
    "import pandas as pd\n",
    "import matplotlib.pyplot as plt"
   ]
  },
  {
   "cell_type": "markdown",
   "metadata": {},
   "source": [
    "### Data Collection / Creation\n",
    "Create a dummy dataset for fitting... let's do a cosine curve!"
   ]
  },
  {
   "cell_type": "code",
   "execution_count": 2,
   "metadata": {},
   "outputs": [
    {
     "data": {
      "text/plain": [
       "array([7.755, 2.169, 8.305, ..., 1.689, 5.371, 4.293])"
      ]
     },
     "execution_count": 2,
     "metadata": {},
     "output_type": "execute_result"
    }
   ],
   "source": [
    "# Create Random X Integers Values\n",
    "X = np.random.randint(low=0, high=10000, size=200000)/1000\n",
    "X"
   ]
  },
  {
   "cell_type": "code",
   "execution_count": 3,
   "metadata": {},
   "outputs": [],
   "source": [
    "# Create a Cosine curve and add some random noise for Y\n",
    "Y = 2 * np.cos(X) + np.random.rand(X.shape[0]) / 10"
   ]
  },
  {
   "cell_type": "code",
   "execution_count": 4,
   "metadata": {},
   "outputs": [
    {
     "data": {
      "text/plain": [
       "<matplotlib.legend.Legend at 0x7fa7f6b3d270>"
      ]
     },
     "execution_count": 4,
     "metadata": {},
     "output_type": "execute_result"
    },
    {
     "data": {
      "image/png": "[encoded data removed]",
      "text/plain": [
       "<Figure size 432x288 with 1 Axes>"
      ]
     },
     "metadata": {
      "needs_background": "light"
     },
     "output_type": "display_data"
    }
   ],
   "source": [
    "# Let's create a scatter plot to preview the data\n",
    "plt.scatter(X, Y, label='target')\n",
    "plt.legend()"
   ]
  },
  {
   "cell_type": "markdown",
   "metadata": {},
   "source": [
    "### Traditional Machine Learning Fitting (Linear Regression)"
   ]
  },
  {
   "cell_type": "code",
   "execution_count": 5,
   "metadata": {},
   "outputs": [],
   "source": [
    "# Import Linear Regression from Scikit-Learn library\n",
    "from sklearn.linear_model import LinearRegression\n",
    "from sklearn.ensemble import RandomForestRegressor"
   ]
  },
  {
   "cell_type": "code",
   "execution_count": 6,
   "metadata": {},
   "outputs": [
    {
     "data": {
      "text/html": [
       "<style>#sk-container-id-1 {color: black;background-color: white;}#sk-container-id-1 pre{padding: 0;}#sk-container-id-1 div.sk-toggleable {background-color: white;}#sk-container-id-1 label.sk-toggleable__label {cursor: pointer;display: block;width: 100%;margin-bottom: 0;padding: 0.3em;box-sizing: border-box;text-align: center;}#sk-container-id-1 label.sk-toggleable__label-arrow:before {content: \"▸\";float: left;margin-right: 0.25em;color: #696969;}#sk-container-id-1 label.sk-toggleable__label-arrow:hover:before {color: black;}#sk-container-id-1 div.sk-estimator:hover label.sk-toggleable__label-arrow:before {color: black;}#sk-container-id-1 div.sk-toggleable__content {max-height: 0;max-width: 0;overflow: hidden;text-align: left;background-color: #f0f8ff;}#sk-container-id-1 div.sk-toggleable__content pre {margin: 0.2em;color: black;border-radius: 0.25em;background-color: #f0f8ff;}#sk-container-id-1 input.sk-toggleable__control:checked~div.sk-toggleable__content {max-height: 200px;max-width: 100%;overflow: auto;}#sk-container-id-1 input.sk-toggleable__control:checked~label.sk-toggleable__label-arrow:before {content: \"▾\";}#sk-container-id-1 div.sk-estimator input.sk-toggleable__control:checked~label.sk-toggleable__label {background-color: #d4ebff;}#sk-container-id-1 div.sk-label input.sk-toggleable__control:checked~label.sk-toggleable__label {background-color: #d4ebff;}#sk-container-id-1 input.sk-hidden--visually {border: 0;clip: rect(1px 1px 1px 1px);clip: rect(1px, 1px, 1px, 1px);height: 1px;margin: -1px;overflow: hidden;padding: 0;position: absolute;width: 1px;}#sk-container-id-1 div.sk-estimator {font-family: monospace;background-color: #f0f8ff;border: 1px dotted black;border-radius: 0.25em;box-sizing: border-box;margin-bottom: 0.5em;}#sk-container-id-1 div.sk-estimator:hover {background-color: #d4ebff;}#sk-container-id-1 div.sk-parallel-item::after {content: \"\";width: 100%;border-bottom: 1px solid gray;flex-grow: 1;}#sk-container-id-1 div.sk-label:hover label.sk-toggleable__label {background-color: #d4ebff;}#sk-container-id-1 div.sk-serial::before {content: \"\";position: absolute;border-left: 1px solid gray;box-sizing: border-box;top: 0;bottom: 0;left: 50%;z-index: 0;}#sk-container-id-1 div.sk-serial {display: flex;flex-direction: column;align-items: center;background-color: white;padding-right: 0.2em;padding-left: 0.2em;position: relative;}#sk-container-id-1 div.sk-item {position: relative;z-index: 1;}#sk-container-id-1 div.sk-parallel {display: flex;align-items: stretch;justify-content: center;background-color: white;position: relative;}#sk-container-id-1 div.sk-item::before, #sk-container-id-1 div.sk-parallel-item::before {content: \"\";position: absolute;border-left: 1px solid gray;box-sizing: border-box;top: 0;bottom: 0;left: 50%;z-index: -1;}#sk-container-id-1 div.sk-parallel-item {display: flex;flex-direction: column;z-index: 1;position: relative;background-color: white;}#sk-container-id-1 div.sk-parallel-item:first-child::after {align-self: flex-end;width: 50%;}#sk-container-id-1 div.sk-parallel-item:last-child::after {align-self: flex-start;width: 50%;}#sk-container-id-1 div.sk-parallel-item:only-child::after {width: 0;}#sk-container-id-1 div.sk-dashed-wrapped {border: 1px dashed gray;margin: 0 0.4em 0.5em 0.4em;box-sizing: border-box;padding-bottom: 0.4em;background-color: white;}#sk-container-id-1 div.sk-label label {font-family: monospace;font-weight: bold;display: inline-block;line-height: 1.2em;}#sk-container-id-1 div.sk-label-container {text-align: center;}#sk-container-id-1 div.sk-container {/* jupyter's `normalize.less` sets `[hidden] { display: none; }` but bootstrap.min.css set `[hidden] { display: none !important; }` so we also need the `!important` here to be able to override the default hidden behavior on the sphinx rendered scikit-learn.org. See: https://github.com/scikit-learn/scikit-learn/issues/21755 */display: inline-block !important;position: relative;}#sk-container-id-1 div.sk-text-repr-fallback {display: none;}</style><div id=\"sk-container-id-1\" class=\"sk-top-container\"><div class=\"sk-text-repr-fallback\"><pre>LinearRegression()</pre><b>In a Jupyter environment, please rerun this cell to show the HTML representation or trust the notebook. <br />On GitHub, the HTML representation is unable to render, please try loading this page with nbviewer.org.</b></div><div class=\"sk-container\" hidden><div class=\"sk-item\"><div class=\"sk-estimator sk-toggleable\"><input class=\"sk-toggleable__control sk-hidden--visually\" id=\"sk-estimator-id-1\" type=\"checkbox\" checked><label for=\"sk-estimator-id-1\" class=\"sk-toggleable__label sk-toggleable__label-arrow\">LinearRegression</label><div class=\"sk-toggleable__content\"><pre>LinearRegression()</pre></div></div></div></div></div>"
      ],
      "text/plain": [
       "LinearRegression()"
      ]
     },
     "execution_count": 6,
     "metadata": {},
     "output_type": "execute_result"
    }
   ],
   "source": [
    "# Create a Linear Regression model and fit X and Y\n",
    "model = LinearRegression()\n",
    "model.fit(X.reshape(-1, 1), Y)"
   ]
  },
  {
   "cell_type": "code",
   "execution_count": 7,
   "metadata": {},
   "outputs": [
    {
     "data": {
      "text/plain": [
       "1.9771803011078453"
      ]
     },
     "execution_count": 7,
     "metadata": {},
     "output_type": "execute_result"
    }
   ],
   "source": [
    "# Let's calculate the mean squared error to see how well the fit is\n",
    "from sklearn.metrics import mean_squared_error\n",
    "predict = model.predict(X.reshape(-1, 1))\n",
    "mean_squared_error(Y, predict)"
   ]
  },
  {
   "cell_type": "code",
   "execution_count": 8,
   "metadata": {},
   "outputs": [
    {
     "data": {
      "text/plain": [
       "<matplotlib.legend.Legend at 0x7fa7dd1f7340>"
      ]
     },
     "execution_count": 8,
     "metadata": {},
     "output_type": "execute_result"
    },
    {
     "data": {
      "image/png": "[encoded data removed]",
      "text/plain": [
       "<Figure size 432x288 with 1 Axes>"
      ]
     },
     "metadata": {
      "needs_background": "light"
     },
     "output_type": "display_data"
    }
   ],
   "source": [
    "# Create a scatter plot to compare the target data and the model's prediction\n",
    "plt.scatter(X, Y, label='target')\n",
    "plt.plot(X, predict, label='prediction')\n",
    "plt.legend(loc=\"best\")"
   ]
  },
  {
   "cell_type": "markdown",
   "metadata": {},
   "source": [
    "### Traditional Machine Learning Fitting (Feature Engineering X^2)\n",
    "\n",
    "Well, that's a horrible fit! Let's see if we can do better with some feature engineering! Since this is look like a polynomial, why don't we create a X^2 column?"
   ]
  },
  {
   "cell_type": "code",
   "execution_count": 9,
   "metadata": {},
   "outputs": [],
   "source": [
    "# Create a new pandas DataFrame with the X data\n",
    "df = pd.DataFrame(X)"
   ]
  },
  {
   "cell_type": "code",
   "execution_count": 10,
   "metadata": {},
   "outputs": [
    {
     "data": {
      "text/html": [
       "<div>\n",
       "<style scoped>\n",
       "    .dataframe tbody tr th:only-of-type {\n",
       "        vertical-align: middle;\n",
       "    }\n",
       "\n",
       "    .dataframe tbody tr th {\n",
       "        vertical-align: top;\n",
       "    }\n",
       "\n",
       "    .dataframe thead th {\n",
       "        text-align: right;\n",
       "    }\n",
       "</style>\n",
       "<table border=\"1\" class=\"dataframe\">\n",
       "  <thead>\n",
       "    <tr style=\"text-align: right;\">\n",
       "      <th></th>\n",
       "      <th>X</th>\n",
       "    </tr>\n",
       "  </thead>\n",
       "  <tbody>\n",
       "    <tr>\n",
       "      <th>0</th>\n",
       "      <td>7.755</td>\n",
       "    </tr>\n",
       "    <tr>\n",
       "      <th>1</th>\n",
       "      <td>2.169</td>\n",
       "    </tr>\n",
       "    <tr>\n",
       "      <th>2</th>\n",
       "      <td>8.305</td>\n",
       "    </tr>\n",
       "    <tr>\n",
       "      <th>3</th>\n",
       "      <td>9.707</td>\n",
       "    </tr>\n",
       "    <tr>\n",
       "      <th>4</th>\n",
       "      <td>4.448</td>\n",
       "    </tr>\n",
       "    <tr>\n",
       "      <th>...</th>\n",
       "      <td>...</td>\n",
       "    </tr>\n",
       "    <tr>\n",
       "      <th>199995</th>\n",
       "      <td>3.614</td>\n",
       "    </tr>\n",
       "    <tr>\n",
       "      <th>199996</th>\n",
       "      <td>6.189</td>\n",
       "    </tr>\n",
       "    <tr>\n",
       "      <th>199997</th>\n",
       "      <td>1.689</td>\n",
       "    </tr>\n",
       "    <tr>\n",
       "      <th>199998</th>\n",
       "      <td>5.371</td>\n",
       "    </tr>\n",
       "    <tr>\n",
       "      <th>199999</th>\n",
       "      <td>4.293</td>\n",
       "    </tr>\n",
       "  </tbody>\n",
       "</table>\n",
       "<p>200000 rows × 1 columns</p>\n",
       "</div>"
      ],
      "text/plain": [
       "            X\n",
       "0       7.755\n",
       "1       2.169\n",
       "2       8.305\n",
       "3       9.707\n",
       "4       4.448\n",
       "...       ...\n",
       "199995  3.614\n",
       "199996  6.189\n",
       "199997  1.689\n",
       "199998  5.371\n",
       "199999  4.293\n",
       "\n",
       "[200000 rows x 1 columns]"
      ]
     },
     "execution_count": 10,
     "metadata": {},
     "output_type": "execute_result"
    }
   ],
   "source": [
    "# Rename the Column as X\n",
    "df.columns = ['X']\n",
    "df"
   ]
  },
  {
   "cell_type": "code",
   "execution_count": 11,
   "metadata": {},
   "outputs": [],
   "source": [
    "# Create a new column X2 that is X^2\n",
    "df['X2'] = X ** 2"
   ]
  },
  {
   "cell_type": "code",
   "execution_count": 12,
   "metadata": {},
   "outputs": [
    {
     "data": {
      "text/plain": [
       "1.9489085225694265"
      ]
     },
     "execution_count": 12,
     "metadata": {},
     "output_type": "execute_result"
    }
   ],
   "source": [
    "# Let's create a new model called model2, fit the DataFrame and calculate the mean squared error\n",
    "model2 = LinearRegression()\n",
    "model2.fit(df, Y)\n",
    "predict2 = model2.predict(df)\n",
    "mean_squared_error(Y, predict2)"
   ]
  },
  {
   "cell_type": "code",
   "execution_count": 13,
   "metadata": {},
   "outputs": [
    {
     "data": {
      "text/plain": [
       "<matplotlib.legend.Legend at 0x7fa7dae9f6a0>"
      ]
     },
     "execution_count": 13,
     "metadata": {},
     "output_type": "execute_result"
    },
    {
     "data": {
      "image/png": "[encoded data removed]",
      "text/plain": [
       "<Figure size 432x288 with 1 Axes>"
      ]
     },
     "metadata": {
      "needs_background": "light"
     },
     "output_type": "display_data"
    }
   ],
   "source": [
    "# Let's plot the target, linear regression (x), linear regression with (x and x^2)\n",
    "plt.scatter(X, Y, label='target')\n",
    "plt.scatter(X, predict, label='linear regression')\n",
    "plt.scatter(X, predict2, label='linear regression with (x and x^2)')\n",
    "plt.legend(loc='best')"
   ]
  },
  {
   "cell_type": "markdown",
   "metadata": {},
   "source": [
    "### Traditional Machine Learning Fitting (Feature Engineering X^3)\n",
    "\n",
    "Eh, I guess at least it curved... X^3!"
   ]
  },
  {
   "cell_type": "code",
   "execution_count": 14,
   "metadata": {},
   "outputs": [],
   "source": [
    "# Let's Make a copy of the DataFrame df and create X3 column\n",
    "df2 = df.copy()\n",
    "df2['X3'] = X ** 3"
   ]
  },
  {
   "cell_type": "code",
   "execution_count": 15,
   "metadata": {},
   "outputs": [
    {
     "data": {
      "text/plain": [
       "0.591047997517249"
      ]
     },
     "execution_count": 15,
     "metadata": {},
     "output_type": "execute_result"
    }
   ],
   "source": [
    "# Make a LR model called model3, fit it with the data, predict and caclulate the mean squared error\n",
    "model3 = LinearRegression()\n",
    "model3.fit(df2, Y)\n",
    "predict3 = model3.predict(df2)\n",
    "mean_squared_error(Y, predict3)"
   ]
  },
  {
   "cell_type": "code",
   "execution_count": 16,
   "metadata": {},
   "outputs": [
    {
     "data": {
      "text/plain": [
       "<matplotlib.legend.Legend at 0x7fa7daeb87f0>"
      ]
     },
     "execution_count": 16,
     "metadata": {},
     "output_type": "execute_result"
    },
    {
     "data": {
      "image/png": "[encoded data removed]",
      "text/plain": [
       "<Figure size 432x288 with 1 Axes>"
      ]
     },
     "metadata": {
      "needs_background": "light"
     },
     "output_type": "display_data"
    }
   ],
   "source": [
    "# Let's plot and see the result\n",
    "plt.scatter(X, Y, label='target')\n",
    "plt.scatter(X, predict, label='linear regression')\n",
    "plt.scatter(X, predict2, label='linear regression with (x and x^2)')\n",
    "plt.scatter(X, predict3, label='linear regression with (x and x^3)')\n",
    "plt.legend(loc='best')"
   ]
  },
  {
   "cell_type": "markdown",
   "metadata": {},
   "source": [
    "### Artificial Neural Network (MLP)\n",
    "Alright, that's better, not ideal, but alright fit. Maybe we need to do more feature engineering, or pick a different algorithm like Random Forest... but let's give Artificial Neural Netowrk a try and see how it performs. \n",
    "\n",
    "Remember how the activation function in a neural network gives the model its non-linearity? This data set is non-linear, so let's see how it do!\n",
    "\n",
    "Let's start with a Simple Artificial Neural Network (Multi-Layer Perceptron)"
   ]
  },
  {
   "cell_type": "code",
   "execution_count": 17,
   "metadata": {},
   "outputs": [
    {
     "name": "stderr",
     "output_type": "stream",
     "text": [
      "2022-07-30 09:42:24.525466: I tensorflow/core/util/util.cc:169] oneDNN custom operations are on. You may see slightly different numerical results due to floating-point round-off errors from different computation orders. To turn them off, set the environment variable `TF_ENABLE_ONEDNN_OPTS=0`.\n",
      "2022-07-30 09:42:24.529870: W tensorflow/stream_executor/platform/default/dso_loader.cc:64] Could not load dynamic library 'libcudart.so.11.0'; dlerror: libcudart.so.11.0: cannot open shared object file: No such file or directory\n",
      "2022-07-30 09:42:24.529886: I tensorflow/stream_executor/cuda/cudart_stub.cc:29] Ignore above cudart dlerror if you do not have a GPU set up on your machine.\n"
     ]
    }
   ],
   "source": [
    "# Import TensorFlow and Keras\n",
    "import tensorflow as tf\n",
    "from tensorflow import keras"
   ]
  },
  {
   "cell_type": "code",
   "execution_count": 18,
   "metadata": {},
   "outputs": [
    {
     "name": "stderr",
     "output_type": "stream",
     "text": [
      "2022-07-30 09:42:27.070204: E tensorflow/stream_executor/cuda/cuda_driver.cc:1583] failed to query PCI bus id for device: UNKNOWN ERROR (801)\n",
      "2022-07-30 09:42:27.070250: I tensorflow/stream_executor/cuda/cuda_gpu_executor.cc:949] no PCI bus ID for device ordinal: 0\n",
      "2022-07-30 09:42:27.070572: W tensorflow/stream_executor/platform/default/dso_loader.cc:64] Could not load dynamic library 'libcudart.so.11.0'; dlerror: libcudart.so.11.0: cannot open shared object file: No such file or directory\n",
      "2022-07-30 09:42:27.070669: W tensorflow/stream_executor/platform/default/dso_loader.cc:64] Could not load dynamic library 'libcublas.so.11'; dlerror: libcublas.so.11: cannot open shared object file: No such file or directory\n",
      "2022-07-30 09:42:27.070745: W tensorflow/stream_executor/platform/default/dso_loader.cc:64] Could not load dynamic library 'libcublasLt.so.11'; dlerror: libcublasLt.so.11: cannot open shared object file: No such file or directory\n",
      "2022-07-30 09:42:27.070820: W tensorflow/stream_executor/platform/default/dso_loader.cc:64] Could not load dynamic library 'libcufft.so.10'; dlerror: libcufft.so.10: cannot open shared object file: No such file or directory\n",
      "2022-07-30 09:42:27.070894: W tensorflow/stream_executor/platform/default/dso_loader.cc:64] Could not load dynamic library 'libcurand.so.10'; dlerror: libcurand.so.10: cannot open shared object file: No such file or directory\n",
      "2022-07-30 09:42:27.070966: W tensorflow/stream_executor/platform/default/dso_loader.cc:64] Could not load dynamic library 'libcusolver.so.11'; dlerror: libcusolver.so.11: cannot open shared object file: No such file or directory\n",
      "2022-07-30 09:42:27.071038: W tensorflow/stream_executor/platform/default/dso_loader.cc:64] Could not load dynamic library 'libcusparse.so.11'; dlerror: libcusparse.so.11: cannot open shared object file: No such file or directory\n",
      "2022-07-30 09:42:27.071111: W tensorflow/stream_executor/platform/default/dso_loader.cc:64] Could not load dynamic library 'libcudnn.so.8'; dlerror: libcudnn.so.8: cannot open shared object file: No such file or directory\n",
      "2022-07-30 09:42:27.071120: W tensorflow/core/common_runtime/gpu/gpu_device.cc:1850] Cannot dlopen some GPU libraries. Please make sure the missing libraries mentioned above are installed properly if you would like to use GPU. Follow the guide at https://www.tensorflow.org/install/gpu for how to download and setup the required libraries for your platform.\n",
      "Skipping registering GPU devices...\n",
      "2022-07-30 09:42:27.071731: I tensorflow/core/platform/cpu_feature_guard.cc:193] This TensorFlow binary is optimized with oneAPI Deep Neural Network Library (oneDNN) to use the following CPU instructions in performance-critical operations:  AVX2 AVX512F AVX512_VNNI FMA\n",
      "To enable them in other operations, rebuild TensorFlow with the appropriate compiler flags.\n"
     ]
    }
   ],
   "source": [
    "# Let's Create a Simple Multi-Layer Perceptron\n",
    "# 3 layers: Input with 1 node / Hidden Layer with 64 nodes (use 'relu' for activation) / Output Layer with 1 node\n",
    "\n",
    "input = keras.layers.Input(1)\n",
    "x = keras.layers.Dense(64, activation='relu')(input)\n",
    "output = keras.layers.Dense(1)(x)"
   ]
  },
  {
   "cell_type": "code",
   "execution_count": 19,
   "metadata": {},
   "outputs": [],
   "source": [
    "# Create model4 in Keras\n",
    "model4 = keras.Model(input, output)"
   ]
  },
  {
   "cell_type": "code",
   "execution_count": 20,
   "metadata": {},
   "outputs": [
    {
     "name": "stdout",
     "output_type": "stream",
     "text": [
      "Model: \"model\"\n",
      "_________________________________________________________________\n",
      " Layer (type)                Output Shape              Param #   \n",
      "=================================================================\n",
      " input_1 (InputLayer)        [(None, 1)]               0         \n",
      "                                                                 \n",
      " dense (Dense)               (None, 64)                128       \n",
      "                                                                 \n",
      " dense_1 (Dense)             (None, 1)                 65        \n",
      "                                                                 \n",
      "=================================================================\n",
      "Total params: 193\n",
      "Trainable params: 193\n",
      "Non-trainable params: 0\n",
      "_________________________________________________________________\n"
     ]
    }
   ],
   "source": [
    "model4.summary()"
   ]
  },
  {
   "cell_type": "code",
   "execution_count": 21,
   "metadata": {},
   "outputs": [],
   "source": [
    "# Compile the model with Adam optimizer, Mean Squared Error as losses and metrics\n",
    "model4.compile(optimizer='adam', loss='mse', metrics=['mse'])"
   ]
  },
  {
   "cell_type": "code",
   "execution_count": 22,
   "metadata": {},
   "outputs": [
    {
     "name": "stdout",
     "output_type": "stream",
     "text": [
      "Epoch 1/100\n",
      "49/49 [==============================] - 1s 4ms/step - loss: 2.0500 - mse: 2.0500\n",
      "Epoch 2/100\n",
      "49/49 [==============================] - 0s 3ms/step - loss: 2.0082 - mse: 2.0082\n",
      "Epoch 3/100\n",
      "49/49 [==============================] - 0s 3ms/step - loss: 1.9944 - mse: 1.9944\n",
      "Epoch 4/100\n",
      "49/49 [==============================] - 0s 3ms/step - loss: 1.9863 - mse: 1.9863\n",
      "Epoch 5/100\n",
      "49/49 [==============================] - 0s 3ms/step - loss: 1.9798 - mse: 1.9798\n",
      "Epoch 6/100\n",
      "49/49 [==============================] - 0s 3ms/step - loss: 1.9731 - mse: 1.9731\n",
      "Epoch 7/100\n",
      "49/49 [==============================] - 0s 3ms/step - loss: 1.9647 - mse: 1.9647\n",
      "Epoch 8/100\n",
      "49/49 [==============================] - 0s 3ms/step - loss: 1.9544 - mse: 1.9544\n",
      "Epoch 9/100\n",
      "49/49 [==============================] - 0s 3ms/step - loss: 1.9417 - mse: 1.9417\n",
      "Epoch 10/100\n",
      "49/49 [==============================] - 0s 3ms/step - loss: 1.9271 - mse: 1.9271\n",
      "Epoch 11/100\n",
      "49/49 [==============================] - 0s 2ms/step - loss: 1.9112 - mse: 1.9112\n",
      "Epoch 12/100\n",
      "49/49 [==============================] - 0s 3ms/step - loss: 1.8946 - mse: 1.8946\n",
      "Epoch 13/100\n",
      "49/49 [==============================] - 0s 3ms/step - loss: 1.8775 - mse: 1.8775\n",
      "Epoch 14/100\n",
      "49/49 [==============================] - 0s 4ms/step - loss: 1.8599 - mse: 1.8599\n",
      "Epoch 15/100\n",
      "49/49 [==============================] - 0s 3ms/step - loss: 1.8435 - mse: 1.8435\n",
      "Epoch 16/100\n",
      "49/49 [==============================] - 0s 3ms/step - loss: 1.8276 - mse: 1.8276\n",
      "Epoch 17/100\n",
      "49/49 [==============================] - 0s 3ms/step - loss: 1.8132 - mse: 1.8132\n",
      "Epoch 18/100\n",
      "49/49 [==============================] - 0s 4ms/step - loss: 1.7989 - mse: 1.7989\n",
      "Epoch 19/100\n",
      "49/49 [==============================] - 0s 5ms/step - loss: 1.7853 - mse: 1.7853\n",
      "Epoch 20/100\n",
      "49/49 [==============================] - 0s 3ms/step - loss: 1.7729 - mse: 1.7729\n",
      "Epoch 21/100\n",
      "49/49 [==============================] - 0s 4ms/step - loss: 1.7612 - mse: 1.7612\n",
      "Epoch 22/100\n",
      "49/49 [==============================] - 0s 3ms/step - loss: 1.7505 - mse: 1.7505\n",
      "Epoch 23/100\n",
      "49/49 [==============================] - 0s 3ms/step - loss: 1.7402 - mse: 1.7402\n",
      "Epoch 24/100\n",
      "49/49 [==============================] - 0s 3ms/step - loss: 1.7318 - mse: 1.7318\n",
      "Epoch 25/100\n",
      "49/49 [==============================] - 0s 4ms/step - loss: 1.7229 - mse: 1.7229\n",
      "Epoch 26/100\n",
      "49/49 [==============================] - 0s 3ms/step - loss: 1.7166 - mse: 1.7166\n",
      "Epoch 27/100\n",
      "49/49 [==============================] - 0s 5ms/step - loss: 1.7098 - mse: 1.7098\n",
      "Epoch 28/100\n",
      "49/49 [==============================] - 0s 4ms/step - loss: 1.7035 - mse: 1.7035\n",
      "Epoch 29/100\n",
      "49/49 [==============================] - 0s 5ms/step - loss: 1.6981 - mse: 1.6981\n",
      "Epoch 30/100\n",
      "49/49 [==============================] - 0s 6ms/step - loss: 1.6932 - mse: 1.6932\n",
      "Epoch 31/100\n",
      "49/49 [==============================] - 0s 5ms/step - loss: 1.6891 - mse: 1.6891\n",
      "Epoch 32/100\n",
      "49/49 [==============================] - 0s 5ms/step - loss: 1.6856 - mse: 1.6856\n",
      "Epoch 33/100\n",
      "49/49 [==============================] - 0s 4ms/step - loss: 1.6817 - mse: 1.6817\n",
      "Epoch 34/100\n",
      "49/49 [==============================] - 0s 3ms/step - loss: 1.6786 - mse: 1.6786\n",
      "Epoch 35/100\n",
      "49/49 [==============================] - 0s 3ms/step - loss: 1.6760 - mse: 1.6760\n",
      "Epoch 36/100\n",
      "49/49 [==============================] - 0s 4ms/step - loss: 1.6734 - mse: 1.6734\n",
      "Epoch 37/100\n",
      "49/49 [==============================] - 0s 3ms/step - loss: 1.6714 - mse: 1.6714\n",
      "Epoch 38/100\n",
      "49/49 [==============================] - 0s 4ms/step - loss: 1.6691 - mse: 1.6691\n",
      "Epoch 39/100\n",
      "49/49 [==============================] - 0s 5ms/step - loss: 1.6675 - mse: 1.6675\n",
      "Epoch 40/100\n",
      "49/49 [==============================] - 0s 5ms/step - loss: 1.6665 - mse: 1.6665\n",
      "Epoch 41/100\n",
      "49/49 [==============================] - 0s 4ms/step - loss: 1.6645 - mse: 1.6645\n",
      "Epoch 42/100\n",
      "49/49 [==============================] - 0s 3ms/step - loss: 1.6642 - mse: 1.6642\n",
      "Epoch 43/100\n",
      "49/49 [==============================] - 0s 4ms/step - loss: 1.6630 - mse: 1.6630\n",
      "Epoch 44/100\n",
      "49/49 [==============================] - 0s 4ms/step - loss: 1.6613 - mse: 1.6613\n",
      "Epoch 45/100\n",
      "49/49 [==============================] - 0s 3ms/step - loss: 1.6604 - mse: 1.6604\n",
      "Epoch 46/100\n",
      "49/49 [==============================] - 0s 3ms/step - loss: 1.6607 - mse: 1.6607\n",
      "Epoch 47/100\n",
      "49/49 [==============================] - 0s 3ms/step - loss: 1.6596 - mse: 1.6596\n",
      "Epoch 48/100\n",
      "49/49 [==============================] - 0s 3ms/step - loss: 1.6584 - mse: 1.6584\n",
      "Epoch 49/100\n",
      "49/49 [==============================] - 0s 3ms/step - loss: 1.6580 - mse: 1.6580\n",
      "Epoch 50/100\n",
      "49/49 [==============================] - 0s 5ms/step - loss: 1.6583 - mse: 1.6583\n",
      "Epoch 51/100\n",
      "49/49 [==============================] - 0s 6ms/step - loss: 1.6572 - mse: 1.6572\n",
      "Epoch 52/100\n",
      "49/49 [==============================] - 0s 5ms/step - loss: 1.6565 - mse: 1.6565\n",
      "Epoch 53/100\n",
      "49/49 [==============================] - 0s 3ms/step - loss: 1.6561 - mse: 1.6561\n",
      "Epoch 54/100\n",
      "49/49 [==============================] - 0s 4ms/step - loss: 1.6565 - mse: 1.6565\n",
      "Epoch 55/100\n",
      "49/49 [==============================] - 0s 5ms/step - loss: 1.6553 - mse: 1.6553\n",
      "Epoch 56/100\n",
      "49/49 [==============================] - 0s 5ms/step - loss: 1.6554 - mse: 1.6554\n",
      "Epoch 57/100\n",
      "49/49 [==============================] - 0s 5ms/step - loss: 1.6557 - mse: 1.6557\n",
      "Epoch 58/100\n",
      "49/49 [==============================] - 0s 4ms/step - loss: 1.6553 - mse: 1.6553\n",
      "Epoch 59/100\n",
      "49/49 [==============================] - 0s 6ms/step - loss: 1.6548 - mse: 1.6548\n",
      "Epoch 60/100\n",
      "49/49 [==============================] - 0s 5ms/step - loss: 1.6553 - mse: 1.6553\n",
      "Epoch 61/100\n",
      "49/49 [==============================] - 0s 5ms/step - loss: 1.6546 - mse: 1.6546\n",
      "Epoch 62/100\n",
      "49/49 [==============================] - 0s 8ms/step - loss: 1.6539 - mse: 1.6539\n",
      "Epoch 63/100\n",
      "49/49 [==============================] - 0s 7ms/step - loss: 1.6540 - mse: 1.6540\n",
      "Epoch 64/100\n",
      "49/49 [==============================] - 0s 6ms/step - loss: 1.6532 - mse: 1.6532\n",
      "Epoch 65/100\n",
      "49/49 [==============================] - 0s 8ms/step - loss: 1.6540 - mse: 1.6540\n",
      "Epoch 66/100\n",
      "49/49 [==============================] - 0s 7ms/step - loss: 1.6532 - mse: 1.6532\n",
      "Epoch 67/100\n",
      "49/49 [==============================] - 0s 8ms/step - loss: 1.6553 - mse: 1.6553\n",
      "Epoch 68/100\n",
      "49/49 [==============================] - 0s 6ms/step - loss: 1.6529 - mse: 1.6529\n",
      "Epoch 69/100\n",
      "49/49 [==============================] - 0s 6ms/step - loss: 1.6532 - mse: 1.6532\n",
      "Epoch 70/100\n",
      "49/49 [==============================] - 0s 5ms/step - loss: 1.6526 - mse: 1.6526\n",
      "Epoch 71/100\n",
      "49/49 [==============================] - 0s 6ms/step - loss: 1.6530 - mse: 1.6530\n",
      "Epoch 72/100\n",
      "49/49 [==============================] - 0s 7ms/step - loss: 1.6538 - mse: 1.6538\n",
      "Epoch 73/100\n",
      "49/49 [==============================] - 0s 9ms/step - loss: 1.6528 - mse: 1.6528\n",
      "Epoch 74/100\n",
      "49/49 [==============================] - 0s 6ms/step - loss: 1.6525 - mse: 1.6525\n",
      "Epoch 75/100\n",
      "49/49 [==============================] - 0s 5ms/step - loss: 1.6521 - mse: 1.6521\n",
      "Epoch 76/100\n",
      "49/49 [==============================] - 0s 4ms/step - loss: 1.6518 - mse: 1.6518\n",
      "Epoch 77/100\n",
      "49/49 [==============================] - 0s 7ms/step - loss: 1.6523 - mse: 1.6523\n",
      "Epoch 78/100\n",
      "49/49 [==============================] - 0s 7ms/step - loss: 1.6526 - mse: 1.6526\n",
      "Epoch 79/100\n",
      "49/49 [==============================] - 0s 6ms/step - loss: 1.6522 - mse: 1.6522\n",
      "Epoch 80/100\n",
      "49/49 [==============================] - 0s 10ms/step - loss: 1.6518 - mse: 1.6518\n",
      "Epoch 81/100\n",
      "49/49 [==============================] - 0s 7ms/step - loss: 1.6518 - mse: 1.6518\n",
      "Epoch 82/100\n",
      "49/49 [==============================] - 0s 5ms/step - loss: 1.6516 - mse: 1.6516\n",
      "Epoch 83/100\n",
      "49/49 [==============================] - 0s 5ms/step - loss: 1.6514 - mse: 1.6514\n",
      "Epoch 84/100\n",
      "49/49 [==============================] - 0s 4ms/step - loss: 1.6514 - mse: 1.6514\n",
      "Epoch 85/100\n",
      "49/49 [==============================] - 0s 5ms/step - loss: 1.6520 - mse: 1.6520\n",
      "Epoch 86/100\n",
      "49/49 [==============================] - 0s 6ms/step - loss: 1.6514 - mse: 1.6514\n",
      "Epoch 87/100\n",
      "49/49 [==============================] - 0s 5ms/step - loss: 1.6514 - mse: 1.6514\n",
      "Epoch 88/100\n",
      "49/49 [==============================] - 0s 4ms/step - loss: 1.6511 - mse: 1.6511\n",
      "Epoch 89/100\n",
      "49/49 [==============================] - 0s 4ms/step - loss: 1.6512 - mse: 1.6512\n",
      "Epoch 90/100\n",
      "49/49 [==============================] - 0s 4ms/step - loss: 1.6521 - mse: 1.6521\n",
      "Epoch 91/100\n",
      "49/49 [==============================] - 0s 4ms/step - loss: 1.6512 - mse: 1.6512\n",
      "Epoch 92/100\n",
      "49/49 [==============================] - 0s 3ms/step - loss: 1.6514 - mse: 1.6514\n",
      "Epoch 93/100\n",
      "49/49 [==============================] - 0s 3ms/step - loss: 1.6510 - mse: 1.6510\n",
      "Epoch 94/100\n",
      "49/49 [==============================] - 0s 3ms/step - loss: 1.6508 - mse: 1.6508\n",
      "Epoch 95/100\n",
      "49/49 [==============================] - 0s 3ms/step - loss: 1.6511 - mse: 1.6511\n",
      "Epoch 96/100\n",
      "49/49 [==============================] - 0s 3ms/step - loss: 1.6512 - mse: 1.6512\n",
      "Epoch 97/100\n",
      "49/49 [==============================] - 0s 3ms/step - loss: 1.6513 - mse: 1.6513\n",
      "Epoch 98/100\n",
      "49/49 [==============================] - 0s 3ms/step - loss: 1.6511 - mse: 1.6511\n",
      "Epoch 99/100\n",
      "49/49 [==============================] - 0s 3ms/step - loss: 1.6509 - mse: 1.6509\n",
      "Epoch 100/100\n",
      "49/49 [==============================] - 0s 3ms/step - loss: 1.6509 - mse: 1.6509\n"
     ]
    }
   ],
   "source": [
    "# Let's fit the model for 100 epochs. If you have a GPU, you can try upping the batch_size to around 4096 to speed up training\n",
    "# Though smaller batch also make a model less likely to overfitted... it's a trade off\n",
    "# You can run the training for longer or shorter by changing the epochs\n",
    "history = model4.fit(X,Y, epochs=100, batch_size=4096)"
   ]
  },
  {
   "cell_type": "code",
   "execution_count": 23,
   "metadata": {},
   "outputs": [
    {
     "data": {
      "text/plain": [
       "[<matplotlib.lines.Line2D at 0x7fa7981e4a60>]"
      ]
     },
     "execution_count": 23,
     "metadata": {},
     "output_type": "execute_result"
    },
    {
     "data": {
      "image/png": "[encoded data removed]",
      "text/plain": [
       "<Figure size 432x288 with 1 Axes>"
      ]
     },
     "metadata": {
      "needs_background": "light"
     },
     "output_type": "display_data"
    }
   ],
   "source": [
    "# Let's plot the fitting history to see if we converged to a solution\n",
    "plt.plot(history.history['loss'])"
   ]
  },
  {
   "cell_type": "code",
   "execution_count": 24,
   "metadata": {},
   "outputs": [],
   "source": [
    "# well, it seems that the model basically stop improving after like 20 epochs... "
   ]
  },
  {
   "cell_type": "code",
   "execution_count": 25,
   "metadata": {},
   "outputs": [
    {
     "name": "stdout",
     "output_type": "stream",
     "text": [
      "6250/6250 [==============================] - 5s 743us/step\n"
     ]
    },
    {
     "data": {
      "text/plain": [
       "1.6504343851032004"
      ]
     },
     "execution_count": 25,
     "metadata": {},
     "output_type": "execute_result"
    }
   ],
   "source": [
    "predict4 = model4.predict(X)\n",
    "mean_squared_error(Y, predict4)"
   ]
  },
  {
   "cell_type": "code",
   "execution_count": 26,
   "metadata": {},
   "outputs": [
    {
     "data": {
      "text/plain": [
       "<matplotlib.legend.Legend at 0x7fa7983812a0>"
      ]
     },
     "execution_count": 26,
     "metadata": {},
     "output_type": "execute_result"
    },
    {
     "data": {
      "image/png": "[encoded data removed]",
      "text/plain": [
       "<Figure size 432x288 with 1 Axes>"
      ]
     },
     "metadata": {
      "needs_background": "light"
     },
     "output_type": "display_data"
    }
   ],
   "source": [
    "# Predict and plot to see how this do\n",
    "plt.scatter(X, Y , label='target')\n",
    "plt.scatter(X, predict, label='RL')\n",
    "plt.scatter(X, predict2, label ='RL2')\n",
    "plt.scatter(X, predict3, label ='RL3')\n",
    "plt.scatter(X, predict4, label='ANN')\n",
    "plt.legend(loc='best')"
   ]
  },
  {
   "cell_type": "code",
   "execution_count": 27,
   "metadata": {},
   "outputs": [],
   "source": [
    "# eh, ??? What's with the ANN? It fit very well in the beginning and then it died or something?"
   ]
  },
  {
   "cell_type": "markdown",
   "metadata": {},
   "source": [
    "### Artificial Neural Network (Activation Function)\n",
    "Let's take a look at the activation for ReLU...\n",
    "<br>\n",
    "<img src='https://raw.githubusercontent.com/shruti-jadon/Data_Science_Images/main/activation_function.png' height='300px'>\n",
    "\n",
    "See how it drop off to zero? That's not good... that's because if the perceptron weight sum goes negative, the value became zero. This mess up the gradient descent algorithm in back propagation (the training process). \n",
    "\n",
    "Let's try ELU instead, it provie us a negative value when it is negative. The transition is also smooth unlike Leaky ReLU\n"
   ]
  },
  {
   "cell_type": "code",
   "execution_count": 28,
   "metadata": {},
   "outputs": [],
   "source": [
    "# Create Model5 with ELU Activation Function and Compile with Adam + MSE\n",
    "input2 = keras.layers.Input(1)\n",
    "x2 = keras.layers.Dense(64, activation='elu')(input2)\n",
    "output2 = keras.layers.Dense(1)(x2)\n",
    "\n",
    "model5 = keras.Model(input2, output2)\n",
    "model5.compile(optimizer='adam',\n",
    "               loss=keras.losses.MeanSquaredError(), metrics=keras.metrics.MeanSquaredError())\n"
   ]
  },
  {
   "cell_type": "code",
   "execution_count": 29,
   "metadata": {},
   "outputs": [
    {
     "name": "stdout",
     "output_type": "stream",
     "text": [
      "Epoch 1/100\n",
      "49/49 [==============================] - 1s 3ms/step - loss: 2.4087 - mean_squared_error: 2.4087\n",
      "Epoch 2/100\n",
      "49/49 [==============================] - 0s 3ms/step - loss: 2.0090 - mean_squared_error: 2.0090\n",
      "Epoch 3/100\n",
      "49/49 [==============================] - 0s 3ms/step - loss: 1.9836 - mean_squared_error: 1.9836\n",
      "Epoch 4/100\n",
      "49/49 [==============================] - 0s 3ms/step - loss: 1.9701 - mean_squared_error: 1.9701\n",
      "Epoch 5/100\n",
      "49/49 [==============================] - 0s 3ms/step - loss: 1.9606 - mean_squared_error: 1.9606\n",
      "Epoch 6/100\n",
      "49/49 [==============================] - 0s 3ms/step - loss: 1.9513 - mean_squared_error: 1.9513\n",
      "Epoch 7/100\n",
      "49/49 [==============================] - 0s 3ms/step - loss: 1.9413 - mean_squared_error: 1.9413\n",
      "Epoch 8/100\n",
      "49/49 [==============================] - 0s 3ms/step - loss: 1.9298 - mean_squared_error: 1.9298\n",
      "Epoch 9/100\n",
      "49/49 [==============================] - 0s 3ms/step - loss: 1.9163 - mean_squared_error: 1.9163\n",
      "Epoch 10/100\n",
      "49/49 [==============================] - 0s 3ms/step - loss: 1.9004 - mean_squared_error: 1.9004\n",
      "Epoch 11/100\n",
      "49/49 [==============================] - 0s 3ms/step - loss: 1.8819 - mean_squared_error: 1.8819\n",
      "Epoch 12/100\n",
      "49/49 [==============================] - 0s 2ms/step - loss: 1.8610 - mean_squared_error: 1.8610\n",
      "Epoch 13/100\n",
      "49/49 [==============================] - 0s 3ms/step - loss: 1.8370 - mean_squared_error: 1.8370\n",
      "Epoch 14/100\n",
      "49/49 [==============================] - 0s 2ms/step - loss: 1.8108 - mean_squared_error: 1.8108\n",
      "Epoch 15/100\n",
      "49/49 [==============================] - 0s 3ms/step - loss: 1.7826 - mean_squared_error: 1.7826\n",
      "Epoch 16/100\n",
      "49/49 [==============================] - 0s 3ms/step - loss: 1.7530 - mean_squared_error: 1.7530\n",
      "Epoch 17/100\n",
      "49/49 [==============================] - 0s 3ms/step - loss: 1.7225 - mean_squared_error: 1.7225\n",
      "Epoch 18/100\n",
      "49/49 [==============================] - 0s 4ms/step - loss: 1.6912 - mean_squared_error: 1.6912\n",
      "Epoch 19/100\n",
      "49/49 [==============================] - 0s 3ms/step - loss: 1.6597 - mean_squared_error: 1.6597\n",
      "Epoch 20/100\n",
      "49/49 [==============================] - 0s 3ms/step - loss: 1.6281 - mean_squared_error: 1.6281\n",
      "Epoch 21/100\n",
      "49/49 [==============================] - 0s 3ms/step - loss: 1.5961 - mean_squared_error: 1.5961\n",
      "Epoch 22/100\n",
      "49/49 [==============================] - 0s 3ms/step - loss: 1.5637 - mean_squared_error: 1.5637\n",
      "Epoch 23/100\n",
      "49/49 [==============================] - 0s 4ms/step - loss: 1.5305 - mean_squared_error: 1.5305\n",
      "Epoch 24/100\n",
      "49/49 [==============================] - 0s 3ms/step - loss: 1.4964 - mean_squared_error: 1.4964\n",
      "Epoch 25/100\n",
      "49/49 [==============================] - 0s 3ms/step - loss: 1.4611 - mean_squared_error: 1.4611\n",
      "Epoch 26/100\n",
      "49/49 [==============================] - 0s 3ms/step - loss: 1.4246 - mean_squared_error: 1.4246\n",
      "Epoch 27/100\n",
      "49/49 [==============================] - 0s 3ms/step - loss: 1.3865 - mean_squared_error: 1.3865\n",
      "Epoch 28/100\n",
      "49/49 [==============================] - 0s 3ms/step - loss: 1.3470 - mean_squared_error: 1.3470\n",
      "Epoch 29/100\n",
      "49/49 [==============================] - 0s 3ms/step - loss: 1.3048 - mean_squared_error: 1.3048\n",
      "Epoch 30/100\n",
      "49/49 [==============================] - 0s 3ms/step - loss: 1.2606 - mean_squared_error: 1.2606\n",
      "Epoch 31/100\n",
      "49/49 [==============================] - 0s 3ms/step - loss: 1.2133 - mean_squared_error: 1.2133\n",
      "Epoch 32/100\n",
      "49/49 [==============================] - 0s 3ms/step - loss: 1.1621 - mean_squared_error: 1.1621\n",
      "Epoch 33/100\n",
      "49/49 [==============================] - 0s 3ms/step - loss: 1.1067 - mean_squared_error: 1.1067\n",
      "Epoch 34/100\n",
      "49/49 [==============================] - 0s 3ms/step - loss: 1.0479 - mean_squared_error: 1.0479\n",
      "Epoch 35/100\n",
      "49/49 [==============================] - 0s 3ms/step - loss: 0.9869 - mean_squared_error: 0.9869\n",
      "Epoch 36/100\n",
      "49/49 [==============================] - 0s 3ms/step - loss: 0.9247 - mean_squared_error: 0.9247\n",
      "Epoch 37/100\n",
      "49/49 [==============================] - 0s 3ms/step - loss: 0.8619 - mean_squared_error: 0.8619\n",
      "Epoch 38/100\n",
      "49/49 [==============================] - 0s 3ms/step - loss: 0.7988 - mean_squared_error: 0.7988\n",
      "Epoch 39/100\n",
      "49/49 [==============================] - 0s 4ms/step - loss: 0.7352 - mean_squared_error: 0.7352\n",
      "Epoch 40/100\n",
      "49/49 [==============================] - 0s 3ms/step - loss: 0.6721 - mean_squared_error: 0.6721\n",
      "Epoch 41/100\n",
      "49/49 [==============================] - 0s 3ms/step - loss: 0.6108 - mean_squared_error: 0.6108\n",
      "Epoch 42/100\n",
      "49/49 [==============================] - 0s 3ms/step - loss: 0.5530 - mean_squared_error: 0.5530\n",
      "Epoch 43/100\n",
      "49/49 [==============================] - 0s 3ms/step - loss: 0.4988 - mean_squared_error: 0.4988\n",
      "Epoch 44/100\n",
      "49/49 [==============================] - 0s 3ms/step - loss: 0.4485 - mean_squared_error: 0.4485\n",
      "Epoch 45/100\n",
      "49/49 [==============================] - 0s 3ms/step - loss: 0.4030 - mean_squared_error: 0.4030\n",
      "Epoch 46/100\n",
      "49/49 [==============================] - 0s 3ms/step - loss: 0.3618 - mean_squared_error: 0.3618\n",
      "Epoch 47/100\n",
      "49/49 [==============================] - 0s 3ms/step - loss: 0.3250 - mean_squared_error: 0.3250\n",
      "Epoch 48/100\n",
      "49/49 [==============================] - 0s 3ms/step - loss: 0.2924 - mean_squared_error: 0.2924\n",
      "Epoch 49/100\n",
      "49/49 [==============================] - 0s 3ms/step - loss: 0.2642 - mean_squared_error: 0.2642\n",
      "Epoch 50/100\n",
      "49/49 [==============================] - 0s 3ms/step - loss: 0.2392 - mean_squared_error: 0.2392\n",
      "Epoch 51/100\n",
      "49/49 [==============================] - 0s 3ms/step - loss: 0.2182 - mean_squared_error: 0.2182\n",
      "Epoch 52/100\n",
      "49/49 [==============================] - 0s 2ms/step - loss: 0.2001 - mean_squared_error: 0.2001\n",
      "Epoch 53/100\n",
      "49/49 [==============================] - 0s 3ms/step - loss: 0.1852 - mean_squared_error: 0.1852\n",
      "Epoch 54/100\n",
      "49/49 [==============================] - 0s 3ms/step - loss: 0.1722 - mean_squared_error: 0.1722\n",
      "Epoch 55/100\n",
      "49/49 [==============================] - 0s 3ms/step - loss: 0.1617 - mean_squared_error: 0.1617\n",
      "Epoch 56/100\n",
      "49/49 [==============================] - 0s 3ms/step - loss: 0.1528 - mean_squared_error: 0.1528\n",
      "Epoch 57/100\n",
      "49/49 [==============================] - 0s 3ms/step - loss: 0.1458 - mean_squared_error: 0.1458\n",
      "Epoch 58/100\n",
      "49/49 [==============================] - 0s 3ms/step - loss: 0.1392 - mean_squared_error: 0.1392\n",
      "Epoch 59/100\n",
      "49/49 [==============================] - 0s 3ms/step - loss: 0.1340 - mean_squared_error: 0.1340\n",
      "Epoch 60/100\n",
      "49/49 [==============================] - 0s 3ms/step - loss: 0.1295 - mean_squared_error: 0.1295\n",
      "Epoch 61/100\n",
      "49/49 [==============================] - 0s 3ms/step - loss: 0.1257 - mean_squared_error: 0.1257\n",
      "Epoch 62/100\n",
      "49/49 [==============================] - 0s 3ms/step - loss: 0.1224 - mean_squared_error: 0.1224\n",
      "Epoch 63/100\n",
      "49/49 [==============================] - 0s 3ms/step - loss: 0.1196 - mean_squared_error: 0.1196\n",
      "Epoch 64/100\n",
      "49/49 [==============================] - 0s 3ms/step - loss: 0.1172 - mean_squared_error: 0.1172\n",
      "Epoch 65/100\n",
      "49/49 [==============================] - 0s 5ms/step - loss: 0.1150 - mean_squared_error: 0.1150\n",
      "Epoch 66/100\n",
      "49/49 [==============================] - 0s 3ms/step - loss: 0.1131 - mean_squared_error: 0.1131\n",
      "Epoch 67/100\n",
      "49/49 [==============================] - 0s 3ms/step - loss: 0.1117 - mean_squared_error: 0.1117\n",
      "Epoch 68/100\n",
      "49/49 [==============================] - 0s 3ms/step - loss: 0.1101 - mean_squared_error: 0.1101\n",
      "Epoch 69/100\n",
      "49/49 [==============================] - 0s 3ms/step - loss: 0.1088 - mean_squared_error: 0.1088\n",
      "Epoch 70/100\n",
      "49/49 [==============================] - 0s 3ms/step - loss: 0.1076 - mean_squared_error: 0.1076\n",
      "Epoch 71/100\n",
      "49/49 [==============================] - 0s 3ms/step - loss: 0.1071 - mean_squared_error: 0.1071\n",
      "Epoch 72/100\n",
      "49/49 [==============================] - 0s 3ms/step - loss: 0.1061 - mean_squared_error: 0.1061\n",
      "Epoch 73/100\n",
      "49/49 [==============================] - 0s 2ms/step - loss: 0.1049 - mean_squared_error: 0.1049\n",
      "Epoch 74/100\n",
      "49/49 [==============================] - 0s 3ms/step - loss: 0.1043 - mean_squared_error: 0.1043\n",
      "Epoch 75/100\n",
      "49/49 [==============================] - 0s 2ms/step - loss: 0.1036 - mean_squared_error: 0.1036\n",
      "Epoch 76/100\n",
      "49/49 [==============================] - 0s 2ms/step - loss: 0.1029 - mean_squared_error: 0.1029\n",
      "Epoch 77/100\n",
      "49/49 [==============================] - 0s 2ms/step - loss: 0.1027 - mean_squared_error: 0.1027\n",
      "Epoch 78/100\n",
      "49/49 [==============================] - 0s 3ms/step - loss: 0.1020 - mean_squared_error: 0.1020\n",
      "Epoch 79/100\n",
      "49/49 [==============================] - 0s 3ms/step - loss: 0.1015 - mean_squared_error: 0.1015\n",
      "Epoch 80/100\n",
      "49/49 [==============================] - 0s 3ms/step - loss: 0.1010 - mean_squared_error: 0.1010\n",
      "Epoch 81/100\n",
      "49/49 [==============================] - 0s 3ms/step - loss: 0.1005 - mean_squared_error: 0.1005\n",
      "Epoch 82/100\n",
      "49/49 [==============================] - 0s 3ms/step - loss: 0.1002 - mean_squared_error: 0.1002\n",
      "Epoch 83/100\n",
      "49/49 [==============================] - 0s 2ms/step - loss: 0.0996 - mean_squared_error: 0.0996\n",
      "Epoch 84/100\n",
      "49/49 [==============================] - 0s 2ms/step - loss: 0.0993 - mean_squared_error: 0.0993\n",
      "Epoch 85/100\n",
      "49/49 [==============================] - 0s 3ms/step - loss: 0.0989 - mean_squared_error: 0.0989\n",
      "Epoch 86/100\n",
      "49/49 [==============================] - 0s 3ms/step - loss: 0.0986 - mean_squared_error: 0.0986\n",
      "Epoch 87/100\n",
      "49/49 [==============================] - 0s 2ms/step - loss: 0.0982 - mean_squared_error: 0.0982\n",
      "Epoch 88/100\n",
      "49/49 [==============================] - 0s 2ms/step - loss: 0.0981 - mean_squared_error: 0.0981\n",
      "Epoch 89/100\n",
      "49/49 [==============================] - 0s 3ms/step - loss: 0.0975 - mean_squared_error: 0.0975\n",
      "Epoch 90/100\n",
      "49/49 [==============================] - 0s 3ms/step - loss: 0.0971 - mean_squared_error: 0.0971\n",
      "Epoch 91/100\n",
      "49/49 [==============================] - 0s 3ms/step - loss: 0.0971 - mean_squared_error: 0.0971\n",
      "Epoch 92/100\n",
      "49/49 [==============================] - 0s 3ms/step - loss: 0.0966 - mean_squared_error: 0.0966\n",
      "Epoch 93/100\n",
      "49/49 [==============================] - 0s 3ms/step - loss: 0.0963 - mean_squared_error: 0.0963\n",
      "Epoch 94/100\n",
      "49/49 [==============================] - 0s 3ms/step - loss: 0.0960 - mean_squared_error: 0.0960\n",
      "Epoch 95/100\n",
      "49/49 [==============================] - 0s 3ms/step - loss: 0.0957 - mean_squared_error: 0.0957\n",
      "Epoch 96/100\n",
      "49/49 [==============================] - 0s 3ms/step - loss: 0.0953 - mean_squared_error: 0.0953\n",
      "Epoch 97/100\n",
      "49/49 [==============================] - 0s 3ms/step - loss: 0.0950 - mean_squared_error: 0.0950\n",
      "Epoch 98/100\n",
      "49/49 [==============================] - 0s 3ms/step - loss: 0.0947 - mean_squared_error: 0.0947\n",
      "Epoch 99/100\n",
      "49/49 [==============================] - 0s 3ms/step - loss: 0.0944 - mean_squared_error: 0.0944\n",
      "Epoch 100/100\n",
      "49/49 [==============================] - 0s 3ms/step - loss: 0.0940 - mean_squared_error: 0.0940\n"
     ]
    },
    {
     "data": {
      "text/plain": [
       "[<matplotlib.lines.Line2D at 0x7fa79074cac0>]"
      ]
     },
     "execution_count": 29,
     "metadata": {},
     "output_type": "execute_result"
    },
    {
     "data": {
      "image/png": "[encoded data removed]",
      "text/plain": [
       "<Figure size 432x288 with 1 Axes>"
      ]
     },
     "metadata": {
      "needs_background": "light"
     },
     "output_type": "display_data"
    }
   ],
   "source": [
    "# Train Model 5 and plot the training loss\n",
    "history = model5.fit(X, Y, epochs=100, batch_size=4096)\n",
    "plt.plot(history.history['mean_squared_error'])"
   ]
  },
  {
   "cell_type": "code",
   "execution_count": 30,
   "metadata": {},
   "outputs": [
    {
     "name": "stdout",
     "output_type": "stream",
     "text": [
      "391/391 [==============================] - 0s 1ms/step\n"
     ]
    },
    {
     "data": {
      "text/plain": [
       "0.09376348168108721"
      ]
     },
     "execution_count": 30,
     "metadata": {},
     "output_type": "execute_result"
    }
   ],
   "source": [
    "predict5 = model5.predict(X, batch_size=512)\n",
    "mean_squared_error(Y, predict5)"
   ]
  },
  {
   "cell_type": "code",
   "execution_count": 31,
   "metadata": {},
   "outputs": [
    {
     "data": {
      "text/plain": [
       "<matplotlib.legend.Legend at 0x7fa79074ece0>"
      ]
     },
     "execution_count": 31,
     "metadata": {},
     "output_type": "execute_result"
    },
    {
     "data": {
      "image/png": "[encoded data removed]",
      "text/plain": [
       "<Figure size 432x288 with 1 Axes>"
      ]
     },
     "metadata": {
      "needs_background": "light"
     },
     "output_type": "display_data"
    }
   ],
   "source": [
    "# Predict and plot the original ANN with ReLU and ANN with ELU\n",
    "plt.scatter(X, Y, label='target')\n",
    "plt.scatter(X, predict4, label='ANN ReLU')\n",
    "plt.scatter(X, predict5, label='ANN ELU')\n",
    "plt.legend(loc='best')"
   ]
  },
  {
   "cell_type": "markdown",
   "metadata": {},
   "source": [
    "### Artificial Neural Network (Deep Learning)\n",
    "Sweet! almost a perfect fit! Though, can we do better? Let's try adding more hidden layers and see what happens!"
   ]
  },
  {
   "cell_type": "code",
   "execution_count": 32,
   "metadata": {},
   "outputs": [],
   "source": [
    "# Create Model6 with ELU Activation Function and Compile with Adam + MSE\n",
    "# Model6 should be a deep neural network with input layer (1 node) / 6 hidden layers (8 nodes) / output layer (1 node)\n",
    "\n",
    "input3 = keras.layers.Input(1)\n",
    "x3 = keras.layers.Dense(8, activation='elu')(input3)\n",
    "x3 = keras.layers.Dense(8, activation='elu')(x3)\n",
    "x3 = keras.layers.Dense(8, activation='elu')(x3)\n",
    "x3 = keras.layers.Dense(8, activation='elu')(x3)\n",
    "x3 = keras.layers.Dense(8, activation='elu')(x3)\n",
    "x3 = keras.layers.Dense(8, activation='elu')(x3)\n",
    "output3 = keras.layers.Dense(1) (x3)\n",
    "\n",
    "model6 = keras.Model(input3, output3)\n",
    "model6.compile(optimizer='adam', loss=keras.losses.MeanSquaredError(), metrics=keras.metrics.MeanSquaredError())"
   ]
  },
  {
   "cell_type": "code",
   "execution_count": 33,
   "metadata": {},
   "outputs": [
    {
     "name": "stdout",
     "output_type": "stream",
     "text": [
      "Epoch 1/128\n",
      "49/49 [==============================] - 1s 5ms/step - loss: 1.9322 - mean_squared_error: 1.9322\n",
      "Epoch 2/128\n",
      "49/49 [==============================] - 0s 6ms/step - loss: 1.3209 - mean_squared_error: 1.3209\n",
      "Epoch 3/128\n",
      "49/49 [==============================] - 0s 8ms/step - loss: 0.2703 - mean_squared_error: 0.2703\n",
      "Epoch 4/128\n",
      "49/49 [==============================] - 0s 8ms/step - loss: 0.0509 - mean_squared_error: 0.0509\n",
      "Epoch 5/128\n",
      "49/49 [==============================] - 0s 9ms/step - loss: 0.0463 - mean_squared_error: 0.0463\n",
      "Epoch 6/128\n",
      "49/49 [==============================] - 0s 6ms/step - loss: 0.0440 - mean_squared_error: 0.0440\n",
      "Epoch 7/128\n",
      "49/49 [==============================] - 0s 6ms/step - loss: 0.0422 - mean_squared_error: 0.0422\n",
      "Epoch 8/128\n",
      "49/49 [==============================] - 0s 6ms/step - loss: 0.0401 - mean_squared_error: 0.0401\n",
      "Epoch 9/128\n",
      "49/49 [==============================] - 0s 5ms/step - loss: 0.0383 - mean_squared_error: 0.0383\n",
      "Epoch 10/128\n",
      "49/49 [==============================] - 0s 5ms/step - loss: 0.0362 - mean_squared_error: 0.0362\n",
      "Epoch 11/128\n",
      "49/49 [==============================] - 0s 5ms/step - loss: 0.0343 - mean_squared_error: 0.0343\n",
      "Epoch 12/128\n",
      "49/49 [==============================] - 0s 5ms/step - loss: 0.0325 - mean_squared_error: 0.0325\n",
      "Epoch 13/128\n",
      "49/49 [==============================] - 0s 5ms/step - loss: 0.0306 - mean_squared_error: 0.0306\n",
      "Epoch 14/128\n",
      "49/49 [==============================] - 0s 5ms/step - loss: 0.0285 - mean_squared_error: 0.0285\n",
      "Epoch 15/128\n",
      "49/49 [==============================] - 0s 5ms/step - loss: 0.0265 - mean_squared_error: 0.0265\n",
      "Epoch 16/128\n",
      "49/49 [==============================] - 0s 6ms/step - loss: 0.0246 - mean_squared_error: 0.0246\n",
      "Epoch 17/128\n",
      "49/49 [==============================] - 0s 6ms/step - loss: 0.0227 - mean_squared_error: 0.0227\n",
      "Epoch 18/128\n",
      "49/49 [==============================] - 0s 5ms/step - loss: 0.0212 - mean_squared_error: 0.0212\n",
      "Epoch 19/128\n",
      "49/49 [==============================] - 0s 5ms/step - loss: 0.0193 - mean_squared_error: 0.0193\n",
      "Epoch 20/128\n",
      "49/49 [==============================] - 0s 7ms/step - loss: 0.0175 - mean_squared_error: 0.0175\n",
      "Epoch 21/128\n",
      "49/49 [==============================] - 0s 5ms/step - loss: 0.0156 - mean_squared_error: 0.0156\n",
      "Epoch 22/128\n",
      "49/49 [==============================] - 0s 5ms/step - loss: 0.0136 - mean_squared_error: 0.0136\n",
      "Epoch 23/128\n",
      "49/49 [==============================] - 0s 6ms/step - loss: 0.0117 - mean_squared_error: 0.0117\n",
      "Epoch 24/128\n",
      "49/49 [==============================] - 0s 5ms/step - loss: 0.0099 - mean_squared_error: 0.0099\n",
      "Epoch 25/128\n",
      "49/49 [==============================] - 0s 5ms/step - loss: 0.0083 - mean_squared_error: 0.0083\n",
      "Epoch 26/128\n",
      "49/49 [==============================] - 0s 5ms/step - loss: 0.0070 - mean_squared_error: 0.0070\n",
      "Epoch 27/128\n",
      "49/49 [==============================] - 0s 5ms/step - loss: 0.0059 - mean_squared_error: 0.0059\n",
      "Epoch 28/128\n",
      "49/49 [==============================] - 0s 5ms/step - loss: 0.0049 - mean_squared_error: 0.0049\n",
      "Epoch 29/128\n",
      "49/49 [==============================] - 0s 6ms/step - loss: 0.0042 - mean_squared_error: 0.0042\n",
      "Epoch 30/128\n",
      "49/49 [==============================] - 0s 5ms/step - loss: 0.0036 - mean_squared_error: 0.0036\n",
      "Epoch 31/128\n",
      "49/49 [==============================] - 0s 5ms/step - loss: 0.0031 - mean_squared_error: 0.0031\n",
      "Epoch 32/128\n",
      "49/49 [==============================] - 0s 5ms/step - loss: 0.0027 - mean_squared_error: 0.0027\n",
      "Epoch 33/128\n",
      "49/49 [==============================] - 0s 5ms/step - loss: 0.0024 - mean_squared_error: 0.0024\n",
      "Epoch 34/128\n",
      "49/49 [==============================] - 0s 5ms/step - loss: 0.0021 - mean_squared_error: 0.0021\n",
      "Epoch 35/128\n",
      "49/49 [==============================] - 0s 5ms/step - loss: 0.0019 - mean_squared_error: 0.0019\n",
      "Epoch 36/128\n",
      "49/49 [==============================] - 0s 5ms/step - loss: 0.0017 - mean_squared_error: 0.0017\n",
      "Epoch 37/128\n",
      "49/49 [==============================] - 0s 5ms/step - loss: 0.0016 - mean_squared_error: 0.0016\n",
      "Epoch 38/128\n",
      "49/49 [==============================] - 0s 5ms/step - loss: 0.0015 - mean_squared_error: 0.0015\n",
      "Epoch 39/128\n",
      "49/49 [==============================] - 0s 5ms/step - loss: 0.0014 - mean_squared_error: 0.0014\n",
      "Epoch 40/128\n",
      "49/49 [==============================] - 0s 6ms/step - loss: 0.0013 - mean_squared_error: 0.0013\n",
      "Epoch 41/128\n",
      "49/49 [==============================] - 0s 5ms/step - loss: 0.0013 - mean_squared_error: 0.0013\n",
      "Epoch 42/128\n",
      "49/49 [==============================] - 0s 3ms/step - loss: 0.0012 - mean_squared_error: 0.0012\n",
      "Epoch 43/128\n",
      "49/49 [==============================] - 0s 4ms/step - loss: 0.0012 - mean_squared_error: 0.0012\n",
      "Epoch 44/128\n",
      "49/49 [==============================] - 0s 4ms/step - loss: 0.0012 - mean_squared_error: 0.0012\n",
      "Epoch 45/128\n",
      "49/49 [==============================] - 0s 4ms/step - loss: 0.0012 - mean_squared_error: 0.0012\n",
      "Epoch 46/128\n",
      "49/49 [==============================] - 0s 4ms/step - loss: 0.0011 - mean_squared_error: 0.0011\n",
      "Epoch 47/128\n",
      "49/49 [==============================] - 0s 4ms/step - loss: 0.0011 - mean_squared_error: 0.0011\n",
      "Epoch 48/128\n",
      "49/49 [==============================] - 0s 4ms/step - loss: 0.0011 - mean_squared_error: 0.0011\n",
      "Epoch 49/128\n",
      "49/49 [==============================] - 0s 5ms/step - loss: 0.0011 - mean_squared_error: 0.0011\n",
      "Epoch 50/128\n",
      "49/49 [==============================] - 0s 4ms/step - loss: 0.0011 - mean_squared_error: 0.0011\n",
      "Epoch 51/128\n",
      "49/49 [==============================] - 0s 4ms/step - loss: 0.0011 - mean_squared_error: 0.0011\n",
      "Epoch 52/128\n",
      "49/49 [==============================] - 0s 4ms/step - loss: 0.0011 - mean_squared_error: 0.0011\n",
      "Epoch 53/128\n",
      "49/49 [==============================] - 0s 4ms/step - loss: 0.0011 - mean_squared_error: 0.0011\n",
      "Epoch 54/128\n",
      "49/49 [==============================] - 0s 4ms/step - loss: 0.0010 - mean_squared_error: 0.0010\n",
      "Epoch 55/128\n",
      "49/49 [==============================] - 0s 4ms/step - loss: 0.0011 - mean_squared_error: 0.0011\n",
      "Epoch 56/128\n",
      "49/49 [==============================] - 0s 4ms/step - loss: 0.0010 - mean_squared_error: 0.0010\n",
      "Epoch 57/128\n",
      "49/49 [==============================] - 0s 4ms/step - loss: 0.0010 - mean_squared_error: 0.0010\n",
      "Epoch 58/128\n",
      "49/49 [==============================] - 0s 4ms/step - loss: 0.0010 - mean_squared_error: 0.0010\n",
      "Epoch 59/128\n",
      "49/49 [==============================] - 0s 4ms/step - loss: 0.0010 - mean_squared_error: 0.0010\n",
      "Epoch 60/128\n",
      "49/49 [==============================] - 0s 4ms/step - loss: 0.0010 - mean_squared_error: 0.0010\n",
      "Epoch 61/128\n",
      "49/49 [==============================] - 0s 4ms/step - loss: 0.0010 - mean_squared_error: 0.0010\n",
      "Epoch 62/128\n",
      "49/49 [==============================] - 0s 4ms/step - loss: 0.0010 - mean_squared_error: 0.0010\n",
      "Epoch 63/128\n",
      "49/49 [==============================] - 0s 4ms/step - loss: 9.9445e-04 - mean_squared_error: 9.9445e-04\n",
      "Epoch 64/128\n",
      "49/49 [==============================] - 0s 4ms/step - loss: 9.9514e-04 - mean_squared_error: 9.9514e-04\n",
      "Epoch 65/128\n",
      "49/49 [==============================] - 0s 4ms/step - loss: 9.9629e-04 - mean_squared_error: 9.9629e-04\n",
      "Epoch 66/128\n",
      "49/49 [==============================] - 0s 4ms/step - loss: 9.9059e-04 - mean_squared_error: 9.9059e-04\n",
      "Epoch 67/128\n",
      "49/49 [==============================] - 0s 4ms/step - loss: 0.0010 - mean_squared_error: 0.0010\n",
      "Epoch 68/128\n",
      "49/49 [==============================] - 0s 5ms/step - loss: 9.9407e-04 - mean_squared_error: 9.9407e-04\n",
      "Epoch 69/128\n",
      "49/49 [==============================] - 0s 5ms/step - loss: 9.9092e-04 - mean_squared_error: 9.9092e-04\n",
      "Epoch 70/128\n",
      "49/49 [==============================] - 0s 4ms/step - loss: 9.9561e-04 - mean_squared_error: 9.9561e-04\n",
      "Epoch 71/128\n",
      "49/49 [==============================] - 0s 5ms/step - loss: 0.0010 - mean_squared_error: 0.0010\n",
      "Epoch 72/128\n",
      "49/49 [==============================] - 0s 4ms/step - loss: 9.7362e-04 - mean_squared_error: 9.7362e-04\n",
      "Epoch 73/128\n",
      "49/49 [==============================] - 0s 4ms/step - loss: 9.7379e-04 - mean_squared_error: 9.7379e-04\n",
      "Epoch 74/128\n",
      "49/49 [==============================] - 0s 5ms/step - loss: 9.8640e-04 - mean_squared_error: 9.8640e-04\n",
      "Epoch 75/128\n",
      "49/49 [==============================] - 0s 5ms/step - loss: 9.8107e-04 - mean_squared_error: 9.8107e-04\n",
      "Epoch 76/128\n",
      "49/49 [==============================] - 0s 4ms/step - loss: 9.6930e-04 - mean_squared_error: 9.6930e-04\n",
      "Epoch 77/128\n",
      "49/49 [==============================] - 0s 5ms/step - loss: 9.6983e-04 - mean_squared_error: 9.6983e-04\n",
      "Epoch 78/128\n",
      "49/49 [==============================] - 0s 5ms/step - loss: 9.6179e-04 - mean_squared_error: 9.6179e-04\n",
      "Epoch 79/128\n",
      "49/49 [==============================] - 0s 4ms/step - loss: 9.6350e-04 - mean_squared_error: 9.6350e-04\n",
      "Epoch 80/128\n",
      "49/49 [==============================] - 0s 4ms/step - loss: 9.6100e-04 - mean_squared_error: 9.6100e-04\n",
      "Epoch 81/128\n",
      "49/49 [==============================] - 0s 4ms/step - loss: 9.7118e-04 - mean_squared_error: 9.7118e-04\n",
      "Epoch 82/128\n",
      "49/49 [==============================] - 0s 4ms/step - loss: 0.0010 - mean_squared_error: 0.0010  \n",
      "Epoch 83/128\n",
      "49/49 [==============================] - 0s 4ms/step - loss: 9.6187e-04 - mean_squared_error: 9.6187e-04\n",
      "Epoch 84/128\n",
      "49/49 [==============================] - 0s 4ms/step - loss: 9.7441e-04 - mean_squared_error: 9.7441e-04\n",
      "Epoch 85/128\n",
      "49/49 [==============================] - 0s 4ms/step - loss: 9.5305e-04 - mean_squared_error: 9.5305e-04\n",
      "Epoch 86/128\n",
      "49/49 [==============================] - 0s 4ms/step - loss: 9.6288e-04 - mean_squared_error: 9.6288e-04\n",
      "Epoch 87/128\n",
      "49/49 [==============================] - 0s 4ms/step - loss: 9.5687e-04 - mean_squared_error: 9.5687e-04\n",
      "Epoch 88/128\n",
      "49/49 [==============================] - 0s 5ms/step - loss: 9.6119e-04 - mean_squared_error: 9.6119e-04\n",
      "Epoch 89/128\n",
      "49/49 [==============================] - 0s 4ms/step - loss: 9.6750e-04 - mean_squared_error: 9.6750e-04\n",
      "Epoch 90/128\n",
      "49/49 [==============================] - 0s 4ms/step - loss: 9.6537e-04 - mean_squared_error: 9.6537e-04\n",
      "Epoch 91/128\n",
      "49/49 [==============================] - 0s 4ms/step - loss: 9.6194e-04 - mean_squared_error: 9.6194e-04\n",
      "Epoch 92/128\n",
      "49/49 [==============================] - 0s 5ms/step - loss: 9.6180e-04 - mean_squared_error: 9.6180e-04\n",
      "Epoch 93/128\n",
      "49/49 [==============================] - 0s 4ms/step - loss: 9.6972e-04 - mean_squared_error: 9.6972e-04\n",
      "Epoch 94/128\n",
      "49/49 [==============================] - 0s 4ms/step - loss: 9.5748e-04 - mean_squared_error: 9.5748e-04\n",
      "Epoch 95/128\n",
      "49/49 [==============================] - 0s 4ms/step - loss: 9.5172e-04 - mean_squared_error: 9.5172e-04\n",
      "Epoch 96/128\n",
      "49/49 [==============================] - 0s 4ms/step - loss: 9.9056e-04 - mean_squared_error: 9.9056e-04\n",
      "Epoch 97/128\n",
      "49/49 [==============================] - 0s 4ms/step - loss: 9.4960e-04 - mean_squared_error: 9.4960e-04\n",
      "Epoch 98/128\n",
      "49/49 [==============================] - 0s 4ms/step - loss: 9.4757e-04 - mean_squared_error: 9.4757e-04\n",
      "Epoch 99/128\n",
      "49/49 [==============================] - 0s 4ms/step - loss: 9.6240e-04 - mean_squared_error: 9.6240e-04\n",
      "Epoch 100/128\n",
      "49/49 [==============================] - 0s 4ms/step - loss: 9.4169e-04 - mean_squared_error: 9.4169e-04\n",
      "Epoch 101/128\n",
      "49/49 [==============================] - 0s 4ms/step - loss: 9.7775e-04 - mean_squared_error: 9.7775e-04\n",
      "Epoch 102/128\n",
      "49/49 [==============================] - 0s 5ms/step - loss: 9.3823e-04 - mean_squared_error: 9.3823e-04\n",
      "Epoch 103/128\n",
      "49/49 [==============================] - 0s 4ms/step - loss: 9.5598e-04 - mean_squared_error: 9.5598e-04\n",
      "Epoch 104/128\n",
      "49/49 [==============================] - 0s 4ms/step - loss: 9.3681e-04 - mean_squared_error: 9.3681e-04\n",
      "Epoch 105/128\n",
      "49/49 [==============================] - 0s 5ms/step - loss: 9.6406e-04 - mean_squared_error: 9.6406e-04\n",
      "Epoch 106/128\n",
      "49/49 [==============================] - 0s 6ms/step - loss: 9.4726e-04 - mean_squared_error: 9.4726e-04\n",
      "Epoch 107/128\n",
      "49/49 [==============================] - 0s 5ms/step - loss: 9.2360e-04 - mean_squared_error: 9.2360e-04\n",
      "Epoch 108/128\n",
      "49/49 [==============================] - 0s 4ms/step - loss: 9.3104e-04 - mean_squared_error: 9.3104e-04\n",
      "Epoch 109/128\n",
      "49/49 [==============================] - 0s 4ms/step - loss: 9.3305e-04 - mean_squared_error: 9.3305e-04\n",
      "Epoch 110/128\n",
      "49/49 [==============================] - 0s 4ms/step - loss: 9.4835e-04 - mean_squared_error: 9.4835e-04\n",
      "Epoch 111/128\n",
      "49/49 [==============================] - 0s 5ms/step - loss: 9.7735e-04 - mean_squared_error: 9.7735e-04\n",
      "Epoch 112/128\n",
      "49/49 [==============================] - 0s 5ms/step - loss: 9.7863e-04 - mean_squared_error: 9.7863e-04\n",
      "Epoch 113/128\n",
      "49/49 [==============================] - 0s 4ms/step - loss: 9.2595e-04 - mean_squared_error: 9.2595e-04\n",
      "Epoch 114/128\n",
      "49/49 [==============================] - 0s 4ms/step - loss: 9.2643e-04 - mean_squared_error: 9.2643e-04\n",
      "Epoch 115/128\n",
      "49/49 [==============================] - 0s 4ms/step - loss: 9.4647e-04 - mean_squared_error: 9.4647e-04\n",
      "Epoch 116/128\n",
      "49/49 [==============================] - 0s 5ms/step - loss: 9.2033e-04 - mean_squared_error: 9.2033e-04\n",
      "Epoch 117/128\n",
      "49/49 [==============================] - 0s 5ms/step - loss: 9.2244e-04 - mean_squared_error: 9.2244e-04\n",
      "Epoch 118/128\n",
      "49/49 [==============================] - 0s 5ms/step - loss: 9.4300e-04 - mean_squared_error: 9.4300e-04\n",
      "Epoch 119/128\n",
      "49/49 [==============================] - 0s 5ms/step - loss: 9.5583e-04 - mean_squared_error: 9.5583e-04\n",
      "Epoch 120/128\n",
      "49/49 [==============================] - 0s 5ms/step - loss: 9.3180e-04 - mean_squared_error: 9.3180e-04\n",
      "Epoch 121/128\n",
      "49/49 [==============================] - 0s 5ms/step - loss: 9.2998e-04 - mean_squared_error: 9.2998e-04\n",
      "Epoch 122/128\n",
      "49/49 [==============================] - 0s 4ms/step - loss: 9.2011e-04 - mean_squared_error: 9.2011e-04\n",
      "Epoch 123/128\n",
      "49/49 [==============================] - 0s 4ms/step - loss: 9.2215e-04 - mean_squared_error: 9.2215e-04\n",
      "Epoch 124/128\n",
      "49/49 [==============================] - 0s 4ms/step - loss: 9.2446e-04 - mean_squared_error: 9.2446e-04\n",
      "Epoch 125/128\n",
      "49/49 [==============================] - 0s 4ms/step - loss: 9.1643e-04 - mean_squared_error: 9.1643e-04\n",
      "Epoch 126/128\n",
      "49/49 [==============================] - 0s 4ms/step - loss: 9.3066e-04 - mean_squared_error: 9.3066e-04\n",
      "Epoch 127/128\n",
      "49/49 [==============================] - 0s 4ms/step - loss: 9.2679e-04 - mean_squared_error: 9.2679e-04\n",
      "Epoch 128/128\n",
      "49/49 [==============================] - 0s 4ms/step - loss: 9.4097e-04 - mean_squared_error: 9.4097e-04\n"
     ]
    },
    {
     "data": {
      "text/plain": [
       "[<matplotlib.lines.Line2D at 0x7fa7387adc60>]"
      ]
     },
     "execution_count": 33,
     "metadata": {},
     "output_type": "execute_result"
    },
    {
     "data": {
      "image/png": "[encoded data removed]",
      "text/plain": [
       "<Figure size 432x288 with 1 Axes>"
      ]
     },
     "metadata": {
      "needs_background": "light"
     },
     "output_type": "display_data"
    }
   ],
   "source": [
    "# Train and plot training loss for model6... if model didn't converge, try upping the epochs\n",
    "history = model6.fit(X, Y, epochs=128, batch_size=4096)\n",
    "plt.plot(history.history['mean_squared_error'])"
   ]
  },
  {
   "cell_type": "code",
   "execution_count": 34,
   "metadata": {},
   "outputs": [
    {
     "name": "stdout",
     "output_type": "stream",
     "text": [
      " 74/391 [====>.........................] - ETA: 0s"
     ]
    },
    {
     "ename": "KeyboardInterrupt",
     "evalue": "",
     "output_type": "error",
     "traceback": [
      "\u001b[0;31m---------------------------------------------------------------------------\u001b[0m",
      "\u001b[0;31mKeyboardInterrupt\u001b[0m                         Traceback (most recent call last)",
      "\u001b[1;32m/home/wcyat/dev/kaggle/code/deep-learning/Exercise 1 - Neural Network for Regression (STUDENT).ipynb Cell 42\u001b[0m in \u001b[0;36m<cell line: 2>\u001b[0;34m()\u001b[0m\n\u001b[1;32m      <a href='vscode-notebook-cell:/home/wcyat/dev/kaggle/code/deep-learning/Exercise%201%20-%20Neural%20Network%20for%20Regression%20%28STUDENT%29.ipynb#ch0000041?line=0'>1</a>\u001b[0m \u001b[39m# Predict, plot and see how it does! The MSE is very low though!!!\u001b[39;00m\n\u001b[0;32m----> <a href='vscode-notebook-cell:/home/wcyat/dev/kaggle/code/deep-learning/Exercise%201%20-%20Neural%20Network%20for%20Regression%20%28STUDENT%29.ipynb#ch0000041?line=1'>2</a>\u001b[0m predict6 \u001b[39m=\u001b[39m model6\u001b[39m.\u001b[39;49mpredict(X, batch_size\u001b[39m=\u001b[39;49m\u001b[39m512\u001b[39;49m)\n\u001b[1;32m      <a href='vscode-notebook-cell:/home/wcyat/dev/kaggle/code/deep-learning/Exercise%201%20-%20Neural%20Network%20for%20Regression%20%28STUDENT%29.ipynb#ch0000041?line=2'>3</a>\u001b[0m plt\u001b[39m.\u001b[39mscatter(X, Y, label\u001b[39m=\u001b[39m\u001b[39m'\u001b[39m\u001b[39mtarget\u001b[39m\u001b[39m'\u001b[39m)\n\u001b[1;32m      <a href='vscode-notebook-cell:/home/wcyat/dev/kaggle/code/deep-learning/Exercise%201%20-%20Neural%20Network%20for%20Regression%20%28STUDENT%29.ipynb#ch0000041?line=3'>4</a>\u001b[0m plt\u001b[39m.\u001b[39mscatter(X, predict4, label\u001b[39m=\u001b[39m\u001b[39m'\u001b[39m\u001b[39mANN ReLU\u001b[39m\u001b[39m'\u001b[39m)\n",
      "File \u001b[0;32m~/dev/kaggle/code/venv/lib/python3.10/site-packages/keras/utils/traceback_utils.py:64\u001b[0m, in \u001b[0;36mfilter_traceback.<locals>.error_handler\u001b[0;34m(*args, **kwargs)\u001b[0m\n\u001b[1;32m     62\u001b[0m filtered_tb \u001b[39m=\u001b[39m \u001b[39mNone\u001b[39;00m\n\u001b[1;32m     63\u001b[0m \u001b[39mtry\u001b[39;00m:\n\u001b[0;32m---> 64\u001b[0m   \u001b[39mreturn\u001b[39;00m fn(\u001b[39m*\u001b[39;49margs, \u001b[39m*\u001b[39;49m\u001b[39m*\u001b[39;49mkwargs)\n\u001b[1;32m     65\u001b[0m \u001b[39mexcept\u001b[39;00m \u001b[39mException\u001b[39;00m \u001b[39mas\u001b[39;00m e:  \u001b[39m# pylint: disable=broad-except\u001b[39;00m\n\u001b[1;32m     66\u001b[0m   filtered_tb \u001b[39m=\u001b[39m _process_traceback_frames(e\u001b[39m.\u001b[39m__traceback__)\n",
      "File \u001b[0;32m~/dev/kaggle/code/venv/lib/python3.10/site-packages/keras/engine/training.py:2033\u001b[0m, in \u001b[0;36mModel.predict\u001b[0;34m(self, x, batch_size, verbose, steps, callbacks, max_queue_size, workers, use_multiprocessing)\u001b[0m\n\u001b[1;32m   2031\u001b[0m \u001b[39mfor\u001b[39;00m step \u001b[39min\u001b[39;00m data_handler\u001b[39m.\u001b[39msteps():\n\u001b[1;32m   2032\u001b[0m   callbacks\u001b[39m.\u001b[39mon_predict_batch_begin(step)\n\u001b[0;32m-> 2033\u001b[0m   tmp_batch_outputs \u001b[39m=\u001b[39m \u001b[39mself\u001b[39;49m\u001b[39m.\u001b[39;49mpredict_function(iterator)\n\u001b[1;32m   2034\u001b[0m   \u001b[39mif\u001b[39;00m data_handler\u001b[39m.\u001b[39mshould_sync:\n\u001b[1;32m   2035\u001b[0m     context\u001b[39m.\u001b[39masync_wait()\n",
      "File \u001b[0;32m~/dev/kaggle/code/venv/lib/python3.10/site-packages/tensorflow/python/util/traceback_utils.py:150\u001b[0m, in \u001b[0;36mfilter_traceback.<locals>.error_handler\u001b[0;34m(*args, **kwargs)\u001b[0m\n\u001b[1;32m    148\u001b[0m filtered_tb \u001b[39m=\u001b[39m \u001b[39mNone\u001b[39;00m\n\u001b[1;32m    149\u001b[0m \u001b[39mtry\u001b[39;00m:\n\u001b[0;32m--> 150\u001b[0m   \u001b[39mreturn\u001b[39;00m fn(\u001b[39m*\u001b[39;49margs, \u001b[39m*\u001b[39;49m\u001b[39m*\u001b[39;49mkwargs)\n\u001b[1;32m    151\u001b[0m \u001b[39mexcept\u001b[39;00m \u001b[39mException\u001b[39;00m \u001b[39mas\u001b[39;00m e:\n\u001b[1;32m    152\u001b[0m   filtered_tb \u001b[39m=\u001b[39m _process_traceback_frames(e\u001b[39m.\u001b[39m__traceback__)\n",
      "File \u001b[0;32m~/dev/kaggle/code/venv/lib/python3.10/site-packages/tensorflow/python/eager/def_function.py:915\u001b[0m, in \u001b[0;36mFunction.__call__\u001b[0;34m(self, *args, **kwds)\u001b[0m\n\u001b[1;32m    912\u001b[0m compiler \u001b[39m=\u001b[39m \u001b[39m\"\u001b[39m\u001b[39mxla\u001b[39m\u001b[39m\"\u001b[39m \u001b[39mif\u001b[39;00m \u001b[39mself\u001b[39m\u001b[39m.\u001b[39m_jit_compile \u001b[39melse\u001b[39;00m \u001b[39m\"\u001b[39m\u001b[39mnonXla\u001b[39m\u001b[39m\"\u001b[39m\n\u001b[1;32m    914\u001b[0m \u001b[39mwith\u001b[39;00m OptionalXlaContext(\u001b[39mself\u001b[39m\u001b[39m.\u001b[39m_jit_compile):\n\u001b[0;32m--> 915\u001b[0m   result \u001b[39m=\u001b[39m \u001b[39mself\u001b[39;49m\u001b[39m.\u001b[39;49m_call(\u001b[39m*\u001b[39;49margs, \u001b[39m*\u001b[39;49m\u001b[39m*\u001b[39;49mkwds)\n\u001b[1;32m    917\u001b[0m new_tracing_count \u001b[39m=\u001b[39m \u001b[39mself\u001b[39m\u001b[39m.\u001b[39mexperimental_get_tracing_count()\n\u001b[1;32m    918\u001b[0m without_tracing \u001b[39m=\u001b[39m (tracing_count \u001b[39m==\u001b[39m new_tracing_count)\n",
      "File \u001b[0;32m~/dev/kaggle/code/venv/lib/python3.10/site-packages/tensorflow/python/eager/def_function.py:954\u001b[0m, in \u001b[0;36mFunction._call\u001b[0;34m(self, *args, **kwds)\u001b[0m\n\u001b[1;32m    951\u001b[0m \u001b[39mself\u001b[39m\u001b[39m.\u001b[39m_lock\u001b[39m.\u001b[39mrelease()\n\u001b[1;32m    952\u001b[0m \u001b[39m# In this case we have not created variables on the first call. So we can\u001b[39;00m\n\u001b[1;32m    953\u001b[0m \u001b[39m# run the first trace but we should fail if variables are created.\u001b[39;00m\n\u001b[0;32m--> 954\u001b[0m results \u001b[39m=\u001b[39m \u001b[39mself\u001b[39;49m\u001b[39m.\u001b[39;49m_stateful_fn(\u001b[39m*\u001b[39;49margs, \u001b[39m*\u001b[39;49m\u001b[39m*\u001b[39;49mkwds)\n\u001b[1;32m    955\u001b[0m \u001b[39mif\u001b[39;00m \u001b[39mself\u001b[39m\u001b[39m.\u001b[39m_created_variables \u001b[39mand\u001b[39;00m \u001b[39mnot\u001b[39;00m ALLOW_DYNAMIC_VARIABLE_CREATION:\n\u001b[1;32m    956\u001b[0m   \u001b[39mraise\u001b[39;00m \u001b[39mValueError\u001b[39;00m(\u001b[39m\"\u001b[39m\u001b[39mCreating variables on a non-first call to a function\u001b[39m\u001b[39m\"\u001b[39m\n\u001b[1;32m    957\u001b[0m                    \u001b[39m\"\u001b[39m\u001b[39m decorated with tf.function.\u001b[39m\u001b[39m\"\u001b[39m)\n",
      "File \u001b[0;32m~/dev/kaggle/code/venv/lib/python3.10/site-packages/tensorflow/python/eager/function.py:2453\u001b[0m, in \u001b[0;36mFunction.__call__\u001b[0;34m(self, *args, **kwargs)\u001b[0m\n\u001b[1;32m   2450\u001b[0m \u001b[39mwith\u001b[39;00m \u001b[39mself\u001b[39m\u001b[39m.\u001b[39m_lock:\n\u001b[1;32m   2451\u001b[0m   (graph_function,\n\u001b[1;32m   2452\u001b[0m    filtered_flat_args) \u001b[39m=\u001b[39m \u001b[39mself\u001b[39m\u001b[39m.\u001b[39m_maybe_define_function(args, kwargs)\n\u001b[0;32m-> 2453\u001b[0m \u001b[39mreturn\u001b[39;00m graph_function\u001b[39m.\u001b[39;49m_call_flat(\n\u001b[1;32m   2454\u001b[0m     filtered_flat_args, captured_inputs\u001b[39m=\u001b[39;49mgraph_function\u001b[39m.\u001b[39;49mcaptured_inputs)\n",
      "File \u001b[0;32m~/dev/kaggle/code/venv/lib/python3.10/site-packages/tensorflow/python/eager/function.py:1860\u001b[0m, in \u001b[0;36mConcreteFunction._call_flat\u001b[0;34m(self, args, captured_inputs, cancellation_manager)\u001b[0m\n\u001b[1;32m   1856\u001b[0m possible_gradient_type \u001b[39m=\u001b[39m gradients_util\u001b[39m.\u001b[39mPossibleTapeGradientTypes(args)\n\u001b[1;32m   1857\u001b[0m \u001b[39mif\u001b[39;00m (possible_gradient_type \u001b[39m==\u001b[39m gradients_util\u001b[39m.\u001b[39mPOSSIBLE_GRADIENT_TYPES_NONE\n\u001b[1;32m   1858\u001b[0m     \u001b[39mand\u001b[39;00m executing_eagerly):\n\u001b[1;32m   1859\u001b[0m   \u001b[39m# No tape is watching; skip to running the function.\u001b[39;00m\n\u001b[0;32m-> 1860\u001b[0m   \u001b[39mreturn\u001b[39;00m \u001b[39mself\u001b[39m\u001b[39m.\u001b[39m_build_call_outputs(\u001b[39mself\u001b[39;49m\u001b[39m.\u001b[39;49m_inference_function\u001b[39m.\u001b[39;49mcall(\n\u001b[1;32m   1861\u001b[0m       ctx, args, cancellation_manager\u001b[39m=\u001b[39;49mcancellation_manager))\n\u001b[1;32m   1862\u001b[0m forward_backward \u001b[39m=\u001b[39m \u001b[39mself\u001b[39m\u001b[39m.\u001b[39m_select_forward_and_backward_functions(\n\u001b[1;32m   1863\u001b[0m     args,\n\u001b[1;32m   1864\u001b[0m     possible_gradient_type,\n\u001b[1;32m   1865\u001b[0m     executing_eagerly)\n\u001b[1;32m   1866\u001b[0m forward_function, args_with_tangents \u001b[39m=\u001b[39m forward_backward\u001b[39m.\u001b[39mforward()\n",
      "File \u001b[0;32m~/dev/kaggle/code/venv/lib/python3.10/site-packages/tensorflow/python/eager/function.py:497\u001b[0m, in \u001b[0;36m_EagerDefinedFunction.call\u001b[0;34m(self, ctx, args, cancellation_manager)\u001b[0m\n\u001b[1;32m    495\u001b[0m \u001b[39mwith\u001b[39;00m _InterpolateFunctionError(\u001b[39mself\u001b[39m):\n\u001b[1;32m    496\u001b[0m   \u001b[39mif\u001b[39;00m cancellation_manager \u001b[39mis\u001b[39;00m \u001b[39mNone\u001b[39;00m:\n\u001b[0;32m--> 497\u001b[0m     outputs \u001b[39m=\u001b[39m execute\u001b[39m.\u001b[39;49mexecute(\n\u001b[1;32m    498\u001b[0m         \u001b[39mstr\u001b[39;49m(\u001b[39mself\u001b[39;49m\u001b[39m.\u001b[39;49msignature\u001b[39m.\u001b[39;49mname),\n\u001b[1;32m    499\u001b[0m         num_outputs\u001b[39m=\u001b[39;49m\u001b[39mself\u001b[39;49m\u001b[39m.\u001b[39;49m_num_outputs,\n\u001b[1;32m    500\u001b[0m         inputs\u001b[39m=\u001b[39;49margs,\n\u001b[1;32m    501\u001b[0m         attrs\u001b[39m=\u001b[39;49mattrs,\n\u001b[1;32m    502\u001b[0m         ctx\u001b[39m=\u001b[39;49mctx)\n\u001b[1;32m    503\u001b[0m   \u001b[39melse\u001b[39;00m:\n\u001b[1;32m    504\u001b[0m     outputs \u001b[39m=\u001b[39m execute\u001b[39m.\u001b[39mexecute_with_cancellation(\n\u001b[1;32m    505\u001b[0m         \u001b[39mstr\u001b[39m(\u001b[39mself\u001b[39m\u001b[39m.\u001b[39msignature\u001b[39m.\u001b[39mname),\n\u001b[1;32m    506\u001b[0m         num_outputs\u001b[39m=\u001b[39m\u001b[39mself\u001b[39m\u001b[39m.\u001b[39m_num_outputs,\n\u001b[0;32m   (...)\u001b[0m\n\u001b[1;32m    509\u001b[0m         ctx\u001b[39m=\u001b[39mctx,\n\u001b[1;32m    510\u001b[0m         cancellation_manager\u001b[39m=\u001b[39mcancellation_manager)\n",
      "File \u001b[0;32m~/dev/kaggle/code/venv/lib/python3.10/site-packages/tensorflow/python/eager/execute.py:54\u001b[0m, in \u001b[0;36mquick_execute\u001b[0;34m(op_name, num_outputs, inputs, attrs, ctx, name)\u001b[0m\n\u001b[1;32m     52\u001b[0m \u001b[39mtry\u001b[39;00m:\n\u001b[1;32m     53\u001b[0m   ctx\u001b[39m.\u001b[39mensure_initialized()\n\u001b[0;32m---> 54\u001b[0m   tensors \u001b[39m=\u001b[39m pywrap_tfe\u001b[39m.\u001b[39;49mTFE_Py_Execute(ctx\u001b[39m.\u001b[39;49m_handle, device_name, op_name,\n\u001b[1;32m     55\u001b[0m                                       inputs, attrs, num_outputs)\n\u001b[1;32m     56\u001b[0m \u001b[39mexcept\u001b[39;00m core\u001b[39m.\u001b[39m_NotOkStatusException \u001b[39mas\u001b[39;00m e:\n\u001b[1;32m     57\u001b[0m   \u001b[39mif\u001b[39;00m name \u001b[39mis\u001b[39;00m \u001b[39mnot\u001b[39;00m \u001b[39mNone\u001b[39;00m:\n",
      "\u001b[0;31mKeyboardInterrupt\u001b[0m: "
     ]
    }
   ],
   "source": [
    "# Predict, plot and see how it does! The MSE is very low though!!!\n",
    "predict6 = model6.predict(X, batch_size=512)\n",
    "plt.scatter(X, Y, label='target')\n",
    "plt.scatter(X, predict4, label='ANN ReLU')\n",
    "plt.scatter(X, predict5, label='ANN ELU')\n",
    "plt.scatter(X, predict6, label='DNN ELU')\n",
    "plt.legend(loc='best')"
   ]
  },
  {
   "cell_type": "code",
   "execution_count": null,
   "metadata": {},
   "outputs": [
    {
     "name": "stdout",
     "output_type": "stream",
     "text": [
      "1/1 [==============================] - 0s 55ms/step\n"
     ]
    },
    {
     "data": {
      "text/plain": [
       "array([[-1.9387916 ],\n",
       "       [-0.78640705],\n",
       "       [-1.7409495 ],\n",
       "       [ 1.175135  ]], dtype=float32)"
      ]
     },
     "execution_count": 90,
     "metadata": {},
     "output_type": "execute_result"
    }
   ],
   "source": [
    "model6.predict( [3.14167, 8.3, 9.9, 5.3])"
   ]
  },
  {
   "cell_type": "markdown",
   "metadata": {},
   "source": [
    "And that, Ladies and gentlemen, this is how you build an epic deep learning model with near perfect fit!\n",
    "But of course, if you ask it to predict something like X = 20 it will fail epically too.\n",
    "Do you know why? We will address the Time Series data problem in the Recurrent Neural Network section."
   ]
  },
  {
   "cell_type": "code",
   "execution_count": null,
   "metadata": {},
   "outputs": [
    {
     "name": "stdout",
     "output_type": "stream",
     "text": [
      "1/1 [==============================] - 0s 112ms/step\n"
     ]
    },
    {
     "data": {
      "text/plain": [
       "<matplotlib.legend.Legend at 0x7f53b46af370>"
      ]
     },
     "execution_count": 83,
     "metadata": {},
     "output_type": "execute_result"
    },
    {
     "data": {
      "image/png": "[encoded data removed]",
      "text/plain": [
       "<Figure size 432x288 with 1 Axes>"
      ]
     },
     "metadata": {
      "needs_background": "light"
     },
     "output_type": "display_data"
    }
   ],
   "source": [
    "# Let's generate a new X that go from 0 to 30 and call it X2\n",
    "# Use model6 to predict and plot it against the target\n",
    "# does it follow the cosine curve tend that you expected?\n",
    "\n",
    "X2 = np.random.uniform(0, 30, size=100)\n",
    "Y2P = model6.predict(X2, batch_size=512)\n",
    "plt.scatter(X, Y, label='target')\n",
    "plt.scatter(X2, Y2P, label='DNN ELU')\n",
    "plt.legend(loc='best')"
   ]
  },
  {
   "cell_type": "markdown",
   "metadata": {},
   "source": [
    "Oh, btw, if someone tell you they can perfect predict stock price with Machine Learning, make sure they are not just showing you t = 0 to t = 10 xD"
   ]
  },
  {
   "cell_type": "code",
   "execution_count": null,
   "metadata": {},
   "outputs": [
    {
     "name": "stdout",
     "output_type": "stream",
     "text": [
      "1/1 [==============================] - 0s 40ms/step\n"
     ]
    },
    {
     "data": {
      "text/plain": [
       "array([-1.954522 , -0.7618207, -1.956065 ,  1.1670932], dtype=float32)"
      ]
     },
     "execution_count": 84,
     "metadata": {},
     "output_type": "execute_result"
    }
   ],
   "source": [
    "np.reshape(model6.predict([3.14167, 8.3, 9.9, 5.3]), (4))"
   ]
  },
  {
   "cell_type": "markdown",
   "metadata": {},
   "source": []
  }
 ],
 "metadata": {
  "kernelspec": {
   "display_name": "Python 3.10.5 ('venv': venv)",
   "language": "python",
   "name": "python3"
  },
  "language_info": {
   "codemirror_mode": {
    "name": "ipython",
    "version": 3
   },
   "file_extension": ".py",
   "mimetype": "text/x-python",
   "name": "python",
   "nbconvert_exporter": "python",
   "pygments_lexer": "ipython3",
   "version": "3.10.6"
  },
  "orig_nbformat": 4,
  "vscode": {
   "interpreter": {
    "hash": "f5ff2f5e56ef3133dccc8e09d46b0dc57e2f5d1229922630f6f4d17b9c4b64d3"
   }
  }
 },
 "nbformat": 4,
 "nbformat_minor": 2
}
