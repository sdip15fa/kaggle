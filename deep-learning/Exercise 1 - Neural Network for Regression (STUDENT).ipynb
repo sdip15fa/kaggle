{
 "cells": [
  {
   "cell_type": "markdown",
   "metadata": {},
   "source": [
    "## Traditional Machine Learning vs Artificial Neural Network for Regression (STUDENT)\n",
    "Billy Hau (7/18/2022)\n",
    "\n",
    "In this notebook, we will go over a simple regression problem to demonstrate why neural networks are much more powerful than traditional machine learning algorithms like those we used in Scikit-Learn. We are only focusing on fitting the trendline today, so we will skip the train-test-split. But make sure when you are dealing with real data, be sure to validate your model!"
   ]
  },
  {
   "cell_type": "code",
   "execution_count": 34,
   "metadata": {},
   "outputs": [],
   "source": [
    "# Import Numpy, Pandas and Matplotlib\n",
    "import numpy as np\n",
    "import pandas as pd\n",
    "import matplotlib.pyplot as plt"
   ]
  },
  {
   "cell_type": "markdown",
   "metadata": {},
   "source": [
    "### Data Collection / Creation\n",
    "Create a dummy dataset for fitting... let's do a cosine curve!"
   ]
  },
  {
   "cell_type": "code",
   "execution_count": 35,
   "metadata": {},
   "outputs": [
    {
     "data": {
      "text/plain": [
       "array([9.352, 2.455, 9.831, ..., 8.686, 9.922, 6.39 ])"
      ]
     },
     "execution_count": 35,
     "metadata": {},
     "output_type": "execute_result"
    }
   ],
   "source": [
    "# Create Random X Integers Values\n",
    "X = np.random.randint(low=0, high=10000, size=200000)/1000\n",
    "X"
   ]
  },
  {
   "cell_type": "code",
   "execution_count": 36,
   "metadata": {},
   "outputs": [],
   "source": [
    "# Create a Cosine curve and add some random noise for Y\n",
    "Y = 2 * np.cos(X) + np.random.rand(X.shape[0]) / 10"
   ]
  },
  {
   "cell_type": "code",
   "execution_count": 37,
   "metadata": {},
   "outputs": [
    {
     "data": {
      "text/plain": [
       "<matplotlib.legend.Legend at 0x7f5499242aa0>"
      ]
     },
     "execution_count": 37,
     "metadata": {},
     "output_type": "execute_result"
    },
    {
     "data": {
      "image/png": "[encoded data removed]",
      "text/plain": [
       "<Figure size 432x288 with 1 Axes>"
      ]
     },
     "metadata": {
      "needs_background": "light"
     },
     "output_type": "display_data"
    }
   ],
   "source": [
    "# Let's create a scatter plot to preview the data\n",
    "plt.scatter(X, Y, label='target')\n",
    "plt.legend()"
   ]
  },
  {
   "cell_type": "markdown",
   "metadata": {},
   "source": [
    "### Traditional Machine Learning Fitting (Linear Regression)"
   ]
  },
  {
   "cell_type": "code",
   "execution_count": 38,
   "metadata": {},
   "outputs": [],
   "source": [
    "# Import Linear Regression from Scikit-Learn library\n",
    "from sklearn.linear_model import LinearRegression\n",
    "from sklearn.ensemble import RandomForestRegressor"
   ]
  },
  {
   "cell_type": "code",
   "execution_count": 39,
   "metadata": {},
   "outputs": [
    {
     "data": {
      "text/html": [
       "<style>#sk-container-id-3 {color: black;background-color: white;}#sk-container-id-3 pre{padding: 0;}#sk-container-id-3 div.sk-toggleable {background-color: white;}#sk-container-id-3 label.sk-toggleable__label {cursor: pointer;display: block;width: 100%;margin-bottom: 0;padding: 0.3em;box-sizing: border-box;text-align: center;}#sk-container-id-3 label.sk-toggleable__label-arrow:before {content: \"▸\";float: left;margin-right: 0.25em;color: #696969;}#sk-container-id-3 label.sk-toggleable__label-arrow:hover:before {color: black;}#sk-container-id-3 div.sk-estimator:hover label.sk-toggleable__label-arrow:before {color: black;}#sk-container-id-3 div.sk-toggleable__content {max-height: 0;max-width: 0;overflow: hidden;text-align: left;background-color: #f0f8ff;}#sk-container-id-3 div.sk-toggleable__content pre {margin: 0.2em;color: black;border-radius: 0.25em;background-color: #f0f8ff;}#sk-container-id-3 input.sk-toggleable__control:checked~div.sk-toggleable__content {max-height: 200px;max-width: 100%;overflow: auto;}#sk-container-id-3 input.sk-toggleable__control:checked~label.sk-toggleable__label-arrow:before {content: \"▾\";}#sk-container-id-3 div.sk-estimator input.sk-toggleable__control:checked~label.sk-toggleable__label {background-color: #d4ebff;}#sk-container-id-3 div.sk-label input.sk-toggleable__control:checked~label.sk-toggleable__label {background-color: #d4ebff;}#sk-container-id-3 input.sk-hidden--visually {border: 0;clip: rect(1px 1px 1px 1px);clip: rect(1px, 1px, 1px, 1px);height: 1px;margin: -1px;overflow: hidden;padding: 0;position: absolute;width: 1px;}#sk-container-id-3 div.sk-estimator {font-family: monospace;background-color: #f0f8ff;border: 1px dotted black;border-radius: 0.25em;box-sizing: border-box;margin-bottom: 0.5em;}#sk-container-id-3 div.sk-estimator:hover {background-color: #d4ebff;}#sk-container-id-3 div.sk-parallel-item::after {content: \"\";width: 100%;border-bottom: 1px solid gray;flex-grow: 1;}#sk-container-id-3 div.sk-label:hover label.sk-toggleable__label {background-color: #d4ebff;}#sk-container-id-3 div.sk-serial::before {content: \"\";position: absolute;border-left: 1px solid gray;box-sizing: border-box;top: 0;bottom: 0;left: 50%;z-index: 0;}#sk-container-id-3 div.sk-serial {display: flex;flex-direction: column;align-items: center;background-color: white;padding-right: 0.2em;padding-left: 0.2em;position: relative;}#sk-container-id-3 div.sk-item {position: relative;z-index: 1;}#sk-container-id-3 div.sk-parallel {display: flex;align-items: stretch;justify-content: center;background-color: white;position: relative;}#sk-container-id-3 div.sk-item::before, #sk-container-id-3 div.sk-parallel-item::before {content: \"\";position: absolute;border-left: 1px solid gray;box-sizing: border-box;top: 0;bottom: 0;left: 50%;z-index: -1;}#sk-container-id-3 div.sk-parallel-item {display: flex;flex-direction: column;z-index: 1;position: relative;background-color: white;}#sk-container-id-3 div.sk-parallel-item:first-child::after {align-self: flex-end;width: 50%;}#sk-container-id-3 div.sk-parallel-item:last-child::after {align-self: flex-start;width: 50%;}#sk-container-id-3 div.sk-parallel-item:only-child::after {width: 0;}#sk-container-id-3 div.sk-dashed-wrapped {border: 1px dashed gray;margin: 0 0.4em 0.5em 0.4em;box-sizing: border-box;padding-bottom: 0.4em;background-color: white;}#sk-container-id-3 div.sk-label label {font-family: monospace;font-weight: bold;display: inline-block;line-height: 1.2em;}#sk-container-id-3 div.sk-label-container {text-align: center;}#sk-container-id-3 div.sk-container {/* jupyter's `normalize.less` sets `[hidden] { display: none; }` but bootstrap.min.css set `[hidden] { display: none !important; }` so we also need the `!important` here to be able to override the default hidden behavior on the sphinx rendered scikit-learn.org. See: https://github.com/scikit-learn/scikit-learn/issues/21755 */display: inline-block !important;position: relative;}#sk-container-id-3 div.sk-text-repr-fallback {display: none;}</style><div id=\"sk-container-id-3\" class=\"sk-top-container\"><div class=\"sk-text-repr-fallback\"><pre>LinearRegression()</pre><b>In a Jupyter environment, please rerun this cell to show the HTML representation or trust the notebook. <br />On GitHub, the HTML representation is unable to render, please try loading this page with nbviewer.org.</b></div><div class=\"sk-container\" hidden><div class=\"sk-item\"><div class=\"sk-estimator sk-toggleable\"><input class=\"sk-toggleable__control sk-hidden--visually\" id=\"sk-estimator-id-3\" type=\"checkbox\" checked><label for=\"sk-estimator-id-3\" class=\"sk-toggleable__label sk-toggleable__label-arrow\">LinearRegression</label><div class=\"sk-toggleable__content\"><pre>LinearRegression()</pre></div></div></div></div></div>"
      ],
      "text/plain": [
       "LinearRegression()"
      ]
     },
     "execution_count": 39,
     "metadata": {},
     "output_type": "execute_result"
    }
   ],
   "source": [
    "# Create a Linear Regression model and fit X and Y\n",
    "model = LinearRegression()\n",
    "model.fit(X.reshape(-1, 1), Y)"
   ]
  },
  {
   "cell_type": "code",
   "execution_count": 40,
   "metadata": {},
   "outputs": [
    {
     "data": {
      "text/plain": [
       "1.9784261446626799"
      ]
     },
     "execution_count": 40,
     "metadata": {},
     "output_type": "execute_result"
    }
   ],
   "source": [
    "# Let's calculate the mean squared error to see how well the fit is\n",
    "from sklearn.metrics import mean_squared_error\n",
    "predict = model.predict(X.reshape(-1, 1))\n",
    "mean_squared_error(Y, predict)"
   ]
  },
  {
   "cell_type": "code",
   "execution_count": 41,
   "metadata": {},
   "outputs": [
    {
     "data": {
      "text/plain": [
       "<matplotlib.legend.Legend at 0x7f5499240970>"
      ]
     },
     "execution_count": 41,
     "metadata": {},
     "output_type": "execute_result"
    },
    {
     "data": {
      "image/png": "[encoded data removed]",
      "text/plain": [
       "<Figure size 432x288 with 1 Axes>"
      ]
     },
     "metadata": {
      "needs_background": "light"
     },
     "output_type": "display_data"
    }
   ],
   "source": [
    "# Create a scatter plot to compare the target data and the model's prediction\n",
    "plt.scatter(X, Y, label='target')\n",
    "plt.plot(X, predict, label='prediction')\n",
    "plt.legend(loc=\"best\")"
   ]
  },
  {
   "cell_type": "markdown",
   "metadata": {},
   "source": [
    "### Traditional Machine Learning Fitting (Feature Engineering X^2)\n",
    "\n",
    "Well, that's a horrible fit! Let's see if we can do better with some feature engineering! Since this is look like a polynomial, why don't we create a X^2 column?"
   ]
  },
  {
   "cell_type": "code",
   "execution_count": 42,
   "metadata": {},
   "outputs": [],
   "source": [
    "# Create a new pandas DataFrame with the X data\n",
    "df = pd.DataFrame(X)"
   ]
  },
  {
   "cell_type": "code",
   "execution_count": 43,
   "metadata": {},
   "outputs": [
    {
     "data": {
      "text/html": [
       "<div>\n",
       "<style scoped>\n",
       "    .dataframe tbody tr th:only-of-type {\n",
       "        vertical-align: middle;\n",
       "    }\n",
       "\n",
       "    .dataframe tbody tr th {\n",
       "        vertical-align: top;\n",
       "    }\n",
       "\n",
       "    .dataframe thead th {\n",
       "        text-align: right;\n",
       "    }\n",
       "</style>\n",
       "<table border=\"1\" class=\"dataframe\">\n",
       "  <thead>\n",
       "    <tr style=\"text-align: right;\">\n",
       "      <th></th>\n",
       "      <th>X</th>\n",
       "    </tr>\n",
       "  </thead>\n",
       "  <tbody>\n",
       "    <tr>\n",
       "      <th>0</th>\n",
       "      <td>9.352</td>\n",
       "    </tr>\n",
       "    <tr>\n",
       "      <th>1</th>\n",
       "      <td>2.455</td>\n",
       "    </tr>\n",
       "    <tr>\n",
       "      <th>2</th>\n",
       "      <td>9.831</td>\n",
       "    </tr>\n",
       "    <tr>\n",
       "      <th>3</th>\n",
       "      <td>8.497</td>\n",
       "    </tr>\n",
       "    <tr>\n",
       "      <th>4</th>\n",
       "      <td>8.901</td>\n",
       "    </tr>\n",
       "    <tr>\n",
       "      <th>...</th>\n",
       "      <td>...</td>\n",
       "    </tr>\n",
       "    <tr>\n",
       "      <th>199995</th>\n",
       "      <td>0.502</td>\n",
       "    </tr>\n",
       "    <tr>\n",
       "      <th>199996</th>\n",
       "      <td>8.272</td>\n",
       "    </tr>\n",
       "    <tr>\n",
       "      <th>199997</th>\n",
       "      <td>8.686</td>\n",
       "    </tr>\n",
       "    <tr>\n",
       "      <th>199998</th>\n",
       "      <td>9.922</td>\n",
       "    </tr>\n",
       "    <tr>\n",
       "      <th>199999</th>\n",
       "      <td>6.390</td>\n",
       "    </tr>\n",
       "  </tbody>\n",
       "</table>\n",
       "<p>200000 rows × 1 columns</p>\n",
       "</div>"
      ],
      "text/plain": [
       "            X\n",
       "0       9.352\n",
       "1       2.455\n",
       "2       9.831\n",
       "3       8.497\n",
       "4       8.901\n",
       "...       ...\n",
       "199995  0.502\n",
       "199996  8.272\n",
       "199997  8.686\n",
       "199998  9.922\n",
       "199999  6.390\n",
       "\n",
       "[200000 rows x 1 columns]"
      ]
     },
     "execution_count": 43,
     "metadata": {},
     "output_type": "execute_result"
    }
   ],
   "source": [
    "# Rename the Column as X\n",
    "df.columns = ['X']\n",
    "df"
   ]
  },
  {
   "cell_type": "code",
   "execution_count": 44,
   "metadata": {},
   "outputs": [],
   "source": [
    "# Create a new column X2 that is X^2\n",
    "df['X2'] = X ** 2"
   ]
  },
  {
   "cell_type": "code",
   "execution_count": 45,
   "metadata": {},
   "outputs": [
    {
     "data": {
      "text/plain": [
       "1.9474702944870195"
      ]
     },
     "execution_count": 45,
     "metadata": {},
     "output_type": "execute_result"
    }
   ],
   "source": [
    "# Let's create a new model called model2, fit the DataFrame and calculate the mean squared error\n",
    "model2 = LinearRegression()\n",
    "model2.fit(df, Y)\n",
    "predict2 = model2.predict(df)\n",
    "mean_squared_error(Y, predict2)"
   ]
  },
  {
   "cell_type": "code",
   "execution_count": 46,
   "metadata": {},
   "outputs": [
    {
     "data": {
      "text/plain": [
       "<matplotlib.legend.Legend at 0x7f549b821f00>"
      ]
     },
     "execution_count": 46,
     "metadata": {},
     "output_type": "execute_result"
    },
    {
     "data": {
      "image/png": "[encoded data removed]",
      "text/plain": [
       "<Figure size 432x288 with 1 Axes>"
      ]
     },
     "metadata": {
      "needs_background": "light"
     },
     "output_type": "display_data"
    }
   ],
   "source": [
    "# Let's plot the target, linear regression (x), linear regression with (x and x^2)\n",
    "plt.scatter(X, Y, label='target')\n",
    "plt.scatter(X, predict, label='linear regression')\n",
    "plt.scatter(X, predict2, label='linear regression with (x and x^2)')\n",
    "plt.legend(loc='best')"
   ]
  },
  {
   "cell_type": "markdown",
   "metadata": {},
   "source": [
    "### Traditional Machine Learning Fitting (Feature Engineering X^3)\n",
    "\n",
    "Eh, I guess at least it curved... X^3!"
   ]
  },
  {
   "cell_type": "code",
   "execution_count": 48,
   "metadata": {},
   "outputs": [],
   "source": [
    "# Let's Make a copy of the DataFrame df and create X3 column\n",
    "df2 = df.copy()\n",
    "df2['X3'] = X ** 3"
   ]
  },
  {
   "cell_type": "code",
   "execution_count": 49,
   "metadata": {},
   "outputs": [
    {
     "data": {
      "text/plain": [
       "0.5930618069655015"
      ]
     },
     "execution_count": 49,
     "metadata": {},
     "output_type": "execute_result"
    }
   ],
   "source": [
    "# Make a LR model called model3, fit it with the data, predict and caclulate the mean squared error\n",
    "model3 = LinearRegression()\n",
    "model3.fit(df2, Y)\n",
    "predict3 = model3.predict(df2)\n",
    "mean_squared_error(Y, predict3)"
   ]
  },
  {
   "cell_type": "code",
   "execution_count": 52,
   "metadata": {},
   "outputs": [
    {
     "data": {
      "text/plain": [
       "<matplotlib.legend.Legend at 0x7f5476386320>"
      ]
     },
     "execution_count": 52,
     "metadata": {},
     "output_type": "execute_result"
    },
    {
     "data": {
      "image/png": "[encoded data removed]",
      "text/plain": [
       "<Figure size 432x288 with 1 Axes>"
      ]
     },
     "metadata": {
      "needs_background": "light"
     },
     "output_type": "display_data"
    }
   ],
   "source": [
    "# Let's plot and see the result\n",
    "plt.scatter(X, Y, label='target')\n",
    "plt.scatter(X, predict, label='linear regression')\n",
    "plt.scatter(X, predict2, label='linear regression with (x and x^2)')\n",
    "plt.scatter(X, predict3, label='linear regression with (x and x^3)')\n",
    "plt.legend(loc='best')"
   ]
  },
  {
   "cell_type": "markdown",
   "metadata": {},
   "source": [
    "### Artificial Neural Network (MLP)\n",
    "Alright, that's better, not ideal, but alright fit. Maybe we need to do more feature engineering, or pick a different algorithm like Random Forest... but let's give Artificial Neural Netowrk a try and see how it performs. \n",
    "\n",
    "Remember how the activation function in a neural network gives the model its non-linearity? This data set is non-linear, so let's see how it do!\n",
    "\n",
    "Let's start with a Simple Artificial Neural Network (Multi-Layer Perceptron)"
   ]
  },
  {
   "cell_type": "code",
   "execution_count": 53,
   "metadata": {},
   "outputs": [
    {
     "name": "stderr",
     "output_type": "stream",
     "text": [
      "2022-07-23 12:21:47.413793: I tensorflow/core/util/util.cc:169] oneDNN custom operations are on. You may see slightly different numerical results due to floating-point round-off errors from different computation orders. To turn them off, set the environment variable `TF_ENABLE_ONEDNN_OPTS=0`.\n"
     ]
    }
   ],
   "source": [
    "# Import TensorFlow and Keras\n",
    "import tensorflow as tf\n",
    "from tensorflow import keras"
   ]
  },
  {
   "cell_type": "code",
   "execution_count": 55,
   "metadata": {},
   "outputs": [],
   "source": [
    "# Let's Create a Simple Multi-Layer Perceptron\n",
    "# 3 layers: Input with 1 node / Hidden Layer with 64 nodes (use 'relu' for activation) / Output Layer with 1 node\n",
    "\n",
    "input = keras.layers.Input(1)\n",
    "x = keras.layers.Dense(64, activation='relu')(input)\n",
    "output = keras.layers.Dense(1)(x)"
   ]
  },
  {
   "cell_type": "code",
   "execution_count": 56,
   "metadata": {},
   "outputs": [],
   "source": [
    "# Create model4 in Keras\n",
    "model4 = keras.Model(input, output)"
   ]
  },
  {
   "cell_type": "code",
   "execution_count": 61,
   "metadata": {},
   "outputs": [
    {
     "name": "stdout",
     "output_type": "stream",
     "text": [
      "Model: \"model\"\n",
      "_________________________________________________________________\n",
      " Layer (type)                Output Shape              Param #   \n",
      "=================================================================\n",
      " input_2 (InputLayer)        [(None, 1)]               0         \n",
      "                                                                 \n",
      " dense_2 (Dense)             (None, 64)                128       \n",
      "                                                                 \n",
      " dense_3 (Dense)             (None, 1)                 65        \n",
      "                                                                 \n",
      "=================================================================\n",
      "Total params: 193\n",
      "Trainable params: 193\n",
      "Non-trainable params: 0\n",
      "_________________________________________________________________\n"
     ]
    }
   ],
   "source": [
    "model4.summary()"
   ]
  },
  {
   "cell_type": "code",
   "execution_count": 57,
   "metadata": {},
   "outputs": [],
   "source": [
    "# Compile the model with Adam optimizer, Mean Squared Error as losses and metrics\n",
    "model4.compile(optimizer='adam', loss='mse', metrics=['mse'])"
   ]
  },
  {
   "cell_type": "code",
   "execution_count": 58,
   "metadata": {},
   "outputs": [
    {
     "name": "stdout",
     "output_type": "stream",
     "text": [
      "Epoch 1/100\n",
      "196/196 [==============================] - 1s 2ms/step - loss: 1.9879 - mse: 1.9879\n",
      "Epoch 2/100\n",
      "196/196 [==============================] - 0s 2ms/step - loss: 1.9350 - mse: 1.9350\n",
      "Epoch 3/100\n",
      "196/196 [==============================] - 0s 2ms/step - loss: 1.8732 - mse: 1.8732\n",
      "Epoch 4/100\n",
      "196/196 [==============================] - 0s 2ms/step - loss: 1.8022 - mse: 1.8022\n",
      "Epoch 5/100\n",
      "196/196 [==============================] - 1s 3ms/step - loss: 1.7408 - mse: 1.7408\n",
      "Epoch 6/100\n",
      "196/196 [==============================] - 1s 3ms/step - loss: 1.6982 - mse: 1.6982\n",
      "Epoch 7/100\n",
      "196/196 [==============================] - 1s 3ms/step - loss: 1.6744 - mse: 1.6744\n",
      "Epoch 8/100\n",
      "196/196 [==============================] - 1s 3ms/step - loss: 1.6648 - mse: 1.6648\n",
      "Epoch 9/100\n",
      "196/196 [==============================] - 0s 2ms/step - loss: 1.6616 - mse: 1.6616\n",
      "Epoch 10/100\n",
      "196/196 [==============================] - 0s 3ms/step - loss: 1.6611 - mse: 1.6611\n",
      "Epoch 11/100\n",
      "196/196 [==============================] - 0s 3ms/step - loss: 1.6612 - mse: 1.6612\n",
      "Epoch 12/100\n",
      "196/196 [==============================] - 0s 2ms/step - loss: 1.6605 - mse: 1.6605\n",
      "Epoch 13/100\n",
      "196/196 [==============================] - 0s 2ms/step - loss: 1.6605 - mse: 1.6605\n",
      "Epoch 14/100\n",
      "196/196 [==============================] - 0s 2ms/step - loss: 1.6603 - mse: 1.6603\n",
      "Epoch 15/100\n",
      "196/196 [==============================] - 0s 2ms/step - loss: 1.6605 - mse: 1.6605\n",
      "Epoch 16/100\n",
      "196/196 [==============================] - 0s 2ms/step - loss: 1.6604 - mse: 1.6604\n",
      "Epoch 17/100\n",
      "196/196 [==============================] - 1s 3ms/step - loss: 1.6605 - mse: 1.6605\n",
      "Epoch 18/100\n",
      "196/196 [==============================] - 1s 3ms/step - loss: 1.6608 - mse: 1.6608\n",
      "Epoch 19/100\n",
      "196/196 [==============================] - 1s 3ms/step - loss: 1.6606 - mse: 1.6606\n",
      "Epoch 20/100\n",
      "196/196 [==============================] - 1s 3ms/step - loss: 1.6605 - mse: 1.6605\n",
      "Epoch 21/100\n",
      "196/196 [==============================] - 1s 3ms/step - loss: 1.6607 - mse: 1.6607\n",
      "Epoch 22/100\n",
      "196/196 [==============================] - 1s 3ms/step - loss: 1.6601 - mse: 1.6601\n",
      "Epoch 23/100\n",
      "196/196 [==============================] - 1s 4ms/step - loss: 1.6608 - mse: 1.6608\n",
      "Epoch 24/100\n",
      "196/196 [==============================] - 1s 3ms/step - loss: 1.6609 - mse: 1.6609\n",
      "Epoch 25/100\n",
      "196/196 [==============================] - 1s 3ms/step - loss: 1.6608 - mse: 1.6608\n",
      "Epoch 26/100\n",
      "196/196 [==============================] - 1s 3ms/step - loss: 1.6598 - mse: 1.6598\n",
      "Epoch 27/100\n",
      "196/196 [==============================] - 1s 3ms/step - loss: 1.6600 - mse: 1.6600\n",
      "Epoch 28/100\n",
      "196/196 [==============================] - 1s 3ms/step - loss: 1.6606 - mse: 1.6606\n",
      "Epoch 29/100\n",
      "196/196 [==============================] - 1s 3ms/step - loss: 1.6600 - mse: 1.6600\n",
      "Epoch 30/100\n",
      "196/196 [==============================] - 1s 4ms/step - loss: 1.6604 - mse: 1.6604\n",
      "Epoch 31/100\n",
      "196/196 [==============================] - 1s 3ms/step - loss: 1.6605 - mse: 1.6605\n",
      "Epoch 32/100\n",
      "196/196 [==============================] - 1s 3ms/step - loss: 1.6294 - mse: 1.6294\n",
      "Epoch 33/100\n",
      "196/196 [==============================] - 1s 3ms/step - loss: 1.4733 - mse: 1.4733\n",
      "Epoch 34/100\n",
      "196/196 [==============================] - 0s 2ms/step - loss: 1.2477 - mse: 1.2477\n",
      "Epoch 35/100\n",
      "196/196 [==============================] - 0s 2ms/step - loss: 0.9426 - mse: 0.9426\n",
      "Epoch 36/100\n",
      "196/196 [==============================] - 1s 3ms/step - loss: 0.6589 - mse: 0.6589\n",
      "Epoch 37/100\n",
      "196/196 [==============================] - 1s 3ms/step - loss: 0.4432 - mse: 0.4432\n",
      "Epoch 38/100\n",
      "196/196 [==============================] - 0s 2ms/step - loss: 0.2920 - mse: 0.2920\n",
      "Epoch 39/100\n",
      "196/196 [==============================] - 0s 2ms/step - loss: 0.1925 - mse: 0.1925\n",
      "Epoch 40/100\n",
      "196/196 [==============================] - 0s 2ms/step - loss: 0.1310 - mse: 0.1310\n",
      "Epoch 41/100\n",
      "196/196 [==============================] - 0s 2ms/step - loss: 0.0955 - mse: 0.0955\n",
      "Epoch 42/100\n",
      "196/196 [==============================] - 0s 2ms/step - loss: 0.0764 - mse: 0.0764\n",
      "Epoch 43/100\n",
      "196/196 [==============================] - 0s 2ms/step - loss: 0.0666 - mse: 0.0666\n",
      "Epoch 44/100\n",
      "196/196 [==============================] - 0s 3ms/step - loss: 0.0618 - mse: 0.0618\n",
      "Epoch 45/100\n",
      "196/196 [==============================] - 0s 2ms/step - loss: 0.0594 - mse: 0.0594\n",
      "Epoch 46/100\n",
      "196/196 [==============================] - 0s 2ms/step - loss: 0.0584 - mse: 0.0584\n",
      "Epoch 47/100\n",
      "196/196 [==============================] - 0s 2ms/step - loss: 0.0579 - mse: 0.0579\n",
      "Epoch 48/100\n",
      "196/196 [==============================] - 0s 2ms/step - loss: 0.0577 - mse: 0.0577\n",
      "Epoch 49/100\n",
      "196/196 [==============================] - 0s 2ms/step - loss: 0.0577 - mse: 0.0577\n",
      "Epoch 50/100\n",
      "196/196 [==============================] - 0s 2ms/step - loss: 0.0578 - mse: 0.0578\n",
      "Epoch 51/100\n",
      "196/196 [==============================] - 0s 2ms/step - loss: 0.0577 - mse: 0.0577\n",
      "Epoch 52/100\n",
      "196/196 [==============================] - 0s 3ms/step - loss: 0.0576 - mse: 0.0576\n",
      "Epoch 53/100\n",
      "196/196 [==============================] - 0s 2ms/step - loss: 0.0577 - mse: 0.0577\n",
      "Epoch 54/100\n",
      "196/196 [==============================] - 1s 4ms/step - loss: 0.0576 - mse: 0.0576\n",
      "Epoch 55/100\n",
      "196/196 [==============================] - 0s 2ms/step - loss: 0.0576 - mse: 0.0576\n",
      "Epoch 56/100\n",
      "196/196 [==============================] - 0s 2ms/step - loss: 0.0577 - mse: 0.0577\n",
      "Epoch 57/100\n",
      "196/196 [==============================] - 0s 2ms/step - loss: 0.0576 - mse: 0.0576\n",
      "Epoch 58/100\n",
      "196/196 [==============================] - 0s 2ms/step - loss: 0.0576 - mse: 0.0576\n",
      "Epoch 59/100\n",
      "196/196 [==============================] - 0s 2ms/step - loss: 0.0577 - mse: 0.0577\n",
      "Epoch 60/100\n",
      "196/196 [==============================] - 0s 2ms/step - loss: 0.0575 - mse: 0.0575\n",
      "Epoch 61/100\n",
      "196/196 [==============================] - 0s 2ms/step - loss: 0.0577 - mse: 0.0577\n",
      "Epoch 62/100\n",
      "196/196 [==============================] - 0s 2ms/step - loss: 0.0575 - mse: 0.0575\n",
      "Epoch 63/100\n",
      "196/196 [==============================] - 0s 2ms/step - loss: 0.0575 - mse: 0.0575\n",
      "Epoch 64/100\n",
      "196/196 [==============================] - 0s 2ms/step - loss: 0.0577 - mse: 0.0577\n",
      "Epoch 65/100\n",
      "196/196 [==============================] - 0s 2ms/step - loss: 0.0577 - mse: 0.0577\n",
      "Epoch 66/100\n",
      "196/196 [==============================] - 0s 2ms/step - loss: 0.0575 - mse: 0.0575\n",
      "Epoch 67/100\n",
      "196/196 [==============================] - 1s 3ms/step - loss: 0.0576 - mse: 0.0576\n",
      "Epoch 68/100\n",
      "196/196 [==============================] - 1s 3ms/step - loss: 0.0575 - mse: 0.0575\n",
      "Epoch 69/100\n",
      "196/196 [==============================] - 1s 3ms/step - loss: 0.0577 - mse: 0.0577\n",
      "Epoch 70/100\n",
      "196/196 [==============================] - 1s 3ms/step - loss: 0.0577 - mse: 0.0577\n",
      "Epoch 71/100\n",
      "196/196 [==============================] - 0s 2ms/step - loss: 0.0575 - mse: 0.0575\n",
      "Epoch 72/100\n",
      "196/196 [==============================] - 0s 2ms/step - loss: 0.0577 - mse: 0.0577\n",
      "Epoch 73/100\n",
      "196/196 [==============================] - 0s 2ms/step - loss: 0.0575 - mse: 0.0575\n",
      "Epoch 74/100\n",
      "196/196 [==============================] - 1s 3ms/step - loss: 0.0575 - mse: 0.0575\n",
      "Epoch 75/100\n",
      "196/196 [==============================] - 0s 3ms/step - loss: 0.0575 - mse: 0.0575\n",
      "Epoch 76/100\n",
      "196/196 [==============================] - 1s 3ms/step - loss: 0.0576 - mse: 0.0576\n",
      "Epoch 77/100\n",
      "196/196 [==============================] - 1s 3ms/step - loss: 0.0576 - mse: 0.0576\n",
      "Epoch 78/100\n",
      "196/196 [==============================] - 1s 3ms/step - loss: 0.0577 - mse: 0.0577\n",
      "Epoch 79/100\n",
      "196/196 [==============================] - 1s 4ms/step - loss: 0.0576 - mse: 0.0576\n",
      "Epoch 80/100\n",
      "196/196 [==============================] - 1s 3ms/step - loss: 0.0577 - mse: 0.0577\n",
      "Epoch 81/100\n",
      "196/196 [==============================] - 1s 3ms/step - loss: 0.0575 - mse: 0.0575\n",
      "Epoch 82/100\n",
      "196/196 [==============================] - 1s 3ms/step - loss: 0.0576 - mse: 0.0576\n",
      "Epoch 83/100\n",
      "196/196 [==============================] - 1s 3ms/step - loss: 0.0576 - mse: 0.0576\n",
      "Epoch 84/100\n",
      "196/196 [==============================] - 1s 3ms/step - loss: 0.0575 - mse: 0.0575\n",
      "Epoch 85/100\n",
      "196/196 [==============================] - 1s 3ms/step - loss: 0.0575 - mse: 0.0575\n",
      "Epoch 86/100\n",
      "196/196 [==============================] - 1s 3ms/step - loss: 0.0575 - mse: 0.0575\n",
      "Epoch 87/100\n",
      "196/196 [==============================] - 1s 3ms/step - loss: 0.0576 - mse: 0.0576\n",
      "Epoch 88/100\n",
      "196/196 [==============================] - 0s 2ms/step - loss: 0.0575 - mse: 0.0575\n",
      "Epoch 89/100\n",
      "196/196 [==============================] - 0s 2ms/step - loss: 0.0575 - mse: 0.0575\n",
      "Epoch 90/100\n",
      "196/196 [==============================] - 1s 3ms/step - loss: 0.0575 - mse: 0.0575\n",
      "Epoch 91/100\n",
      "196/196 [==============================] - 0s 2ms/step - loss: 0.0575 - mse: 0.0575\n",
      "Epoch 92/100\n",
      "196/196 [==============================] - 1s 4ms/step - loss: 0.0576 - mse: 0.0576\n",
      "Epoch 93/100\n",
      "196/196 [==============================] - 1s 3ms/step - loss: 0.0575 - mse: 0.0575\n",
      "Epoch 94/100\n",
      "196/196 [==============================] - 1s 4ms/step - loss: 0.0575 - mse: 0.0575\n",
      "Epoch 95/100\n",
      "196/196 [==============================] - 1s 3ms/step - loss: 0.0575 - mse: 0.0575\n",
      "Epoch 96/100\n",
      "196/196 [==============================] - 0s 2ms/step - loss: 0.0575 - mse: 0.0575\n",
      "Epoch 97/100\n",
      "196/196 [==============================] - 0s 2ms/step - loss: 0.0576 - mse: 0.0576\n",
      "Epoch 98/100\n",
      "196/196 [==============================] - 0s 2ms/step - loss: 0.0575 - mse: 0.0575\n",
      "Epoch 99/100\n",
      "196/196 [==============================] - 1s 3ms/step - loss: 0.0576 - mse: 0.0576\n",
      "Epoch 100/100\n",
      "196/196 [==============================] - 0s 2ms/step - loss: 0.0575 - mse: 0.0575\n"
     ]
    }
   ],
   "source": [
    "# Let's fit the model for 100 epochs. If you have a GPU, you can try upping the batch_size to around 4096 to speed up training\n",
    "# Though smaller batch also make a model less likely to overfitted... it's a trade off\n",
    "# You can run the training for longer or shorter by changing the epochs\n",
    "history = model4.fit(X,Y, epochs=100, batch_size=4096)"
   ]
  },
  {
   "cell_type": "code",
   "execution_count": 59,
   "metadata": {},
   "outputs": [
    {
     "data": {
      "text/plain": [
       "[<matplotlib.lines.Line2D at 0x7f5435fed3f0>]"
      ]
     },
     "execution_count": 59,
     "metadata": {},
     "output_type": "execute_result"
    },
    {
     "data": {
      "image/png": "[encoded data removed]",
      "text/plain": [
       "<Figure size 432x288 with 1 Axes>"
      ]
     },
     "metadata": {
      "needs_background": "light"
     },
     "output_type": "display_data"
    }
   ],
   "source": [
    "# Let's plot the fitting history to see if we converged to a solution\n",
    "plt.plot(history.history['loss'])"
   ]
  },
  {
   "cell_type": "code",
   "execution_count": null,
   "metadata": {},
   "outputs": [],
   "source": [
    "# well, it seems that the model basically stop improving after like 20 epochs... "
   ]
  },
  {
   "cell_type": "code",
   "execution_count": 62,
   "metadata": {},
   "outputs": [
    {
     "name": "stdout",
     "output_type": "stream",
     "text": [
      "6250/6250 [==============================] - 8s 1ms/step\n"
     ]
    },
    {
     "data": {
      "text/plain": [
       "0.05724559768285658"
      ]
     },
     "execution_count": 62,
     "metadata": {},
     "output_type": "execute_result"
    }
   ],
   "source": [
    "predict4 = model4.predict(X)\n",
    "mean_squared_error(Y, predict4)"
   ]
  },
  {
   "cell_type": "code",
   "execution_count": 63,
   "metadata": {},
   "outputs": [
    {
     "data": {
      "text/plain": [
       "<matplotlib.legend.Legend at 0x7f54341e3b50>"
      ]
     },
     "execution_count": 63,
     "metadata": {},
     "output_type": "execute_result"
    },
    {
     "data": {
      "image/png": "[encoded data removed]",
      "text/plain": [
       "<Figure size 432x288 with 1 Axes>"
      ]
     },
     "metadata": {
      "needs_background": "light"
     },
     "output_type": "display_data"
    }
   ],
   "source": [
    "# Predict and plot to see how this do\n",
    "plt.scatter(X, Y , label='target')\n",
    "plt.scatter(X, predict, label='RL')\n",
    "plt.scatter(X, predict2, label ='RL2')\n",
    "plt.scatter(X, predict3, label ='RL3')\n",
    "plt.scatter(X, predict4, label='ANN')\n",
    "plt.legend(loc='best')"
   ]
  },
  {
   "cell_type": "code",
   "execution_count": null,
   "metadata": {},
   "outputs": [],
   "source": [
    "# eh, ??? What's with the ANN? It fit very well in the beginning and then it died or something?"
   ]
  },
  {
   "cell_type": "markdown",
   "metadata": {},
   "source": [
    "### Artificial Neural Network (Activation Function)\n",
    "Let's take a look at the activation for ReLU...\n",
    "<br>\n",
    "<img src='https://raw.githubusercontent.com/shruti-jadon/Data_Science_Images/main/activation_function.png' height='300px'>\n",
    "\n",
    "See how it drop off to zero? That's not good... that's because if the perceptron weight sum goes negative, the value became zero. This mess up the gradient descent algorithm in back propagation (the training process). \n",
    "\n",
    "Let's try ELU instead, it provie us a negative value when it is negative. The transition is also smooth unlike Leaky ReLU\n"
   ]
  },
  {
   "cell_type": "code",
   "execution_count": 65,
   "metadata": {},
   "outputs": [],
   "source": [
    "# Create Model5 with ELU Activation Function and Compile with Adam + MSE\n",
    "input2 = keras.layers.Input(1)\n",
    "x2 = keras.layers.Dense(64, activation='elu')(input2)\n",
    "output2 = keras.layers.Dense(1)(x2)\n",
    "\n",
    "model5 = keras.Model(input2, output2)\n",
    "model5.compile(optimizer='adam',\n",
    "               loss=keras.losses.MeanSquaredError(), metrics=keras.metrics.MeanSquaredError())\n"
   ]
  },
  {
   "cell_type": "code",
   "execution_count": 66,
   "metadata": {},
   "outputs": [
    {
     "name": "stdout",
     "output_type": "stream",
     "text": [
      "Epoch 1/100\n",
      "49/49 [==============================] - 1s 4ms/step - loss: 2.0122 - mean_squared_error: 2.0122\n",
      "Epoch 2/100\n",
      "49/49 [==============================] - 0s 4ms/step - loss: 1.9781 - mean_squared_error: 1.9781\n",
      "Epoch 3/100\n",
      "49/49 [==============================] - 0s 4ms/step - loss: 1.9638 - mean_squared_error: 1.9638\n",
      "Epoch 4/100\n",
      "49/49 [==============================] - 0s 4ms/step - loss: 1.9489 - mean_squared_error: 1.9489\n",
      "Epoch 5/100\n",
      "49/49 [==============================] - 0s 4ms/step - loss: 1.9289 - mean_squared_error: 1.9289\n",
      "Epoch 6/100\n",
      "49/49 [==============================] - 0s 4ms/step - loss: 1.9039 - mean_squared_error: 1.9039\n",
      "Epoch 7/100\n",
      "49/49 [==============================] - 0s 4ms/step - loss: 1.8722 - mean_squared_error: 1.8722\n",
      "Epoch 8/100\n",
      "49/49 [==============================] - 0s 4ms/step - loss: 1.8338 - mean_squared_error: 1.8338\n",
      "Epoch 9/100\n",
      "49/49 [==============================] - 0s 4ms/step - loss: 1.7901 - mean_squared_error: 1.7901\n",
      "Epoch 10/100\n",
      "49/49 [==============================] - 0s 4ms/step - loss: 1.7405 - mean_squared_error: 1.7405\n",
      "Epoch 11/100\n",
      "49/49 [==============================] - 0s 4ms/step - loss: 1.6884 - mean_squared_error: 1.6884\n",
      "Epoch 12/100\n",
      "49/49 [==============================] - 0s 7ms/step - loss: 1.6317 - mean_squared_error: 1.6317\n",
      "Epoch 13/100\n",
      "49/49 [==============================] - 0s 5ms/step - loss: 1.5735 - mean_squared_error: 1.5735\n",
      "Epoch 14/100\n",
      "49/49 [==============================] - 0s 5ms/step - loss: 1.5143 - mean_squared_error: 1.5143\n",
      "Epoch 15/100\n",
      "49/49 [==============================] - 0s 5ms/step - loss: 1.4544 - mean_squared_error: 1.4544\n",
      "Epoch 16/100\n",
      "49/49 [==============================] - 0s 5ms/step - loss: 1.3947 - mean_squared_error: 1.3947\n",
      "Epoch 17/100\n",
      "49/49 [==============================] - 0s 5ms/step - loss: 1.3346 - mean_squared_error: 1.3346\n",
      "Epoch 18/100\n",
      "49/49 [==============================] - 0s 5ms/step - loss: 1.2729 - mean_squared_error: 1.2729\n",
      "Epoch 19/100\n",
      "49/49 [==============================] - 0s 5ms/step - loss: 1.2075 - mean_squared_error: 1.2075\n",
      "Epoch 20/100\n",
      "49/49 [==============================] - 0s 4ms/step - loss: 1.1383 - mean_squared_error: 1.1383\n",
      "Epoch 21/100\n",
      "49/49 [==============================] - 0s 4ms/step - loss: 1.0658 - mean_squared_error: 1.0658\n",
      "Epoch 22/100\n",
      "49/49 [==============================] - 0s 4ms/step - loss: 0.9922 - mean_squared_error: 0.9922\n",
      "Epoch 23/100\n",
      "49/49 [==============================] - 0s 4ms/step - loss: 0.9181 - mean_squared_error: 0.9181\n",
      "Epoch 24/100\n",
      "49/49 [==============================] - 0s 5ms/step - loss: 0.8452 - mean_squared_error: 0.8452\n",
      "Epoch 25/100\n",
      "49/49 [==============================] - 0s 4ms/step - loss: 0.7744 - mean_squared_error: 0.7744\n",
      "Epoch 26/100\n",
      "49/49 [==============================] - 0s 4ms/step - loss: 0.7057 - mean_squared_error: 0.7057\n",
      "Epoch 27/100\n",
      "49/49 [==============================] - 0s 4ms/step - loss: 0.6400 - mean_squared_error: 0.6400\n",
      "Epoch 28/100\n",
      "49/49 [==============================] - 0s 5ms/step - loss: 0.5780 - mean_squared_error: 0.5780\n",
      "Epoch 29/100\n",
      "49/49 [==============================] - 0s 4ms/step - loss: 0.5195 - mean_squared_error: 0.5195\n",
      "Epoch 30/100\n",
      "49/49 [==============================] - 0s 6ms/step - loss: 0.4660 - mean_squared_error: 0.4660\n",
      "Epoch 31/100\n",
      "49/49 [==============================] - 0s 4ms/step - loss: 0.4173 - mean_squared_error: 0.4173\n",
      "Epoch 32/100\n",
      "49/49 [==============================] - 0s 5ms/step - loss: 0.3737 - mean_squared_error: 0.3737\n",
      "Epoch 33/100\n",
      "49/49 [==============================] - 0s 4ms/step - loss: 0.3356 - mean_squared_error: 0.3356\n",
      "Epoch 34/100\n",
      "49/49 [==============================] - 0s 4ms/step - loss: 0.3021 - mean_squared_error: 0.3021\n",
      "Epoch 35/100\n",
      "49/49 [==============================] - 0s 4ms/step - loss: 0.2723 - mean_squared_error: 0.2723\n",
      "Epoch 36/100\n",
      "49/49 [==============================] - 0s 4ms/step - loss: 0.2471 - mean_squared_error: 0.2471\n",
      "Epoch 37/100\n",
      "49/49 [==============================] - 0s 5ms/step - loss: 0.2257 - mean_squared_error: 0.2257\n",
      "Epoch 38/100\n",
      "49/49 [==============================] - 0s 4ms/step - loss: 0.2072 - mean_squared_error: 0.2072\n",
      "Epoch 39/100\n",
      "49/49 [==============================] - 0s 4ms/step - loss: 0.1918 - mean_squared_error: 0.1918\n",
      "Epoch 40/100\n",
      "49/49 [==============================] - 0s 4ms/step - loss: 0.1789 - mean_squared_error: 0.1789\n",
      "Epoch 41/100\n",
      "49/49 [==============================] - 0s 6ms/step - loss: 0.1678 - mean_squared_error: 0.1678\n",
      "Epoch 42/100\n",
      "49/49 [==============================] - 0s 5ms/step - loss: 0.1592 - mean_squared_error: 0.1592\n",
      "Epoch 43/100\n",
      "49/49 [==============================] - 0s 4ms/step - loss: 0.1512 - mean_squared_error: 0.1512\n",
      "Epoch 44/100\n",
      "49/49 [==============================] - 0s 5ms/step - loss: 0.1457 - mean_squared_error: 0.1457\n",
      "Epoch 45/100\n",
      "49/49 [==============================] - 0s 6ms/step - loss: 0.1400 - mean_squared_error: 0.1400\n",
      "Epoch 46/100\n",
      "49/49 [==============================] - 0s 5ms/step - loss: 0.1356 - mean_squared_error: 0.1356\n",
      "Epoch 47/100\n",
      "49/49 [==============================] - 0s 4ms/step - loss: 0.1324 - mean_squared_error: 0.1324\n",
      "Epoch 48/100\n",
      "49/49 [==============================] - 0s 4ms/step - loss: 0.1298 - mean_squared_error: 0.1298\n",
      "Epoch 49/100\n",
      "49/49 [==============================] - 0s 4ms/step - loss: 0.1267 - mean_squared_error: 0.1267\n",
      "Epoch 50/100\n",
      "49/49 [==============================] - 0s 4ms/step - loss: 0.1248 - mean_squared_error: 0.1248\n",
      "Epoch 51/100\n",
      "49/49 [==============================] - 0s 4ms/step - loss: 0.1229 - mean_squared_error: 0.1229\n",
      "Epoch 52/100\n",
      "49/49 [==============================] - 0s 4ms/step - loss: 0.1212 - mean_squared_error: 0.1212\n",
      "Epoch 53/100\n",
      "49/49 [==============================] - 0s 4ms/step - loss: 0.1201 - mean_squared_error: 0.1201\n",
      "Epoch 54/100\n",
      "49/49 [==============================] - 0s 5ms/step - loss: 0.1183 - mean_squared_error: 0.1183\n",
      "Epoch 55/100\n",
      "49/49 [==============================] - 0s 5ms/step - loss: 0.1170 - mean_squared_error: 0.1170\n",
      "Epoch 56/100\n",
      "49/49 [==============================] - 0s 4ms/step - loss: 0.1160 - mean_squared_error: 0.1160\n",
      "Epoch 57/100\n",
      "49/49 [==============================] - 0s 4ms/step - loss: 0.1147 - mean_squared_error: 0.1147\n",
      "Epoch 58/100\n",
      "49/49 [==============================] - 0s 4ms/step - loss: 0.1137 - mean_squared_error: 0.1137\n",
      "Epoch 59/100\n",
      "49/49 [==============================] - 0s 4ms/step - loss: 0.1128 - mean_squared_error: 0.1128\n",
      "Epoch 60/100\n",
      "49/49 [==============================] - 0s 4ms/step - loss: 0.1115 - mean_squared_error: 0.1115\n",
      "Epoch 61/100\n",
      "49/49 [==============================] - 0s 4ms/step - loss: 0.1106 - mean_squared_error: 0.1106\n",
      "Epoch 62/100\n",
      "49/49 [==============================] - 0s 4ms/step - loss: 0.1097 - mean_squared_error: 0.1097\n",
      "Epoch 63/100\n",
      "49/49 [==============================] - 0s 4ms/step - loss: 0.1090 - mean_squared_error: 0.1090\n",
      "Epoch 64/100\n",
      "49/49 [==============================] - 0s 5ms/step - loss: 0.1082 - mean_squared_error: 0.1082\n",
      "Epoch 65/100\n",
      "49/49 [==============================] - 0s 4ms/step - loss: 0.1075 - mean_squared_error: 0.1075\n",
      "Epoch 66/100\n",
      "49/49 [==============================] - 0s 4ms/step - loss: 0.1070 - mean_squared_error: 0.1070\n",
      "Epoch 67/100\n",
      "49/49 [==============================] - 0s 5ms/step - loss: 0.1063 - mean_squared_error: 0.1063\n",
      "Epoch 68/100\n",
      "49/49 [==============================] - 0s 4ms/step - loss: 0.1057 - mean_squared_error: 0.1057\n",
      "Epoch 69/100\n",
      "49/49 [==============================] - 0s 4ms/step - loss: 0.1054 - mean_squared_error: 0.1054\n",
      "Epoch 70/100\n",
      "49/49 [==============================] - 0s 4ms/step - loss: 0.1048 - mean_squared_error: 0.1048\n",
      "Epoch 71/100\n",
      "49/49 [==============================] - 0s 4ms/step - loss: 0.1047 - mean_squared_error: 0.1047\n",
      "Epoch 72/100\n",
      "49/49 [==============================] - 0s 7ms/step - loss: 0.1036 - mean_squared_error: 0.1036\n",
      "Epoch 73/100\n",
      "49/49 [==============================] - 0s 5ms/step - loss: 0.1032 - mean_squared_error: 0.1032\n",
      "Epoch 74/100\n",
      "49/49 [==============================] - 0s 4ms/step - loss: 0.1029 - mean_squared_error: 0.1029\n",
      "Epoch 75/100\n",
      "49/49 [==============================] - 0s 4ms/step - loss: 0.1025 - mean_squared_error: 0.1025\n",
      "Epoch 76/100\n",
      "49/49 [==============================] - 0s 4ms/step - loss: 0.1020 - mean_squared_error: 0.1020\n",
      "Epoch 77/100\n",
      "49/49 [==============================] - 0s 5ms/step - loss: 0.1019 - mean_squared_error: 0.1019\n",
      "Epoch 78/100\n",
      "49/49 [==============================] - 0s 4ms/step - loss: 0.1014 - mean_squared_error: 0.1014\n",
      "Epoch 79/100\n",
      "49/49 [==============================] - 0s 4ms/step - loss: 0.1015 - mean_squared_error: 0.1015\n",
      "Epoch 80/100\n",
      "49/49 [==============================] - 0s 4ms/step - loss: 0.1007 - mean_squared_error: 0.1007\n",
      "Epoch 81/100\n",
      "49/49 [==============================] - 0s 4ms/step - loss: 0.1003 - mean_squared_error: 0.1003\n",
      "Epoch 82/100\n",
      "49/49 [==============================] - 0s 4ms/step - loss: 0.0999 - mean_squared_error: 0.0999\n",
      "Epoch 83/100\n",
      "49/49 [==============================] - 0s 4ms/step - loss: 0.0996 - mean_squared_error: 0.0996\n",
      "Epoch 84/100\n",
      "49/49 [==============================] - 0s 4ms/step - loss: 0.0993 - mean_squared_error: 0.0993\n",
      "Epoch 85/100\n",
      "49/49 [==============================] - 0s 4ms/step - loss: 0.0989 - mean_squared_error: 0.0989\n",
      "Epoch 86/100\n",
      "49/49 [==============================] - 0s 4ms/step - loss: 0.0987 - mean_squared_error: 0.0987\n",
      "Epoch 87/100\n",
      "49/49 [==============================] - 0s 4ms/step - loss: 0.0984 - mean_squared_error: 0.0984\n",
      "Epoch 88/100\n",
      "49/49 [==============================] - 0s 4ms/step - loss: 0.0981 - mean_squared_error: 0.0981\n",
      "Epoch 89/100\n",
      "49/49 [==============================] - 0s 4ms/step - loss: 0.0977 - mean_squared_error: 0.0977\n",
      "Epoch 90/100\n",
      "49/49 [==============================] - 0s 4ms/step - loss: 0.0974 - mean_squared_error: 0.0974\n",
      "Epoch 91/100\n",
      "49/49 [==============================] - 0s 4ms/step - loss: 0.0972 - mean_squared_error: 0.0972\n",
      "Epoch 92/100\n",
      "49/49 [==============================] - 0s 5ms/step - loss: 0.0970 - mean_squared_error: 0.0970\n",
      "Epoch 93/100\n",
      "49/49 [==============================] - 0s 4ms/step - loss: 0.0966 - mean_squared_error: 0.0966\n",
      "Epoch 94/100\n",
      "49/49 [==============================] - 0s 4ms/step - loss: 0.0963 - mean_squared_error: 0.0963\n",
      "Epoch 95/100\n",
      "49/49 [==============================] - 0s 4ms/step - loss: 0.0961 - mean_squared_error: 0.0961\n",
      "Epoch 96/100\n",
      "49/49 [==============================] - 0s 4ms/step - loss: 0.0956 - mean_squared_error: 0.0956\n",
      "Epoch 97/100\n",
      "49/49 [==============================] - 0s 4ms/step - loss: 0.0957 - mean_squared_error: 0.0957\n",
      "Epoch 98/100\n",
      "49/49 [==============================] - 0s 4ms/step - loss: 0.0949 - mean_squared_error: 0.0949\n",
      "Epoch 99/100\n",
      "49/49 [==============================] - 0s 4ms/step - loss: 0.0948 - mean_squared_error: 0.0948\n",
      "Epoch 100/100\n",
      "49/49 [==============================] - 0s 4ms/step - loss: 0.0945 - mean_squared_error: 0.0945\n"
     ]
    },
    {
     "data": {
      "text/plain": [
       "[<matplotlib.lines.Line2D at 0x7f5424d39ae0>]"
      ]
     },
     "execution_count": 66,
     "metadata": {},
     "output_type": "execute_result"
    },
    {
     "data": {
      "image/png": "[encoded data removed]",
      "text/plain": [
       "<Figure size 432x288 with 1 Axes>"
      ]
     },
     "metadata": {
      "needs_background": "light"
     },
     "output_type": "display_data"
    }
   ],
   "source": [
    "# Train Model 5 and plot the training loss\n",
    "history = model5.fit(X, Y, epochs=100, batch_size=4096)\n",
    "plt.plot(history.history['mean_squared_error'])"
   ]
  },
  {
   "cell_type": "code",
   "execution_count": 69,
   "metadata": {},
   "outputs": [
    {
     "name": "stdout",
     "output_type": "stream",
     "text": [
      "391/391 [==============================] - 1s 1ms/step\n"
     ]
    },
    {
     "data": {
      "text/plain": [
       "0.09417930530195659"
      ]
     },
     "execution_count": 69,
     "metadata": {},
     "output_type": "execute_result"
    }
   ],
   "source": [
    "predict5 = model5.predict(X, batch_size=512)\n",
    "mean_squared_error(Y, predict5)"
   ]
  },
  {
   "cell_type": "code",
   "execution_count": 70,
   "metadata": {},
   "outputs": [
    {
     "data": {
      "text/plain": [
       "<matplotlib.legend.Legend at 0x7f5424d5eb00>"
      ]
     },
     "execution_count": 70,
     "metadata": {},
     "output_type": "execute_result"
    },
    {
     "data": {
      "image/png": "[encoded data removed]",
      "text/plain": [
       "<Figure size 432x288 with 1 Axes>"
      ]
     },
     "metadata": {
      "needs_background": "light"
     },
     "output_type": "display_data"
    }
   ],
   "source": [
    "# Predict and plot the original ANN with ReLU and ANN with ELU\n",
    "plt.scatter(X, Y, label='target')\n",
    "plt.scatter(X, predict4, label='ANN ReLU')\n",
    "plt.scatter(X, predict5, label='ANN ELU')\n",
    "plt.legend(loc='best')"
   ]
  },
  {
   "cell_type": "markdown",
   "metadata": {},
   "source": [
    "### Artificial Neural Network (Deep Learning)\n",
    "Sweet! almost a perfect fit! Though, can we do better? Let's try adding more hidden layers and see what happens!"
   ]
  },
  {
   "cell_type": "code",
   "execution_count": 87,
   "metadata": {},
   "outputs": [],
   "source": [
    "# Create Model6 with ELU Activation Function and Compile with Adam + MSE\n",
    "# Model6 should be a deep neural network with input layer (1 node) / 6 hidden layers (8 nodes) / output layer (1 node)\n",
    "\n",
    "input3 = keras.layers.Input(1)\n",
    "x3 = keras.layers.Dense(8, activation='elu')(input3)\n",
    "x3 = keras.layers.Dense(8, activation='elu')(x3)\n",
    "x3 = keras.layers.Dense(8, activation='elu')(x3)\n",
    "x3 = keras.layers.Dense(8, activation='elu')(x3)\n",
    "x3 = keras.layers.Dense(8, activation='elu')(x3)\n",
    "x3 = keras.layers.Dense(8, activation='elu')(x3)\n",
    "output3 = keras.layers.Dense(1) (x3)\n",
    "\n",
    "model6 = keras.Model(input3, output3)\n",
    "model6.compile(optimizer='adam', loss=keras.losses.MeanSquaredError(), metrics=keras.metrics.MeanSquaredError())"
   ]
  },
  {
   "cell_type": "code",
   "execution_count": 88,
   "metadata": {},
   "outputs": [
    {
     "name": "stdout",
     "output_type": "stream",
     "text": [
      "Epoch 1/128\n",
      "49/49 [==============================] - 1s 6ms/step - loss: 2.2124 - mean_squared_error: 2.2124\n",
      "Epoch 2/128\n",
      "49/49 [==============================] - 0s 8ms/step - loss: 1.9650 - mean_squared_error: 1.9650\n",
      "Epoch 3/128\n",
      "49/49 [==============================] - 0s 7ms/step - loss: 1.7681 - mean_squared_error: 1.7681\n",
      "Epoch 4/128\n",
      "49/49 [==============================] - 0s 6ms/step - loss: 1.2955 - mean_squared_error: 1.2955\n",
      "Epoch 5/128\n",
      "49/49 [==============================] - 0s 6ms/step - loss: 0.5378 - mean_squared_error: 0.5378\n",
      "Epoch 6/128\n",
      "49/49 [==============================] - 0s 6ms/step - loss: 0.1569 - mean_squared_error: 0.1569\n",
      "Epoch 7/128\n",
      "49/49 [==============================] - 0s 6ms/step - loss: 0.0686 - mean_squared_error: 0.0686\n",
      "Epoch 8/128\n",
      "49/49 [==============================] - 0s 6ms/step - loss: 0.0454 - mean_squared_error: 0.0454\n",
      "Epoch 9/128\n",
      "49/49 [==============================] - 0s 8ms/step - loss: 0.0350 - mean_squared_error: 0.0350\n",
      "Epoch 10/128\n",
      "49/49 [==============================] - 0s 6ms/step - loss: 0.0276 - mean_squared_error: 0.0276\n",
      "Epoch 11/128\n",
      "49/49 [==============================] - 0s 6ms/step - loss: 0.0228 - mean_squared_error: 0.0228\n",
      "Epoch 12/128\n",
      "49/49 [==============================] - 0s 6ms/step - loss: 0.0197 - mean_squared_error: 0.0197\n",
      "Epoch 13/128\n",
      "49/49 [==============================] - 0s 6ms/step - loss: 0.0175 - mean_squared_error: 0.0175\n",
      "Epoch 14/128\n",
      "49/49 [==============================] - 0s 6ms/step - loss: 0.0158 - mean_squared_error: 0.0158\n",
      "Epoch 15/128\n",
      "49/49 [==============================] - 0s 6ms/step - loss: 0.0142 - mean_squared_error: 0.0142\n",
      "Epoch 16/128\n",
      "49/49 [==============================] - 0s 6ms/step - loss: 0.0130 - mean_squared_error: 0.0130\n",
      "Epoch 17/128\n",
      "49/49 [==============================] - 0s 6ms/step - loss: 0.0121 - mean_squared_error: 0.0121\n",
      "Epoch 18/128\n",
      "49/49 [==============================] - 0s 6ms/step - loss: 0.0114 - mean_squared_error: 0.0114\n",
      "Epoch 19/128\n",
      "49/49 [==============================] - 0s 8ms/step - loss: 0.0107 - mean_squared_error: 0.0107\n",
      "Epoch 20/128\n",
      "49/49 [==============================] - 0s 7ms/step - loss: 0.0101 - mean_squared_error: 0.0101\n",
      "Epoch 21/128\n",
      "49/49 [==============================] - 0s 6ms/step - loss: 0.0094 - mean_squared_error: 0.0094\n",
      "Epoch 22/128\n",
      "49/49 [==============================] - 0s 7ms/step - loss: 0.0088 - mean_squared_error: 0.0088\n",
      "Epoch 23/128\n",
      "49/49 [==============================] - 0s 6ms/step - loss: 0.0082 - mean_squared_error: 0.0082\n",
      "Epoch 24/128\n",
      "49/49 [==============================] - 0s 6ms/step - loss: 0.0077 - mean_squared_error: 0.0077\n",
      "Epoch 25/128\n",
      "49/49 [==============================] - 0s 6ms/step - loss: 0.0071 - mean_squared_error: 0.0071\n",
      "Epoch 26/128\n",
      "49/49 [==============================] - 0s 6ms/step - loss: 0.0067 - mean_squared_error: 0.0067\n",
      "Epoch 27/128\n",
      "49/49 [==============================] - 0s 6ms/step - loss: 0.0062 - mean_squared_error: 0.0062\n",
      "Epoch 28/128\n",
      "49/49 [==============================] - 0s 6ms/step - loss: 0.0058 - mean_squared_error: 0.0058\n",
      "Epoch 29/128\n",
      "49/49 [==============================] - 0s 6ms/step - loss: 0.0054 - mean_squared_error: 0.0054\n",
      "Epoch 30/128\n",
      "49/49 [==============================] - 0s 6ms/step - loss: 0.0050 - mean_squared_error: 0.0050\n",
      "Epoch 31/128\n",
      "49/49 [==============================] - 0s 6ms/step - loss: 0.0047 - mean_squared_error: 0.0047\n",
      "Epoch 32/128\n",
      "49/49 [==============================] - 0s 6ms/step - loss: 0.0044 - mean_squared_error: 0.0044\n",
      "Epoch 33/128\n",
      "49/49 [==============================] - 0s 6ms/step - loss: 0.0041 - mean_squared_error: 0.0041\n",
      "Epoch 34/128\n",
      "49/49 [==============================] - 0s 5ms/step - loss: 0.0039 - mean_squared_error: 0.0039\n",
      "Epoch 35/128\n",
      "49/49 [==============================] - 0s 6ms/step - loss: 0.0037 - mean_squared_error: 0.0037\n",
      "Epoch 36/128\n",
      "49/49 [==============================] - 0s 7ms/step - loss: 0.0034 - mean_squared_error: 0.0034\n",
      "Epoch 37/128\n",
      "49/49 [==============================] - 0s 6ms/step - loss: 0.0033 - mean_squared_error: 0.0033\n",
      "Epoch 38/128\n",
      "49/49 [==============================] - 0s 6ms/step - loss: 0.0031 - mean_squared_error: 0.0031\n",
      "Epoch 39/128\n",
      "49/49 [==============================] - 0s 6ms/step - loss: 0.0030 - mean_squared_error: 0.0030\n",
      "Epoch 40/128\n",
      "49/49 [==============================] - 0s 6ms/step - loss: 0.0028 - mean_squared_error: 0.0028\n",
      "Epoch 41/128\n",
      "49/49 [==============================] - 0s 5ms/step - loss: 0.0027 - mean_squared_error: 0.0027\n",
      "Epoch 42/128\n",
      "49/49 [==============================] - 0s 6ms/step - loss: 0.0027 - mean_squared_error: 0.0027\n",
      "Epoch 43/128\n",
      "49/49 [==============================] - 0s 6ms/step - loss: 0.0026 - mean_squared_error: 0.0026\n",
      "Epoch 44/128\n",
      "49/49 [==============================] - 0s 6ms/step - loss: 0.0024 - mean_squared_error: 0.0024\n",
      "Epoch 45/128\n",
      "49/49 [==============================] - 0s 6ms/step - loss: 0.0023 - mean_squared_error: 0.0023\n",
      "Epoch 46/128\n",
      "49/49 [==============================] - 0s 6ms/step - loss: 0.0023 - mean_squared_error: 0.0023\n",
      "Epoch 47/128\n",
      "49/49 [==============================] - 0s 6ms/step - loss: 0.0023 - mean_squared_error: 0.0023\n",
      "Epoch 48/128\n",
      "49/49 [==============================] - 0s 6ms/step - loss: 0.0021 - mean_squared_error: 0.0021\n",
      "Epoch 49/128\n",
      "49/49 [==============================] - 0s 6ms/step - loss: 0.0020 - mean_squared_error: 0.0020\n",
      "Epoch 50/128\n",
      "49/49 [==============================] - 0s 6ms/step - loss: 0.0019 - mean_squared_error: 0.0019\n",
      "Epoch 51/128\n",
      "49/49 [==============================] - 0s 6ms/step - loss: 0.0019 - mean_squared_error: 0.0019\n",
      "Epoch 52/128\n",
      "49/49 [==============================] - 0s 6ms/step - loss: 0.0018 - mean_squared_error: 0.0018\n",
      "Epoch 53/128\n",
      "49/49 [==============================] - 0s 6ms/step - loss: 0.0019 - mean_squared_error: 0.0019\n",
      "Epoch 54/128\n",
      "49/49 [==============================] - 0s 5ms/step - loss: 0.0017 - mean_squared_error: 0.0017\n",
      "Epoch 55/128\n",
      "49/49 [==============================] - 0s 6ms/step - loss: 0.0018 - mean_squared_error: 0.0018\n",
      "Epoch 56/128\n",
      "49/49 [==============================] - 0s 6ms/step - loss: 0.0017 - mean_squared_error: 0.0017\n",
      "Epoch 57/128\n",
      "49/49 [==============================] - 0s 6ms/step - loss: 0.0016 - mean_squared_error: 0.0016\n",
      "Epoch 58/128\n",
      "49/49 [==============================] - 0s 5ms/step - loss: 0.0016 - mean_squared_error: 0.0016\n",
      "Epoch 59/128\n",
      "49/49 [==============================] - 0s 6ms/step - loss: 0.0016 - mean_squared_error: 0.0016\n",
      "Epoch 60/128\n",
      "49/49 [==============================] - 0s 5ms/step - loss: 0.0017 - mean_squared_error: 0.0017\n",
      "Epoch 61/128\n",
      "49/49 [==============================] - 0s 5ms/step - loss: 0.0014 - mean_squared_error: 0.0014\n",
      "Epoch 62/128\n",
      "49/49 [==============================] - 0s 6ms/step - loss: 0.0014 - mean_squared_error: 0.0014\n",
      "Epoch 63/128\n",
      "49/49 [==============================] - 0s 6ms/step - loss: 0.0014 - mean_squared_error: 0.0014\n",
      "Epoch 64/128\n",
      "49/49 [==============================] - 0s 7ms/step - loss: 0.0013 - mean_squared_error: 0.0013\n",
      "Epoch 65/128\n",
      "49/49 [==============================] - 0s 6ms/step - loss: 0.0014 - mean_squared_error: 0.0014\n",
      "Epoch 66/128\n",
      "49/49 [==============================] - 0s 6ms/step - loss: 0.0014 - mean_squared_error: 0.0014\n",
      "Epoch 67/128\n",
      "49/49 [==============================] - 0s 6ms/step - loss: 0.0013 - mean_squared_error: 0.0013\n",
      "Epoch 68/128\n",
      "49/49 [==============================] - 0s 6ms/step - loss: 0.0013 - mean_squared_error: 0.0013\n",
      "Epoch 69/128\n",
      "49/49 [==============================] - 0s 6ms/step - loss: 0.0014 - mean_squared_error: 0.0014\n",
      "Epoch 70/128\n",
      "49/49 [==============================] - 0s 6ms/step - loss: 0.0013 - mean_squared_error: 0.0013\n",
      "Epoch 71/128\n",
      "49/49 [==============================] - 0s 6ms/step - loss: 0.0012 - mean_squared_error: 0.0012\n",
      "Epoch 72/128\n",
      "49/49 [==============================] - 0s 6ms/step - loss: 0.0012 - mean_squared_error: 0.0012\n",
      "Epoch 73/128\n",
      "49/49 [==============================] - 0s 6ms/step - loss: 0.0013 - mean_squared_error: 0.0013\n",
      "Epoch 74/128\n",
      "49/49 [==============================] - 0s 6ms/step - loss: 0.0013 - mean_squared_error: 0.0013\n",
      "Epoch 75/128\n",
      "49/49 [==============================] - 0s 6ms/step - loss: 0.0012 - mean_squared_error: 0.0012\n",
      "Epoch 76/128\n",
      "49/49 [==============================] - 0s 6ms/step - loss: 0.0012 - mean_squared_error: 0.0012\n",
      "Epoch 77/128\n",
      "49/49 [==============================] - 0s 6ms/step - loss: 0.0012 - mean_squared_error: 0.0012\n",
      "Epoch 78/128\n",
      "49/49 [==============================] - 0s 8ms/step - loss: 0.0011 - mean_squared_error: 0.0011\n",
      "Epoch 79/128\n",
      "49/49 [==============================] - 0s 7ms/step - loss: 0.0011 - mean_squared_error: 0.0011\n",
      "Epoch 80/128\n",
      "49/49 [==============================] - 0s 6ms/step - loss: 0.0011 - mean_squared_error: 0.0011\n",
      "Epoch 81/128\n",
      "49/49 [==============================] - 0s 6ms/step - loss: 0.0011 - mean_squared_error: 0.0011\n",
      "Epoch 82/128\n",
      "49/49 [==============================] - 0s 6ms/step - loss: 0.0011 - mean_squared_error: 0.0011\n",
      "Epoch 83/128\n",
      "49/49 [==============================] - 0s 6ms/step - loss: 0.0011 - mean_squared_error: 0.0011\n",
      "Epoch 84/128\n",
      "49/49 [==============================] - 0s 6ms/step - loss: 0.0012 - mean_squared_error: 0.0012\n",
      "Epoch 85/128\n",
      "49/49 [==============================] - 0s 5ms/step - loss: 0.0011 - mean_squared_error: 0.0011\n",
      "Epoch 86/128\n",
      "49/49 [==============================] - 0s 6ms/step - loss: 0.0012 - mean_squared_error: 0.0012\n",
      "Epoch 87/128\n",
      "49/49 [==============================] - 0s 6ms/step - loss: 0.0011 - mean_squared_error: 0.0011\n",
      "Epoch 88/128\n",
      "49/49 [==============================] - 0s 6ms/step - loss: 0.0010 - mean_squared_error: 0.0010\n",
      "Epoch 89/128\n",
      "49/49 [==============================] - 0s 6ms/step - loss: 0.0011 - mean_squared_error: 0.0011\n",
      "Epoch 90/128\n",
      "49/49 [==============================] - 0s 6ms/step - loss: 0.0011 - mean_squared_error: 0.0011\n",
      "Epoch 91/128\n",
      "49/49 [==============================] - 0s 6ms/step - loss: 0.0010 - mean_squared_error: 0.0010\n",
      "Epoch 92/128\n",
      "49/49 [==============================] - 0s 6ms/step - loss: 0.0011 - mean_squared_error: 0.0011\n",
      "Epoch 93/128\n",
      "49/49 [==============================] - 0s 6ms/step - loss: 0.0011 - mean_squared_error: 0.0011\n",
      "Epoch 94/128\n",
      "49/49 [==============================] - 0s 6ms/step - loss: 0.0010 - mean_squared_error: 0.0010\n",
      "Epoch 95/128\n",
      "49/49 [==============================] - 0s 6ms/step - loss: 0.0012 - mean_squared_error: 0.0012\n",
      "Epoch 96/128\n",
      "49/49 [==============================] - 0s 6ms/step - loss: 0.0011 - mean_squared_error: 0.0011\n",
      "Epoch 97/128\n",
      "49/49 [==============================] - 0s 6ms/step - loss: 0.0010 - mean_squared_error: 0.0010\n",
      "Epoch 98/128\n",
      "49/49 [==============================] - 0s 6ms/step - loss: 0.0010 - mean_squared_error: 0.0010\n",
      "Epoch 99/128\n",
      "49/49 [==============================] - 0s 6ms/step - loss: 0.0011 - mean_squared_error: 0.0011\n",
      "Epoch 100/128\n",
      "49/49 [==============================] - 0s 6ms/step - loss: 0.0011 - mean_squared_error: 0.0011\n",
      "Epoch 101/128\n",
      "49/49 [==============================] - 0s 6ms/step - loss: 0.0010 - mean_squared_error: 0.0010\n",
      "Epoch 102/128\n",
      "49/49 [==============================] - 0s 5ms/step - loss: 0.0011 - mean_squared_error: 0.0011\n",
      "Epoch 103/128\n",
      "49/49 [==============================] - 0s 6ms/step - loss: 0.0011 - mean_squared_error: 0.0011\n",
      "Epoch 104/128\n",
      "49/49 [==============================] - 0s 6ms/step - loss: 0.0011 - mean_squared_error: 0.0011\n",
      "Epoch 105/128\n",
      "49/49 [==============================] - 0s 6ms/step - loss: 0.0011 - mean_squared_error: 0.0011\n",
      "Epoch 106/128\n",
      "49/49 [==============================] - 0s 6ms/step - loss: 0.0010 - mean_squared_error: 0.0010\n",
      "Epoch 107/128\n",
      "49/49 [==============================] - 0s 6ms/step - loss: 0.0010 - mean_squared_error: 0.0010\n",
      "Epoch 108/128\n",
      "49/49 [==============================] - 0s 6ms/step - loss: 0.0010 - mean_squared_error: 0.0010\n",
      "Epoch 109/128\n",
      "49/49 [==============================] - 0s 5ms/step - loss: 0.0011 - mean_squared_error: 0.0011\n",
      "Epoch 110/128\n",
      "49/49 [==============================] - 0s 6ms/step - loss: 0.0010 - mean_squared_error: 0.0010\n",
      "Epoch 111/128\n",
      "49/49 [==============================] - 0s 6ms/step - loss: 0.0010 - mean_squared_error: 0.0010\n",
      "Epoch 112/128\n",
      "49/49 [==============================] - 0s 6ms/step - loss: 0.0010 - mean_squared_error: 0.0010\n",
      "Epoch 113/128\n",
      "49/49 [==============================] - 0s 6ms/step - loss: 9.8188e-04 - mean_squared_error: 9.8188e-04\n",
      "Epoch 114/128\n",
      "49/49 [==============================] - 0s 6ms/step - loss: 0.0012 - mean_squared_error: 0.0012\n",
      "Epoch 115/128\n",
      "49/49 [==============================] - 0s 6ms/step - loss: 0.0011 - mean_squared_error: 0.0011\n",
      "Epoch 116/128\n",
      "49/49 [==============================] - 0s 6ms/step - loss: 9.9479e-04 - mean_squared_error: 9.9479e-04\n",
      "Epoch 117/128\n",
      "49/49 [==============================] - 0s 6ms/step - loss: 0.0010 - mean_squared_error: 0.0010\n",
      "Epoch 118/128\n",
      "49/49 [==============================] - 0s 6ms/step - loss: 0.0010 - mean_squared_error: 0.0010\n",
      "Epoch 119/128\n",
      "49/49 [==============================] - 0s 6ms/step - loss: 0.0012 - mean_squared_error: 0.0012\n",
      "Epoch 120/128\n",
      "49/49 [==============================] - 0s 7ms/step - loss: 0.0011 - mean_squared_error: 0.0011\n",
      "Epoch 121/128\n",
      "49/49 [==============================] - 0s 6ms/step - loss: 9.4832e-04 - mean_squared_error: 9.4832e-04\n",
      "Epoch 122/128\n",
      "49/49 [==============================] - 0s 6ms/step - loss: 9.7814e-04 - mean_squared_error: 9.7814e-04\n",
      "Epoch 123/128\n",
      "49/49 [==============================] - 0s 6ms/step - loss: 0.0010 - mean_squared_error: 0.0010\n",
      "Epoch 124/128\n",
      "49/49 [==============================] - 0s 6ms/step - loss: 9.7783e-04 - mean_squared_error: 9.7783e-04\n",
      "Epoch 125/128\n",
      "49/49 [==============================] - 0s 6ms/step - loss: 9.5752e-04 - mean_squared_error: 9.5752e-04\n",
      "Epoch 126/128\n",
      "49/49 [==============================] - 0s 5ms/step - loss: 9.9168e-04 - mean_squared_error: 9.9168e-04\n",
      "Epoch 127/128\n",
      "49/49 [==============================] - 0s 6ms/step - loss: 9.7561e-04 - mean_squared_error: 9.7561e-04\n",
      "Epoch 128/128\n",
      "49/49 [==============================] - 0s 6ms/step - loss: 0.0010 - mean_squared_error: 0.0010\n"
     ]
    },
    {
     "data": {
      "text/plain": [
       "[<matplotlib.lines.Line2D at 0x7f537c687340>]"
      ]
     },
     "execution_count": 88,
     "metadata": {},
     "output_type": "execute_result"
    },
    {
     "data": {
      "image/png": "[encoded data removed]",
      "text/plain": [
       "<Figure size 432x288 with 1 Axes>"
      ]
     },
     "metadata": {
      "needs_background": "light"
     },
     "output_type": "display_data"
    }
   ],
   "source": [
    "# Train and plot training loss for model6... if model didn't converge, try upping the epochs\n",
    "history = model6.fit(X, Y, epochs=128, batch_size=4096)\n",
    "plt.plot(history.history['mean_squared_error'])"
   ]
  },
  {
   "cell_type": "code",
   "execution_count": 89,
   "metadata": {},
   "outputs": [
    {
     "name": "stdout",
     "output_type": "stream",
     "text": [
      "391/391 [==============================] - 1s 2ms/step\n"
     ]
    },
    {
     "data": {
      "text/plain": [
       "<matplotlib.legend.Legend at 0x7f537c6d6d10>"
      ]
     },
     "execution_count": 89,
     "metadata": {},
     "output_type": "execute_result"
    },
    {
     "data": {
      "image/png": "[encoded data removed]",
      "text/plain": [
       "<Figure size 432x288 with 1 Axes>"
      ]
     },
     "metadata": {
      "needs_background": "light"
     },
     "output_type": "display_data"
    }
   ],
   "source": [
    "# Predict, plot and see how it does! The MSE is very low though!!!\n",
    "predict6 = model6.predict(X, batch_size=512)\n",
    "plt.scatter(X, Y, label='target')\n",
    "plt.scatter(X, predict4, label='ANN ReLU')\n",
    "plt.scatter(X, predict5, label='ANN ELU')\n",
    "plt.scatter(X, predict6, label='DNN ELU')\n",
    "plt.legend(loc='best')"
   ]
  },
  {
   "cell_type": "code",
   "execution_count": 90,
   "metadata": {},
   "outputs": [
    {
     "name": "stdout",
     "output_type": "stream",
     "text": [
      "1/1 [==============================] - 0s 55ms/step\n"
     ]
    },
    {
     "data": {
      "text/plain": [
       "array([[-1.9387916 ],\n",
       "       [-0.78640705],\n",
       "       [-1.7409495 ],\n",
       "       [ 1.175135  ]], dtype=float32)"
      ]
     },
     "execution_count": 90,
     "metadata": {},
     "output_type": "execute_result"
    }
   ],
   "source": [
    "model6.predict( [3.14167, 8.3, 9.9, 5.3])"
   ]
  },
  {
   "cell_type": "markdown",
   "metadata": {},
   "source": [
    "And that, Ladies and gentlemen, this is how you build an epic deep learning model with near perfect fit!\n",
    "But of course, if you ask it to predict something like X = 20 it will fail epically too.\n",
    "Do you know why? We will address the Time Series data problem in the Recurrent Neural Network section."
   ]
  },
  {
   "cell_type": "code",
   "execution_count": 83,
   "metadata": {},
   "outputs": [
    {
     "name": "stdout",
     "output_type": "stream",
     "text": [
      "1/1 [==============================] - 0s 112ms/step\n"
     ]
    },
    {
     "data": {
      "text/plain": [
       "<matplotlib.legend.Legend at 0x7f53b46af370>"
      ]
     },
     "execution_count": 83,
     "metadata": {},
     "output_type": "execute_result"
    },
    {
     "data": {
      "image/png": "[encoded data removed]",
      "text/plain": [
       "<Figure size 432x288 with 1 Axes>"
      ]
     },
     "metadata": {
      "needs_background": "light"
     },
     "output_type": "display_data"
    }
   ],
   "source": [
    "# Let's generate a new X that go from 0 to 30 and call it X2\n",
    "# Use model6 to predict and plot it against the target\n",
    "# does it follow the cosine curve tend that you expected?\n",
    "\n",
    "X2 = np.random.uniform(0, 30, size=100)\n",
    "Y2P = model6.predict(X2, batch_size=512)\n",
    "plt.scatter(X, Y, label='target')\n",
    "plt.scatter(X2, Y2P, label='DNN ELU')\n",
    "plt.legend(loc='best')"
   ]
  },
  {
   "cell_type": "markdown",
   "metadata": {},
   "source": [
    "Oh, btw, if someone tell you they can perfect predict stock price with Machine Learning, make sure they are not just showing you t = 0 to t = 10 xD"
   ]
  },
  {
   "cell_type": "code",
   "execution_count": 84,
   "metadata": {},
   "outputs": [
    {
     "name": "stdout",
     "output_type": "stream",
     "text": [
      "1/1 [==============================] - 0s 40ms/step\n"
     ]
    },
    {
     "data": {
      "text/plain": [
       "array([-1.954522 , -0.7618207, -1.956065 ,  1.1670932], dtype=float32)"
      ]
     },
     "execution_count": 84,
     "metadata": {},
     "output_type": "execute_result"
    }
   ],
   "source": [
    "np.reshape(model6.predict([3.14167, 8.3, 9.9, 5.3]), (4))"
   ]
  },
  {
   "cell_type": "markdown",
   "metadata": {},
   "source": []
  }
 ],
 "metadata": {
  "kernelspec": {
   "display_name": "Python 3.10.5 ('venv': venv)",
   "language": "python",
   "name": "python3"
  },
  "language_info": {
   "codemirror_mode": {
    "name": "ipython",
    "version": 3
   },
   "file_extension": ".py",
   "mimetype": "text/x-python",
   "name": "python",
   "nbconvert_exporter": "python",
   "pygments_lexer": "ipython3",
   "version": "3.10.5"
  },
  "orig_nbformat": 4,
  "vscode": {
   "interpreter": {
    "hash": "f5ff2f5e56ef3133dccc8e09d46b0dc57e2f5d1229922630f6f4d17b9c4b64d3"
   }
  }
 },
 "nbformat": 4,
 "nbformat_minor": 2
}
