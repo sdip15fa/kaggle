{
  "cells": [
    {
      "cell_type": "markdown",
      "metadata": {
        "id": "rimCOQ2rGsbv"
      },
      "source": [
        "# Coding Quiz for L15-16 (30 July 2022)\n",
        "\n",
        "Please complete the following notebook and submit your answers using the following link:\n",
        "\n",
        "https://forms.gle/gxg18mzPsDf1BtB1A\n",
        "\n",
        "There are a total of **4** questions and you have 15 mins for this quiz. Good luck! "
      ]
    },
    {
      "cell_type": "markdown",
      "metadata": {
        "id": "7U4bW1ftuP2z"
      },
      "source": [
        "## **You are strongly recommended to run this notebook with GPUs.**\n",
        "\n",
        "*(For Google Colab users, select Runtime> Change runtime type > Hardware Accelerator > GPU)*"
      ]
    },
    {
      "cell_type": "code",
      "execution_count": 48,
      "metadata": {
        "id": "adBFl1zBF_r0"
      },
      "outputs": [],
      "source": [
        "import numpy as np\n",
        "import pandas as pd\n",
        "import seaborn as sb\n",
        "from sklearn.model_selection import train_test_split\n",
        "from sklearn.preprocessing import OneHotEncoder, StandardScaler, OrdinalEncoder\n",
        "from sklearn.linear_model import LinearRegression\n",
        "from sklearn.metrics import mean_squared_error\n",
        "from tensorflow.keras.models import Sequential\n",
        "from tensorflow.keras.layers import Dense"
      ]
    },
    {
      "cell_type": "code",
      "execution_count": 49,
      "metadata": {
        "id": "XYWFJyuvGVEQ"
      },
      "outputs": [],
      "source": [
        "df = sb.load_dataset('diamonds')"
      ]
    },
    {
      "cell_type": "code",
      "execution_count": 50,
      "metadata": {
        "id": "Wbx62awEGVHE"
      },
      "outputs": [
        {
          "data": {
            "text/html": [
              "<div>\n",
              "<style scoped>\n",
              "    .dataframe tbody tr th:only-of-type {\n",
              "        vertical-align: middle;\n",
              "    }\n",
              "\n",
              "    .dataframe tbody tr th {\n",
              "        vertical-align: top;\n",
              "    }\n",
              "\n",
              "    .dataframe thead th {\n",
              "        text-align: right;\n",
              "    }\n",
              "</style>\n",
              "<table border=\"1\" class=\"dataframe\">\n",
              "  <thead>\n",
              "    <tr style=\"text-align: right;\">\n",
              "      <th></th>\n",
              "      <th>carat</th>\n",
              "      <th>cut</th>\n",
              "      <th>color</th>\n",
              "      <th>clarity</th>\n",
              "      <th>depth</th>\n",
              "      <th>table</th>\n",
              "      <th>price</th>\n",
              "      <th>x</th>\n",
              "      <th>y</th>\n",
              "      <th>z</th>\n",
              "    </tr>\n",
              "  </thead>\n",
              "  <tbody>\n",
              "    <tr>\n",
              "      <th>0</th>\n",
              "      <td>0.23</td>\n",
              "      <td>Ideal</td>\n",
              "      <td>E</td>\n",
              "      <td>SI2</td>\n",
              "      <td>61.5</td>\n",
              "      <td>55.0</td>\n",
              "      <td>326</td>\n",
              "      <td>3.95</td>\n",
              "      <td>3.98</td>\n",
              "      <td>2.43</td>\n",
              "    </tr>\n",
              "    <tr>\n",
              "      <th>1</th>\n",
              "      <td>0.21</td>\n",
              "      <td>Premium</td>\n",
              "      <td>E</td>\n",
              "      <td>SI1</td>\n",
              "      <td>59.8</td>\n",
              "      <td>61.0</td>\n",
              "      <td>326</td>\n",
              "      <td>3.89</td>\n",
              "      <td>3.84</td>\n",
              "      <td>2.31</td>\n",
              "    </tr>\n",
              "    <tr>\n",
              "      <th>2</th>\n",
              "      <td>0.23</td>\n",
              "      <td>Good</td>\n",
              "      <td>E</td>\n",
              "      <td>VS1</td>\n",
              "      <td>56.9</td>\n",
              "      <td>65.0</td>\n",
              "      <td>327</td>\n",
              "      <td>4.05</td>\n",
              "      <td>4.07</td>\n",
              "      <td>2.31</td>\n",
              "    </tr>\n",
              "    <tr>\n",
              "      <th>3</th>\n",
              "      <td>0.29</td>\n",
              "      <td>Premium</td>\n",
              "      <td>I</td>\n",
              "      <td>VS2</td>\n",
              "      <td>62.4</td>\n",
              "      <td>58.0</td>\n",
              "      <td>334</td>\n",
              "      <td>4.20</td>\n",
              "      <td>4.23</td>\n",
              "      <td>2.63</td>\n",
              "    </tr>\n",
              "    <tr>\n",
              "      <th>4</th>\n",
              "      <td>0.31</td>\n",
              "      <td>Good</td>\n",
              "      <td>J</td>\n",
              "      <td>SI2</td>\n",
              "      <td>63.3</td>\n",
              "      <td>58.0</td>\n",
              "      <td>335</td>\n",
              "      <td>4.34</td>\n",
              "      <td>4.35</td>\n",
              "      <td>2.75</td>\n",
              "    </tr>\n",
              "    <tr>\n",
              "      <th>...</th>\n",
              "      <td>...</td>\n",
              "      <td>...</td>\n",
              "      <td>...</td>\n",
              "      <td>...</td>\n",
              "      <td>...</td>\n",
              "      <td>...</td>\n",
              "      <td>...</td>\n",
              "      <td>...</td>\n",
              "      <td>...</td>\n",
              "      <td>...</td>\n",
              "    </tr>\n",
              "    <tr>\n",
              "      <th>53935</th>\n",
              "      <td>0.72</td>\n",
              "      <td>Ideal</td>\n",
              "      <td>D</td>\n",
              "      <td>SI1</td>\n",
              "      <td>60.8</td>\n",
              "      <td>57.0</td>\n",
              "      <td>2757</td>\n",
              "      <td>5.75</td>\n",
              "      <td>5.76</td>\n",
              "      <td>3.50</td>\n",
              "    </tr>\n",
              "    <tr>\n",
              "      <th>53936</th>\n",
              "      <td>0.72</td>\n",
              "      <td>Good</td>\n",
              "      <td>D</td>\n",
              "      <td>SI1</td>\n",
              "      <td>63.1</td>\n",
              "      <td>55.0</td>\n",
              "      <td>2757</td>\n",
              "      <td>5.69</td>\n",
              "      <td>5.75</td>\n",
              "      <td>3.61</td>\n",
              "    </tr>\n",
              "    <tr>\n",
              "      <th>53937</th>\n",
              "      <td>0.70</td>\n",
              "      <td>Very Good</td>\n",
              "      <td>D</td>\n",
              "      <td>SI1</td>\n",
              "      <td>62.8</td>\n",
              "      <td>60.0</td>\n",
              "      <td>2757</td>\n",
              "      <td>5.66</td>\n",
              "      <td>5.68</td>\n",
              "      <td>3.56</td>\n",
              "    </tr>\n",
              "    <tr>\n",
              "      <th>53938</th>\n",
              "      <td>0.86</td>\n",
              "      <td>Premium</td>\n",
              "      <td>H</td>\n",
              "      <td>SI2</td>\n",
              "      <td>61.0</td>\n",
              "      <td>58.0</td>\n",
              "      <td>2757</td>\n",
              "      <td>6.15</td>\n",
              "      <td>6.12</td>\n",
              "      <td>3.74</td>\n",
              "    </tr>\n",
              "    <tr>\n",
              "      <th>53939</th>\n",
              "      <td>0.75</td>\n",
              "      <td>Ideal</td>\n",
              "      <td>D</td>\n",
              "      <td>SI2</td>\n",
              "      <td>62.2</td>\n",
              "      <td>55.0</td>\n",
              "      <td>2757</td>\n",
              "      <td>5.83</td>\n",
              "      <td>5.87</td>\n",
              "      <td>3.64</td>\n",
              "    </tr>\n",
              "  </tbody>\n",
              "</table>\n",
              "<p>53940 rows × 10 columns</p>\n",
              "</div>"
            ],
            "text/plain": [
              "       carat        cut color clarity  depth  table  price     x     y     z\n",
              "0       0.23      Ideal     E     SI2   61.5   55.0    326  3.95  3.98  2.43\n",
              "1       0.21    Premium     E     SI1   59.8   61.0    326  3.89  3.84  2.31\n",
              "2       0.23       Good     E     VS1   56.9   65.0    327  4.05  4.07  2.31\n",
              "3       0.29    Premium     I     VS2   62.4   58.0    334  4.20  4.23  2.63\n",
              "4       0.31       Good     J     SI2   63.3   58.0    335  4.34  4.35  2.75\n",
              "...      ...        ...   ...     ...    ...    ...    ...   ...   ...   ...\n",
              "53935   0.72      Ideal     D     SI1   60.8   57.0   2757  5.75  5.76  3.50\n",
              "53936   0.72       Good     D     SI1   63.1   55.0   2757  5.69  5.75  3.61\n",
              "53937   0.70  Very Good     D     SI1   62.8   60.0   2757  5.66  5.68  3.56\n",
              "53938   0.86    Premium     H     SI2   61.0   58.0   2757  6.15  6.12  3.74\n",
              "53939   0.75      Ideal     D     SI2   62.2   55.0   2757  5.83  5.87  3.64\n",
              "\n",
              "[53940 rows x 10 columns]"
            ]
          },
          "execution_count": 50,
          "metadata": {},
          "output_type": "execute_result"
        }
      ],
      "source": [
        "df"
      ]
    },
    {
      "cell_type": "markdown",
      "metadata": {
        "id": "gK8ECw_jG5SC"
      },
      "source": [
        "## Data Pre-processing & Analysis"
      ]
    },
    {
      "cell_type": "code",
      "execution_count": 51,
      "metadata": {
        "id": "DexV5V5HKjHY"
      },
      "outputs": [
        {
          "name": "stdout",
          "output_type": "stream",
          "text": [
            "No. of columns: 10 (Before)\n",
            "No. of columns: 9 (After)\n"
          ]
        }
      ],
      "source": [
        "# remove the column \"color\"\n",
        "\n",
        "print(\"No. of columns: {} (Before)\".format(df.shape[1]))\n",
        "\n",
        "df.drop(columns=['color'], inplace=True) # your code here (1)\n",
        "\n",
        "print(\"No. of columns: {} (After)\".format(df.shape[1]))"
      ]
    },
    {
      "cell_type": "markdown",
      "metadata": {
        "id": "2YpJ0gRpLIqA"
      },
      "source": [
        "**Q1. Correct the code above to remove the column \"color\" from df. (Copy your code to the submission form)**"
      ]
    },
    {
      "cell_type": "code",
      "execution_count": 52,
      "metadata": {
        "id": "AgqJIbjhGVJe"
      },
      "outputs": [
        {
          "name": "stdout",
          "output_type": "stream",
          "text": [
            "<class 'pandas.core.frame.DataFrame'>\n",
            "RangeIndex: 53940 entries, 0 to 53939\n",
            "Data columns (total 9 columns):\n",
            " #   Column   Non-Null Count  Dtype   \n",
            "---  ------   --------------  -----   \n",
            " 0   carat    53940 non-null  float64 \n",
            " 1   cut      53940 non-null  category\n",
            " 2   clarity  53940 non-null  category\n",
            " 3   depth    53940 non-null  float64 \n",
            " 4   table    53940 non-null  float64 \n",
            " 5   price    53940 non-null  int64   \n",
            " 6   x        53940 non-null  float64 \n",
            " 7   y        53940 non-null  float64 \n",
            " 8   z        53940 non-null  float64 \n",
            "dtypes: category(2), float64(6), int64(1)\n",
            "memory usage: 3.0 MB\n"
          ]
        }
      ],
      "source": [
        "df.info()"
      ]
    },
    {
      "cell_type": "markdown",
      "metadata": {
        "id": "hx1PSsGyH9gK"
      },
      "source": [
        "In this exercise, we are trying to predict diamond prices (*price*) using the 8 features (*carat, cut, clarity, depth, table, x, y, z*) given in the dataset.\n",
        "\n"
      ]
    },
    {
      "cell_type": "markdown",
      "metadata": {
        "id": "5N20GpcDKJy8"
      },
      "source": [
        "Categorical feature description:\n",
        "\n",
        "- cut: Fair, Good, Very Good, Premium, Ideal\n",
        "- clarity: I1 (worst), SI2, SI1, VS2, VS1, VVS2, VVS1, IF (best)"
      ]
    },
    {
      "cell_type": "markdown",
      "metadata": {
        "id": "4Te64O2-MUMh"
      },
      "source": [
        "**Q2a. Which of the following is a better encoding method for the categorical features: cut & clarity?**\n",
        "- **One hot encoder**\n",
        "- **Ordinal encoder**\n",
        "\n",
        "**Q2b.  Explain your answer in Q2a.**\n",
        "data has a hierarchy"
      ]
    },
    {
      "cell_type": "markdown",
      "metadata": {
        "id": "NPMMC95lG5xU"
      },
      "source": [
        "## Encoding & feature scaling"
      ]
    },
    {
      "cell_type": "code",
      "execution_count": 53,
      "metadata": {
        "id": "Or5Yg7bxG-J0"
      },
      "outputs": [],
      "source": [
        "# choose an encoder for categorical features\n",
        "# based on your answewr in Q2, assign encoder = 'one hot' or 'ordinal'\n",
        "\n",
        "encoder = 'ordinal' # your code here (2)"
      ]
    },
    {
      "cell_type": "code",
      "execution_count": 54,
      "metadata": {
        "id": "SnG4HmRoNd01"
      },
      "outputs": [],
      "source": [
        "# encode categorical features\n",
        "def encode_cat(encoder_name, data):\n",
        "  if encoder_name == 'one hot':\n",
        "    return OneHotEncoder().fit_transform(data).toarray()\n",
        "  elif encoder_name == 'ordinal':\n",
        "    return OrdinalEncoder(categories=[['Fair', 'Good', 'Very Good', 'Premium', 'Ideal'], ['I1', 'SI2', 'SI1', 'VS2', 'VS1', 'VVS2', 'VVS1', 'IF']]).fit_transform(data)\n",
        "  else:\n",
        "    raise Exception(\"Please assign encoder = 'one hot' or 'ordinal'.\")\n",
        "\n",
        "cat = ['cut', 'clarity']\n",
        "cat_encoded = encode_cat(encoder, df[cat])"
      ]
    },
    {
      "cell_type": "code",
      "execution_count": 55,
      "metadata": {
        "id": "tOTFip7cNd3e"
      },
      "outputs": [],
      "source": [
        "# scaling on numerical features\n",
        "\n",
        "num = ['carat', 'depth', 'table', 'x', 'y', 'z']\n",
        "num_scaled = StandardScaler().fit_transform(df[num])"
      ]
    },
    {
      "cell_type": "code",
      "execution_count": 56,
      "metadata": {
        "id": "FK7L3_cPNsDF"
      },
      "outputs": [],
      "source": [
        "# combine the numpy arrays cat_encoded and num_scaled as input features\n",
        "\n",
        "X =  np.concatenate((cat_encoded, num_scaled), axis=1)"
      ]
    },
    {
      "cell_type": "markdown",
      "metadata": {
        "id": "YCJgWFd2K-t4"
      },
      "source": [
        "*Hint: Try np.concatenate()* \n",
        "\n",
        "*https://numpy.org/doc/stable/reference/generated/numpy.concatenate.html*"
      ]
    },
    {
      "cell_type": "code",
      "execution_count": 57,
      "metadata": {
        "id": "STDDtqocHykL"
      },
      "outputs": [],
      "source": [
        "# scaling on prediction label (price)\n",
        "\n",
        "encoder_y = StandardScaler().fit(df.price.to_numpy().reshape(-1, 1))\n",
        "Y = encoder_y.transform(df.price.to_numpy().reshape(-1, 1))"
      ]
    },
    {
      "cell_type": "markdown",
      "metadata": {
        "id": "lCloLWfqG9nU"
      },
      "source": [
        "## Diamonds Price Prediction Model Training & Evaluation"
      ]
    },
    {
      "cell_type": "code",
      "execution_count": 58,
      "metadata": {
        "id": "vwPkd2RKHAlG"
      },
      "outputs": [],
      "source": [
        "# Split the data into training and testing set with a ratio of 8:2 and random state 10\n",
        "\n",
        "x_train, x_test, y_train, y_test =  train_test_split(X, Y, test_size=0.2, random_state=10)"
      ]
    },
    {
      "cell_type": "code",
      "execution_count": 59,
      "metadata": {
        "id": "dUrPP6mnQG-9"
      },
      "outputs": [
        {
          "name": "stdout",
          "output_type": "stream",
          "text": [
            "MSE: 0.11386911250118208\n"
          ]
        }
      ],
      "source": [
        "# train a basic linear regression model\n",
        "\n",
        "lr_model = LinearRegression()\n",
        "lr_model.fit(x_train, y_train)\n",
        "\n",
        "predict = lr_model.predict(x_test)\n",
        "print(\"MSE: {}\".format(mean_squared_error(y_test, predict)))"
      ]
    },
    {
      "cell_type": "code",
      "execution_count": 60,
      "metadata": {
        "id": "3r-Kg7bzQHBq"
      },
      "outputs": [],
      "source": [
        "# define a deep neural network model\n",
        "\n",
        "dnn_model = Sequential()\n",
        "dnn_model.add(Dense(32, input_shape=(x_train.shape[1],), activation='relu'))\n",
        "dnn_model.add(Dense(32, activation='relu'))\n",
        "dnn_model.add(Dense(1))\n",
        "\n",
        "dnn_model.compile(loss='mean_squared_error', optimizer='adam', metrics=['mean_squared_error'])"
      ]
    },
    {
      "cell_type": "code",
      "execution_count": 61,
      "metadata": {
        "id": "mlVwZzNipGD0"
      },
      "outputs": [
        {
          "name": "stdout",
          "output_type": "stream",
          "text": [
            "Epoch 1/10\n",
            "22/22 [==============================] - 1s 11ms/step - loss: 0.7685 - mean_squared_error: 0.7685\n",
            "Epoch 2/10\n",
            "22/22 [==============================] - 0s 23ms/step - loss: 0.2615 - mean_squared_error: 0.2615\n",
            "Epoch 3/10\n",
            "22/22 [==============================] - 1s 33ms/step - loss: 0.1679 - mean_squared_error: 0.1679\n",
            "Epoch 4/10\n",
            "22/22 [==============================] - 1s 26ms/step - loss: 0.1270 - mean_squared_error: 0.1270\n",
            "Epoch 5/10\n",
            "22/22 [==============================] - 0s 21ms/step - loss: 0.1067 - mean_squared_error: 0.1067\n",
            "Epoch 6/10\n",
            "22/22 [==============================] - 0s 17ms/step - loss: 0.0964 - mean_squared_error: 0.0964\n",
            "Epoch 7/10\n",
            "22/22 [==============================] - 0s 20ms/step - loss: 0.0913 - mean_squared_error: 0.0913\n",
            "Epoch 8/10\n",
            "22/22 [==============================] - 0s 22ms/step - loss: 0.0877 - mean_squared_error: 0.0877\n",
            "Epoch 9/10\n",
            "22/22 [==============================] - 0s 19ms/step - loss: 0.0849 - mean_squared_error: 0.0849\n",
            "Epoch 10/10\n",
            "22/22 [==============================] - 1s 29ms/step - loss: 0.0828 - mean_squared_error: 0.0828\n",
            "338/338 [==============================] - 3s 8ms/step - loss: 0.0931 - mean_squared_error: 0.0931\n",
            "MSE: 0.09306003898382187\n"
          ]
        }
      ],
      "source": [
        "# train the dnn_model using x_train and y_train, with batch_size = 2048, epochs = 5, verbose=False\n",
        "\n",
        "dnn_model.fit(x_train, y_train, batch_size=2048, epochs=10)\n",
        "\n",
        "print(\"MSE: {}\".format(dnn_model.evaluate(x_test, y_test)[1]))"
      ]
    },
    {
      "cell_type": "markdown",
      "metadata": {
        "id": "2QY_HtbLoCDj"
      },
      "source": [
        "**Q3a. Which model (lr_model or dnn_model) performed better in terms of MSE?**"
      ]
    },
    {
      "cell_type": "markdown",
      "metadata": {
        "id": "Nw6aHe2Ko5OR"
      },
      "source": [
        "*Hint: The lower the better* \n",
        "lr_model"
      ]
    },
    {
      "cell_type": "markdown",
      "metadata": {
        "id": "Z4oy6GXXoFdK"
      },
      "source": [
        "**Q3b. Does the result matches your expectations? Explain your answer.**"
      ]
    },
    {
      "cell_type": "markdown",
      "metadata": {
        "id": "L7x87SvIpvoO"
      },
      "source": [
        "**Q4. Which of the following is a possible way to improve dnn_model? (You may choose more than one)**\n",
        "- **Adding more Dense() layers**\n",
        "- **Increasing the number of units in the first two layers**\n",
        "- **Increasing the number of epochs**\n",
        "- **Increasing the batch size**"
      ]
    },
    {
      "cell_type": "markdown",
      "metadata": {
        "id": "FI_9yObCHArM"
      },
      "source": [
        "## End of Quiz! 👏\n",
        "## Remember to submit your answers and notebook!"
      ]
    }
  ],
  "metadata": {
    "accelerator": "GPU",
    "colab": {
      "collapsed_sections": [],
      "name": "Quiz 3 Part 2 Coding.ipynb",
      "provenance": []
    },
    "gpuClass": "standard",
    "kernelspec": {
      "display_name": "Python 3.10.5 ('venv': venv)",
      "language": "python",
      "name": "python3"
    },
    "language_info": {
      "codemirror_mode": {
        "name": "ipython",
        "version": 3
      },
      "file_extension": ".py",
      "mimetype": "text/x-python",
      "name": "python",
      "nbconvert_exporter": "python",
      "pygments_lexer": "ipython3",
      "version": "3.10.5"
    },
    "vscode": {
      "interpreter": {
        "hash": "f5ff2f5e56ef3133dccc8e09d46b0dc57e2f5d1229922630f6f4d17b9c4b64d3"
      }
    }
  },
  "nbformat": 4,
  "nbformat_minor": 0
}
