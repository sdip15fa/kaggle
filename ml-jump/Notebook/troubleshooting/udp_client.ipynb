{
 "cells": [
  {
   "cell_type": "code",
   "execution_count": 6,
   "metadata": {},
   "outputs": [
    {
     "name": "stdout",
     "output_type": "stream",
     "text": [
      "Message from Server b'Hello UDP Client'\n"
     ]
    }
   ],
   "source": [
    "\n",
    "import socket\n",
    "\n",
    "msgFromClient       = \"Hello UDP Server\"\n",
    "bytesToSend         = str.encode(msgFromClient)\n",
    "serverAddressPort   = (\"127.0.0.1\", 20001)\n",
    "bufferSize          = 1024\n",
    "\n",
    "# Create a UDP socket at client side\n",
    "UDPClientSocket = socket.socket(family=socket.AF_INET, type=socket.SOCK_DGRAM)\n",
    "\n",
    "# Send to server using created UDP socket\n",
    "UDPClientSocket.sendto(bytesToSend, serverAddressPort)\n",
    "msgFromServer = UDPClientSocket.recvfrom(bufferSize)\n",
    "\n",
    "msg = \"Message from Server {}\".format(msgFromServer[0])\n",
    "\n",
    "print(msg)"
   ]
  }
 ],
 "metadata": {
  "kernelspec": {
   "display_name": "Python 3.10.5 ('10botics')",
   "language": "python",
   "name": "python3"
  },
  "language_info": {
   "codemirror_mode": {
    "name": "ipython",
    "version": 3
   },
   "file_extension": ".py",
   "mimetype": "text/x-python",
   "name": "python",
   "nbconvert_exporter": "python",
   "pygments_lexer": "ipython3",
   "version": "3.10.5"
  },
  "orig_nbformat": 4,
  "vscode": {
   "interpreter": {
    "hash": "5937f5b4bbc21fe942f8b5da272eb0193e0100e1dfa0a845b2379f776b22ab82"
   }
  }
 },
 "nbformat": 4,
 "nbformat_minor": 2
}
