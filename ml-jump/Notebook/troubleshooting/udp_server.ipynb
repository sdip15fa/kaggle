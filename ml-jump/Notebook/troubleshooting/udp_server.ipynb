{
 "cells": [
  {
   "cell_type": "code",
   "execution_count": 2,
   "metadata": {},
   "outputs": [
    {
     "name": "stdout",
     "output_type": "stream",
     "text": [
      "UDP server up and listening\n",
      "Message from Client:b'Hello UDP Server'\n",
      "Client IP Address:('127.0.0.1', 61129)\n",
      "Message from Client:b'Hello UDP Server'\n",
      "Client IP Address:('127.0.0.1', 53127)\n",
      "Message from Client:b'Hello UDP Server'\n",
      "Client IP Address:('127.0.0.1', 64789)\n"
     ]
    },
    {
     "ename": "KeyboardInterrupt",
     "evalue": "",
     "output_type": "error",
     "traceback": [
      "\u001b[0;31m---------------------------------------------------------------------------\u001b[0m",
      "\u001b[0;31mKeyboardInterrupt\u001b[0m                         Traceback (most recent call last)",
      "\u001b[1;32m/Users/mba13psl/Documents/mlgame/udp_server.ipynb Cell 1'\u001b[0m in \u001b[0;36m<cell line: 26>\u001b[0;34m()\u001b[0m\n\u001b[1;32m     <a href='vscode-notebook-cell:/Users/mba13psl/Documents/mlgame/udp_server.ipynb#ch0000000?line=23'>24</a>\u001b[0m \u001b[39m# Listen for incoming datagrams\u001b[39;00m\n\u001b[1;32m     <a href='vscode-notebook-cell:/Users/mba13psl/Documents/mlgame/udp_server.ipynb#ch0000000?line=25'>26</a>\u001b[0m \u001b[39mwhile\u001b[39;00m(\u001b[39mTrue\u001b[39;00m):\n\u001b[0;32m---> <a href='vscode-notebook-cell:/Users/mba13psl/Documents/mlgame/udp_server.ipynb#ch0000000?line=27'>28</a>\u001b[0m     bytesAddressPair \u001b[39m=\u001b[39m UDPServerSocket\u001b[39m.\u001b[39;49mrecvfrom(bufferSize)\n\u001b[1;32m     <a href='vscode-notebook-cell:/Users/mba13psl/Documents/mlgame/udp_server.ipynb#ch0000000?line=29'>30</a>\u001b[0m     message \u001b[39m=\u001b[39m bytesAddressPair[\u001b[39m0\u001b[39m]\n\u001b[1;32m     <a href='vscode-notebook-cell:/Users/mba13psl/Documents/mlgame/udp_server.ipynb#ch0000000?line=31'>32</a>\u001b[0m     address \u001b[39m=\u001b[39m bytesAddressPair[\u001b[39m1\u001b[39m]\n",
      "\u001b[0;31mKeyboardInterrupt\u001b[0m: "
     ]
    }
   ],
   "source": [
    "import socket\n",
    "\n",
    " \n",
    "\n",
    "localIP     = \"localhost\"\n",
    "localPort   = 20001\n",
    "bufferSize  = 1024\n",
    "\n",
    "msgFromServer       = \"Hello UDP Client\"\n",
    "bytesToSend         = str.encode(msgFromServer)\n",
    "\n",
    "# Create a datagram socket\n",
    "UDPServerSocket = socket.socket(family=socket.AF_INET, type=socket.SOCK_DGRAM)\n",
    "\n",
    " \n",
    "\n",
    "# Bind to address and ip\n",
    "UDPServerSocket.bind((localIP, localPort))\n",
    "\n",
    "print(\"UDP server up and listening\")\n",
    "\n",
    " \n",
    "\n",
    "# Listen for incoming datagrams\n",
    "\n",
    "while(True):\n",
    "\n",
    "    bytesAddressPair = UDPServerSocket.recvfrom(bufferSize)\n",
    "\n",
    "    message = bytesAddressPair[0]\n",
    "\n",
    "    address = bytesAddressPair[1]\n",
    "\n",
    "    clientMsg = \"Message from Client:{}\".format(message)\n",
    "    clientIP  = \"Client IP Address:{}\".format(address)\n",
    "    \n",
    "    print(clientMsg)\n",
    "    print(clientIP)\n",
    "\n",
    "    # Sending a reply to client\n",
    "    UDPServerSocket.sendto(bytesToSend, address)"
   ]
  }
 ],
 "metadata": {
  "kernelspec": {
   "display_name": "Python 3.10.5 ('10botics')",
   "language": "python",
   "name": "python3"
  },
  "language_info": {
   "codemirror_mode": {
    "name": "ipython",
    "version": 3
   },
   "file_extension": ".py",
   "mimetype": "text/x-python",
   "name": "python",
   "nbconvert_exporter": "python",
   "pygments_lexer": "ipython3",
   "version": "3.10.5"
  },
  "orig_nbformat": 4,
  "vscode": {
   "interpreter": {
    "hash": "5937f5b4bbc21fe942f8b5da272eb0193e0100e1dfa0a845b2379f776b22ab82"
   }
  }
 },
 "nbformat": 4,
 "nbformat_minor": 2
}
