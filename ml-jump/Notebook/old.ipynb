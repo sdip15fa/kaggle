{
 "cells": [
  {
   "cell_type": "markdown",
   "metadata": {
    "pycharm": {
     "name": "#%% md\n"
    }
   },
   "source": [
    "# Simple ML Jump (STUDENT VERSION)\n",
    "Billy Hau - June 29, 2022\n",
    "\n",
    "- Data Cleaning / Feature Engineering / Modeling \n",
    "- Deployment"
   ]
  },
  {
   "cell_type": "code",
   "execution_count": 1,
   "metadata": {
    "pycharm": {
     "name": "#%%\n"
    }
   },
   "outputs": [],
   "source": [
    "# Import Libraries\n",
    "import pandas as pd\n",
    "import numpy as np\n",
    "from sklearn.model_selection import train_test_split\n",
    "\n",
    "from sklearn.linear_model import LogisticRegression\n",
    "from sklearn.ensemble import RandomForestClassifier\n",
    "from sklearn.metrics import accuracy_score\n",
    "\n",
    "import matplotlib.pyplot as plt"
   ]
  },
  {
   "cell_type": "code",
   "execution_count": 2,
   "metadata": {
    "pycharm": {
     "name": "#%%\n"
    }
   },
   "outputs": [
    {
     "data": {
      "text/html": [
       "<div>\n",
       "<style scoped>\n",
       "    .dataframe tbody tr th:only-of-type {\n",
       "        vertical-align: middle;\n",
       "    }\n",
       "\n",
       "    .dataframe tbody tr th {\n",
       "        vertical-align: top;\n",
       "    }\n",
       "\n",
       "    .dataframe thead th {\n",
       "        text-align: right;\n",
       "    }\n",
       "</style>\n",
       "<table border=\"1\" class=\"dataframe\">\n",
       "  <thead>\n",
       "    <tr style=\"text-align: right;\">\n",
       "      <th></th>\n",
       "      <th>Bar 1 Distance</th>\n",
       "      <th>Bar 1 Speed</th>\n",
       "      <th>Bar 2 Distance</th>\n",
       "      <th>Bar 2 Speed</th>\n",
       "      <th>Jump</th>\n",
       "      <th>Grounded</th>\n",
       "      <th>Dead</th>\n",
       "      <th>Scored</th>\n",
       "    </tr>\n",
       "  </thead>\n",
       "  <tbody>\n",
       "    <tr>\n",
       "      <th>0</th>\n",
       "      <td>8.601720</td>\n",
       "      <td>14.010661</td>\n",
       "      <td>16.942482</td>\n",
       "      <td>14.598472</td>\n",
       "      <td>False</td>\n",
       "      <td>True</td>\n",
       "      <td>False</td>\n",
       "      <td>False</td>\n",
       "    </tr>\n",
       "    <tr>\n",
       "      <th>1</th>\n",
       "      <td>5.087775</td>\n",
       "      <td>14.010661</td>\n",
       "      <td>13.281113</td>\n",
       "      <td>14.598472</td>\n",
       "      <td>False</td>\n",
       "      <td>True</td>\n",
       "      <td>False</td>\n",
       "      <td>False</td>\n",
       "    </tr>\n",
       "    <tr>\n",
       "      <th>2</th>\n",
       "      <td>1.361419</td>\n",
       "      <td>14.010661</td>\n",
       "      <td>9.398420</td>\n",
       "      <td>14.598472</td>\n",
       "      <td>False</td>\n",
       "      <td>False</td>\n",
       "      <td>False</td>\n",
       "      <td>False</td>\n",
       "    </tr>\n",
       "    <tr>\n",
       "      <th>3</th>\n",
       "      <td>6.708690</td>\n",
       "      <td>14.598472</td>\n",
       "      <td>-1.000000</td>\n",
       "      <td>-1.000000</td>\n",
       "      <td>False</td>\n",
       "      <td>False</td>\n",
       "      <td>False</td>\n",
       "      <td>True</td>\n",
       "    </tr>\n",
       "    <tr>\n",
       "      <th>4</th>\n",
       "      <td>5.509425</td>\n",
       "      <td>14.598472</td>\n",
       "      <td>-1.000000</td>\n",
       "      <td>-1.000000</td>\n",
       "      <td>True</td>\n",
       "      <td>False</td>\n",
       "      <td>False</td>\n",
       "      <td>False</td>\n",
       "    </tr>\n",
       "    <tr>\n",
       "      <th>...</th>\n",
       "      <td>...</td>\n",
       "      <td>...</td>\n",
       "      <td>...</td>\n",
       "      <td>...</td>\n",
       "      <td>...</td>\n",
       "      <td>...</td>\n",
       "      <td>...</td>\n",
       "      <td>...</td>\n",
       "    </tr>\n",
       "    <tr>\n",
       "      <th>18475</th>\n",
       "      <td>24.097603</td>\n",
       "      <td>14.710280</td>\n",
       "      <td>40.975479</td>\n",
       "      <td>13.167240</td>\n",
       "      <td>False</td>\n",
       "      <td>True</td>\n",
       "      <td>False</td>\n",
       "      <td>False</td>\n",
       "    </tr>\n",
       "    <tr>\n",
       "      <th>18476</th>\n",
       "      <td>20.188541</td>\n",
       "      <td>14.710280</td>\n",
       "      <td>37.476463</td>\n",
       "      <td>13.167240</td>\n",
       "      <td>False</td>\n",
       "      <td>True</td>\n",
       "      <td>False</td>\n",
       "      <td>False</td>\n",
       "    </tr>\n",
       "    <tr>\n",
       "      <th>18477</th>\n",
       "      <td>16.491669</td>\n",
       "      <td>14.710280</td>\n",
       "      <td>34.167370</td>\n",
       "      <td>13.167240</td>\n",
       "      <td>False</td>\n",
       "      <td>True</td>\n",
       "      <td>False</td>\n",
       "      <td>False</td>\n",
       "    </tr>\n",
       "    <tr>\n",
       "      <th>18478</th>\n",
       "      <td>12.575330</td>\n",
       "      <td>14.710280</td>\n",
       "      <td>30.661840</td>\n",
       "      <td>13.167240</td>\n",
       "      <td>False</td>\n",
       "      <td>True</td>\n",
       "      <td>False</td>\n",
       "      <td>False</td>\n",
       "    </tr>\n",
       "    <tr>\n",
       "      <th>18479</th>\n",
       "      <td>8.647295</td>\n",
       "      <td>14.710280</td>\n",
       "      <td>27.145840</td>\n",
       "      <td>13.167240</td>\n",
       "      <td>False</td>\n",
       "      <td>True</td>\n",
       "      <td>False</td>\n",
       "      <td>False</td>\n",
       "    </tr>\n",
       "  </tbody>\n",
       "</table>\n",
       "<p>18480 rows × 8 columns</p>\n",
       "</div>"
      ],
      "text/plain": [
       "       Bar 1 Distance  Bar 1 Speed  Bar 2 Distance  Bar 2 Speed   Jump  \\\n",
       "0            8.601720    14.010661       16.942482    14.598472  False   \n",
       "1            5.087775    14.010661       13.281113    14.598472  False   \n",
       "2            1.361419    14.010661        9.398420    14.598472  False   \n",
       "3            6.708690    14.598472       -1.000000    -1.000000  False   \n",
       "4            5.509425    14.598472       -1.000000    -1.000000   True   \n",
       "...               ...          ...             ...          ...    ...   \n",
       "18475       24.097603    14.710280       40.975479    13.167240  False   \n",
       "18476       20.188541    14.710280       37.476463    13.167240  False   \n",
       "18477       16.491669    14.710280       34.167370    13.167240  False   \n",
       "18478       12.575330    14.710280       30.661840    13.167240  False   \n",
       "18479        8.647295    14.710280       27.145840    13.167240  False   \n",
       "\n",
       "       Grounded   Dead  Scored  \n",
       "0          True  False   False  \n",
       "1          True  False   False  \n",
       "2         False  False   False  \n",
       "3         False  False    True  \n",
       "4         False  False   False  \n",
       "...         ...    ...     ...  \n",
       "18475      True  False   False  \n",
       "18476      True  False   False  \n",
       "18477      True  False   False  \n",
       "18478      True  False   False  \n",
       "18479      True  False   False  \n",
       "\n",
       "[18480 rows x 8 columns]"
      ]
     },
     "execution_count": 2,
     "metadata": {},
     "output_type": "execute_result"
    }
   ],
   "source": [
    "# Read CSV File\n",
    "df = pd.read_csv(\"./data.csv\")\n",
    "df\n"
   ]
  },
  {
   "cell_type": "code",
   "execution_count": 3,
   "metadata": {
    "pycharm": {
     "name": "#%%\n"
    }
   },
   "outputs": [],
   "source": [
    "# What do each of the columns mean?"
   ]
  },
  {
   "cell_type": "code",
   "execution_count": 4,
   "metadata": {},
   "outputs": [
    {
     "name": "stdout",
     "output_type": "stream",
     "text": [
      "0            0\n",
      "1            1\n",
      "2            2\n",
      "3            3\n",
      "4            4\n",
      "         ...  \n",
      "18475    18475\n",
      "18476    18476\n",
      "18477    18477\n",
      "18478    18478\n",
      "18479    18479\n",
      "Name: Index, Length: 18480, dtype: int64\n",
      "0            0\n",
      "1            1\n",
      "2            2\n",
      "3            3\n",
      "4            4\n",
      "         ...  \n",
      "18475    18475\n",
      "18476    18476\n",
      "18477    18477\n",
      "18478    18478\n",
      "18479    18479\n",
      "Name: Index, Length: 18480, dtype: int64\n",
      "0        False\n",
      "1        False\n",
      "2        False\n",
      "3        False\n",
      "4        False\n",
      "         ...  \n",
      "18475    False\n",
      "18476    False\n",
      "18477    False\n",
      "18478    False\n",
      "18479    False\n",
      "Name: Index, Length: 18480, dtype: bool\n",
      "Int64Index([15944], dtype='int64')\n",
      "0            0\n",
      "1            1\n",
      "2            2\n",
      "3            3\n",
      "4            4\n",
      "         ...  \n",
      "18475    18475\n",
      "18476    18476\n",
      "18477    18477\n",
      "18478    18478\n",
      "18479    18479\n",
      "Name: Index, Length: 18479, dtype: int64\n",
      "0        False\n",
      "1        False\n",
      "2        False\n",
      "3        False\n",
      "4        False\n",
      "         ...  \n",
      "18475    False\n",
      "18476    False\n",
      "18477    False\n",
      "18478    False\n",
      "18479    False\n",
      "Name: Index, Length: 18479, dtype: bool\n",
      "Int64Index([16168], dtype='int64')\n",
      "0            0\n",
      "1            1\n",
      "2            2\n",
      "3            3\n",
      "4            4\n",
      "         ...  \n",
      "18475    18475\n",
      "18476    18476\n",
      "18477    18477\n",
      "18478    18478\n",
      "18479    18479\n",
      "Name: Index, Length: 18478, dtype: int64\n",
      "0        False\n",
      "1        False\n",
      "2        False\n",
      "3        False\n",
      "4        False\n",
      "         ...  \n",
      "18475    False\n",
      "18476    False\n",
      "18477    False\n",
      "18478    False\n",
      "18479    False\n",
      "Name: Index, Length: 18478, dtype: bool\n",
      "Int64Index([16300], dtype='int64')\n",
      "0            0\n",
      "1            1\n",
      "2            2\n",
      "3            3\n",
      "4            4\n",
      "         ...  \n",
      "18475    18475\n",
      "18476    18476\n",
      "18477    18477\n",
      "18478    18478\n",
      "18479    18479\n",
      "Name: Index, Length: 18477, dtype: int64\n",
      "0        False\n",
      "1        False\n",
      "2        False\n",
      "3        False\n",
      "4        False\n",
      "         ...  \n",
      "18475    False\n",
      "18476    False\n",
      "18477    False\n",
      "18478    False\n",
      "18479    False\n",
      "Name: Index, Length: 18477, dtype: bool\n",
      "Int64Index([16411], dtype='int64')\n",
      "0            0\n",
      "1            1\n",
      "2            2\n",
      "3            3\n",
      "4            4\n",
      "         ...  \n",
      "18475    18475\n",
      "18476    18476\n",
      "18477    18477\n",
      "18478    18478\n",
      "18479    18479\n",
      "Name: Index, Length: 18476, dtype: int64\n",
      "0        False\n",
      "1        False\n",
      "2        False\n",
      "3        False\n",
      "4        False\n",
      "         ...  \n",
      "18475    False\n",
      "18476    False\n",
      "18477    False\n",
      "18478    False\n",
      "18479    False\n",
      "Name: Index, Length: 18476, dtype: bool\n",
      "Int64Index([16626], dtype='int64')\n"
     ]
    },
    {
     "data": {
      "text/html": [
       "<div>\n",
       "<style scoped>\n",
       "    .dataframe tbody tr th:only-of-type {\n",
       "        vertical-align: middle;\n",
       "    }\n",
       "\n",
       "    .dataframe tbody tr th {\n",
       "        vertical-align: top;\n",
       "    }\n",
       "\n",
       "    .dataframe thead th {\n",
       "        text-align: right;\n",
       "    }\n",
       "</style>\n",
       "<table border=\"1\" class=\"dataframe\">\n",
       "  <thead>\n",
       "    <tr style=\"text-align: right;\">\n",
       "      <th></th>\n",
       "      <th>Bar 1 Distance</th>\n",
       "      <th>Bar 1 Speed</th>\n",
       "      <th>Bar 2 Distance</th>\n",
       "      <th>Bar 2 Speed</th>\n",
       "      <th>Jump</th>\n",
       "      <th>Grounded</th>\n",
       "      <th>Dead</th>\n",
       "      <th>Scored</th>\n",
       "      <th>Index</th>\n",
       "    </tr>\n",
       "  </thead>\n",
       "  <tbody>\n",
       "    <tr>\n",
       "      <th>0</th>\n",
       "      <td>8.601720</td>\n",
       "      <td>14.010661</td>\n",
       "      <td>16.942482</td>\n",
       "      <td>14.598472</td>\n",
       "      <td>False</td>\n",
       "      <td>True</td>\n",
       "      <td>False</td>\n",
       "      <td>False</td>\n",
       "      <td>0</td>\n",
       "    </tr>\n",
       "    <tr>\n",
       "      <th>1</th>\n",
       "      <td>5.087775</td>\n",
       "      <td>14.010661</td>\n",
       "      <td>13.281113</td>\n",
       "      <td>14.598472</td>\n",
       "      <td>False</td>\n",
       "      <td>True</td>\n",
       "      <td>False</td>\n",
       "      <td>False</td>\n",
       "      <td>1</td>\n",
       "    </tr>\n",
       "    <tr>\n",
       "      <th>2</th>\n",
       "      <td>1.361419</td>\n",
       "      <td>14.010661</td>\n",
       "      <td>9.398420</td>\n",
       "      <td>14.598472</td>\n",
       "      <td>False</td>\n",
       "      <td>False</td>\n",
       "      <td>False</td>\n",
       "      <td>False</td>\n",
       "      <td>2</td>\n",
       "    </tr>\n",
       "    <tr>\n",
       "      <th>3</th>\n",
       "      <td>6.708690</td>\n",
       "      <td>14.598472</td>\n",
       "      <td>-1.000000</td>\n",
       "      <td>-1.000000</td>\n",
       "      <td>False</td>\n",
       "      <td>False</td>\n",
       "      <td>False</td>\n",
       "      <td>True</td>\n",
       "      <td>3</td>\n",
       "    </tr>\n",
       "    <tr>\n",
       "      <th>4</th>\n",
       "      <td>5.509425</td>\n",
       "      <td>14.598472</td>\n",
       "      <td>-1.000000</td>\n",
       "      <td>-1.000000</td>\n",
       "      <td>True</td>\n",
       "      <td>False</td>\n",
       "      <td>False</td>\n",
       "      <td>False</td>\n",
       "      <td>4</td>\n",
       "    </tr>\n",
       "    <tr>\n",
       "      <th>...</th>\n",
       "      <td>...</td>\n",
       "      <td>...</td>\n",
       "      <td>...</td>\n",
       "      <td>...</td>\n",
       "      <td>...</td>\n",
       "      <td>...</td>\n",
       "      <td>...</td>\n",
       "      <td>...</td>\n",
       "      <td>...</td>\n",
       "    </tr>\n",
       "    <tr>\n",
       "      <th>18475</th>\n",
       "      <td>24.097603</td>\n",
       "      <td>14.710280</td>\n",
       "      <td>40.975479</td>\n",
       "      <td>13.167240</td>\n",
       "      <td>False</td>\n",
       "      <td>True</td>\n",
       "      <td>False</td>\n",
       "      <td>False</td>\n",
       "      <td>18475</td>\n",
       "    </tr>\n",
       "    <tr>\n",
       "      <th>18476</th>\n",
       "      <td>20.188541</td>\n",
       "      <td>14.710280</td>\n",
       "      <td>37.476463</td>\n",
       "      <td>13.167240</td>\n",
       "      <td>False</td>\n",
       "      <td>True</td>\n",
       "      <td>False</td>\n",
       "      <td>False</td>\n",
       "      <td>18476</td>\n",
       "    </tr>\n",
       "    <tr>\n",
       "      <th>18477</th>\n",
       "      <td>16.491669</td>\n",
       "      <td>14.710280</td>\n",
       "      <td>34.167370</td>\n",
       "      <td>13.167240</td>\n",
       "      <td>False</td>\n",
       "      <td>True</td>\n",
       "      <td>False</td>\n",
       "      <td>False</td>\n",
       "      <td>18477</td>\n",
       "    </tr>\n",
       "    <tr>\n",
       "      <th>18478</th>\n",
       "      <td>12.575330</td>\n",
       "      <td>14.710280</td>\n",
       "      <td>30.661840</td>\n",
       "      <td>13.167240</td>\n",
       "      <td>False</td>\n",
       "      <td>True</td>\n",
       "      <td>False</td>\n",
       "      <td>False</td>\n",
       "      <td>18478</td>\n",
       "    </tr>\n",
       "    <tr>\n",
       "      <th>18479</th>\n",
       "      <td>8.647295</td>\n",
       "      <td>14.710280</td>\n",
       "      <td>27.145840</td>\n",
       "      <td>13.167240</td>\n",
       "      <td>False</td>\n",
       "      <td>True</td>\n",
       "      <td>False</td>\n",
       "      <td>False</td>\n",
       "      <td>18479</td>\n",
       "    </tr>\n",
       "  </tbody>\n",
       "</table>\n",
       "<p>18475 rows × 9 columns</p>\n",
       "</div>"
      ],
      "text/plain": [
       "       Bar 1 Distance  Bar 1 Speed  Bar 2 Distance  Bar 2 Speed   Jump  \\\n",
       "0            8.601720    14.010661       16.942482    14.598472  False   \n",
       "1            5.087775    14.010661       13.281113    14.598472  False   \n",
       "2            1.361419    14.010661        9.398420    14.598472  False   \n",
       "3            6.708690    14.598472       -1.000000    -1.000000  False   \n",
       "4            5.509425    14.598472       -1.000000    -1.000000   True   \n",
       "...               ...          ...             ...          ...    ...   \n",
       "18475       24.097603    14.710280       40.975479    13.167240  False   \n",
       "18476       20.188541    14.710280       37.476463    13.167240  False   \n",
       "18477       16.491669    14.710280       34.167370    13.167240  False   \n",
       "18478       12.575330    14.710280       30.661840    13.167240  False   \n",
       "18479        8.647295    14.710280       27.145840    13.167240  False   \n",
       "\n",
       "       Grounded   Dead  Scored  Index  \n",
       "0          True  False   False      0  \n",
       "1          True  False   False      1  \n",
       "2         False  False   False      2  \n",
       "3         False  False    True      3  \n",
       "4         False  False   False      4  \n",
       "...         ...    ...     ...    ...  \n",
       "18475      True  False   False  18475  \n",
       "18476      True  False   False  18476  \n",
       "18477      True  False   False  18477  \n",
       "18478      True  False   False  18478  \n",
       "18479      True  False   False  18479  \n",
       "\n",
       "[18475 rows x 9 columns]"
      ]
     },
     "execution_count": 4,
     "metadata": {},
     "output_type": "execute_result"
    }
   ],
   "source": [
    "df['Index'] = df.index\n",
    "print(df['Index'])\n",
    "jump = df[df['Jump'] == True]\n",
    "\n",
    "dead = jump['Dead'].to_numpy()\n",
    "# dead.value_counts()\n",
    "for i in range(dead.shape[0]):\n",
    "    #print(jump.index[i])\n",
    "    try:\n",
    "        if (dead[i + 1] == True):\n",
    "            print(df['Index'])\n",
    "            print(df['Index'] == jump.index[i])\n",
    "            print(df[df.index == jump.index[i]].index)\n",
    "            df.drop(df[df.index == jump.index[i]].index, inplace=True)\n",
    "    except:\n",
    "        pass\n",
    "df"
   ]
  },
  {
   "cell_type": "code",
   "execution_count": 5,
   "metadata": {
    "pycharm": {
     "name": "#%%\n"
    }
   },
   "outputs": [
    {
     "data": {
      "text/html": [
       "<div>\n",
       "<style scoped>\n",
       "    .dataframe tbody tr th:only-of-type {\n",
       "        vertical-align: middle;\n",
       "    }\n",
       "\n",
       "    .dataframe tbody tr th {\n",
       "        vertical-align: top;\n",
       "    }\n",
       "\n",
       "    .dataframe thead th {\n",
       "        text-align: right;\n",
       "    }\n",
       "</style>\n",
       "<table border=\"1\" class=\"dataframe\">\n",
       "  <thead>\n",
       "    <tr style=\"text-align: right;\">\n",
       "      <th></th>\n",
       "      <th>Bar 1 Distance</th>\n",
       "      <th>Bar 1 Speed</th>\n",
       "      <th>Bar 2 Distance</th>\n",
       "      <th>Bar 2 Speed</th>\n",
       "      <th>Jump</th>\n",
       "      <th>Index</th>\n",
       "    </tr>\n",
       "  </thead>\n",
       "  <tbody>\n",
       "    <tr>\n",
       "      <th>0</th>\n",
       "      <td>8.601720</td>\n",
       "      <td>14.010661</td>\n",
       "      <td>16.942482</td>\n",
       "      <td>14.598472</td>\n",
       "      <td>False</td>\n",
       "      <td>0</td>\n",
       "    </tr>\n",
       "    <tr>\n",
       "      <th>1</th>\n",
       "      <td>5.087775</td>\n",
       "      <td>14.010661</td>\n",
       "      <td>13.281113</td>\n",
       "      <td>14.598472</td>\n",
       "      <td>False</td>\n",
       "      <td>1</td>\n",
       "    </tr>\n",
       "    <tr>\n",
       "      <th>2</th>\n",
       "      <td>1.361419</td>\n",
       "      <td>14.010661</td>\n",
       "      <td>9.398420</td>\n",
       "      <td>14.598472</td>\n",
       "      <td>False</td>\n",
       "      <td>2</td>\n",
       "    </tr>\n",
       "    <tr>\n",
       "      <th>3</th>\n",
       "      <td>6.708690</td>\n",
       "      <td>14.598472</td>\n",
       "      <td>-1.000000</td>\n",
       "      <td>-1.000000</td>\n",
       "      <td>False</td>\n",
       "      <td>3</td>\n",
       "    </tr>\n",
       "    <tr>\n",
       "      <th>4</th>\n",
       "      <td>5.509425</td>\n",
       "      <td>14.598472</td>\n",
       "      <td>-1.000000</td>\n",
       "      <td>-1.000000</td>\n",
       "      <td>True</td>\n",
       "      <td>4</td>\n",
       "    </tr>\n",
       "    <tr>\n",
       "      <th>...</th>\n",
       "      <td>...</td>\n",
       "      <td>...</td>\n",
       "      <td>...</td>\n",
       "      <td>...</td>\n",
       "      <td>...</td>\n",
       "      <td>...</td>\n",
       "    </tr>\n",
       "    <tr>\n",
       "      <th>18475</th>\n",
       "      <td>24.097603</td>\n",
       "      <td>14.710280</td>\n",
       "      <td>40.975479</td>\n",
       "      <td>13.167240</td>\n",
       "      <td>False</td>\n",
       "      <td>18475</td>\n",
       "    </tr>\n",
       "    <tr>\n",
       "      <th>18476</th>\n",
       "      <td>20.188541</td>\n",
       "      <td>14.710280</td>\n",
       "      <td>37.476463</td>\n",
       "      <td>13.167240</td>\n",
       "      <td>False</td>\n",
       "      <td>18476</td>\n",
       "    </tr>\n",
       "    <tr>\n",
       "      <th>18477</th>\n",
       "      <td>16.491669</td>\n",
       "      <td>14.710280</td>\n",
       "      <td>34.167370</td>\n",
       "      <td>13.167240</td>\n",
       "      <td>False</td>\n",
       "      <td>18477</td>\n",
       "    </tr>\n",
       "    <tr>\n",
       "      <th>18478</th>\n",
       "      <td>12.575330</td>\n",
       "      <td>14.710280</td>\n",
       "      <td>30.661840</td>\n",
       "      <td>13.167240</td>\n",
       "      <td>False</td>\n",
       "      <td>18478</td>\n",
       "    </tr>\n",
       "    <tr>\n",
       "      <th>18479</th>\n",
       "      <td>8.647295</td>\n",
       "      <td>14.710280</td>\n",
       "      <td>27.145840</td>\n",
       "      <td>13.167240</td>\n",
       "      <td>False</td>\n",
       "      <td>18479</td>\n",
       "    </tr>\n",
       "  </tbody>\n",
       "</table>\n",
       "<p>17768 rows × 6 columns</p>\n",
       "</div>"
      ],
      "text/plain": [
       "       Bar 1 Distance  Bar 1 Speed  Bar 2 Distance  Bar 2 Speed   Jump  Index\n",
       "0            8.601720    14.010661       16.942482    14.598472  False      0\n",
       "1            5.087775    14.010661       13.281113    14.598472  False      1\n",
       "2            1.361419    14.010661        9.398420    14.598472  False      2\n",
       "3            6.708690    14.598472       -1.000000    -1.000000  False      3\n",
       "4            5.509425    14.598472       -1.000000    -1.000000   True      4\n",
       "...               ...          ...             ...          ...    ...    ...\n",
       "18475       24.097603    14.710280       40.975479    13.167240  False  18475\n",
       "18476       20.188541    14.710280       37.476463    13.167240  False  18476\n",
       "18477       16.491669    14.710280       34.167370    13.167240  False  18477\n",
       "18478       12.575330    14.710280       30.661840    13.167240  False  18478\n",
       "18479        8.647295    14.710280       27.145840    13.167240  False  18479\n",
       "\n",
       "[17768 rows x 6 columns]"
      ]
     },
     "execution_count": 5,
     "metadata": {},
     "output_type": "execute_result"
    }
   ],
   "source": [
    "# Are there data we don't care about?\n",
    "df.drop(df[df['Dead'] == True].index, inplace=True)\n",
    "df = df.drop([\"Grounded\", \"Dead\", \"Scored\"], inplace=False, axis=1)\n",
    "df"
   ]
  },
  {
   "cell_type": "code",
   "execution_count": 6,
   "metadata": {
    "collapsed": false,
    "pycharm": {
     "name": "#%%\n"
    }
   },
   "outputs": [
    {
     "data": {
      "text/plain": [
       "283"
      ]
     },
     "execution_count": 6,
     "metadata": {},
     "output_type": "execute_result"
    }
   ],
   "source": [
    "jumpCount = df[df['Jump'] == True].shape[0]\n",
    "jumpCount"
   ]
  },
  {
   "cell_type": "code",
   "execution_count": 7,
   "metadata": {
    "collapsed": false,
    "pycharm": {
     "name": "#%%\n"
    }
   },
   "outputs": [
    {
     "data": {
      "text/plain": [
       "17485"
      ]
     },
     "execution_count": 7,
     "metadata": {},
     "output_type": "execute_result"
    }
   ],
   "source": [
    "noJumpCount = df[df['Jump'] == False].shape[0]\n",
    "noJumpCount"
   ]
  },
  {
   "cell_type": "code",
   "execution_count": 8,
   "metadata": {
    "collapsed": false,
    "pycharm": {
     "name": "#%%\n"
    }
   },
   "outputs": [],
   "source": [
    "df_toDrop = df[df['Jump'] == False].sample(noJumpCount - jumpCount)\n",
    "df.drop(df_toDrop.index, inplace=True)"
   ]
  },
  {
   "cell_type": "code",
   "execution_count": 9,
   "metadata": {
    "pycharm": {
     "name": "#%%\n"
    }
   },
   "outputs": [],
   "source": [
    "# Create the Input DataFrame\n",
    "X = df[['Bar 1 Distance', 'Bar 1 Speed', 'Bar 2 Distance', 'Bar 2 Speed']]\n",
    "X = X.to_numpy()"
   ]
  },
  {
   "cell_type": "code",
   "execution_count": 10,
   "metadata": {
    "pycharm": {
     "name": "#%%\n"
    }
   },
   "outputs": [
    {
     "name": "stderr",
     "output_type": "stream",
     "text": [
      "/tmp/ipykernel_521317/808815421.py:10: SettingWithCopyWarning: \n",
      "A value is trying to be set on a copy of a slice from a DataFrame.\n",
      "Try using .loc[row_indexer,col_indexer] = value instead\n",
      "\n",
      "See the caveats in the documentation: https://pandas.pydata.org/pandas-docs/stable/user_guide/indexing.html#returning-a-view-versus-a-copy\n",
      "  Y['Jump'] = Y.apply(bool2Num, axis='columns')\n"
     ]
    }
   ],
   "source": [
    "# Create the Output DataFrame and Map True / False to 1 / 0\n",
    "Y = df[['Jump']]\n",
    "\n",
    "def bool2Num(row):\n",
    "    if row['Jump']:\n",
    "        return 1\n",
    "    else:\n",
    "        return 0\n",
    "\n",
    "Y['Jump'] = Y.apply(bool2Num, axis='columns')\n",
    "Y = Y['Jump'].to_numpy()"
   ]
  },
  {
   "cell_type": "code",
   "execution_count": 11,
   "metadata": {
    "pycharm": {
     "name": "#%%\n"
    }
   },
   "outputs": [],
   "source": [
    "# Train Test Split with test size set to 20%\n",
    "from sklearn.model_selection import train_test_split\n",
    "x_train, x_test, y_train, y_test = train_test_split(X, Y, test_size=0.33, random_state=42)"
   ]
  },
  {
   "cell_type": "code",
   "execution_count": 12,
   "metadata": {
    "pycharm": {
     "name": "#%%\n"
    }
   },
   "outputs": [
    {
     "data": {
      "text/html": [
       "<style>#sk-container-id-1 {color: black;background-color: white;}#sk-container-id-1 pre{padding: 0;}#sk-container-id-1 div.sk-toggleable {background-color: white;}#sk-container-id-1 label.sk-toggleable__label {cursor: pointer;display: block;width: 100%;margin-bottom: 0;padding: 0.3em;box-sizing: border-box;text-align: center;}#sk-container-id-1 label.sk-toggleable__label-arrow:before {content: \"▸\";float: left;margin-right: 0.25em;color: #696969;}#sk-container-id-1 label.sk-toggleable__label-arrow:hover:before {color: black;}#sk-container-id-1 div.sk-estimator:hover label.sk-toggleable__label-arrow:before {color: black;}#sk-container-id-1 div.sk-toggleable__content {max-height: 0;max-width: 0;overflow: hidden;text-align: left;background-color: #f0f8ff;}#sk-container-id-1 div.sk-toggleable__content pre {margin: 0.2em;color: black;border-radius: 0.25em;background-color: #f0f8ff;}#sk-container-id-1 input.sk-toggleable__control:checked~div.sk-toggleable__content {max-height: 200px;max-width: 100%;overflow: auto;}#sk-container-id-1 input.sk-toggleable__control:checked~label.sk-toggleable__label-arrow:before {content: \"▾\";}#sk-container-id-1 div.sk-estimator input.sk-toggleable__control:checked~label.sk-toggleable__label {background-color: #d4ebff;}#sk-container-id-1 div.sk-label input.sk-toggleable__control:checked~label.sk-toggleable__label {background-color: #d4ebff;}#sk-container-id-1 input.sk-hidden--visually {border: 0;clip: rect(1px 1px 1px 1px);clip: rect(1px, 1px, 1px, 1px);height: 1px;margin: -1px;overflow: hidden;padding: 0;position: absolute;width: 1px;}#sk-container-id-1 div.sk-estimator {font-family: monospace;background-color: #f0f8ff;border: 1px dotted black;border-radius: 0.25em;box-sizing: border-box;margin-bottom: 0.5em;}#sk-container-id-1 div.sk-estimator:hover {background-color: #d4ebff;}#sk-container-id-1 div.sk-parallel-item::after {content: \"\";width: 100%;border-bottom: 1px solid gray;flex-grow: 1;}#sk-container-id-1 div.sk-label:hover label.sk-toggleable__label {background-color: #d4ebff;}#sk-container-id-1 div.sk-serial::before {content: \"\";position: absolute;border-left: 1px solid gray;box-sizing: border-box;top: 0;bottom: 0;left: 50%;z-index: 0;}#sk-container-id-1 div.sk-serial {display: flex;flex-direction: column;align-items: center;background-color: white;padding-right: 0.2em;padding-left: 0.2em;position: relative;}#sk-container-id-1 div.sk-item {position: relative;z-index: 1;}#sk-container-id-1 div.sk-parallel {display: flex;align-items: stretch;justify-content: center;background-color: white;position: relative;}#sk-container-id-1 div.sk-item::before, #sk-container-id-1 div.sk-parallel-item::before {content: \"\";position: absolute;border-left: 1px solid gray;box-sizing: border-box;top: 0;bottom: 0;left: 50%;z-index: -1;}#sk-container-id-1 div.sk-parallel-item {display: flex;flex-direction: column;z-index: 1;position: relative;background-color: white;}#sk-container-id-1 div.sk-parallel-item:first-child::after {align-self: flex-end;width: 50%;}#sk-container-id-1 div.sk-parallel-item:last-child::after {align-self: flex-start;width: 50%;}#sk-container-id-1 div.sk-parallel-item:only-child::after {width: 0;}#sk-container-id-1 div.sk-dashed-wrapped {border: 1px dashed gray;margin: 0 0.4em 0.5em 0.4em;box-sizing: border-box;padding-bottom: 0.4em;background-color: white;}#sk-container-id-1 div.sk-label label {font-family: monospace;font-weight: bold;display: inline-block;line-height: 1.2em;}#sk-container-id-1 div.sk-label-container {text-align: center;}#sk-container-id-1 div.sk-container {/* jupyter's `normalize.less` sets `[hidden] { display: none; }` but bootstrap.min.css set `[hidden] { display: none !important; }` so we also need the `!important` here to be able to override the default hidden behavior on the sphinx rendered scikit-learn.org. See: https://github.com/scikit-learn/scikit-learn/issues/21755 */display: inline-block !important;position: relative;}#sk-container-id-1 div.sk-text-repr-fallback {display: none;}</style><div id=\"sk-container-id-1\" class=\"sk-top-container\"><div class=\"sk-text-repr-fallback\"><pre>RandomForestClassifier()</pre><b>In a Jupyter environment, please rerun this cell to show the HTML representation or trust the notebook. <br />On GitHub, the HTML representation is unable to render, please try loading this page with nbviewer.org.</b></div><div class=\"sk-container\" hidden><div class=\"sk-item\"><div class=\"sk-estimator sk-toggleable\"><input class=\"sk-toggleable__control sk-hidden--visually\" id=\"sk-estimator-id-1\" type=\"checkbox\" checked><label for=\"sk-estimator-id-1\" class=\"sk-toggleable__label sk-toggleable__label-arrow\">RandomForestClassifier</label><div class=\"sk-toggleable__content\"><pre>RandomForestClassifier()</pre></div></div></div></div></div>"
      ],
      "text/plain": [
       "RandomForestClassifier()"
      ]
     },
     "execution_count": 12,
     "metadata": {},
     "output_type": "execute_result"
    }
   ],
   "source": [
    "from sklearn.linear_model import LogisticRegression\n",
    "\n",
    "# Define and Build Model (Logistic Regression)\n",
    "model = RandomForestClassifier()\n",
    "model.fit(x_train, y_train)\n"
   ]
  },
  {
   "cell_type": "code",
   "execution_count": 13,
   "metadata": {
    "pycharm": {
     "name": "#%%\n"
    }
   },
   "outputs": [],
   "source": [
    "predict = model.predict(x_test)"
   ]
  },
  {
   "cell_type": "code",
   "execution_count": 14,
   "metadata": {
    "pycharm": {
     "name": "#%%\n"
    }
   },
   "outputs": [],
   "source": [
    "from sklearn.metrics import accuracy_score, precision_score, recall_score, f1_score, confusion_matrix"
   ]
  },
  {
   "cell_type": "code",
   "execution_count": 15,
   "metadata": {
    "pycharm": {
     "name": "#%%\n"
    }
   },
   "outputs": [
    {
     "data": {
      "text/plain": [
       "0.8663101604278075"
      ]
     },
     "execution_count": 15,
     "metadata": {},
     "output_type": "execute_result"
    }
   ],
   "source": [
    "# Print Out Prediction Accuraccy\n",
    "accuracy_score(y_test, predict)"
   ]
  },
  {
   "cell_type": "code",
   "execution_count": 16,
   "metadata": {
    "pycharm": {
     "name": "#%%\n"
    }
   },
   "outputs": [
    {
     "data": {
      "text/plain": [
       "'model2 = ________________________________\\nmodel2.__________________________\\n\\npredict = ___________________________\\naccuracy_score(_________________, ________________)'"
      ]
     },
     "execution_count": 16,
     "metadata": {},
     "output_type": "execute_result"
    }
   ],
   "source": [
    "# Try a Different Model (Random Forest)\n",
    "\"\"\"model2 = ________________________________\n",
    "model2.__________________________\n",
    "\n",
    "predict = ___________________________\n",
    "accuracy_score(_________________, ________________)\"\"\"\n"
   ]
  },
  {
   "cell_type": "markdown",
   "metadata": {
    "pycharm": {
     "name": "#%% md\n"
    }
   },
   "source": [
    "# Deployment"
   ]
  },
  {
   "cell_type": "code",
   "execution_count": 17,
   "metadata": {
    "pycharm": {
     "name": "#%%\n"
    }
   },
   "outputs": [],
   "source": [
    "# Command to Open SIMPLE ML Jump 2 (for Example)\n",
    "\n",
    "# Windows OS\n",
    "#env_path = \"D:\\\\User\\\\Desktop\\\\10botics Data Science\\\\ML Game\\\\SimpleMLJump2 Builds\\\\Windows\\\\Simple ML Jump 2.exe\"\n",
    "\n",
    "# MacOS\n",
    "#env_path = 'open -n \"/Users/billwaa/Desktop/ML Game/Simple ML Jump 2.app\"' \n",
    "\n",
    "env_path = \"/home/wcyat/dev/kaggle/code/ml-jump/Linux/SimpleMLJump2.x86_64\""
   ]
  },
  {
   "cell_type": "code",
   "execution_count": 18,
   "metadata": {
    "pycharm": {
     "name": "#%%\n"
    }
   },
   "outputs": [
    {
     "name": "stderr",
     "output_type": "stream",
     "text": [
      "2022-07-10 14:43:32.950074: I tensorflow/core/util/util.cc:169] oneDNN custom operations are on. You may see slightly different numerical results due to floating-point round-off errors from different computation orders. To turn them off, set the environment variable `TF_ENABLE_ONEDNN_OPTS=0`.\n"
     ]
    },
    {
     "data": {
      "text/plain": [
       "2"
      ]
     },
     "execution_count": 18,
     "metadata": {},
     "output_type": "execute_result"
    }
   ],
   "source": [
    "# Import Libraries\n",
    "import socket\n",
    "import struct\n",
    "import tensorflow as tf\n",
    "from tensorflow import keras\n",
    "import pandas as pd\n",
    "import time\n",
    "import subprocess\n",
    "import platform\n",
    "\n",
    "# Find Open Socket Ports\n",
    "def findOpenSockets(size:int):\n",
    "\n",
    "    sock = []\n",
    "    port = []\n",
    "\n",
    "    for i in range(size):\n",
    "        sock.append(socket.socket())\n",
    "        sock[i].bind(('localhost', 0))\n",
    "        port.append(sock[i].getsockname()[1])\n",
    "\n",
    "    for i in range(len(sock)):\n",
    "        sock[i].close()\n",
    "\n",
    "\n",
    "    return port\n",
    "\n",
    "\n",
    "# Find Open Ports and Launch Game Environment\n",
    "envNum = 1\n",
    "openPorts = findOpenSockets(envNum * 2)\n",
    "gamePort = openPorts[0]\n",
    "apiPort = openPorts[1]\n",
    "\n",
    "# Determine OS and Launch \n",
    "if platform.system() == 'Darwin':\n",
    "    env_path += f\" --args --apiPort {str(apiPort)} --gamePort {str(gamePort)} --small false\"\n",
    "    process = subprocess.Popen([env_path], shell=True)\n",
    "else:\n",
    "    process = subprocess.Popen([env_path, '--apiPort', str(apiPort), '--gamePort', str(gamePort), '--small', 'false'])\n",
    "\n",
    "# Establish UDP Network Client\n",
    "localIP     = \"localhost\"\n",
    "bufferSize  = 1024\n",
    "UDPServerSocket = socket.socket(family=socket.AF_INET, type=socket.SOCK_DGRAM)\n",
    "UDPServerSocket.bind((localIP, apiPort))\n",
    "\n",
    "# Set UDP Timeout\n",
    "UDPServerSocket.settimeout(3)\n",
    "\n",
    "# Wait for Game Environment to Open\n",
    "t0 = time.time()\n",
    "\n",
    "while(time.time() - t0 < 5):\n",
    "    pass\n",
    "\n",
    "# Extract Data\n",
    "def extractData(data):\n",
    "    dist1 = struct.unpack('f', data[:4])\n",
    "    speed1 = struct.unpack('f', data[4:8])\n",
    "    dist2 = struct.unpack('f', data[8:12])\n",
    "    speed2 = struct.unpack('f', data[12:16])\n",
    "\n",
    "    onGround = True if (data[16] & (1 << 0)) == 1 else False\n",
    "    toJump = True if (data[17] & (1 << 0)) == 1 else False\n",
    "    isDead = True if (data[18] & (1 << 0)) == 1 else False\n",
    "    scored = True if (data[19] & (1 << 0)) == 1 else False\n",
    "\n",
    "    dat = [dist1[0], speed1[0], dist2[0], speed2[0], toJump, onGround, isDead, scored] # Swap Order to Accomadate Old Model\n",
    "    df_temp = pd.DataFrame(dat).transpose()\n",
    "\n",
    "\n",
    "    return df_temp\n",
    "\n",
    "# Reset Simulation\n",
    "UDPServerSocket.sendto(bytes.fromhex('07 00'), (localIP, gamePort))"
   ]
  },
  {
   "cell_type": "code",
   "execution_count": 19,
   "metadata": {
    "pycharm": {
     "name": "#%%\n"
    }
   },
   "outputs": [],
   "source": [
    "def autoJump():\n",
    "# Process Loop - Retrieve Data from Simulation, Run Through Model, Output Command\n",
    "    while True:\n",
    "        try:\n",
    "\n",
    "            bytesAddressPair = UDPServerSocket.recvfrom(bufferSize)\n",
    "\n",
    "            t0 = time.time()\n",
    "\n",
    "            message = bytesAddressPair[0]\n",
    "            address = bytesAddressPair[1]\n",
    "            df_temp = extractData(message)\n",
    "            X = df_temp.iloc[:, :4]\n",
    "            X = X.astype(float)\n",
    "\n",
    "        # Data PreProcessing Function Go Here\n",
    "\n",
    "        # Model Prediction Function Go Here\n",
    "            predict = model.predict(X)\n",
    "\n",
    "            print(predict, end='\\r')\n",
    "\n",
    "        # If Jump Decision is Made, Send to Game\n",
    "            if predict[0] > 0.5:\n",
    "            # Jump Command\n",
    "                UDPServerSocket.sendto(bytes.fromhex('06 01'), (localIP, gamePort))\n",
    "\n",
    "\n",
    "        except Exception as e:\n",
    "            print(e)\n",
    "            break"
   ]
  },
  {
   "cell_type": "code",
   "execution_count": 20,
   "metadata": {},
   "outputs": [
    {
     "name": "stdout",
     "output_type": "stream",
     "text": [
      "timed out\n"
     ]
    }
   ],
   "source": [
    "autoJump()"
   ]
  },
  {
   "cell_type": "code",
   "execution_count": 21,
   "metadata": {
    "pycharm": {
     "name": "#%%\n"
    }
   },
   "outputs": [],
   "source": [
    "# Close UDP Port When Game is Closed\n",
    "UDPServerSocket.close()"
   ]
  }
 ],
 "metadata": {
  "kernelspec": {
   "display_name": "Python 3.10.5 ('venv': venv)",
   "language": "python",
   "name": "python3"
  },
  "language_info": {
   "codemirror_mode": {
    "name": "ipython",
    "version": 3
   },
   "file_extension": ".py",
   "mimetype": "text/x-python",
   "name": "python",
   "nbconvert_exporter": "python",
   "pygments_lexer": "ipython3",
   "version": "3.10.5"
  },
  "orig_nbformat": 4,
  "vscode": {
   "interpreter": {
    "hash": "f5ff2f5e56ef3133dccc8e09d46b0dc57e2f5d1229922630f6f4d17b9c4b64d3"
   }
  }
 },
 "nbformat": 4,
 "nbformat_minor": 2
}
