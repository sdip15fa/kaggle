{
 "cells": [
  {
   "cell_type": "markdown",
   "metadata": {
    "pycharm": {
     "name": "#%% md\n"
    }
   },
   "source": [
    "# Simple ML Jump (STUDENT VERSION)\n",
    "Billy Hau - June 29, 2022\n",
    "\n",
    "- Data Cleaning / Feature Engineering / Modeling \n",
    "- Deployment"
   ]
  },
  {
   "cell_type": "code",
   "execution_count": 201,
   "metadata": {
    "pycharm": {
     "name": "#%%\n"
    }
   },
   "outputs": [],
   "source": [
    "# Import Libraries\n",
    "import pandas as pd\n",
    "import numpy as np\n",
    "from sklearn.model_selection import train_test_split\n",
    "\n",
    "from sklearn.linear_model import LogisticRegression\n",
    "from sklearn.ensemble import RandomForestClassifier\n",
    "from sklearn.metrics import accuracy_score\n",
    "\n",
    "import matplotlib.pyplot as plt"
   ]
  },
  {
   "cell_type": "code",
   "execution_count": 202,
   "metadata": {
    "pycharm": {
     "name": "#%%\n"
    }
   },
   "outputs": [
    {
     "data": {
      "text/html": [
       "<div>\n",
       "<style scoped>\n",
       "    .dataframe tbody tr th:only-of-type {\n",
       "        vertical-align: middle;\n",
       "    }\n",
       "\n",
       "    .dataframe tbody tr th {\n",
       "        vertical-align: top;\n",
       "    }\n",
       "\n",
       "    .dataframe thead th {\n",
       "        text-align: right;\n",
       "    }\n",
       "</style>\n",
       "<table border=\"1\" class=\"dataframe\">\n",
       "  <thead>\n",
       "    <tr style=\"text-align: right;\">\n",
       "      <th></th>\n",
       "      <th>Bar 1 Distance</th>\n",
       "      <th>Bar 1 Speed</th>\n",
       "      <th>Bar 2 Distance</th>\n",
       "      <th>Bar 2 Speed</th>\n",
       "      <th>Jump</th>\n",
       "      <th>Grounded</th>\n",
       "      <th>Dead</th>\n",
       "      <th>Scored</th>\n",
       "    </tr>\n",
       "  </thead>\n",
       "  <tbody>\n",
       "    <tr>\n",
       "      <th>0</th>\n",
       "      <td>-1.000000</td>\n",
       "      <td>-1.000000</td>\n",
       "      <td>-1.000000</td>\n",
       "      <td>-1.000000</td>\n",
       "      <td>False</td>\n",
       "      <td>True</td>\n",
       "      <td>True</td>\n",
       "      <td>False</td>\n",
       "    </tr>\n",
       "    <tr>\n",
       "      <th>1</th>\n",
       "      <td>38.196301</td>\n",
       "      <td>15.261410</td>\n",
       "      <td>-1.000000</td>\n",
       "      <td>-1.000000</td>\n",
       "      <td>False</td>\n",
       "      <td>True</td>\n",
       "      <td>True</td>\n",
       "      <td>False</td>\n",
       "    </tr>\n",
       "    <tr>\n",
       "      <th>2</th>\n",
       "      <td>34.373650</td>\n",
       "      <td>15.261410</td>\n",
       "      <td>-1.000000</td>\n",
       "      <td>-1.000000</td>\n",
       "      <td>False</td>\n",
       "      <td>True</td>\n",
       "      <td>True</td>\n",
       "      <td>False</td>\n",
       "    </tr>\n",
       "    <tr>\n",
       "      <th>3</th>\n",
       "      <td>30.305191</td>\n",
       "      <td>15.261410</td>\n",
       "      <td>41.488136</td>\n",
       "      <td>15.499226</td>\n",
       "      <td>False</td>\n",
       "      <td>True</td>\n",
       "      <td>True</td>\n",
       "      <td>False</td>\n",
       "    </tr>\n",
       "    <tr>\n",
       "      <th>4</th>\n",
       "      <td>26.230925</td>\n",
       "      <td>15.261410</td>\n",
       "      <td>37.350384</td>\n",
       "      <td>15.499226</td>\n",
       "      <td>False</td>\n",
       "      <td>True</td>\n",
       "      <td>True</td>\n",
       "      <td>False</td>\n",
       "    </tr>\n",
       "    <tr>\n",
       "      <th>...</th>\n",
       "      <td>...</td>\n",
       "      <td>...</td>\n",
       "      <td>...</td>\n",
       "      <td>...</td>\n",
       "      <td>...</td>\n",
       "      <td>...</td>\n",
       "      <td>...</td>\n",
       "      <td>...</td>\n",
       "    </tr>\n",
       "    <tr>\n",
       "      <th>6592</th>\n",
       "      <td>26.484013</td>\n",
       "      <td>14.116766</td>\n",
       "      <td>41.094711</td>\n",
       "      <td>14.470949</td>\n",
       "      <td>False</td>\n",
       "      <td>True</td>\n",
       "      <td>False</td>\n",
       "      <td>False</td>\n",
       "    </tr>\n",
       "    <tr>\n",
       "      <th>6593</th>\n",
       "      <td>22.718809</td>\n",
       "      <td>14.116766</td>\n",
       "      <td>37.235046</td>\n",
       "      <td>14.470949</td>\n",
       "      <td>False</td>\n",
       "      <td>True</td>\n",
       "      <td>False</td>\n",
       "      <td>False</td>\n",
       "    </tr>\n",
       "    <tr>\n",
       "      <th>6594</th>\n",
       "      <td>11.424434</td>\n",
       "      <td>14.116766</td>\n",
       "      <td>25.657303</td>\n",
       "      <td>14.470949</td>\n",
       "      <td>False</td>\n",
       "      <td>True</td>\n",
       "      <td>False</td>\n",
       "      <td>False</td>\n",
       "    </tr>\n",
       "    <tr>\n",
       "      <th>6595</th>\n",
       "      <td>7.657233</td>\n",
       "      <td>14.116766</td>\n",
       "      <td>21.795586</td>\n",
       "      <td>14.470949</td>\n",
       "      <td>False</td>\n",
       "      <td>True</td>\n",
       "      <td>False</td>\n",
       "      <td>False</td>\n",
       "    </tr>\n",
       "    <tr>\n",
       "      <th>6596</th>\n",
       "      <td>3.894349</td>\n",
       "      <td>14.116766</td>\n",
       "      <td>17.938292</td>\n",
       "      <td>14.470949</td>\n",
       "      <td>False</td>\n",
       "      <td>True</td>\n",
       "      <td>False</td>\n",
       "      <td>False</td>\n",
       "    </tr>\n",
       "  </tbody>\n",
       "</table>\n",
       "<p>6597 rows × 8 columns</p>\n",
       "</div>"
      ],
      "text/plain": [
       "      Bar 1 Distance  Bar 1 Speed  Bar 2 Distance  Bar 2 Speed   Jump  \\\n",
       "0          -1.000000    -1.000000       -1.000000    -1.000000  False   \n",
       "1          38.196301    15.261410       -1.000000    -1.000000  False   \n",
       "2          34.373650    15.261410       -1.000000    -1.000000  False   \n",
       "3          30.305191    15.261410       41.488136    15.499226  False   \n",
       "4          26.230925    15.261410       37.350384    15.499226  False   \n",
       "...              ...          ...             ...          ...    ...   \n",
       "6592       26.484013    14.116766       41.094711    14.470949  False   \n",
       "6593       22.718809    14.116766       37.235046    14.470949  False   \n",
       "6594       11.424434    14.116766       25.657303    14.470949  False   \n",
       "6595        7.657233    14.116766       21.795586    14.470949  False   \n",
       "6596        3.894349    14.116766       17.938292    14.470949  False   \n",
       "\n",
       "      Grounded   Dead  Scored  \n",
       "0         True   True   False  \n",
       "1         True   True   False  \n",
       "2         True   True   False  \n",
       "3         True   True   False  \n",
       "4         True   True   False  \n",
       "...        ...    ...     ...  \n",
       "6592      True  False   False  \n",
       "6593      True  False   False  \n",
       "6594      True  False   False  \n",
       "6595      True  False   False  \n",
       "6596      True  False   False  \n",
       "\n",
       "[6597 rows x 8 columns]"
      ]
     },
     "execution_count": 202,
     "metadata": {},
     "output_type": "execute_result"
    }
   ],
   "source": [
    "# Read CSV File\n",
    "df = pd.read_csv(\"./data.csv\")\n",
    "df\n"
   ]
  },
  {
   "cell_type": "code",
   "execution_count": 203,
   "metadata": {
    "pycharm": {
     "name": "#%%\n"
    }
   },
   "outputs": [],
   "source": [
    "# What do each of the columns mean?"
   ]
  },
  {
   "cell_type": "code",
   "execution_count": 204,
   "metadata": {},
   "outputs": [
    {
     "name": "stdout",
     "output_type": "stream",
     "text": [
      "0          0\n",
      "1          1\n",
      "2          2\n",
      "3          3\n",
      "4          4\n",
      "        ... \n",
      "6592    6592\n",
      "6593    6593\n",
      "6594    6594\n",
      "6595    6595\n",
      "6596    6596\n",
      "Name: Index, Length: 6597, dtype: int64\n",
      "0          0\n",
      "1          1\n",
      "2          2\n",
      "3          3\n",
      "4          4\n",
      "        ... \n",
      "6592    6592\n",
      "6593    6593\n",
      "6594    6594\n",
      "6595    6595\n",
      "6596    6596\n",
      "Name: Index, Length: 6597, dtype: int64\n",
      "0       False\n",
      "1       False\n",
      "2       False\n",
      "3       False\n",
      "4       False\n",
      "        ...  \n",
      "6592    False\n",
      "6593    False\n",
      "6594    False\n",
      "6595    False\n",
      "6596    False\n",
      "Name: Index, Length: 6597, dtype: bool\n",
      "Int64Index([329], dtype='int64')\n",
      "0          0\n",
      "1          1\n",
      "2          2\n",
      "3          3\n",
      "4          4\n",
      "        ... \n",
      "6592    6592\n",
      "6593    6593\n",
      "6594    6594\n",
      "6595    6595\n",
      "6596    6596\n",
      "Name: Index, Length: 6596, dtype: int64\n",
      "0       False\n",
      "1       False\n",
      "2       False\n",
      "3       False\n",
      "4       False\n",
      "        ...  \n",
      "6592    False\n",
      "6593    False\n",
      "6594    False\n",
      "6595    False\n",
      "6596    False\n",
      "Name: Index, Length: 6596, dtype: bool\n",
      "Int64Index([409], dtype='int64')\n",
      "0          0\n",
      "1          1\n",
      "2          2\n",
      "3          3\n",
      "4          4\n",
      "        ... \n",
      "6592    6592\n",
      "6593    6593\n",
      "6594    6594\n",
      "6595    6595\n",
      "6596    6596\n",
      "Name: Index, Length: 6595, dtype: int64\n",
      "0       False\n",
      "1       False\n",
      "2       False\n",
      "3       False\n",
      "4       False\n",
      "        ...  \n",
      "6592    False\n",
      "6593    False\n",
      "6594    False\n",
      "6595    False\n",
      "6596    False\n",
      "Name: Index, Length: 6595, dtype: bool\n",
      "Int64Index([3988], dtype='int64')\n",
      "0          0\n",
      "1          1\n",
      "2          2\n",
      "3          3\n",
      "4          4\n",
      "        ... \n",
      "6592    6592\n",
      "6593    6593\n",
      "6594    6594\n",
      "6595    6595\n",
      "6596    6596\n",
      "Name: Index, Length: 6594, dtype: int64\n",
      "0       False\n",
      "1       False\n",
      "2       False\n",
      "3       False\n",
      "4       False\n",
      "        ...  \n",
      "6592    False\n",
      "6593    False\n",
      "6594    False\n",
      "6595    False\n",
      "6596    False\n",
      "Name: Index, Length: 6594, dtype: bool\n",
      "Int64Index([4859], dtype='int64')\n",
      "0          0\n",
      "1          1\n",
      "2          2\n",
      "3          3\n",
      "4          4\n",
      "        ... \n",
      "6592    6592\n",
      "6593    6593\n",
      "6594    6594\n",
      "6595    6595\n",
      "6596    6596\n",
      "Name: Index, Length: 6593, dtype: int64\n",
      "0       False\n",
      "1       False\n",
      "2       False\n",
      "3       False\n",
      "4       False\n",
      "        ...  \n",
      "6592    False\n",
      "6593    False\n",
      "6594    False\n",
      "6595    False\n",
      "6596    False\n",
      "Name: Index, Length: 6593, dtype: bool\n",
      "Int64Index([4915], dtype='int64')\n"
     ]
    },
    {
     "data": {
      "text/html": [
       "<div>\n",
       "<style scoped>\n",
       "    .dataframe tbody tr th:only-of-type {\n",
       "        vertical-align: middle;\n",
       "    }\n",
       "\n",
       "    .dataframe tbody tr th {\n",
       "        vertical-align: top;\n",
       "    }\n",
       "\n",
       "    .dataframe thead th {\n",
       "        text-align: right;\n",
       "    }\n",
       "</style>\n",
       "<table border=\"1\" class=\"dataframe\">\n",
       "  <thead>\n",
       "    <tr style=\"text-align: right;\">\n",
       "      <th></th>\n",
       "      <th>Bar 1 Distance</th>\n",
       "      <th>Bar 1 Speed</th>\n",
       "      <th>Bar 2 Distance</th>\n",
       "      <th>Bar 2 Speed</th>\n",
       "      <th>Jump</th>\n",
       "      <th>Grounded</th>\n",
       "      <th>Dead</th>\n",
       "      <th>Scored</th>\n",
       "      <th>Index</th>\n",
       "    </tr>\n",
       "  </thead>\n",
       "  <tbody>\n",
       "    <tr>\n",
       "      <th>0</th>\n",
       "      <td>-1.000000</td>\n",
       "      <td>-1.000000</td>\n",
       "      <td>-1.000000</td>\n",
       "      <td>-1.000000</td>\n",
       "      <td>False</td>\n",
       "      <td>True</td>\n",
       "      <td>True</td>\n",
       "      <td>False</td>\n",
       "      <td>0</td>\n",
       "    </tr>\n",
       "    <tr>\n",
       "      <th>1</th>\n",
       "      <td>38.196301</td>\n",
       "      <td>15.261410</td>\n",
       "      <td>-1.000000</td>\n",
       "      <td>-1.000000</td>\n",
       "      <td>False</td>\n",
       "      <td>True</td>\n",
       "      <td>True</td>\n",
       "      <td>False</td>\n",
       "      <td>1</td>\n",
       "    </tr>\n",
       "    <tr>\n",
       "      <th>2</th>\n",
       "      <td>34.373650</td>\n",
       "      <td>15.261410</td>\n",
       "      <td>-1.000000</td>\n",
       "      <td>-1.000000</td>\n",
       "      <td>False</td>\n",
       "      <td>True</td>\n",
       "      <td>True</td>\n",
       "      <td>False</td>\n",
       "      <td>2</td>\n",
       "    </tr>\n",
       "    <tr>\n",
       "      <th>3</th>\n",
       "      <td>30.305191</td>\n",
       "      <td>15.261410</td>\n",
       "      <td>41.488136</td>\n",
       "      <td>15.499226</td>\n",
       "      <td>False</td>\n",
       "      <td>True</td>\n",
       "      <td>True</td>\n",
       "      <td>False</td>\n",
       "      <td>3</td>\n",
       "    </tr>\n",
       "    <tr>\n",
       "      <th>4</th>\n",
       "      <td>26.230925</td>\n",
       "      <td>15.261410</td>\n",
       "      <td>37.350384</td>\n",
       "      <td>15.499226</td>\n",
       "      <td>False</td>\n",
       "      <td>True</td>\n",
       "      <td>True</td>\n",
       "      <td>False</td>\n",
       "      <td>4</td>\n",
       "    </tr>\n",
       "    <tr>\n",
       "      <th>...</th>\n",
       "      <td>...</td>\n",
       "      <td>...</td>\n",
       "      <td>...</td>\n",
       "      <td>...</td>\n",
       "      <td>...</td>\n",
       "      <td>...</td>\n",
       "      <td>...</td>\n",
       "      <td>...</td>\n",
       "      <td>...</td>\n",
       "    </tr>\n",
       "    <tr>\n",
       "      <th>6592</th>\n",
       "      <td>26.484013</td>\n",
       "      <td>14.116766</td>\n",
       "      <td>41.094711</td>\n",
       "      <td>14.470949</td>\n",
       "      <td>False</td>\n",
       "      <td>True</td>\n",
       "      <td>False</td>\n",
       "      <td>False</td>\n",
       "      <td>6592</td>\n",
       "    </tr>\n",
       "    <tr>\n",
       "      <th>6593</th>\n",
       "      <td>22.718809</td>\n",
       "      <td>14.116766</td>\n",
       "      <td>37.235046</td>\n",
       "      <td>14.470949</td>\n",
       "      <td>False</td>\n",
       "      <td>True</td>\n",
       "      <td>False</td>\n",
       "      <td>False</td>\n",
       "      <td>6593</td>\n",
       "    </tr>\n",
       "    <tr>\n",
       "      <th>6594</th>\n",
       "      <td>11.424434</td>\n",
       "      <td>14.116766</td>\n",
       "      <td>25.657303</td>\n",
       "      <td>14.470949</td>\n",
       "      <td>False</td>\n",
       "      <td>True</td>\n",
       "      <td>False</td>\n",
       "      <td>False</td>\n",
       "      <td>6594</td>\n",
       "    </tr>\n",
       "    <tr>\n",
       "      <th>6595</th>\n",
       "      <td>7.657233</td>\n",
       "      <td>14.116766</td>\n",
       "      <td>21.795586</td>\n",
       "      <td>14.470949</td>\n",
       "      <td>False</td>\n",
       "      <td>True</td>\n",
       "      <td>False</td>\n",
       "      <td>False</td>\n",
       "      <td>6595</td>\n",
       "    </tr>\n",
       "    <tr>\n",
       "      <th>6596</th>\n",
       "      <td>3.894349</td>\n",
       "      <td>14.116766</td>\n",
       "      <td>17.938292</td>\n",
       "      <td>14.470949</td>\n",
       "      <td>False</td>\n",
       "      <td>True</td>\n",
       "      <td>False</td>\n",
       "      <td>False</td>\n",
       "      <td>6596</td>\n",
       "    </tr>\n",
       "  </tbody>\n",
       "</table>\n",
       "<p>6592 rows × 9 columns</p>\n",
       "</div>"
      ],
      "text/plain": [
       "      Bar 1 Distance  Bar 1 Speed  Bar 2 Distance  Bar 2 Speed   Jump  \\\n",
       "0          -1.000000    -1.000000       -1.000000    -1.000000  False   \n",
       "1          38.196301    15.261410       -1.000000    -1.000000  False   \n",
       "2          34.373650    15.261410       -1.000000    -1.000000  False   \n",
       "3          30.305191    15.261410       41.488136    15.499226  False   \n",
       "4          26.230925    15.261410       37.350384    15.499226  False   \n",
       "...              ...          ...             ...          ...    ...   \n",
       "6592       26.484013    14.116766       41.094711    14.470949  False   \n",
       "6593       22.718809    14.116766       37.235046    14.470949  False   \n",
       "6594       11.424434    14.116766       25.657303    14.470949  False   \n",
       "6595        7.657233    14.116766       21.795586    14.470949  False   \n",
       "6596        3.894349    14.116766       17.938292    14.470949  False   \n",
       "\n",
       "      Grounded   Dead  Scored  Index  \n",
       "0         True   True   False      0  \n",
       "1         True   True   False      1  \n",
       "2         True   True   False      2  \n",
       "3         True   True   False      3  \n",
       "4         True   True   False      4  \n",
       "...        ...    ...     ...    ...  \n",
       "6592      True  False   False   6592  \n",
       "6593      True  False   False   6593  \n",
       "6594      True  False   False   6594  \n",
       "6595      True  False   False   6595  \n",
       "6596      True  False   False   6596  \n",
       "\n",
       "[6592 rows x 9 columns]"
      ]
     },
     "execution_count": 204,
     "metadata": {},
     "output_type": "execute_result"
    }
   ],
   "source": [
    "df['Index'] = df.index\n",
    "print(df['Index'])\n",
    "jump = df[df['Jump'] == True]\n",
    "\n",
    "dead = jump['Dead'].to_numpy()\n",
    "# dead.value_counts()\n",
    "for i in range(dead.shape[0]):\n",
    "    #print(jump.index[i])\n",
    "    try:\n",
    "        if (dead[i + 1] == True):\n",
    "            print(df['Index'])\n",
    "            print(df['Index'] == jump.index[i])\n",
    "            print(df[df.index == jump.index[i]].index)\n",
    "            df.drop(df[df.index == jump.index[i]].index, inplace=True)\n",
    "    except:\n",
    "        pass\n",
    "df"
   ]
  },
  {
   "cell_type": "code",
   "execution_count": 205,
   "metadata": {
    "pycharm": {
     "name": "#%%\n"
    }
   },
   "outputs": [
    {
     "data": {
      "text/html": [
       "<div>\n",
       "<style scoped>\n",
       "    .dataframe tbody tr th:only-of-type {\n",
       "        vertical-align: middle;\n",
       "    }\n",
       "\n",
       "    .dataframe tbody tr th {\n",
       "        vertical-align: top;\n",
       "    }\n",
       "\n",
       "    .dataframe thead th {\n",
       "        text-align: right;\n",
       "    }\n",
       "</style>\n",
       "<table border=\"1\" class=\"dataframe\">\n",
       "  <thead>\n",
       "    <tr style=\"text-align: right;\">\n",
       "      <th></th>\n",
       "      <th>Bar 1 Distance</th>\n",
       "      <th>Bar 1 Speed</th>\n",
       "      <th>Bar 2 Distance</th>\n",
       "      <th>Bar 2 Speed</th>\n",
       "      <th>Jump</th>\n",
       "      <th>Index</th>\n",
       "    </tr>\n",
       "  </thead>\n",
       "  <tbody>\n",
       "    <tr>\n",
       "      <th>6</th>\n",
       "      <td>39.841648</td>\n",
       "      <td>16.293358</td>\n",
       "      <td>54.819611</td>\n",
       "      <td>16.459723</td>\n",
       "      <td>False</td>\n",
       "      <td>6</td>\n",
       "    </tr>\n",
       "    <tr>\n",
       "      <th>7</th>\n",
       "      <td>35.498672</td>\n",
       "      <td>16.293358</td>\n",
       "      <td>50.432281</td>\n",
       "      <td>16.459723</td>\n",
       "      <td>False</td>\n",
       "      <td>7</td>\n",
       "    </tr>\n",
       "    <tr>\n",
       "      <th>8</th>\n",
       "      <td>31.420794</td>\n",
       "      <td>16.293358</td>\n",
       "      <td>46.312759</td>\n",
       "      <td>16.459723</td>\n",
       "      <td>False</td>\n",
       "      <td>8</td>\n",
       "    </tr>\n",
       "    <tr>\n",
       "      <th>9</th>\n",
       "      <td>27.081730</td>\n",
       "      <td>16.293358</td>\n",
       "      <td>41.929390</td>\n",
       "      <td>16.459723</td>\n",
       "      <td>False</td>\n",
       "      <td>9</td>\n",
       "    </tr>\n",
       "    <tr>\n",
       "      <th>10</th>\n",
       "      <td>22.999084</td>\n",
       "      <td>16.293358</td>\n",
       "      <td>37.805058</td>\n",
       "      <td>16.459723</td>\n",
       "      <td>False</td>\n",
       "      <td>10</td>\n",
       "    </tr>\n",
       "    <tr>\n",
       "      <th>...</th>\n",
       "      <td>...</td>\n",
       "      <td>...</td>\n",
       "      <td>...</td>\n",
       "      <td>...</td>\n",
       "      <td>...</td>\n",
       "      <td>...</td>\n",
       "    </tr>\n",
       "    <tr>\n",
       "      <th>6592</th>\n",
       "      <td>26.484013</td>\n",
       "      <td>14.116766</td>\n",
       "      <td>41.094711</td>\n",
       "      <td>14.470949</td>\n",
       "      <td>False</td>\n",
       "      <td>6592</td>\n",
       "    </tr>\n",
       "    <tr>\n",
       "      <th>6593</th>\n",
       "      <td>22.718809</td>\n",
       "      <td>14.116766</td>\n",
       "      <td>37.235046</td>\n",
       "      <td>14.470949</td>\n",
       "      <td>False</td>\n",
       "      <td>6593</td>\n",
       "    </tr>\n",
       "    <tr>\n",
       "      <th>6594</th>\n",
       "      <td>11.424434</td>\n",
       "      <td>14.116766</td>\n",
       "      <td>25.657303</td>\n",
       "      <td>14.470949</td>\n",
       "      <td>False</td>\n",
       "      <td>6594</td>\n",
       "    </tr>\n",
       "    <tr>\n",
       "      <th>6595</th>\n",
       "      <td>7.657233</td>\n",
       "      <td>14.116766</td>\n",
       "      <td>21.795586</td>\n",
       "      <td>14.470949</td>\n",
       "      <td>False</td>\n",
       "      <td>6595</td>\n",
       "    </tr>\n",
       "    <tr>\n",
       "      <th>6596</th>\n",
       "      <td>3.894349</td>\n",
       "      <td>14.116766</td>\n",
       "      <td>17.938292</td>\n",
       "      <td>14.470949</td>\n",
       "      <td>False</td>\n",
       "      <td>6596</td>\n",
       "    </tr>\n",
       "  </tbody>\n",
       "</table>\n",
       "<p>6046 rows × 6 columns</p>\n",
       "</div>"
      ],
      "text/plain": [
       "      Bar 1 Distance  Bar 1 Speed  Bar 2 Distance  Bar 2 Speed   Jump  Index\n",
       "6          39.841648    16.293358       54.819611    16.459723  False      6\n",
       "7          35.498672    16.293358       50.432281    16.459723  False      7\n",
       "8          31.420794    16.293358       46.312759    16.459723  False      8\n",
       "9          27.081730    16.293358       41.929390    16.459723  False      9\n",
       "10         22.999084    16.293358       37.805058    16.459723  False     10\n",
       "...              ...          ...             ...          ...    ...    ...\n",
       "6592       26.484013    14.116766       41.094711    14.470949  False   6592\n",
       "6593       22.718809    14.116766       37.235046    14.470949  False   6593\n",
       "6594       11.424434    14.116766       25.657303    14.470949  False   6594\n",
       "6595        7.657233    14.116766       21.795586    14.470949  False   6595\n",
       "6596        3.894349    14.116766       17.938292    14.470949  False   6596\n",
       "\n",
       "[6046 rows x 6 columns]"
      ]
     },
     "execution_count": 205,
     "metadata": {},
     "output_type": "execute_result"
    }
   ],
   "source": [
    "# Are there data we don't care about?\n",
    "df.drop(df[df['Dead'] == True].index, inplace=True)\n",
    "df = df.drop([\"Grounded\", \"Dead\", \"Scored\"], inplace=False, axis=1)\n",
    "df"
   ]
  },
  {
   "cell_type": "code",
   "execution_count": 206,
   "metadata": {
    "collapsed": false,
    "pycharm": {
     "name": "#%%\n"
    }
   },
   "outputs": [
    {
     "data": {
      "text/plain": [
       "652"
      ]
     },
     "execution_count": 206,
     "metadata": {},
     "output_type": "execute_result"
    }
   ],
   "source": [
    "jumpCount = df[df['Jump'] == True].shape[0]\n",
    "jumpCount"
   ]
  },
  {
   "cell_type": "code",
   "execution_count": 207,
   "metadata": {
    "collapsed": false,
    "pycharm": {
     "name": "#%%\n"
    }
   },
   "outputs": [
    {
     "data": {
      "text/plain": [
       "5394"
      ]
     },
     "execution_count": 207,
     "metadata": {},
     "output_type": "execute_result"
    }
   ],
   "source": [
    "noJumpCount = df[df['Jump'] == False].shape[0]\n",
    "noJumpCount"
   ]
  },
  {
   "cell_type": "code",
   "execution_count": 208,
   "metadata": {
    "collapsed": false,
    "pycharm": {
     "name": "#%%\n"
    }
   },
   "outputs": [],
   "source": [
    "df_toDrop = df[df['Jump'] == False].sample(noJumpCount - jumpCount)\n",
    "df.drop(df_toDrop.index, inplace=True)"
   ]
  },
  {
   "cell_type": "code",
   "execution_count": 209,
   "metadata": {
    "pycharm": {
     "name": "#%%\n"
    }
   },
   "outputs": [],
   "source": [
    "# Create the Input DataFrame\n",
    "X = df[['Bar 1 Distance', 'Bar 1 Speed', 'Bar 2 Distance', 'Bar 2 Speed']]\n",
    "X = X.to_numpy()"
   ]
  },
  {
   "cell_type": "code",
   "execution_count": 210,
   "metadata": {
    "pycharm": {
     "name": "#%%\n"
    }
   },
   "outputs": [
    {
     "name": "stderr",
     "output_type": "stream",
     "text": [
      "/tmp/ipykernel_1218930/808815421.py:10: SettingWithCopyWarning: \n",
      "A value is trying to be set on a copy of a slice from a DataFrame.\n",
      "Try using .loc[row_indexer,col_indexer] = value instead\n",
      "\n",
      "See the caveats in the documentation: https://pandas.pydata.org/pandas-docs/stable/user_guide/indexing.html#returning-a-view-versus-a-copy\n",
      "  Y['Jump'] = Y.apply(bool2Num, axis='columns')\n"
     ]
    }
   ],
   "source": [
    "# Create the Output DataFrame and Map True / False to 1 / 0\n",
    "Y = df[['Jump']]\n",
    "\n",
    "def bool2Num(row):\n",
    "    if row['Jump']:\n",
    "        return 1\n",
    "    else:\n",
    "        return 0\n",
    "\n",
    "Y['Jump'] = Y.apply(bool2Num, axis='columns')\n",
    "Y = Y['Jump'].to_numpy()"
   ]
  },
  {
   "cell_type": "code",
   "execution_count": 211,
   "metadata": {
    "pycharm": {
     "name": "#%%\n"
    }
   },
   "outputs": [],
   "source": [
    "# Train Test Split with test size set to 20%\n",
    "from sklearn.model_selection import train_test_split\n",
    "x_train, x_test, y_train, y_test = train_test_split(X, Y, test_size=0.33, random_state=42)"
   ]
  },
  {
   "cell_type": "code",
   "execution_count": 212,
   "metadata": {
    "pycharm": {
     "name": "#%%\n"
    }
   },
   "outputs": [
    {
     "data": {
      "text/html": [
       "<style>#sk-container-id-11 {color: black;background-color: white;}#sk-container-id-11 pre{padding: 0;}#sk-container-id-11 div.sk-toggleable {background-color: white;}#sk-container-id-11 label.sk-toggleable__label {cursor: pointer;display: block;width: 100%;margin-bottom: 0;padding: 0.3em;box-sizing: border-box;text-align: center;}#sk-container-id-11 label.sk-toggleable__label-arrow:before {content: \"▸\";float: left;margin-right: 0.25em;color: #696969;}#sk-container-id-11 label.sk-toggleable__label-arrow:hover:before {color: black;}#sk-container-id-11 div.sk-estimator:hover label.sk-toggleable__label-arrow:before {color: black;}#sk-container-id-11 div.sk-toggleable__content {max-height: 0;max-width: 0;overflow: hidden;text-align: left;background-color: #f0f8ff;}#sk-container-id-11 div.sk-toggleable__content pre {margin: 0.2em;color: black;border-radius: 0.25em;background-color: #f0f8ff;}#sk-container-id-11 input.sk-toggleable__control:checked~div.sk-toggleable__content {max-height: 200px;max-width: 100%;overflow: auto;}#sk-container-id-11 input.sk-toggleable__control:checked~label.sk-toggleable__label-arrow:before {content: \"▾\";}#sk-container-id-11 div.sk-estimator input.sk-toggleable__control:checked~label.sk-toggleable__label {background-color: #d4ebff;}#sk-container-id-11 div.sk-label input.sk-toggleable__control:checked~label.sk-toggleable__label {background-color: #d4ebff;}#sk-container-id-11 input.sk-hidden--visually {border: 0;clip: rect(1px 1px 1px 1px);clip: rect(1px, 1px, 1px, 1px);height: 1px;margin: -1px;overflow: hidden;padding: 0;position: absolute;width: 1px;}#sk-container-id-11 div.sk-estimator {font-family: monospace;background-color: #f0f8ff;border: 1px dotted black;border-radius: 0.25em;box-sizing: border-box;margin-bottom: 0.5em;}#sk-container-id-11 div.sk-estimator:hover {background-color: #d4ebff;}#sk-container-id-11 div.sk-parallel-item::after {content: \"\";width: 100%;border-bottom: 1px solid gray;flex-grow: 1;}#sk-container-id-11 div.sk-label:hover label.sk-toggleable__label {background-color: #d4ebff;}#sk-container-id-11 div.sk-serial::before {content: \"\";position: absolute;border-left: 1px solid gray;box-sizing: border-box;top: 0;bottom: 0;left: 50%;z-index: 0;}#sk-container-id-11 div.sk-serial {display: flex;flex-direction: column;align-items: center;background-color: white;padding-right: 0.2em;padding-left: 0.2em;position: relative;}#sk-container-id-11 div.sk-item {position: relative;z-index: 1;}#sk-container-id-11 div.sk-parallel {display: flex;align-items: stretch;justify-content: center;background-color: white;position: relative;}#sk-container-id-11 div.sk-item::before, #sk-container-id-11 div.sk-parallel-item::before {content: \"\";position: absolute;border-left: 1px solid gray;box-sizing: border-box;top: 0;bottom: 0;left: 50%;z-index: -1;}#sk-container-id-11 div.sk-parallel-item {display: flex;flex-direction: column;z-index: 1;position: relative;background-color: white;}#sk-container-id-11 div.sk-parallel-item:first-child::after {align-self: flex-end;width: 50%;}#sk-container-id-11 div.sk-parallel-item:last-child::after {align-self: flex-start;width: 50%;}#sk-container-id-11 div.sk-parallel-item:only-child::after {width: 0;}#sk-container-id-11 div.sk-dashed-wrapped {border: 1px dashed gray;margin: 0 0.4em 0.5em 0.4em;box-sizing: border-box;padding-bottom: 0.4em;background-color: white;}#sk-container-id-11 div.sk-label label {font-family: monospace;font-weight: bold;display: inline-block;line-height: 1.2em;}#sk-container-id-11 div.sk-label-container {text-align: center;}#sk-container-id-11 div.sk-container {/* jupyter's `normalize.less` sets `[hidden] { display: none; }` but bootstrap.min.css set `[hidden] { display: none !important; }` so we also need the `!important` here to be able to override the default hidden behavior on the sphinx rendered scikit-learn.org. See: https://github.com/scikit-learn/scikit-learn/issues/21755 */display: inline-block !important;position: relative;}#sk-container-id-11 div.sk-text-repr-fallback {display: none;}</style><div id=\"sk-container-id-11\" class=\"sk-top-container\"><div class=\"sk-text-repr-fallback\"><pre>RandomForestClassifier()</pre><b>In a Jupyter environment, please rerun this cell to show the HTML representation or trust the notebook. <br />On GitHub, the HTML representation is unable to render, please try loading this page with nbviewer.org.</b></div><div class=\"sk-container\" hidden><div class=\"sk-item\"><div class=\"sk-estimator sk-toggleable\"><input class=\"sk-toggleable__control sk-hidden--visually\" id=\"sk-estimator-id-11\" type=\"checkbox\" checked><label for=\"sk-estimator-id-11\" class=\"sk-toggleable__label sk-toggleable__label-arrow\">RandomForestClassifier</label><div class=\"sk-toggleable__content\"><pre>RandomForestClassifier()</pre></div></div></div></div></div>"
      ],
      "text/plain": [
       "RandomForestClassifier()"
      ]
     },
     "execution_count": 212,
     "metadata": {},
     "output_type": "execute_result"
    }
   ],
   "source": [
    "from sklearn.linear_model import LogisticRegression\n",
    "\n",
    "# Define and Build Model (Logistic Regression)\n",
    "model = RandomForestClassifier()\n",
    "model.fit(x_train, y_train)\n"
   ]
  },
  {
   "cell_type": "code",
   "execution_count": 213,
   "metadata": {
    "pycharm": {
     "name": "#%%\n"
    }
   },
   "outputs": [],
   "source": [
    "predict = model.predict(x_test)"
   ]
  },
  {
   "cell_type": "code",
   "execution_count": 214,
   "metadata": {
    "pycharm": {
     "name": "#%%\n"
    }
   },
   "outputs": [],
   "source": [
    "from sklearn.metrics import accuracy_score, precision_score, recall_score, f1_score, confusion_matrix"
   ]
  },
  {
   "cell_type": "code",
   "execution_count": 215,
   "metadata": {
    "pycharm": {
     "name": "#%%\n"
    }
   },
   "outputs": [
    {
     "data": {
      "text/plain": [
       "0.8700696055684455"
      ]
     },
     "execution_count": 215,
     "metadata": {},
     "output_type": "execute_result"
    }
   ],
   "source": [
    "# Print Out Prediction Accuraccy\n",
    "accuracy_score(y_test, predict)"
   ]
  },
  {
   "cell_type": "code",
   "execution_count": 216,
   "metadata": {
    "pycharm": {
     "name": "#%%\n"
    }
   },
   "outputs": [
    {
     "data": {
      "text/plain": [
       "'model2 = ________________________________\\nmodel2.__________________________\\n\\npredict = ___________________________\\naccuracy_score(_________________, ________________)'"
      ]
     },
     "execution_count": 216,
     "metadata": {},
     "output_type": "execute_result"
    }
   ],
   "source": [
    "# Try a Different Model (Random Forest)\n",
    "\"\"\"model2 = ________________________________\n",
    "model2.__________________________\n",
    "\n",
    "predict = ___________________________\n",
    "accuracy_score(_________________, ________________)\"\"\"\n"
   ]
  },
  {
   "cell_type": "markdown",
   "metadata": {
    "pycharm": {
     "name": "#%% md\n"
    }
   },
   "source": [
    "# Deployment"
   ]
  },
  {
   "cell_type": "code",
   "execution_count": 217,
   "metadata": {
    "pycharm": {
     "name": "#%%\n"
    }
   },
   "outputs": [],
   "source": [
    "# Command to Open SIMPLE ML Jump 2 (for Example)\n",
    "\n",
    "# Windows OS\n",
    "#env_path = \"D:\\\\User\\\\Desktop\\\\10botics Data Science\\\\ML Game\\\\SimpleMLJump2 Builds\\\\Windows\\\\Simple ML Jump 2.exe\"\n",
    "\n",
    "# MacOS\n",
    "#env_path = 'open -n \"/Users/billwaa/Desktop/ML Game/Simple ML Jump 2.app\"' \n",
    "\n",
    "env_path = \"/home/wcyat/dev/kaggle/code/ml-jump/Linux/SimpleMLJump2.x86_64\""
   ]
  },
  {
   "cell_type": "code",
   "execution_count": 218,
   "metadata": {
    "pycharm": {
     "name": "#%%\n"
    }
   },
   "outputs": [
    {
     "data": {
      "text/plain": [
       "2"
      ]
     },
     "execution_count": 218,
     "metadata": {},
     "output_type": "execute_result"
    }
   ],
   "source": [
    "# Import Libraries\n",
    "import socket\n",
    "import struct\n",
    "import tensorflow as tf\n",
    "from tensorflow import keras\n",
    "import pandas as pd\n",
    "import time\n",
    "import subprocess\n",
    "import platform\n",
    "\n",
    "# Find Open Socket Ports\n",
    "def findOpenSockets(size:int):\n",
    "\n",
    "    sock = []\n",
    "    port = []\n",
    "\n",
    "    for i in range(size):\n",
    "        sock.append(socket.socket())\n",
    "        sock[i].bind(('localhost', 0))\n",
    "        port.append(sock[i].getsockname()[1])\n",
    "\n",
    "    for i in range(len(sock)):\n",
    "        sock[i].close()\n",
    "\n",
    "\n",
    "    return port\n",
    "\n",
    "\n",
    "# Find Open Ports and Launch Game Environment\n",
    "envNum = 1\n",
    "openPorts = findOpenSockets(envNum * 2)\n",
    "gamePort = openPorts[0]\n",
    "apiPort = openPorts[1]\n",
    "\n",
    "# Determine OS and Launch \n",
    "if platform.system() == 'Darwin':\n",
    "    env_path += f\" --args --apiPort {str(apiPort)} --gamePort {str(gamePort)} --small false\"\n",
    "    process = subprocess.Popen([env_path], shell=True)\n",
    "else:\n",
    "    process = subprocess.Popen([env_path, '--apiPort', str(apiPort), '--gamePort', str(gamePort), '--small', 'false'])\n",
    "\n",
    "# Establish UDP Network Client\n",
    "localIP     = \"localhost\"\n",
    "bufferSize  = 1024\n",
    "UDPServerSocket = socket.socket(family=socket.AF_INET, type=socket.SOCK_DGRAM)\n",
    "UDPServerSocket.bind((localIP, apiPort))\n",
    "\n",
    "# Set UDP Timeout\n",
    "UDPServerSocket.settimeout(3)\n",
    "\n",
    "# Wait for Game Environment to Open\n",
    "t0 = time.time()\n",
    "\n",
    "while(time.time() - t0 < 5):\n",
    "    pass\n",
    "\n",
    "# Extract Data\n",
    "def extractData(data):\n",
    "    dist1 = struct.unpack('f', data[:4])\n",
    "    speed1 = struct.unpack('f', data[4:8])\n",
    "    dist2 = struct.unpack('f', data[8:12])\n",
    "    speed2 = struct.unpack('f', data[12:16])\n",
    "\n",
    "    onGround = True if (data[16] & (1 << 0)) == 1 else False\n",
    "    toJump = True if (data[17] & (1 << 0)) == 1 else False\n",
    "    isDead = True if (data[18] & (1 << 0)) == 1 else False\n",
    "    scored = True if (data[19] & (1 << 0)) == 1 else False\n",
    "\n",
    "    dat = [dist1[0], speed1[0], dist2[0], speed2[0], toJump, onGround, isDead, scored] # Swap Order to Accomadate Old Model\n",
    "    df_temp = pd.DataFrame(dat).transpose()\n",
    "\n",
    "\n",
    "    return df_temp\n",
    "\n",
    "# Reset Simulation\n",
    "UDPServerSocket.sendto(bytes.fromhex('07 00'), (localIP, gamePort))"
   ]
  },
  {
   "cell_type": "code",
   "execution_count": 219,
   "metadata": {
    "pycharm": {
     "name": "#%%\n"
    }
   },
   "outputs": [],
   "source": [
    "def autoJump():\n",
    "# Process Loop - Retrieve Data from Simulation, Run Through Model, Output Command\n",
    "    while True:\n",
    "        try:\n",
    "\n",
    "            bytesAddressPair = UDPServerSocket.recvfrom(bufferSize)\n",
    "\n",
    "            t0 = time.time()\n",
    "\n",
    "            message = bytesAddressPair[0]\n",
    "            address = bytesAddressPair[1]\n",
    "            df_temp = extractData(message)\n",
    "            X = df_temp.iloc[:, :4]\n",
    "            X = X.astype(float)\n",
    "\n",
    "        # Data PreProcessing Function Go Here\n",
    "\n",
    "        # Model Prediction Function Go Here\n",
    "            predict = model.predict(X)\n",
    "\n",
    "            print(predict, end='\\r')\n",
    "\n",
    "        # If Jump Decision is Made, Send to Game\n",
    "            if predict[0] > 0.5:\n",
    "            # Jump Command\n",
    "                UDPServerSocket.sendto(bytes.fromhex('06 01'), (localIP, gamePort))\n",
    "\n",
    "\n",
    "        except Exception as e:\n",
    "            print(e)\n",
    "            break"
   ]
  },
  {
   "cell_type": "code",
   "execution_count": 220,
   "metadata": {},
   "outputs": [
    {
     "name": "stdout",
     "output_type": "stream",
     "text": [
      "timed out\n"
     ]
    }
   ],
   "source": [
    "autoJump()"
   ]
  },
  {
   "cell_type": "code",
   "execution_count": 221,
   "metadata": {
    "pycharm": {
     "name": "#%%\n"
    }
   },
   "outputs": [],
   "source": [
    "# Close UDP Port When Game is Closed\n",
    "UDPServerSocket.close()"
   ]
  }
 ],
 "metadata": {
  "kernelspec": {
   "display_name": "Python 3.10.5 ('venv': venv)",
   "language": "python",
   "name": "python3"
  },
  "language_info": {
   "codemirror_mode": {
    "name": "ipython",
    "version": 3
   },
   "file_extension": ".py",
   "mimetype": "text/x-python",
   "name": "python",
   "nbconvert_exporter": "python",
   "pygments_lexer": "ipython3",
   "version": "3.10.5"
  },
  "orig_nbformat": 4,
  "vscode": {
   "interpreter": {
    "hash": "f5ff2f5e56ef3133dccc8e09d46b0dc57e2f5d1229922630f6f4d17b9c4b64d3"
   }
  }
 },
 "nbformat": 4,
 "nbformat_minor": 2
}
