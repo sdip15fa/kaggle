{
 "cells": [
  {
   "cell_type": "markdown",
   "metadata": {
    "pycharm": {
     "name": "#%% md\n"
    }
   },
   "source": [
    "# Simple ML Jump (STUDENT VERSION)\n",
    "Billy Hau - June 29, 2022\n",
    "\n",
    "- Data Cleaning / Feature Engineering / Modeling \n",
    "- Deployment"
   ]
  },
  {
   "cell_type": "code",
   "execution_count": 101,
   "metadata": {
    "pycharm": {
     "name": "#%%\n"
    }
   },
   "outputs": [],
   "source": [
    "# Import Libraries\n",
    "import pandas as pd\n",
    "import numpy as np\n",
    "from sklearn.model_selection import train_test_split\n",
    "\n",
    "from sklearn.linear_model import LogisticRegression\n",
    "from sklearn.ensemble import RandomForestClassifier\n",
    "from sklearn.metrics import accuracy_score\n",
    "\n",
    "import matplotlib.pyplot as plt"
   ]
  },
  {
   "cell_type": "code",
   "execution_count": 102,
   "metadata": {
    "pycharm": {
     "name": "#%%\n"
    }
   },
   "outputs": [
    {
     "data": {
      "text/html": [
       "<div>\n",
       "<style scoped>\n",
       "    .dataframe tbody tr th:only-of-type {\n",
       "        vertical-align: middle;\n",
       "    }\n",
       "\n",
       "    .dataframe tbody tr th {\n",
       "        vertical-align: top;\n",
       "    }\n",
       "\n",
       "    .dataframe thead th {\n",
       "        text-align: right;\n",
       "    }\n",
       "</style>\n",
       "<table border=\"1\" class=\"dataframe\">\n",
       "  <thead>\n",
       "    <tr style=\"text-align: right;\">\n",
       "      <th></th>\n",
       "      <th>Bar 1 Distance</th>\n",
       "      <th>Bar 1 Speed</th>\n",
       "      <th>Bar 2 Distance</th>\n",
       "      <th>Bar 2 Speed</th>\n",
       "      <th>Jump</th>\n",
       "      <th>Grounded</th>\n",
       "      <th>Dead</th>\n",
       "      <th>Scored</th>\n",
       "    </tr>\n",
       "  </thead>\n",
       "  <tbody>\n",
       "    <tr>\n",
       "      <th>0</th>\n",
       "      <td>-1.000000</td>\n",
       "      <td>-1.000000</td>\n",
       "      <td>-1.000000</td>\n",
       "      <td>-1.000000</td>\n",
       "      <td>False</td>\n",
       "      <td>True</td>\n",
       "      <td>True</td>\n",
       "      <td>False</td>\n",
       "    </tr>\n",
       "    <tr>\n",
       "      <th>1</th>\n",
       "      <td>38.196301</td>\n",
       "      <td>15.261410</td>\n",
       "      <td>-1.000000</td>\n",
       "      <td>-1.000000</td>\n",
       "      <td>False</td>\n",
       "      <td>True</td>\n",
       "      <td>True</td>\n",
       "      <td>False</td>\n",
       "    </tr>\n",
       "    <tr>\n",
       "      <th>2</th>\n",
       "      <td>34.373650</td>\n",
       "      <td>15.261410</td>\n",
       "      <td>-1.000000</td>\n",
       "      <td>-1.000000</td>\n",
       "      <td>False</td>\n",
       "      <td>True</td>\n",
       "      <td>True</td>\n",
       "      <td>False</td>\n",
       "    </tr>\n",
       "    <tr>\n",
       "      <th>3</th>\n",
       "      <td>30.305191</td>\n",
       "      <td>15.261410</td>\n",
       "      <td>41.488136</td>\n",
       "      <td>15.499226</td>\n",
       "      <td>False</td>\n",
       "      <td>True</td>\n",
       "      <td>True</td>\n",
       "      <td>False</td>\n",
       "    </tr>\n",
       "    <tr>\n",
       "      <th>4</th>\n",
       "      <td>26.230925</td>\n",
       "      <td>15.261410</td>\n",
       "      <td>37.350384</td>\n",
       "      <td>15.499226</td>\n",
       "      <td>False</td>\n",
       "      <td>True</td>\n",
       "      <td>True</td>\n",
       "      <td>False</td>\n",
       "    </tr>\n",
       "    <tr>\n",
       "      <th>...</th>\n",
       "      <td>...</td>\n",
       "      <td>...</td>\n",
       "      <td>...</td>\n",
       "      <td>...</td>\n",
       "      <td>...</td>\n",
       "      <td>...</td>\n",
       "      <td>...</td>\n",
       "      <td>...</td>\n",
       "    </tr>\n",
       "    <tr>\n",
       "      <th>6390</th>\n",
       "      <td>10.741413</td>\n",
       "      <td>16.315287</td>\n",
       "      <td>-1.000000</td>\n",
       "      <td>-1.000000</td>\n",
       "      <td>False</td>\n",
       "      <td>True</td>\n",
       "      <td>True</td>\n",
       "      <td>False</td>\n",
       "    </tr>\n",
       "    <tr>\n",
       "      <th>6391</th>\n",
       "      <td>6.656005</td>\n",
       "      <td>16.315287</td>\n",
       "      <td>-1.000000</td>\n",
       "      <td>-1.000000</td>\n",
       "      <td>False</td>\n",
       "      <td>True</td>\n",
       "      <td>True</td>\n",
       "      <td>False</td>\n",
       "    </tr>\n",
       "    <tr>\n",
       "      <th>6392</th>\n",
       "      <td>2.300749</td>\n",
       "      <td>16.315287</td>\n",
       "      <td>-1.000000</td>\n",
       "      <td>-1.000000</td>\n",
       "      <td>False</td>\n",
       "      <td>True</td>\n",
       "      <td>True</td>\n",
       "      <td>False</td>\n",
       "    </tr>\n",
       "    <tr>\n",
       "      <th>6393</th>\n",
       "      <td>-1.000000</td>\n",
       "      <td>-1.000000</td>\n",
       "      <td>-1.000000</td>\n",
       "      <td>-1.000000</td>\n",
       "      <td>False</td>\n",
       "      <td>True</td>\n",
       "      <td>True</td>\n",
       "      <td>False</td>\n",
       "    </tr>\n",
       "    <tr>\n",
       "      <th>6394</th>\n",
       "      <td>40.372272</td>\n",
       "      <td>16.314571</td>\n",
       "      <td>-1.000000</td>\n",
       "      <td>-1.000000</td>\n",
       "      <td>False</td>\n",
       "      <td>True</td>\n",
       "      <td>True</td>\n",
       "      <td>False</td>\n",
       "    </tr>\n",
       "  </tbody>\n",
       "</table>\n",
       "<p>6395 rows × 8 columns</p>\n",
       "</div>"
      ],
      "text/plain": [
       "      Bar 1 Distance  Bar 1 Speed  Bar 2 Distance  Bar 2 Speed   Jump  \\\n",
       "0          -1.000000    -1.000000       -1.000000    -1.000000  False   \n",
       "1          38.196301    15.261410       -1.000000    -1.000000  False   \n",
       "2          34.373650    15.261410       -1.000000    -1.000000  False   \n",
       "3          30.305191    15.261410       41.488136    15.499226  False   \n",
       "4          26.230925    15.261410       37.350384    15.499226  False   \n",
       "...              ...          ...             ...          ...    ...   \n",
       "6390       10.741413    16.315287       -1.000000    -1.000000  False   \n",
       "6391        6.656005    16.315287       -1.000000    -1.000000  False   \n",
       "6392        2.300749    16.315287       -1.000000    -1.000000  False   \n",
       "6393       -1.000000    -1.000000       -1.000000    -1.000000  False   \n",
       "6394       40.372272    16.314571       -1.000000    -1.000000  False   \n",
       "\n",
       "      Grounded  Dead  Scored  \n",
       "0         True  True   False  \n",
       "1         True  True   False  \n",
       "2         True  True   False  \n",
       "3         True  True   False  \n",
       "4         True  True   False  \n",
       "...        ...   ...     ...  \n",
       "6390      True  True   False  \n",
       "6391      True  True   False  \n",
       "6392      True  True   False  \n",
       "6393      True  True   False  \n",
       "6394      True  True   False  \n",
       "\n",
       "[6395 rows x 8 columns]"
      ]
     },
     "execution_count": 102,
     "metadata": {},
     "output_type": "execute_result"
    }
   ],
   "source": [
    "# Read CSV File\n",
    "df = pd.read_csv(\"./data.csv\")\n",
    "df\n"
   ]
  },
  {
   "cell_type": "code",
   "execution_count": 103,
   "metadata": {
    "pycharm": {
     "name": "#%%\n"
    }
   },
   "outputs": [],
   "source": [
    "# What do each of the columns mean?"
   ]
  },
  {
   "cell_type": "code",
   "execution_count": 104,
   "metadata": {},
   "outputs": [
    {
     "name": "stdout",
     "output_type": "stream",
     "text": [
      "0          0\n",
      "1          1\n",
      "2          2\n",
      "3          3\n",
      "4          4\n",
      "        ... \n",
      "6390    6390\n",
      "6391    6391\n",
      "6392    6392\n",
      "6393    6393\n",
      "6394    6394\n",
      "Name: Index, Length: 6395, dtype: int64\n",
      "0          0\n",
      "1          1\n",
      "2          2\n",
      "3          3\n",
      "4          4\n",
      "        ... \n",
      "6390    6390\n",
      "6391    6391\n",
      "6392    6392\n",
      "6393    6393\n",
      "6394    6394\n",
      "Name: Index, Length: 6395, dtype: int64\n",
      "0       False\n",
      "1       False\n",
      "2       False\n",
      "3       False\n",
      "4       False\n",
      "        ...  \n",
      "6390    False\n",
      "6391    False\n",
      "6392    False\n",
      "6393    False\n",
      "6394    False\n",
      "Name: Index, Length: 6395, dtype: bool\n",
      "Int64Index([329], dtype='int64')\n",
      "0          0\n",
      "1          1\n",
      "2          2\n",
      "3          3\n",
      "4          4\n",
      "        ... \n",
      "6390    6390\n",
      "6391    6391\n",
      "6392    6392\n",
      "6393    6393\n",
      "6394    6394\n",
      "Name: Index, Length: 6394, dtype: int64\n",
      "0       False\n",
      "1       False\n",
      "2       False\n",
      "3       False\n",
      "4       False\n",
      "        ...  \n",
      "6390    False\n",
      "6391    False\n",
      "6392    False\n",
      "6393    False\n",
      "6394    False\n",
      "Name: Index, Length: 6394, dtype: bool\n",
      "Int64Index([409], dtype='int64')\n",
      "0          0\n",
      "1          1\n",
      "2          2\n",
      "3          3\n",
      "4          4\n",
      "        ... \n",
      "6390    6390\n",
      "6391    6391\n",
      "6392    6392\n",
      "6393    6393\n",
      "6394    6394\n",
      "Name: Index, Length: 6393, dtype: int64\n",
      "0       False\n",
      "1       False\n",
      "2       False\n",
      "3       False\n",
      "4       False\n",
      "        ...  \n",
      "6390    False\n",
      "6391    False\n",
      "6392    False\n",
      "6393    False\n",
      "6394    False\n",
      "Name: Index, Length: 6393, dtype: bool\n",
      "Int64Index([3988], dtype='int64')\n",
      "0          0\n",
      "1          1\n",
      "2          2\n",
      "3          3\n",
      "4          4\n",
      "        ... \n",
      "6390    6390\n",
      "6391    6391\n",
      "6392    6392\n",
      "6393    6393\n",
      "6394    6394\n",
      "Name: Index, Length: 6392, dtype: int64\n",
      "0       False\n",
      "1       False\n",
      "2       False\n",
      "3       False\n",
      "4       False\n",
      "        ...  \n",
      "6390    False\n",
      "6391    False\n",
      "6392    False\n",
      "6393    False\n",
      "6394    False\n",
      "Name: Index, Length: 6392, dtype: bool\n",
      "Int64Index([4859], dtype='int64')\n",
      "0          0\n",
      "1          1\n",
      "2          2\n",
      "3          3\n",
      "4          4\n",
      "        ... \n",
      "6390    6390\n",
      "6391    6391\n",
      "6392    6392\n",
      "6393    6393\n",
      "6394    6394\n",
      "Name: Index, Length: 6391, dtype: int64\n",
      "0       False\n",
      "1       False\n",
      "2       False\n",
      "3       False\n",
      "4       False\n",
      "        ...  \n",
      "6390    False\n",
      "6391    False\n",
      "6392    False\n",
      "6393    False\n",
      "6394    False\n",
      "Name: Index, Length: 6391, dtype: bool\n",
      "Int64Index([4915], dtype='int64')\n"
     ]
    },
    {
     "data": {
      "text/html": [
       "<div>\n",
       "<style scoped>\n",
       "    .dataframe tbody tr th:only-of-type {\n",
       "        vertical-align: middle;\n",
       "    }\n",
       "\n",
       "    .dataframe tbody tr th {\n",
       "        vertical-align: top;\n",
       "    }\n",
       "\n",
       "    .dataframe thead th {\n",
       "        text-align: right;\n",
       "    }\n",
       "</style>\n",
       "<table border=\"1\" class=\"dataframe\">\n",
       "  <thead>\n",
       "    <tr style=\"text-align: right;\">\n",
       "      <th></th>\n",
       "      <th>Bar 1 Distance</th>\n",
       "      <th>Bar 1 Speed</th>\n",
       "      <th>Bar 2 Distance</th>\n",
       "      <th>Bar 2 Speed</th>\n",
       "      <th>Jump</th>\n",
       "      <th>Grounded</th>\n",
       "      <th>Dead</th>\n",
       "      <th>Scored</th>\n",
       "      <th>Index</th>\n",
       "    </tr>\n",
       "  </thead>\n",
       "  <tbody>\n",
       "    <tr>\n",
       "      <th>0</th>\n",
       "      <td>-1.000000</td>\n",
       "      <td>-1.000000</td>\n",
       "      <td>-1.000000</td>\n",
       "      <td>-1.000000</td>\n",
       "      <td>False</td>\n",
       "      <td>True</td>\n",
       "      <td>True</td>\n",
       "      <td>False</td>\n",
       "      <td>0</td>\n",
       "    </tr>\n",
       "    <tr>\n",
       "      <th>1</th>\n",
       "      <td>38.196301</td>\n",
       "      <td>15.261410</td>\n",
       "      <td>-1.000000</td>\n",
       "      <td>-1.000000</td>\n",
       "      <td>False</td>\n",
       "      <td>True</td>\n",
       "      <td>True</td>\n",
       "      <td>False</td>\n",
       "      <td>1</td>\n",
       "    </tr>\n",
       "    <tr>\n",
       "      <th>2</th>\n",
       "      <td>34.373650</td>\n",
       "      <td>15.261410</td>\n",
       "      <td>-1.000000</td>\n",
       "      <td>-1.000000</td>\n",
       "      <td>False</td>\n",
       "      <td>True</td>\n",
       "      <td>True</td>\n",
       "      <td>False</td>\n",
       "      <td>2</td>\n",
       "    </tr>\n",
       "    <tr>\n",
       "      <th>3</th>\n",
       "      <td>30.305191</td>\n",
       "      <td>15.261410</td>\n",
       "      <td>41.488136</td>\n",
       "      <td>15.499226</td>\n",
       "      <td>False</td>\n",
       "      <td>True</td>\n",
       "      <td>True</td>\n",
       "      <td>False</td>\n",
       "      <td>3</td>\n",
       "    </tr>\n",
       "    <tr>\n",
       "      <th>4</th>\n",
       "      <td>26.230925</td>\n",
       "      <td>15.261410</td>\n",
       "      <td>37.350384</td>\n",
       "      <td>15.499226</td>\n",
       "      <td>False</td>\n",
       "      <td>True</td>\n",
       "      <td>True</td>\n",
       "      <td>False</td>\n",
       "      <td>4</td>\n",
       "    </tr>\n",
       "    <tr>\n",
       "      <th>...</th>\n",
       "      <td>...</td>\n",
       "      <td>...</td>\n",
       "      <td>...</td>\n",
       "      <td>...</td>\n",
       "      <td>...</td>\n",
       "      <td>...</td>\n",
       "      <td>...</td>\n",
       "      <td>...</td>\n",
       "      <td>...</td>\n",
       "    </tr>\n",
       "    <tr>\n",
       "      <th>6390</th>\n",
       "      <td>10.741413</td>\n",
       "      <td>16.315287</td>\n",
       "      <td>-1.000000</td>\n",
       "      <td>-1.000000</td>\n",
       "      <td>False</td>\n",
       "      <td>True</td>\n",
       "      <td>True</td>\n",
       "      <td>False</td>\n",
       "      <td>6390</td>\n",
       "    </tr>\n",
       "    <tr>\n",
       "      <th>6391</th>\n",
       "      <td>6.656005</td>\n",
       "      <td>16.315287</td>\n",
       "      <td>-1.000000</td>\n",
       "      <td>-1.000000</td>\n",
       "      <td>False</td>\n",
       "      <td>True</td>\n",
       "      <td>True</td>\n",
       "      <td>False</td>\n",
       "      <td>6391</td>\n",
       "    </tr>\n",
       "    <tr>\n",
       "      <th>6392</th>\n",
       "      <td>2.300749</td>\n",
       "      <td>16.315287</td>\n",
       "      <td>-1.000000</td>\n",
       "      <td>-1.000000</td>\n",
       "      <td>False</td>\n",
       "      <td>True</td>\n",
       "      <td>True</td>\n",
       "      <td>False</td>\n",
       "      <td>6392</td>\n",
       "    </tr>\n",
       "    <tr>\n",
       "      <th>6393</th>\n",
       "      <td>-1.000000</td>\n",
       "      <td>-1.000000</td>\n",
       "      <td>-1.000000</td>\n",
       "      <td>-1.000000</td>\n",
       "      <td>False</td>\n",
       "      <td>True</td>\n",
       "      <td>True</td>\n",
       "      <td>False</td>\n",
       "      <td>6393</td>\n",
       "    </tr>\n",
       "    <tr>\n",
       "      <th>6394</th>\n",
       "      <td>40.372272</td>\n",
       "      <td>16.314571</td>\n",
       "      <td>-1.000000</td>\n",
       "      <td>-1.000000</td>\n",
       "      <td>False</td>\n",
       "      <td>True</td>\n",
       "      <td>True</td>\n",
       "      <td>False</td>\n",
       "      <td>6394</td>\n",
       "    </tr>\n",
       "  </tbody>\n",
       "</table>\n",
       "<p>6390 rows × 9 columns</p>\n",
       "</div>"
      ],
      "text/plain": [
       "      Bar 1 Distance  Bar 1 Speed  Bar 2 Distance  Bar 2 Speed   Jump  \\\n",
       "0          -1.000000    -1.000000       -1.000000    -1.000000  False   \n",
       "1          38.196301    15.261410       -1.000000    -1.000000  False   \n",
       "2          34.373650    15.261410       -1.000000    -1.000000  False   \n",
       "3          30.305191    15.261410       41.488136    15.499226  False   \n",
       "4          26.230925    15.261410       37.350384    15.499226  False   \n",
       "...              ...          ...             ...          ...    ...   \n",
       "6390       10.741413    16.315287       -1.000000    -1.000000  False   \n",
       "6391        6.656005    16.315287       -1.000000    -1.000000  False   \n",
       "6392        2.300749    16.315287       -1.000000    -1.000000  False   \n",
       "6393       -1.000000    -1.000000       -1.000000    -1.000000  False   \n",
       "6394       40.372272    16.314571       -1.000000    -1.000000  False   \n",
       "\n",
       "      Grounded  Dead  Scored  Index  \n",
       "0         True  True   False      0  \n",
       "1         True  True   False      1  \n",
       "2         True  True   False      2  \n",
       "3         True  True   False      3  \n",
       "4         True  True   False      4  \n",
       "...        ...   ...     ...    ...  \n",
       "6390      True  True   False   6390  \n",
       "6391      True  True   False   6391  \n",
       "6392      True  True   False   6392  \n",
       "6393      True  True   False   6393  \n",
       "6394      True  True   False   6394  \n",
       "\n",
       "[6390 rows x 9 columns]"
      ]
     },
     "execution_count": 104,
     "metadata": {},
     "output_type": "execute_result"
    }
   ],
   "source": [
    "df['Index'] = df.index\n",
    "print(df['Index'])\n",
    "jump = df[df['Jump'] == True]\n",
    "\n",
    "dead = jump['Dead'].to_numpy()\n",
    "# dead.value_counts()\n",
    "for i in range(dead.shape[0]):\n",
    "    #print(jump.index[i])\n",
    "    try:\n",
    "        if (dead[i + 1] == True):\n",
    "            print(df['Index'])\n",
    "            print(df['Index'] == jump.index[i])\n",
    "            print(df[df.index == jump.index[i]].index)\n",
    "            df.drop(df[df.index == jump.index[i]].index, inplace=True)\n",
    "    except:\n",
    "        pass\n",
    "df"
   ]
  },
  {
   "cell_type": "code",
   "execution_count": 105,
   "metadata": {
    "pycharm": {
     "name": "#%%\n"
    }
   },
   "outputs": [
    {
     "data": {
      "text/html": [
       "<div>\n",
       "<style scoped>\n",
       "    .dataframe tbody tr th:only-of-type {\n",
       "        vertical-align: middle;\n",
       "    }\n",
       "\n",
       "    .dataframe tbody tr th {\n",
       "        vertical-align: top;\n",
       "    }\n",
       "\n",
       "    .dataframe thead th {\n",
       "        text-align: right;\n",
       "    }\n",
       "</style>\n",
       "<table border=\"1\" class=\"dataframe\">\n",
       "  <thead>\n",
       "    <tr style=\"text-align: right;\">\n",
       "      <th></th>\n",
       "      <th>Bar 1 Distance</th>\n",
       "      <th>Bar 1 Speed</th>\n",
       "      <th>Bar 2 Distance</th>\n",
       "      <th>Bar 2 Speed</th>\n",
       "      <th>Jump</th>\n",
       "      <th>Index</th>\n",
       "    </tr>\n",
       "  </thead>\n",
       "  <tbody>\n",
       "    <tr>\n",
       "      <th>6</th>\n",
       "      <td>39.841648</td>\n",
       "      <td>16.293358</td>\n",
       "      <td>54.819611</td>\n",
       "      <td>16.459723</td>\n",
       "      <td>False</td>\n",
       "      <td>6</td>\n",
       "    </tr>\n",
       "    <tr>\n",
       "      <th>7</th>\n",
       "      <td>35.498672</td>\n",
       "      <td>16.293358</td>\n",
       "      <td>50.432281</td>\n",
       "      <td>16.459723</td>\n",
       "      <td>False</td>\n",
       "      <td>7</td>\n",
       "    </tr>\n",
       "    <tr>\n",
       "      <th>8</th>\n",
       "      <td>31.420794</td>\n",
       "      <td>16.293358</td>\n",
       "      <td>46.312759</td>\n",
       "      <td>16.459723</td>\n",
       "      <td>False</td>\n",
       "      <td>8</td>\n",
       "    </tr>\n",
       "    <tr>\n",
       "      <th>9</th>\n",
       "      <td>27.081730</td>\n",
       "      <td>16.293358</td>\n",
       "      <td>41.929390</td>\n",
       "      <td>16.459723</td>\n",
       "      <td>False</td>\n",
       "      <td>9</td>\n",
       "    </tr>\n",
       "    <tr>\n",
       "      <th>10</th>\n",
       "      <td>22.999084</td>\n",
       "      <td>16.293358</td>\n",
       "      <td>37.805058</td>\n",
       "      <td>16.459723</td>\n",
       "      <td>False</td>\n",
       "      <td>10</td>\n",
       "    </tr>\n",
       "    <tr>\n",
       "      <th>...</th>\n",
       "      <td>...</td>\n",
       "      <td>...</td>\n",
       "      <td>...</td>\n",
       "      <td>...</td>\n",
       "      <td>...</td>\n",
       "      <td>...</td>\n",
       "    </tr>\n",
       "    <tr>\n",
       "      <th>6384</th>\n",
       "      <td>20.792389</td>\n",
       "      <td>16.314571</td>\n",
       "      <td>35.746712</td>\n",
       "      <td>16.315287</td>\n",
       "      <td>False</td>\n",
       "      <td>6384</td>\n",
       "    </tr>\n",
       "    <tr>\n",
       "      <th>6385</th>\n",
       "      <td>16.462187</td>\n",
       "      <td>16.314571</td>\n",
       "      <td>31.416317</td>\n",
       "      <td>16.315287</td>\n",
       "      <td>False</td>\n",
       "      <td>6385</td>\n",
       "    </tr>\n",
       "    <tr>\n",
       "      <th>6386</th>\n",
       "      <td>12.370199</td>\n",
       "      <td>16.314571</td>\n",
       "      <td>27.324150</td>\n",
       "      <td>16.315287</td>\n",
       "      <td>False</td>\n",
       "      <td>6386</td>\n",
       "    </tr>\n",
       "    <tr>\n",
       "      <th>6387</th>\n",
       "      <td>8.285727</td>\n",
       "      <td>16.314571</td>\n",
       "      <td>23.239498</td>\n",
       "      <td>16.315287</td>\n",
       "      <td>False</td>\n",
       "      <td>6387</td>\n",
       "    </tr>\n",
       "    <tr>\n",
       "      <th>6388</th>\n",
       "      <td>4.207789</td>\n",
       "      <td>16.314571</td>\n",
       "      <td>19.161383</td>\n",
       "      <td>16.315287</td>\n",
       "      <td>False</td>\n",
       "      <td>6388</td>\n",
       "    </tr>\n",
       "  </tbody>\n",
       "</table>\n",
       "<p>5935 rows × 6 columns</p>\n",
       "</div>"
      ],
      "text/plain": [
       "      Bar 1 Distance  Bar 1 Speed  Bar 2 Distance  Bar 2 Speed   Jump  Index\n",
       "6          39.841648    16.293358       54.819611    16.459723  False      6\n",
       "7          35.498672    16.293358       50.432281    16.459723  False      7\n",
       "8          31.420794    16.293358       46.312759    16.459723  False      8\n",
       "9          27.081730    16.293358       41.929390    16.459723  False      9\n",
       "10         22.999084    16.293358       37.805058    16.459723  False     10\n",
       "...              ...          ...             ...          ...    ...    ...\n",
       "6384       20.792389    16.314571       35.746712    16.315287  False   6384\n",
       "6385       16.462187    16.314571       31.416317    16.315287  False   6385\n",
       "6386       12.370199    16.314571       27.324150    16.315287  False   6386\n",
       "6387        8.285727    16.314571       23.239498    16.315287  False   6387\n",
       "6388        4.207789    16.314571       19.161383    16.315287  False   6388\n",
       "\n",
       "[5935 rows x 6 columns]"
      ]
     },
     "execution_count": 105,
     "metadata": {},
     "output_type": "execute_result"
    }
   ],
   "source": [
    "# Are there data we don't care about?\n",
    "df.drop(df[df['Dead'] == True].index, inplace=True)\n",
    "df = df.drop([\"Grounded\", \"Dead\", \"Scored\"], inplace=False, axis=1)\n",
    "df"
   ]
  },
  {
   "cell_type": "code",
   "execution_count": 106,
   "metadata": {
    "collapsed": false,
    "pycharm": {
     "name": "#%%\n"
    }
   },
   "outputs": [
    {
     "data": {
      "text/plain": [
       "652"
      ]
     },
     "execution_count": 106,
     "metadata": {},
     "output_type": "execute_result"
    }
   ],
   "source": [
    "jumpCount = df[df['Jump'] == True].shape[0]\n",
    "jumpCount"
   ]
  },
  {
   "cell_type": "code",
   "execution_count": 107,
   "metadata": {
    "collapsed": false,
    "pycharm": {
     "name": "#%%\n"
    }
   },
   "outputs": [
    {
     "data": {
      "text/plain": [
       "5283"
      ]
     },
     "execution_count": 107,
     "metadata": {},
     "output_type": "execute_result"
    }
   ],
   "source": [
    "noJumpCount = df[df['Jump'] == False].shape[0]\n",
    "noJumpCount"
   ]
  },
  {
   "cell_type": "code",
   "execution_count": 108,
   "metadata": {
    "collapsed": false,
    "pycharm": {
     "name": "#%%\n"
    }
   },
   "outputs": [],
   "source": [
    "df_toDrop = df[df['Jump'] == False].sample(noJumpCount - jumpCount)\n",
    "df.drop(df_toDrop.index, inplace=True)"
   ]
  },
  {
   "cell_type": "code",
   "execution_count": 109,
   "metadata": {
    "pycharm": {
     "name": "#%%\n"
    }
   },
   "outputs": [],
   "source": [
    "# Create the Input DataFrame\n",
    "X = df[['Bar 1 Distance', 'Bar 1 Speed', 'Bar 2 Distance', 'Bar 2 Speed']]\n",
    "X = X.to_numpy()"
   ]
  },
  {
   "cell_type": "code",
   "execution_count": 110,
   "metadata": {
    "pycharm": {
     "name": "#%%\n"
    }
   },
   "outputs": [
    {
     "name": "stderr",
     "output_type": "stream",
     "text": [
      "/tmp/ipykernel_1218930/808815421.py:10: SettingWithCopyWarning: \n",
      "A value is trying to be set on a copy of a slice from a DataFrame.\n",
      "Try using .loc[row_indexer,col_indexer] = value instead\n",
      "\n",
      "See the caveats in the documentation: https://pandas.pydata.org/pandas-docs/stable/user_guide/indexing.html#returning-a-view-versus-a-copy\n",
      "  Y['Jump'] = Y.apply(bool2Num, axis='columns')\n"
     ]
    }
   ],
   "source": [
    "# Create the Output DataFrame and Map True / False to 1 / 0\n",
    "Y = df[['Jump']]\n",
    "\n",
    "def bool2Num(row):\n",
    "    if row['Jump']:\n",
    "        return 1\n",
    "    else:\n",
    "        return 0\n",
    "\n",
    "Y['Jump'] = Y.apply(bool2Num, axis='columns')\n",
    "Y = Y['Jump'].to_numpy()"
   ]
  },
  {
   "cell_type": "code",
   "execution_count": 111,
   "metadata": {
    "pycharm": {
     "name": "#%%\n"
    }
   },
   "outputs": [],
   "source": [
    "# Train Test Split with test size set to 20%\n",
    "from sklearn.model_selection import train_test_split\n",
    "x_train, x_test, y_train, y_test = train_test_split(X, Y, test_size=0.33, random_state=42)"
   ]
  },
  {
   "cell_type": "code",
   "execution_count": 112,
   "metadata": {
    "pycharm": {
     "name": "#%%\n"
    }
   },
   "outputs": [
    {
     "data": {
      "text/html": [
       "<style>#sk-container-id-6 {color: black;background-color: white;}#sk-container-id-6 pre{padding: 0;}#sk-container-id-6 div.sk-toggleable {background-color: white;}#sk-container-id-6 label.sk-toggleable__label {cursor: pointer;display: block;width: 100%;margin-bottom: 0;padding: 0.3em;box-sizing: border-box;text-align: center;}#sk-container-id-6 label.sk-toggleable__label-arrow:before {content: \"▸\";float: left;margin-right: 0.25em;color: #696969;}#sk-container-id-6 label.sk-toggleable__label-arrow:hover:before {color: black;}#sk-container-id-6 div.sk-estimator:hover label.sk-toggleable__label-arrow:before {color: black;}#sk-container-id-6 div.sk-toggleable__content {max-height: 0;max-width: 0;overflow: hidden;text-align: left;background-color: #f0f8ff;}#sk-container-id-6 div.sk-toggleable__content pre {margin: 0.2em;color: black;border-radius: 0.25em;background-color: #f0f8ff;}#sk-container-id-6 input.sk-toggleable__control:checked~div.sk-toggleable__content {max-height: 200px;max-width: 100%;overflow: auto;}#sk-container-id-6 input.sk-toggleable__control:checked~label.sk-toggleable__label-arrow:before {content: \"▾\";}#sk-container-id-6 div.sk-estimator input.sk-toggleable__control:checked~label.sk-toggleable__label {background-color: #d4ebff;}#sk-container-id-6 div.sk-label input.sk-toggleable__control:checked~label.sk-toggleable__label {background-color: #d4ebff;}#sk-container-id-6 input.sk-hidden--visually {border: 0;clip: rect(1px 1px 1px 1px);clip: rect(1px, 1px, 1px, 1px);height: 1px;margin: -1px;overflow: hidden;padding: 0;position: absolute;width: 1px;}#sk-container-id-6 div.sk-estimator {font-family: monospace;background-color: #f0f8ff;border: 1px dotted black;border-radius: 0.25em;box-sizing: border-box;margin-bottom: 0.5em;}#sk-container-id-6 div.sk-estimator:hover {background-color: #d4ebff;}#sk-container-id-6 div.sk-parallel-item::after {content: \"\";width: 100%;border-bottom: 1px solid gray;flex-grow: 1;}#sk-container-id-6 div.sk-label:hover label.sk-toggleable__label {background-color: #d4ebff;}#sk-container-id-6 div.sk-serial::before {content: \"\";position: absolute;border-left: 1px solid gray;box-sizing: border-box;top: 0;bottom: 0;left: 50%;z-index: 0;}#sk-container-id-6 div.sk-serial {display: flex;flex-direction: column;align-items: center;background-color: white;padding-right: 0.2em;padding-left: 0.2em;position: relative;}#sk-container-id-6 div.sk-item {position: relative;z-index: 1;}#sk-container-id-6 div.sk-parallel {display: flex;align-items: stretch;justify-content: center;background-color: white;position: relative;}#sk-container-id-6 div.sk-item::before, #sk-container-id-6 div.sk-parallel-item::before {content: \"\";position: absolute;border-left: 1px solid gray;box-sizing: border-box;top: 0;bottom: 0;left: 50%;z-index: -1;}#sk-container-id-6 div.sk-parallel-item {display: flex;flex-direction: column;z-index: 1;position: relative;background-color: white;}#sk-container-id-6 div.sk-parallel-item:first-child::after {align-self: flex-end;width: 50%;}#sk-container-id-6 div.sk-parallel-item:last-child::after {align-self: flex-start;width: 50%;}#sk-container-id-6 div.sk-parallel-item:only-child::after {width: 0;}#sk-container-id-6 div.sk-dashed-wrapped {border: 1px dashed gray;margin: 0 0.4em 0.5em 0.4em;box-sizing: border-box;padding-bottom: 0.4em;background-color: white;}#sk-container-id-6 div.sk-label label {font-family: monospace;font-weight: bold;display: inline-block;line-height: 1.2em;}#sk-container-id-6 div.sk-label-container {text-align: center;}#sk-container-id-6 div.sk-container {/* jupyter's `normalize.less` sets `[hidden] { display: none; }` but bootstrap.min.css set `[hidden] { display: none !important; }` so we also need the `!important` here to be able to override the default hidden behavior on the sphinx rendered scikit-learn.org. See: https://github.com/scikit-learn/scikit-learn/issues/21755 */display: inline-block !important;position: relative;}#sk-container-id-6 div.sk-text-repr-fallback {display: none;}</style><div id=\"sk-container-id-6\" class=\"sk-top-container\"><div class=\"sk-text-repr-fallback\"><pre>RandomForestClassifier()</pre><b>In a Jupyter environment, please rerun this cell to show the HTML representation or trust the notebook. <br />On GitHub, the HTML representation is unable to render, please try loading this page with nbviewer.org.</b></div><div class=\"sk-container\" hidden><div class=\"sk-item\"><div class=\"sk-estimator sk-toggleable\"><input class=\"sk-toggleable__control sk-hidden--visually\" id=\"sk-estimator-id-6\" type=\"checkbox\" checked><label for=\"sk-estimator-id-6\" class=\"sk-toggleable__label sk-toggleable__label-arrow\">RandomForestClassifier</label><div class=\"sk-toggleable__content\"><pre>RandomForestClassifier()</pre></div></div></div></div></div>"
      ],
      "text/plain": [
       "RandomForestClassifier()"
      ]
     },
     "execution_count": 112,
     "metadata": {},
     "output_type": "execute_result"
    }
   ],
   "source": [
    "from sklearn.linear_model import LogisticRegression\n",
    "\n",
    "# Define and Build Model (Logistic Regression)\n",
    "model = RandomForestClassifier()\n",
    "model.fit(x_train, y_train)\n"
   ]
  },
  {
   "cell_type": "code",
   "execution_count": 113,
   "metadata": {
    "pycharm": {
     "name": "#%%\n"
    }
   },
   "outputs": [],
   "source": [
    "predict = model.predict(x_test)"
   ]
  },
  {
   "cell_type": "code",
   "execution_count": 114,
   "metadata": {
    "pycharm": {
     "name": "#%%\n"
    }
   },
   "outputs": [],
   "source": [
    "from sklearn.metrics import accuracy_score, precision_score, recall_score, f1_score, confusion_matrix"
   ]
  },
  {
   "cell_type": "code",
   "execution_count": 115,
   "metadata": {
    "pycharm": {
     "name": "#%%\n"
    }
   },
   "outputs": [
    {
     "data": {
      "text/plain": [
       "0.8700696055684455"
      ]
     },
     "execution_count": 115,
     "metadata": {},
     "output_type": "execute_result"
    }
   ],
   "source": [
    "# Print Out Prediction Accuraccy\n",
    "accuracy_score(y_test, predict)"
   ]
  },
  {
   "cell_type": "code",
   "execution_count": 116,
   "metadata": {
    "pycharm": {
     "name": "#%%\n"
    }
   },
   "outputs": [
    {
     "data": {
      "text/plain": [
       "'model2 = ________________________________\\nmodel2.__________________________\\n\\npredict = ___________________________\\naccuracy_score(_________________, ________________)'"
      ]
     },
     "execution_count": 116,
     "metadata": {},
     "output_type": "execute_result"
    }
   ],
   "source": [
    "# Try a Different Model (Random Forest)\n",
    "\"\"\"model2 = ________________________________\n",
    "model2.__________________________\n",
    "\n",
    "predict = ___________________________\n",
    "accuracy_score(_________________, ________________)\"\"\"\n"
   ]
  },
  {
   "cell_type": "markdown",
   "metadata": {
    "pycharm": {
     "name": "#%% md\n"
    }
   },
   "source": [
    "# Deployment"
   ]
  },
  {
   "cell_type": "code",
   "execution_count": 117,
   "metadata": {
    "pycharm": {
     "name": "#%%\n"
    }
   },
   "outputs": [],
   "source": [
    "# Command to Open SIMPLE ML Jump 2 (for Example)\n",
    "\n",
    "# Windows OS\n",
    "#env_path = \"D:\\\\User\\\\Desktop\\\\10botics Data Science\\\\ML Game\\\\SimpleMLJump2 Builds\\\\Windows\\\\Simple ML Jump 2.exe\"\n",
    "\n",
    "# MacOS\n",
    "#env_path = 'open -n \"/Users/billwaa/Desktop/ML Game/Simple ML Jump 2.app\"' \n",
    "\n",
    "env_path = \"/home/wcyat/dev/kaggle/code/ml-jump/Linux/SimpleMLJump2.x86_64\""
   ]
  },
  {
   "cell_type": "code",
   "execution_count": 118,
   "metadata": {
    "pycharm": {
     "name": "#%%\n"
    }
   },
   "outputs": [
    {
     "data": {
      "text/plain": [
       "2"
      ]
     },
     "execution_count": 118,
     "metadata": {},
     "output_type": "execute_result"
    }
   ],
   "source": [
    "# Import Libraries\n",
    "import socket\n",
    "import struct\n",
    "import tensorflow as tf\n",
    "from tensorflow import keras\n",
    "import pandas as pd\n",
    "import time\n",
    "import subprocess\n",
    "import platform\n",
    "\n",
    "# Find Open Socket Ports\n",
    "def findOpenSockets(size:int):\n",
    "\n",
    "    sock = []\n",
    "    port = []\n",
    "\n",
    "    for i in range(size):\n",
    "        sock.append(socket.socket())\n",
    "        sock[i].bind(('localhost', 0))\n",
    "        port.append(sock[i].getsockname()[1])\n",
    "\n",
    "    for i in range(len(sock)):\n",
    "        sock[i].close()\n",
    "\n",
    "\n",
    "    return port\n",
    "\n",
    "\n",
    "# Find Open Ports and Launch Game Environment\n",
    "envNum = 1\n",
    "openPorts = findOpenSockets(envNum * 2)\n",
    "gamePort = openPorts[0]\n",
    "apiPort = openPorts[1]\n",
    "\n",
    "# Determine OS and Launch \n",
    "if platform.system() == 'Darwin':\n",
    "    env_path += f\" --args --apiPort {str(apiPort)} --gamePort {str(gamePort)} --small false\"\n",
    "    process = subprocess.Popen([env_path], shell=True)\n",
    "else:\n",
    "    process = subprocess.Popen([env_path, '--apiPort', str(apiPort), '--gamePort', str(gamePort), '--small', 'false'])\n",
    "\n",
    "# Establish UDP Network Client\n",
    "localIP     = \"localhost\"\n",
    "bufferSize  = 1024\n",
    "UDPServerSocket = socket.socket(family=socket.AF_INET, type=socket.SOCK_DGRAM)\n",
    "UDPServerSocket.bind((localIP, apiPort))\n",
    "\n",
    "# Set UDP Timeout\n",
    "UDPServerSocket.settimeout(3)\n",
    "\n",
    "# Wait for Game Environment to Open\n",
    "t0 = time.time()\n",
    "\n",
    "while(time.time() - t0 < 5):\n",
    "    pass\n",
    "\n",
    "# Extract Data\n",
    "def extractData(data):\n",
    "    dist1 = struct.unpack('f', data[:4])\n",
    "    speed1 = struct.unpack('f', data[4:8])\n",
    "    dist2 = struct.unpack('f', data[8:12])\n",
    "    speed2 = struct.unpack('f', data[12:16])\n",
    "\n",
    "    onGround = True if (data[16] & (1 << 0)) == 1 else False\n",
    "    toJump = True if (data[17] & (1 << 0)) == 1 else False\n",
    "    isDead = True if (data[18] & (1 << 0)) == 1 else False\n",
    "    scored = True if (data[19] & (1 << 0)) == 1 else False\n",
    "\n",
    "    dat = [dist1[0], speed1[0], dist2[0], speed2[0], toJump, onGround, isDead, scored] # Swap Order to Accomadate Old Model\n",
    "    df_temp = pd.DataFrame(dat).transpose()\n",
    "\n",
    "\n",
    "    return df_temp\n",
    "\n",
    "# Reset Simulation\n",
    "UDPServerSocket.sendto(bytes.fromhex('07 00'), (localIP, gamePort))"
   ]
  },
  {
   "cell_type": "code",
   "execution_count": 119,
   "metadata": {
    "pycharm": {
     "name": "#%%\n"
    }
   },
   "outputs": [
    {
     "name": "stdout",
     "output_type": "stream",
     "text": [
      "timed out\n"
     ]
    }
   ],
   "source": [
    "# Process Loop - Retrieve Data from Simulation, Run Through Model, Output Command\n",
    "while True:\n",
    "    try:\n",
    "\n",
    "        bytesAddressPair = UDPServerSocket.recvfrom(bufferSize)\n",
    "\n",
    "        t0 = time.time()\n",
    "\n",
    "        message = bytesAddressPair[0]\n",
    "        address = bytesAddressPair[1]\n",
    "        df_temp = extractData(message)\n",
    "        X = df_temp.iloc[:,:4]\n",
    "        X = X.astype(float)\n",
    "\n",
    "        # Data PreProcessing Function Go Here\n",
    "\n",
    "        # Model Prediction Function Go Here\n",
    "        predict = model.predict(X)\n",
    "\n",
    "        print(predict, end='\\r')\n",
    "\n",
    "        # If Jump Decision is Made, Send to Game\n",
    "        if predict[0] > 0.5:\n",
    "            # Jump Command\n",
    "            UDPServerSocket.sendto(bytes.fromhex('06 01'), (localIP, gamePort))\n",
    "\n",
    "\n",
    "    except Exception as e:\n",
    "        print(e)\n",
    "        break"
   ]
  },
  {
   "cell_type": "code",
   "execution_count": 120,
   "metadata": {
    "pycharm": {
     "name": "#%%\n"
    }
   },
   "outputs": [],
   "source": [
    "# Close UDP Port When Game is Closed\n",
    "UDPServerSocket.close()"
   ]
  }
 ],
 "metadata": {
  "kernelspec": {
   "display_name": "Python 3.10.5 ('venv': venv)",
   "language": "python",
   "name": "python3"
  },
  "language_info": {
   "codemirror_mode": {
    "name": "ipython",
    "version": 3
   },
   "file_extension": ".py",
   "mimetype": "text/x-python",
   "name": "python",
   "nbconvert_exporter": "python",
   "pygments_lexer": "ipython3",
   "version": "3.10.5"
  },
  "orig_nbformat": 4,
  "vscode": {
   "interpreter": {
    "hash": "f5ff2f5e56ef3133dccc8e09d46b0dc57e2f5d1229922630f6f4d17b9c4b64d3"
   }
  }
 },
 "nbformat": 4,
 "nbformat_minor": 2
}
