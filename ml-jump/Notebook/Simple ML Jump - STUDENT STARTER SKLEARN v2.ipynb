{
 "cells": [
  {
   "cell_type": "markdown",
   "metadata": {
    "pycharm": {
     "name": "#%% md\n"
    }
   },
   "source": [
    "# Simple ML Jump (STUDENT VERSION)\n",
    "Billy Hau - June 29, 2022\n",
    "\n",
    "- Data Cleaning / Feature Engineering / Modeling \n",
    "- Deployment"
   ]
  },
  {
   "cell_type": "code",
   "execution_count": 18,
   "metadata": {},
   "outputs": [],
   "source": [
    "# Warning"
   ]
  },
  {
   "cell_type": "code",
   "execution_count": 19,
   "metadata": {
    "pycharm": {
     "name": "#%%\n"
    }
   },
   "outputs": [],
   "source": [
    "# Import Libraries\n",
    "import pandas as pd\n",
    "import numpy as np\n",
    "import math\n",
    "from sklearn.model_selection import train_test_split\n",
    "\n",
    "from sklearn.linear_model import LogisticRegression\n",
    "from sklearn.ensemble import RandomForestRegressor\n",
    "from sklearn.metrics import accuracy_score\n",
    "\n",
    "import matplotlib.pyplot as plt\n",
    "import multiprocessing as mp"
   ]
  },
  {
   "cell_type": "code",
   "execution_count": 20,
   "metadata": {
    "pycharm": {
     "name": "#%%\n"
    }
   },
   "outputs": [
    {
     "data": {
      "text/html": [
       "<div>\n",
       "<style scoped>\n",
       "    .dataframe tbody tr th:only-of-type {\n",
       "        vertical-align: middle;\n",
       "    }\n",
       "\n",
       "    .dataframe tbody tr th {\n",
       "        vertical-align: top;\n",
       "    }\n",
       "\n",
       "    .dataframe thead th {\n",
       "        text-align: right;\n",
       "    }\n",
       "</style>\n",
       "<table border=\"1\" class=\"dataframe\">\n",
       "  <thead>\n",
       "    <tr style=\"text-align: right;\">\n",
       "      <th></th>\n",
       "      <th>Bar 1 Distance</th>\n",
       "      <th>Bar 1 Speed</th>\n",
       "      <th>Bar 2 Distance</th>\n",
       "      <th>Bar 2 Speed</th>\n",
       "      <th>Jump</th>\n",
       "      <th>Grounded</th>\n",
       "      <th>Dead</th>\n",
       "      <th>Scored</th>\n",
       "    </tr>\n",
       "  </thead>\n",
       "  <tbody>\n",
       "    <tr>\n",
       "      <th>0</th>\n",
       "      <td>8.601720</td>\n",
       "      <td>14.010661</td>\n",
       "      <td>16.942482</td>\n",
       "      <td>14.598472</td>\n",
       "      <td>False</td>\n",
       "      <td>True</td>\n",
       "      <td>False</td>\n",
       "      <td>False</td>\n",
       "    </tr>\n",
       "    <tr>\n",
       "      <th>1</th>\n",
       "      <td>5.087775</td>\n",
       "      <td>14.010661</td>\n",
       "      <td>13.281113</td>\n",
       "      <td>14.598472</td>\n",
       "      <td>False</td>\n",
       "      <td>True</td>\n",
       "      <td>False</td>\n",
       "      <td>False</td>\n",
       "    </tr>\n",
       "    <tr>\n",
       "      <th>2</th>\n",
       "      <td>1.361419</td>\n",
       "      <td>14.010661</td>\n",
       "      <td>9.398420</td>\n",
       "      <td>14.598472</td>\n",
       "      <td>False</td>\n",
       "      <td>False</td>\n",
       "      <td>False</td>\n",
       "      <td>False</td>\n",
       "    </tr>\n",
       "    <tr>\n",
       "      <th>3</th>\n",
       "      <td>6.708690</td>\n",
       "      <td>14.598472</td>\n",
       "      <td>-1.000000</td>\n",
       "      <td>-1.000000</td>\n",
       "      <td>False</td>\n",
       "      <td>False</td>\n",
       "      <td>False</td>\n",
       "      <td>True</td>\n",
       "    </tr>\n",
       "    <tr>\n",
       "      <th>4</th>\n",
       "      <td>5.509425</td>\n",
       "      <td>14.598472</td>\n",
       "      <td>-1.000000</td>\n",
       "      <td>-1.000000</td>\n",
       "      <td>True</td>\n",
       "      <td>False</td>\n",
       "      <td>False</td>\n",
       "      <td>False</td>\n",
       "    </tr>\n",
       "    <tr>\n",
       "      <th>...</th>\n",
       "      <td>...</td>\n",
       "      <td>...</td>\n",
       "      <td>...</td>\n",
       "      <td>...</td>\n",
       "      <td>...</td>\n",
       "      <td>...</td>\n",
       "      <td>...</td>\n",
       "      <td>...</td>\n",
       "    </tr>\n",
       "    <tr>\n",
       "      <th>88319</th>\n",
       "      <td>30.634869</td>\n",
       "      <td>12.866792</td>\n",
       "      <td>-1.000000</td>\n",
       "      <td>-1.000000</td>\n",
       "      <td>False</td>\n",
       "      <td>True</td>\n",
       "      <td>False</td>\n",
       "      <td>False</td>\n",
       "    </tr>\n",
       "    <tr>\n",
       "      <th>88320</th>\n",
       "      <td>27.204208</td>\n",
       "      <td>12.866792</td>\n",
       "      <td>40.687737</td>\n",
       "      <td>13.128290</td>\n",
       "      <td>False</td>\n",
       "      <td>True</td>\n",
       "      <td>False</td>\n",
       "      <td>False</td>\n",
       "    </tr>\n",
       "    <tr>\n",
       "      <th>88321</th>\n",
       "      <td>23.985931</td>\n",
       "      <td>12.866792</td>\n",
       "      <td>37.404053</td>\n",
       "      <td>13.128290</td>\n",
       "      <td>False</td>\n",
       "      <td>True</td>\n",
       "      <td>False</td>\n",
       "      <td>False</td>\n",
       "    </tr>\n",
       "    <tr>\n",
       "      <th>88322</th>\n",
       "      <td>20.557592</td>\n",
       "      <td>12.866792</td>\n",
       "      <td>33.906036</td>\n",
       "      <td>13.128290</td>\n",
       "      <td>False</td>\n",
       "      <td>True</td>\n",
       "      <td>False</td>\n",
       "      <td>False</td>\n",
       "    </tr>\n",
       "    <tr>\n",
       "      <th>88323</th>\n",
       "      <td>17.126080</td>\n",
       "      <td>12.866792</td>\n",
       "      <td>30.404779</td>\n",
       "      <td>13.128290</td>\n",
       "      <td>False</td>\n",
       "      <td>True</td>\n",
       "      <td>False</td>\n",
       "      <td>False</td>\n",
       "    </tr>\n",
       "  </tbody>\n",
       "</table>\n",
       "<p>88324 rows × 8 columns</p>\n",
       "</div>"
      ],
      "text/plain": [
       "       Bar 1 Distance  Bar 1 Speed  Bar 2 Distance  Bar 2 Speed   Jump  \\\n",
       "0            8.601720    14.010661       16.942482    14.598472  False   \n",
       "1            5.087775    14.010661       13.281113    14.598472  False   \n",
       "2            1.361419    14.010661        9.398420    14.598472  False   \n",
       "3            6.708690    14.598472       -1.000000    -1.000000  False   \n",
       "4            5.509425    14.598472       -1.000000    -1.000000   True   \n",
       "...               ...          ...             ...          ...    ...   \n",
       "88319       30.634869    12.866792       -1.000000    -1.000000  False   \n",
       "88320       27.204208    12.866792       40.687737    13.128290  False   \n",
       "88321       23.985931    12.866792       37.404053    13.128290  False   \n",
       "88322       20.557592    12.866792       33.906036    13.128290  False   \n",
       "88323       17.126080    12.866792       30.404779    13.128290  False   \n",
       "\n",
       "       Grounded   Dead  Scored  \n",
       "0          True  False   False  \n",
       "1          True  False   False  \n",
       "2         False  False   False  \n",
       "3         False  False    True  \n",
       "4         False  False   False  \n",
       "...         ...    ...     ...  \n",
       "88319      True  False   False  \n",
       "88320      True  False   False  \n",
       "88321      True  False   False  \n",
       "88322      True  False   False  \n",
       "88323      True  False   False  \n",
       "\n",
       "[88324 rows x 8 columns]"
      ]
     },
     "execution_count": 20,
     "metadata": {},
     "output_type": "execute_result"
    }
   ],
   "source": [
    "# Read CSV File\n",
    "df = pd.read_csv(\"./data.csv\")\n",
    "df\n"
   ]
  },
  {
   "cell_type": "code",
   "execution_count": 21,
   "metadata": {
    "collapsed": false,
    "pycharm": {
     "name": "#%%\n"
    }
   },
   "outputs": [],
   "source": [
    "# What do each of the columns mean?"
   ]
  },
  {
   "cell_type": "code",
   "execution_count": 22,
   "metadata": {
    "collapsed": false,
    "pycharm": {
     "name": "#%%\n"
    }
   },
   "outputs": [
    {
     "name": "stdout",
     "output_type": "stream",
     "text": [
      "(379, 8)\n"
     ]
    },
    {
     "data": {
      "text/html": [
       "<div>\n",
       "<style scoped>\n",
       "    .dataframe tbody tr th:only-of-type {\n",
       "        vertical-align: middle;\n",
       "    }\n",
       "\n",
       "    .dataframe tbody tr th {\n",
       "        vertical-align: top;\n",
       "    }\n",
       "\n",
       "    .dataframe thead th {\n",
       "        text-align: right;\n",
       "    }\n",
       "</style>\n",
       "<table border=\"1\" class=\"dataframe\">\n",
       "  <thead>\n",
       "    <tr style=\"text-align: right;\">\n",
       "      <th></th>\n",
       "      <th>Bar 1 Distance</th>\n",
       "      <th>Bar 1 Speed</th>\n",
       "      <th>Bar 2 Distance</th>\n",
       "      <th>Bar 2 Speed</th>\n",
       "      <th>Jump</th>\n",
       "      <th>Grounded</th>\n",
       "      <th>Dead</th>\n",
       "      <th>Scored</th>\n",
       "    </tr>\n",
       "  </thead>\n",
       "  <tbody>\n",
       "    <tr>\n",
       "      <th>0</th>\n",
       "      <td>8.601720</td>\n",
       "      <td>14.010661</td>\n",
       "      <td>16.942482</td>\n",
       "      <td>14.598472</td>\n",
       "      <td>False</td>\n",
       "      <td>True</td>\n",
       "      <td>False</td>\n",
       "      <td>False</td>\n",
       "    </tr>\n",
       "    <tr>\n",
       "      <th>1</th>\n",
       "      <td>5.087775</td>\n",
       "      <td>14.010661</td>\n",
       "      <td>13.281113</td>\n",
       "      <td>14.598472</td>\n",
       "      <td>False</td>\n",
       "      <td>True</td>\n",
       "      <td>False</td>\n",
       "      <td>False</td>\n",
       "    </tr>\n",
       "    <tr>\n",
       "      <th>2</th>\n",
       "      <td>1.361419</td>\n",
       "      <td>14.010661</td>\n",
       "      <td>9.398420</td>\n",
       "      <td>14.598472</td>\n",
       "      <td>False</td>\n",
       "      <td>False</td>\n",
       "      <td>False</td>\n",
       "      <td>False</td>\n",
       "    </tr>\n",
       "    <tr>\n",
       "      <th>3</th>\n",
       "      <td>6.708690</td>\n",
       "      <td>14.598472</td>\n",
       "      <td>-1.000000</td>\n",
       "      <td>-1.000000</td>\n",
       "      <td>False</td>\n",
       "      <td>False</td>\n",
       "      <td>False</td>\n",
       "      <td>True</td>\n",
       "    </tr>\n",
       "    <tr>\n",
       "      <th>5</th>\n",
       "      <td>1.846144</td>\n",
       "      <td>14.598472</td>\n",
       "      <td>-1.000000</td>\n",
       "      <td>-1.000000</td>\n",
       "      <td>False</td>\n",
       "      <td>False</td>\n",
       "      <td>False</td>\n",
       "      <td>False</td>\n",
       "    </tr>\n",
       "    <tr>\n",
       "      <th>...</th>\n",
       "      <td>...</td>\n",
       "      <td>...</td>\n",
       "      <td>...</td>\n",
       "      <td>...</td>\n",
       "      <td>...</td>\n",
       "      <td>...</td>\n",
       "      <td>...</td>\n",
       "      <td>...</td>\n",
       "    </tr>\n",
       "    <tr>\n",
       "      <th>88319</th>\n",
       "      <td>30.634869</td>\n",
       "      <td>12.866792</td>\n",
       "      <td>-1.000000</td>\n",
       "      <td>-1.000000</td>\n",
       "      <td>False</td>\n",
       "      <td>True</td>\n",
       "      <td>False</td>\n",
       "      <td>False</td>\n",
       "    </tr>\n",
       "    <tr>\n",
       "      <th>88320</th>\n",
       "      <td>27.204208</td>\n",
       "      <td>12.866792</td>\n",
       "      <td>40.687737</td>\n",
       "      <td>13.128290</td>\n",
       "      <td>False</td>\n",
       "      <td>True</td>\n",
       "      <td>False</td>\n",
       "      <td>False</td>\n",
       "    </tr>\n",
       "    <tr>\n",
       "      <th>88321</th>\n",
       "      <td>23.985931</td>\n",
       "      <td>12.866792</td>\n",
       "      <td>37.404053</td>\n",
       "      <td>13.128290</td>\n",
       "      <td>False</td>\n",
       "      <td>True</td>\n",
       "      <td>False</td>\n",
       "      <td>False</td>\n",
       "    </tr>\n",
       "    <tr>\n",
       "      <th>88322</th>\n",
       "      <td>20.557592</td>\n",
       "      <td>12.866792</td>\n",
       "      <td>33.906036</td>\n",
       "      <td>13.128290</td>\n",
       "      <td>False</td>\n",
       "      <td>True</td>\n",
       "      <td>False</td>\n",
       "      <td>False</td>\n",
       "    </tr>\n",
       "    <tr>\n",
       "      <th>88323</th>\n",
       "      <td>17.126080</td>\n",
       "      <td>12.866792</td>\n",
       "      <td>30.404779</td>\n",
       "      <td>13.128290</td>\n",
       "      <td>False</td>\n",
       "      <td>True</td>\n",
       "      <td>False</td>\n",
       "      <td>False</td>\n",
       "    </tr>\n",
       "  </tbody>\n",
       "</table>\n",
       "<p>88185 rows × 8 columns</p>\n",
       "</div>"
      ],
      "text/plain": [
       "       Bar 1 Distance  Bar 1 Speed  Bar 2 Distance  Bar 2 Speed   Jump  \\\n",
       "0            8.601720    14.010661       16.942482    14.598472  False   \n",
       "1            5.087775    14.010661       13.281113    14.598472  False   \n",
       "2            1.361419    14.010661        9.398420    14.598472  False   \n",
       "3            6.708690    14.598472       -1.000000    -1.000000  False   \n",
       "5            1.846144    14.598472       -1.000000    -1.000000  False   \n",
       "...               ...          ...             ...          ...    ...   \n",
       "88319       30.634869    12.866792       -1.000000    -1.000000  False   \n",
       "88320       27.204208    12.866792       40.687737    13.128290  False   \n",
       "88321       23.985931    12.866792       37.404053    13.128290  False   \n",
       "88322       20.557592    12.866792       33.906036    13.128290  False   \n",
       "88323       17.126080    12.866792       30.404779    13.128290  False   \n",
       "\n",
       "       Grounded   Dead  Scored  \n",
       "0          True  False   False  \n",
       "1          True  False   False  \n",
       "2         False  False   False  \n",
       "3         False  False    True  \n",
       "5         False  False   False  \n",
       "...         ...    ...     ...  \n",
       "88319      True  False   False  \n",
       "88320      True  False   False  \n",
       "88321      True  False   False  \n",
       "88322      True  False   False  \n",
       "88323      True  False   False  \n",
       "\n",
       "[88185 rows x 8 columns]"
      ]
     },
     "execution_count": 22,
     "metadata": {},
     "output_type": "execute_result"
    }
   ],
   "source": [
    "jump = df[df['Jump'] == True]\n",
    "dead = jump['Dead']\n",
    "# dead.value_counts()\n",
    "print(jump.shape)\n",
    "for i in range(jump.shape[0]):\n",
    "    # print(jump.index[i])\n",
    "    try:\n",
    "        if any(any(df['Dead'][jump.index[i + y] + x] for x in range(0, 11)) for y in range(0, 2)) or not any(df['Scored'][jump.index[i] + x] for x in range(0, 5)):\n",
    "            df.drop(df[df.index == jump.index[i]].index, inplace=True)\n",
    "    except:\n",
    "        pass\n",
    "df\n"
   ]
  },
  {
   "cell_type": "code",
   "execution_count": 23,
   "metadata": {},
   "outputs": [
    {
     "name": "stdout",
     "output_type": "stream",
     "text": [
      "(88185, 8)\n"
     ]
    },
    {
     "data": {
      "text/html": [
       "<div>\n",
       "<style scoped>\n",
       "    .dataframe tbody tr th:only-of-type {\n",
       "        vertical-align: middle;\n",
       "    }\n",
       "\n",
       "    .dataframe tbody tr th {\n",
       "        vertical-align: top;\n",
       "    }\n",
       "\n",
       "    .dataframe thead th {\n",
       "        text-align: right;\n",
       "    }\n",
       "</style>\n",
       "<table border=\"1\" class=\"dataframe\">\n",
       "  <thead>\n",
       "    <tr style=\"text-align: right;\">\n",
       "      <th></th>\n",
       "      <th>Bar 1 Distance</th>\n",
       "      <th>Bar 1 Speed</th>\n",
       "      <th>Bar 2 Distance</th>\n",
       "      <th>Bar 2 Speed</th>\n",
       "      <th>Jump</th>\n",
       "      <th>Grounded</th>\n",
       "      <th>Dead</th>\n",
       "      <th>Scored</th>\n",
       "    </tr>\n",
       "  </thead>\n",
       "  <tbody>\n",
       "    <tr>\n",
       "      <th>0</th>\n",
       "      <td>8.601720</td>\n",
       "      <td>14.010661</td>\n",
       "      <td>16.942482</td>\n",
       "      <td>14.598472</td>\n",
       "      <td>False</td>\n",
       "      <td>True</td>\n",
       "      <td>False</td>\n",
       "      <td>False</td>\n",
       "    </tr>\n",
       "    <tr>\n",
       "      <th>1</th>\n",
       "      <td>5.087775</td>\n",
       "      <td>14.010661</td>\n",
       "      <td>13.281113</td>\n",
       "      <td>14.598472</td>\n",
       "      <td>False</td>\n",
       "      <td>True</td>\n",
       "      <td>False</td>\n",
       "      <td>False</td>\n",
       "    </tr>\n",
       "    <tr>\n",
       "      <th>2</th>\n",
       "      <td>1.361419</td>\n",
       "      <td>14.010661</td>\n",
       "      <td>9.398420</td>\n",
       "      <td>14.598472</td>\n",
       "      <td>False</td>\n",
       "      <td>False</td>\n",
       "      <td>False</td>\n",
       "      <td>False</td>\n",
       "    </tr>\n",
       "    <tr>\n",
       "      <th>3</th>\n",
       "      <td>6.708690</td>\n",
       "      <td>14.598472</td>\n",
       "      <td>-1.000000</td>\n",
       "      <td>-1.000000</td>\n",
       "      <td>False</td>\n",
       "      <td>False</td>\n",
       "      <td>False</td>\n",
       "      <td>True</td>\n",
       "    </tr>\n",
       "    <tr>\n",
       "      <th>6</th>\n",
       "      <td>-1.000000</td>\n",
       "      <td>-1.000000</td>\n",
       "      <td>-1.000000</td>\n",
       "      <td>-1.000000</td>\n",
       "      <td>False</td>\n",
       "      <td>True</td>\n",
       "      <td>True</td>\n",
       "      <td>False</td>\n",
       "    </tr>\n",
       "    <tr>\n",
       "      <th>...</th>\n",
       "      <td>...</td>\n",
       "      <td>...</td>\n",
       "      <td>...</td>\n",
       "      <td>...</td>\n",
       "      <td>...</td>\n",
       "      <td>...</td>\n",
       "      <td>...</td>\n",
       "      <td>...</td>\n",
       "    </tr>\n",
       "    <tr>\n",
       "      <th>88319</th>\n",
       "      <td>30.634869</td>\n",
       "      <td>12.866792</td>\n",
       "      <td>-1.000000</td>\n",
       "      <td>-1.000000</td>\n",
       "      <td>False</td>\n",
       "      <td>True</td>\n",
       "      <td>False</td>\n",
       "      <td>False</td>\n",
       "    </tr>\n",
       "    <tr>\n",
       "      <th>88320</th>\n",
       "      <td>27.204208</td>\n",
       "      <td>12.866792</td>\n",
       "      <td>40.687737</td>\n",
       "      <td>13.128290</td>\n",
       "      <td>False</td>\n",
       "      <td>True</td>\n",
       "      <td>False</td>\n",
       "      <td>False</td>\n",
       "    </tr>\n",
       "    <tr>\n",
       "      <th>88321</th>\n",
       "      <td>23.985931</td>\n",
       "      <td>12.866792</td>\n",
       "      <td>37.404053</td>\n",
       "      <td>13.128290</td>\n",
       "      <td>False</td>\n",
       "      <td>True</td>\n",
       "      <td>False</td>\n",
       "      <td>False</td>\n",
       "    </tr>\n",
       "    <tr>\n",
       "      <th>88322</th>\n",
       "      <td>20.557592</td>\n",
       "      <td>12.866792</td>\n",
       "      <td>33.906036</td>\n",
       "      <td>13.128290</td>\n",
       "      <td>False</td>\n",
       "      <td>True</td>\n",
       "      <td>False</td>\n",
       "      <td>False</td>\n",
       "    </tr>\n",
       "    <tr>\n",
       "      <th>88323</th>\n",
       "      <td>17.126080</td>\n",
       "      <td>12.866792</td>\n",
       "      <td>30.404779</td>\n",
       "      <td>13.128290</td>\n",
       "      <td>False</td>\n",
       "      <td>True</td>\n",
       "      <td>False</td>\n",
       "      <td>False</td>\n",
       "    </tr>\n",
       "  </tbody>\n",
       "</table>\n",
       "<p>82685 rows × 8 columns</p>\n",
       "</div>"
      ],
      "text/plain": [
       "       Bar 1 Distance  Bar 1 Speed  Bar 2 Distance  Bar 2 Speed   Jump  \\\n",
       "0            8.601720    14.010661       16.942482    14.598472  False   \n",
       "1            5.087775    14.010661       13.281113    14.598472  False   \n",
       "2            1.361419    14.010661        9.398420    14.598472  False   \n",
       "3            6.708690    14.598472       -1.000000    -1.000000  False   \n",
       "6           -1.000000    -1.000000       -1.000000    -1.000000  False   \n",
       "...               ...          ...             ...          ...    ...   \n",
       "88319       30.634869    12.866792       -1.000000    -1.000000  False   \n",
       "88320       27.204208    12.866792       40.687737    13.128290  False   \n",
       "88321       23.985931    12.866792       37.404053    13.128290  False   \n",
       "88322       20.557592    12.866792       33.906036    13.128290  False   \n",
       "88323       17.126080    12.866792       30.404779    13.128290  False   \n",
       "\n",
       "       Grounded   Dead  Scored  \n",
       "0          True  False   False  \n",
       "1          True  False   False  \n",
       "2         False  False   False  \n",
       "3         False  False    True  \n",
       "6          True   True   False  \n",
       "...         ...    ...     ...  \n",
       "88319      True  False   False  \n",
       "88320      True  False   False  \n",
       "88321      True  False   False  \n",
       "88322      True  False   False  \n",
       "88323      True  False   False  \n",
       "\n",
       "[82685 rows x 8 columns]"
      ]
     },
     "execution_count": 23,
     "metadata": {},
     "output_type": "execute_result"
    }
   ],
   "source": [
    "# dead.value_counts()\n",
    "print(df.shape)\n",
    "for i in range(df.shape[0]):\n",
    "    # print(jump.index[i])\n",
    "    try:\n",
    "        if any(df['Dead'][df.index[i] + x] for x in range(0, 6)):\n",
    "            df.drop(df[df.index == df.index[i]].index, inplace=True)\n",
    "    except:\n",
    "        pass\n",
    "df\n"
   ]
  },
  {
   "cell_type": "code",
   "execution_count": 24,
   "metadata": {
    "collapsed": false,
    "pycharm": {
     "name": "#%%\n"
    }
   },
   "outputs": [
    {
     "data": {
      "text/html": [
       "<div>\n",
       "<style scoped>\n",
       "    .dataframe tbody tr th:only-of-type {\n",
       "        vertical-align: middle;\n",
       "    }\n",
       "\n",
       "    .dataframe tbody tr th {\n",
       "        vertical-align: top;\n",
       "    }\n",
       "\n",
       "    .dataframe thead th {\n",
       "        text-align: right;\n",
       "    }\n",
       "</style>\n",
       "<table border=\"1\" class=\"dataframe\">\n",
       "  <thead>\n",
       "    <tr style=\"text-align: right;\">\n",
       "      <th></th>\n",
       "      <th>Bar 1 Distance</th>\n",
       "      <th>Bar 1 Speed</th>\n",
       "      <th>Bar 2 Distance</th>\n",
       "      <th>Bar 2 Speed</th>\n",
       "      <th>Jump</th>\n",
       "      <th>Grounded</th>\n",
       "    </tr>\n",
       "  </thead>\n",
       "  <tbody>\n",
       "    <tr>\n",
       "      <th>0</th>\n",
       "      <td>8.601720</td>\n",
       "      <td>14.010661</td>\n",
       "      <td>16.942482</td>\n",
       "      <td>14.598472</td>\n",
       "      <td>False</td>\n",
       "      <td>True</td>\n",
       "    </tr>\n",
       "    <tr>\n",
       "      <th>1</th>\n",
       "      <td>5.087775</td>\n",
       "      <td>14.010661</td>\n",
       "      <td>13.281113</td>\n",
       "      <td>14.598472</td>\n",
       "      <td>False</td>\n",
       "      <td>True</td>\n",
       "    </tr>\n",
       "    <tr>\n",
       "      <th>2</th>\n",
       "      <td>1.361419</td>\n",
       "      <td>14.010661</td>\n",
       "      <td>9.398420</td>\n",
       "      <td>14.598472</td>\n",
       "      <td>False</td>\n",
       "      <td>False</td>\n",
       "    </tr>\n",
       "    <tr>\n",
       "      <th>3</th>\n",
       "      <td>6.708690</td>\n",
       "      <td>14.598472</td>\n",
       "      <td>-1.000000</td>\n",
       "      <td>-1.000000</td>\n",
       "      <td>False</td>\n",
       "      <td>False</td>\n",
       "    </tr>\n",
       "    <tr>\n",
       "      <th>7</th>\n",
       "      <td>39.553391</td>\n",
       "      <td>14.685490</td>\n",
       "      <td>54.367828</td>\n",
       "      <td>15.799332</td>\n",
       "      <td>False</td>\n",
       "      <td>True</td>\n",
       "    </tr>\n",
       "    <tr>\n",
       "      <th>...</th>\n",
       "      <td>...</td>\n",
       "      <td>...</td>\n",
       "      <td>...</td>\n",
       "      <td>...</td>\n",
       "      <td>...</td>\n",
       "      <td>...</td>\n",
       "    </tr>\n",
       "    <tr>\n",
       "      <th>88319</th>\n",
       "      <td>30.634869</td>\n",
       "      <td>12.866792</td>\n",
       "      <td>-1.000000</td>\n",
       "      <td>-1.000000</td>\n",
       "      <td>False</td>\n",
       "      <td>True</td>\n",
       "    </tr>\n",
       "    <tr>\n",
       "      <th>88320</th>\n",
       "      <td>27.204208</td>\n",
       "      <td>12.866792</td>\n",
       "      <td>40.687737</td>\n",
       "      <td>13.128290</td>\n",
       "      <td>False</td>\n",
       "      <td>True</td>\n",
       "    </tr>\n",
       "    <tr>\n",
       "      <th>88321</th>\n",
       "      <td>23.985931</td>\n",
       "      <td>12.866792</td>\n",
       "      <td>37.404053</td>\n",
       "      <td>13.128290</td>\n",
       "      <td>False</td>\n",
       "      <td>True</td>\n",
       "    </tr>\n",
       "    <tr>\n",
       "      <th>88322</th>\n",
       "      <td>20.557592</td>\n",
       "      <td>12.866792</td>\n",
       "      <td>33.906036</td>\n",
       "      <td>13.128290</td>\n",
       "      <td>False</td>\n",
       "      <td>True</td>\n",
       "    </tr>\n",
       "    <tr>\n",
       "      <th>88323</th>\n",
       "      <td>17.126080</td>\n",
       "      <td>12.866792</td>\n",
       "      <td>30.404779</td>\n",
       "      <td>13.128290</td>\n",
       "      <td>False</td>\n",
       "      <td>True</td>\n",
       "    </tr>\n",
       "  </tbody>\n",
       "</table>\n",
       "<p>80598 rows × 6 columns</p>\n",
       "</div>"
      ],
      "text/plain": [
       "       Bar 1 Distance  Bar 1 Speed  Bar 2 Distance  Bar 2 Speed   Jump  \\\n",
       "0            8.601720    14.010661       16.942482    14.598472  False   \n",
       "1            5.087775    14.010661       13.281113    14.598472  False   \n",
       "2            1.361419    14.010661        9.398420    14.598472  False   \n",
       "3            6.708690    14.598472       -1.000000    -1.000000  False   \n",
       "7           39.553391    14.685490       54.367828    15.799332  False   \n",
       "...               ...          ...             ...          ...    ...   \n",
       "88319       30.634869    12.866792       -1.000000    -1.000000  False   \n",
       "88320       27.204208    12.866792       40.687737    13.128290  False   \n",
       "88321       23.985931    12.866792       37.404053    13.128290  False   \n",
       "88322       20.557592    12.866792       33.906036    13.128290  False   \n",
       "88323       17.126080    12.866792       30.404779    13.128290  False   \n",
       "\n",
       "       Grounded  \n",
       "0          True  \n",
       "1          True  \n",
       "2         False  \n",
       "3         False  \n",
       "7          True  \n",
       "...         ...  \n",
       "88319      True  \n",
       "88320      True  \n",
       "88321      True  \n",
       "88322      True  \n",
       "88323      True  \n",
       "\n",
       "[80598 rows x 6 columns]"
      ]
     },
     "execution_count": 24,
     "metadata": {},
     "output_type": "execute_result"
    }
   ],
   "source": [
    "# Are there data we don't care about?\n",
    "df.drop(df[df['Dead'] == True].index, inplace=True)\n",
    "df = df.drop([\"Dead\", \"Scored\"], inplace=False, axis=1)\n",
    "df"
   ]
  },
  {
   "cell_type": "code",
   "execution_count": 25,
   "metadata": {
    "collapsed": false,
    "pycharm": {
     "name": "#%%\n"
    }
   },
   "outputs": [
    {
     "data": {
      "text/plain": [
       "240"
      ]
     },
     "execution_count": 25,
     "metadata": {},
     "output_type": "execute_result"
    }
   ],
   "source": [
    "jumpCount = df[df['Jump'] == True].shape[0]\n",
    "jumpCount"
   ]
  },
  {
   "cell_type": "code",
   "execution_count": 26,
   "metadata": {
    "collapsed": false,
    "pycharm": {
     "name": "#%%\n"
    }
   },
   "outputs": [
    {
     "data": {
      "text/plain": [
       "80358"
      ]
     },
     "execution_count": 26,
     "metadata": {},
     "output_type": "execute_result"
    }
   ],
   "source": [
    "noJumpCount = df[df['Jump'] == False].shape[0]\n",
    "noJumpCount"
   ]
  },
  {
   "cell_type": "code",
   "execution_count": 27,
   "metadata": {
    "collapsed": false,
    "pycharm": {
     "name": "#%%\n"
    }
   },
   "outputs": [],
   "source": [
    "df_toDrop = df[df['Jump'] == False].sample(noJumpCount - jumpCount)\n",
    "df.drop(df_toDrop.index, inplace=True)"
   ]
  },
  {
   "cell_type": "code",
   "execution_count": 28,
   "metadata": {
    "collapsed": false,
    "pycharm": {
     "name": "#%%\n"
    }
   },
   "outputs": [],
   "source": [
    "# Create the Input DataFrame\n",
    "X = df[['Bar 1 Distance', 'Bar 1 Speed', 'Bar 2 Distance', 'Bar 2 Speed']]\n",
    "X = X.to_numpy()"
   ]
  },
  {
   "cell_type": "code",
   "execution_count": 29,
   "metadata": {
    "collapsed": false,
    "pycharm": {
     "name": "#%%\n"
    }
   },
   "outputs": [
    {
     "name": "stderr",
     "output_type": "stream",
     "text": [
      "/tmp/ipykernel_51902/2096279593.py:12: SettingWithCopyWarning: \n",
      "A value is trying to be set on a copy of a slice from a DataFrame.\n",
      "Try using .loc[row_indexer,col_indexer] = value instead\n",
      "\n",
      "See the caveats in the documentation: https://pandas.pydata.org/pandas-docs/stable/user_guide/indexing.html#returning-a-view-versus-a-copy\n",
      "  Y['Jump'] = Y.apply(bool2Num, axis='columns')\n"
     ]
    }
   ],
   "source": [
    "# Create the Output DataFrame and Map True / False to 1 / 0\n",
    "Y = df[['Jump']]\n",
    "\n",
    "\n",
    "def bool2Num(row):\n",
    "    if row['Jump']:\n",
    "        return 1\n",
    "    else:\n",
    "        return 0\n",
    "\n",
    "\n",
    "Y['Jump'] = Y.apply(bool2Num, axis='columns')\n",
    "Y = Y['Jump'].to_numpy()"
   ]
  },
  {
   "cell_type": "code",
   "execution_count": 30,
   "metadata": {
    "collapsed": false,
    "pycharm": {
     "name": "#%%\n"
    }
   },
   "outputs": [],
   "source": [
    "# Train Test Split with test size set to 20%\n",
    "from sklearn.model_selection import train_test_split\n",
    "\n",
    "x_train, x_test, y_train, y_test = train_test_split(X, Y, test_size=0.33, random_state=42)"
   ]
  },
  {
   "cell_type": "code",
   "execution_count": 31,
   "metadata": {
    "collapsed": false,
    "pycharm": {
     "name": "#%%\n"
    }
   },
   "outputs": [
    {
     "data": {
      "text/html": [
       "<style>#sk-container-id-2 {color: black;background-color: white;}#sk-container-id-2 pre{padding: 0;}#sk-container-id-2 div.sk-toggleable {background-color: white;}#sk-container-id-2 label.sk-toggleable__label {cursor: pointer;display: block;width: 100%;margin-bottom: 0;padding: 0.3em;box-sizing: border-box;text-align: center;}#sk-container-id-2 label.sk-toggleable__label-arrow:before {content: \"▸\";float: left;margin-right: 0.25em;color: #696969;}#sk-container-id-2 label.sk-toggleable__label-arrow:hover:before {color: black;}#sk-container-id-2 div.sk-estimator:hover label.sk-toggleable__label-arrow:before {color: black;}#sk-container-id-2 div.sk-toggleable__content {max-height: 0;max-width: 0;overflow: hidden;text-align: left;background-color: #f0f8ff;}#sk-container-id-2 div.sk-toggleable__content pre {margin: 0.2em;color: black;border-radius: 0.25em;background-color: #f0f8ff;}#sk-container-id-2 input.sk-toggleable__control:checked~div.sk-toggleable__content {max-height: 200px;max-width: 100%;overflow: auto;}#sk-container-id-2 input.sk-toggleable__control:checked~label.sk-toggleable__label-arrow:before {content: \"▾\";}#sk-container-id-2 div.sk-estimator input.sk-toggleable__control:checked~label.sk-toggleable__label {background-color: #d4ebff;}#sk-container-id-2 div.sk-label input.sk-toggleable__control:checked~label.sk-toggleable__label {background-color: #d4ebff;}#sk-container-id-2 input.sk-hidden--visually {border: 0;clip: rect(1px 1px 1px 1px);clip: rect(1px, 1px, 1px, 1px);height: 1px;margin: -1px;overflow: hidden;padding: 0;position: absolute;width: 1px;}#sk-container-id-2 div.sk-estimator {font-family: monospace;background-color: #f0f8ff;border: 1px dotted black;border-radius: 0.25em;box-sizing: border-box;margin-bottom: 0.5em;}#sk-container-id-2 div.sk-estimator:hover {background-color: #d4ebff;}#sk-container-id-2 div.sk-parallel-item::after {content: \"\";width: 100%;border-bottom: 1px solid gray;flex-grow: 1;}#sk-container-id-2 div.sk-label:hover label.sk-toggleable__label {background-color: #d4ebff;}#sk-container-id-2 div.sk-serial::before {content: \"\";position: absolute;border-left: 1px solid gray;box-sizing: border-box;top: 0;bottom: 0;left: 50%;z-index: 0;}#sk-container-id-2 div.sk-serial {display: flex;flex-direction: column;align-items: center;background-color: white;padding-right: 0.2em;padding-left: 0.2em;position: relative;}#sk-container-id-2 div.sk-item {position: relative;z-index: 1;}#sk-container-id-2 div.sk-parallel {display: flex;align-items: stretch;justify-content: center;background-color: white;position: relative;}#sk-container-id-2 div.sk-item::before, #sk-container-id-2 div.sk-parallel-item::before {content: \"\";position: absolute;border-left: 1px solid gray;box-sizing: border-box;top: 0;bottom: 0;left: 50%;z-index: -1;}#sk-container-id-2 div.sk-parallel-item {display: flex;flex-direction: column;z-index: 1;position: relative;background-color: white;}#sk-container-id-2 div.sk-parallel-item:first-child::after {align-self: flex-end;width: 50%;}#sk-container-id-2 div.sk-parallel-item:last-child::after {align-self: flex-start;width: 50%;}#sk-container-id-2 div.sk-parallel-item:only-child::after {width: 0;}#sk-container-id-2 div.sk-dashed-wrapped {border: 1px dashed gray;margin: 0 0.4em 0.5em 0.4em;box-sizing: border-box;padding-bottom: 0.4em;background-color: white;}#sk-container-id-2 div.sk-label label {font-family: monospace;font-weight: bold;display: inline-block;line-height: 1.2em;}#sk-container-id-2 div.sk-label-container {text-align: center;}#sk-container-id-2 div.sk-container {/* jupyter's `normalize.less` sets `[hidden] { display: none; }` but bootstrap.min.css set `[hidden] { display: none !important; }` so we also need the `!important` here to be able to override the default hidden behavior on the sphinx rendered scikit-learn.org. See: https://github.com/scikit-learn/scikit-learn/issues/21755 */display: inline-block !important;position: relative;}#sk-container-id-2 div.sk-text-repr-fallback {display: none;}</style><div id=\"sk-container-id-2\" class=\"sk-top-container\"><div class=\"sk-text-repr-fallback\"><pre>RandomForestRegressor()</pre><b>In a Jupyter environment, please rerun this cell to show the HTML representation or trust the notebook. <br />On GitHub, the HTML representation is unable to render, please try loading this page with nbviewer.org.</b></div><div class=\"sk-container\" hidden><div class=\"sk-item\"><div class=\"sk-estimator sk-toggleable\"><input class=\"sk-toggleable__control sk-hidden--visually\" id=\"sk-estimator-id-2\" type=\"checkbox\" checked><label for=\"sk-estimator-id-2\" class=\"sk-toggleable__label sk-toggleable__label-arrow\">RandomForestRegressor</label><div class=\"sk-toggleable__content\"><pre>RandomForestRegressor()</pre></div></div></div></div></div>"
      ],
      "text/plain": [
       "RandomForestRegressor()"
      ]
     },
     "execution_count": 31,
     "metadata": {},
     "output_type": "execute_result"
    }
   ],
   "source": [
    "model = LogisticRegression()\n",
    "model.fit(x_train, y_train)\n"
   ]
  },
  {
   "cell_type": "code",
   "execution_count": 32,
   "metadata": {
    "collapsed": false,
    "pycharm": {
     "name": "#%%\n"
    }
   },
   "outputs": [],
   "source": [
    "predict = model.predict(x_test)"
   ]
  },
  {
   "cell_type": "code",
   "execution_count": 33,
   "metadata": {
    "collapsed": false,
    "pycharm": {
     "name": "#%%\n"
    }
   },
   "outputs": [],
   "source": [
    "from sklearn.metrics import accuracy_score, precision_score, recall_score, f1_score, confusion_matrix"
   ]
  },
  {
   "cell_type": "code",
   "execution_count": 34,
   "metadata": {
    "collapsed": false,
    "pycharm": {
     "name": "#%%\n"
    }
   },
   "outputs": [],
   "source": [
    "# Print Out Prediction Accuraccy\n",
    "# accuracy_score(y_test, predict)"
   ]
  },
  {
   "cell_type": "code",
   "execution_count": 35,
   "metadata": {
    "collapsed": false,
    "pycharm": {
     "name": "#%%\n"
    }
   },
   "outputs": [
    {
     "data": {
      "text/plain": [
       "'model2 = ________________________________\\nmodel2.__________________________\\n\\npredict = ___________________________\\naccuracy_score(_________________, ________________)'"
      ]
     },
     "execution_count": 35,
     "metadata": {},
     "output_type": "execute_result"
    }
   ],
   "source": [
    "# Try a Different Model (Random Forest)\n",
    "\"\"\"model2 = ________________________________\n",
    "model2.__________________________\n",
    "\n",
    "predict = ___________________________\n",
    "accuracy_score(_________________, ________________)\"\"\"\n"
   ]
  },
  {
   "cell_type": "markdown",
   "metadata": {
    "collapsed": false,
    "pycharm": {
     "name": "#%% md\n"
    }
   },
   "source": [
    "# Deployment"
   ]
  },
  {
   "cell_type": "code",
   "execution_count": 36,
   "metadata": {
    "collapsed": false,
    "pycharm": {
     "name": "#%%\n"
    }
   },
   "outputs": [],
   "source": [
    "# Command to Open SIMPLE ML Jump 2 (for Example)\n",
    "\n",
    "# Windows OS\n",
    "#env_path = \"D:\\\\User\\\\Desktop\\\\10botics Data Science\\\\ML Game\\\\SimpleMLJump2 Builds\\\\Windows\\\\Simple ML Jump 2.exe\"\n",
    "\n",
    "# MacOS\n",
    "#env_path = 'open -n \"/Users/billwaa/Desktop/ML Game/Simple ML Jump 2.app\"' \n",
    "\n",
    "env_path = \"../Linux/SimpleMLJump2.x86_64\""
   ]
  },
  {
   "cell_type": "code",
   "execution_count": 37,
   "metadata": {
    "collapsed": false,
    "pycharm": {
     "name": "#%%\n"
    }
   },
   "outputs": [
    {
     "name": "stderr",
     "output_type": "stream",
     "text": [
      "2022-07-23 09:42:49.866104: I tensorflow/core/util/util.cc:169] oneDNN custom operations are on. You may see slightly different numerical results due to floating-point round-off errors from different computation orders. To turn them off, set the environment variable `TF_ENABLE_ONEDNN_OPTS=0`.\n"
     ]
    },
    {
     "data": {
      "text/plain": [
       "2"
      ]
     },
     "execution_count": 37,
     "metadata": {},
     "output_type": "execute_result"
    }
   ],
   "source": [
    "# Import Libraries\n",
    "import socket\n",
    "import struct\n",
    "import tensorflow as tf\n",
    "from tensorflow import keras\n",
    "import pandas as pd\n",
    "import time\n",
    "import subprocess\n",
    "import platform\n",
    "import collect\n",
    "import multiprocessing as mp\n",
    "\n",
    "\n",
    "# Find Open Socket Ports\n",
    "def findOpenSockets(size: int):\n",
    "    sock = []\n",
    "    port = []\n",
    "\n",
    "    for i in range(size):\n",
    "        sock.append(socket.socket())\n",
    "        sock[i].bind(('localhost', 0))\n",
    "        port.append(sock[i].getsockname()[1])\n",
    "\n",
    "    for i in range(len(sock)):\n",
    "        sock[i].close()\n",
    "\n",
    "    return port\n",
    "\n",
    "\n",
    "# Find Open Ports and Launch Game Environment\n",
    "envNum = 1\n",
    "openPorts = findOpenSockets(envNum * 2)\n",
    "gamePort = openPorts[0]\n",
    "apiPort = openPorts[1]\n",
    "\n",
    "# Determine OS and Launch \n",
    "if platform.system() == 'Darwin':\n",
    "    env_path += f\" --args --apiPort {str(apiPort)} --gamePort {str(gamePort)} --small false\"\n",
    "    process = subprocess.Popen([env_path], shell=True)\n",
    "else:\n",
    "    process = subprocess.Popen([env_path, '--apiPort', str(apiPort), '--gamePort', str(gamePort), '--small', 'false'])\n",
    "\n",
    "# Establish UDP Network Client\n",
    "localIP = \"localhost\"\n",
    "bufferSize = 1024\n",
    "UDPServerSocket = socket.socket(family=socket.AF_INET, type=socket.SOCK_DGRAM)\n",
    "UDPServerSocket.bind((localIP, apiPort))\n",
    "\n",
    "# Set UDP Timeout\n",
    "UDPServerSocket.settimeout(3)\n",
    "\n",
    "# Wait for Game Environment to Open\n",
    "t0 = time.time()\n",
    "\n",
    "while (time.time() - t0 < 5):\n",
    "    pass\n",
    "\n",
    "\n",
    "# Extract Data\n",
    "def extractData(data):\n",
    "    dist1 = struct.unpack('f', data[:4])\n",
    "    speed1 = struct.unpack('f', data[4:8])\n",
    "    dist2 = struct.unpack('f', data[8:12])\n",
    "    speed2 = struct.unpack('f', data[12:16])\n",
    "\n",
    "    onGround = True if (data[16] & (1 << 0)) == 1 else False\n",
    "    toJump = True if (data[17] & (1 << 0)) == 1 else False\n",
    "    isDead = True if (data[18] & (1 << 0)) == 1 else False\n",
    "    scored = True if (data[19] & (1 << 0)) == 1 else False\n",
    "\n",
    "    dat = [dist1[0], speed1[0], dist2[0], speed2[0], toJump, onGround, isDead,\n",
    "           scored]  # Swap Order to Accomadate Old Model\n",
    "    df_temp = pd.DataFrame(dat).transpose()\n",
    "\n",
    "    return df_temp\n",
    "\n",
    "\n",
    "# Reset Simulation\n",
    "UDPServerSocket.sendto(bytes.fromhex('07 00'), (localIP, gamePort))"
   ]
  },
  {
   "cell_type": "code",
   "execution_count": 38,
   "metadata": {
    "collapsed": false,
    "pycharm": {
     "name": "#%%\n"
    }
   },
   "outputs": [
    {
     "name": "stdout",
     "output_type": "stream",
     "text": [
      "timed out97]\n"
     ]
    }
   ],
   "source": [
    "from os.path import exists\n",
    "\n",
    "df2 = pd.DataFrame()\n",
    "prevJump = False\n",
    "# Process Loop - Retrieve Data from Simulation, Run Through Model, Output Command\n",
    "while True:\n",
    "    try:\n",
    "        bytesAddressPair = UDPServerSocket.recvfrom(bufferSize)\n",
    "        t0 = time.time()\n",
    "        message = bytesAddressPair[0]\n",
    "        address = bytesAddressPair[1]\n",
    "        df_temp = extractData(message)\n",
    "        X = df_temp.iloc[:, :4]\n",
    "        X = X.astype(float)\n",
    "    # Data PreProcessing Function Go Here\n",
    "    # Model Prediction Function Go Here\n",
    "        predict = model.predict(X)\n",
    "        print(predict, end='\\r')\n",
    "    # If Jump Decision is Made, Send to Game\n",
    "        if predict[0] > 0.5 and not (not df_temp.iloc[0, 5] and (df_temp.iloc[0, 2] - df_temp.iloc[0, 0]) >= 15):\n",
    "            # Jump Command\n",
    "            if not prevJump:\n",
    "                UDPServerSocket.sendto(bytes.fromhex(\n",
    "                    '06 01'), (localIP, gamePort))\n",
    "                prevJump = True\n",
    "            else:\n",
    "                prevJump = False\n",
    "        else:\n",
    "            prevJump = False\n",
    "        if df_temp.iloc[0, 6]:\n",
    "            # df2.columns = ['Bar 1 Distance', 'Bar 1 Speed', 'Bar 2 Distance',\n",
    "            #               'Bar 2 Speed', 'Jump', 'Grounded', 'Dead', 'Scored']\n",
    "            \"\"\"try:\n",
    "                if exists(\"data.csv\"):\n",
    "                    pd.concat([pd.read_csv(\"data.csv\"),\n",
    "                               df2]).to_csv(\"data.csv\", index=False)\n",
    "                else:\n",
    "                    df2.to_csv(\"data.csv\", index=False)\n",
    "\n",
    "                score = df2['Scored'].value_counts()[True]\n",
    "\n",
    "                def clean(x): return x > 0\n",
    "\n",
    "                dfScore = pd.DataFrame(\n",
    "                    [[score, (filter(clean, df2['Bar 2 Distance']) - filter(clean, df2['Bar 1 Distance'])).mean(), (filter(clean, df2['Bar 1 Speed']).mean() + filter(clean, df2['Bar 2 Speed']).mean()) / 2]], columns=['Score', 'Bar Distance', 'Bar Speed'])\n",
    "\n",
    "                if exists(\"score.csv\"):\n",
    "                    pd.concat([pd.read_csv(\"score.csv\"), dfScore]\n",
    "                              ).to_csv(\"score.csv\", index=False)\n",
    "                else:\n",
    "                    dfScore.to_csv(\"score.csv\", index=False)\n",
    "            except Exception as e:\n",
    "                print(e)\n",
    "                pass\"\"\"\n",
    "            df2 = pd.DataFrame()\n",
    "            UDPServerSocket.sendto(bytes.fromhex('07 00'), (localIP, gamePort))\n",
    "\n",
    "        # df2 = pd.concat([df2, df_temp])\n",
    "    except Exception as e:\n",
    "        print(e)\n",
    "        break\n"
   ]
  },
  {
   "cell_type": "code",
   "execution_count": 39,
   "metadata": {},
   "outputs": [
    {
     "ename": "ValueError",
     "evalue": "Length mismatch: Expected axis has 0 elements, new values have 8 elements",
     "output_type": "error",
     "traceback": [
      "\u001b[0;31m---------------------------------------------------------------------------\u001b[0m",
      "\u001b[0;31mValueError\u001b[0m                                Traceback (most recent call last)",
      "\u001b[1;32m/home/wcyat/dev/kaggle/code/ml-jump/Notebook/Simple ML Jump - STUDENT STARTER SKLEARN v2.ipynb Cell 24\u001b[0m in \u001b[0;36m<cell line: 2>\u001b[0;34m()\u001b[0m\n\u001b[1;32m      <a href='vscode-notebook-cell:/home/wcyat/dev/kaggle/code/ml-jump/Notebook/Simple%20ML%20Jump%20-%20STUDENT%20STARTER%20SKLEARN%20v2.ipynb#ch0000023?line=0'>1</a>\u001b[0m \u001b[39m# Export Data to CSV\u001b[39;00m\n\u001b[0;32m----> <a href='vscode-notebook-cell:/home/wcyat/dev/kaggle/code/ml-jump/Notebook/Simple%20ML%20Jump%20-%20STUDENT%20STARTER%20SKLEARN%20v2.ipynb#ch0000023?line=1'>2</a>\u001b[0m df2\u001b[39m.\u001b[39mcolumns \u001b[39m=\u001b[39m [\u001b[39m'\u001b[39m\u001b[39mBar 1 Distance\u001b[39m\u001b[39m'\u001b[39m, \u001b[39m'\u001b[39m\u001b[39mBar 1 Speed\u001b[39m\u001b[39m'\u001b[39m, \u001b[39m'\u001b[39m\u001b[39mBar 2 Distance\u001b[39m\u001b[39m'\u001b[39m,\n\u001b[1;32m      <a href='vscode-notebook-cell:/home/wcyat/dev/kaggle/code/ml-jump/Notebook/Simple%20ML%20Jump%20-%20STUDENT%20STARTER%20SKLEARN%20v2.ipynb#ch0000023?line=2'>3</a>\u001b[0m                \u001b[39m'\u001b[39m\u001b[39mBar 2 Speed\u001b[39m\u001b[39m'\u001b[39m, \u001b[39m'\u001b[39m\u001b[39mJump\u001b[39m\u001b[39m'\u001b[39m, \u001b[39m'\u001b[39m\u001b[39mGrounded\u001b[39m\u001b[39m'\u001b[39m, \u001b[39m'\u001b[39m\u001b[39mDead\u001b[39m\u001b[39m'\u001b[39m, \u001b[39m'\u001b[39m\u001b[39mScored\u001b[39m\u001b[39m'\u001b[39m]\n\u001b[1;32m      <a href='vscode-notebook-cell:/home/wcyat/dev/kaggle/code/ml-jump/Notebook/Simple%20ML%20Jump%20-%20STUDENT%20STARTER%20SKLEARN%20v2.ipynb#ch0000023?line=3'>4</a>\u001b[0m \u001b[39mtry\u001b[39;00m:\n\u001b[1;32m      <a href='vscode-notebook-cell:/home/wcyat/dev/kaggle/code/ml-jump/Notebook/Simple%20ML%20Jump%20-%20STUDENT%20STARTER%20SKLEARN%20v2.ipynb#ch0000023?line=4'>5</a>\u001b[0m     pd\u001b[39m.\u001b[39mconcat([pd\u001b[39m.\u001b[39mread_csv(\u001b[39m\"\u001b[39m\u001b[39mdata.csv\u001b[39m\u001b[39m\"\u001b[39m),\n\u001b[1;32m      <a href='vscode-notebook-cell:/home/wcyat/dev/kaggle/code/ml-jump/Notebook/Simple%20ML%20Jump%20-%20STUDENT%20STARTER%20SKLEARN%20v2.ipynb#ch0000023?line=5'>6</a>\u001b[0m                df2])\u001b[39m.\u001b[39mto_csv(\u001b[39m\"\u001b[39m\u001b[39mdata.csv\u001b[39m\u001b[39m\"\u001b[39m, index\u001b[39m=\u001b[39m\u001b[39mFalse\u001b[39;00m)\n",
      "File \u001b[0;32m~/dev/kaggle/code/venv/lib/python3.10/site-packages/pandas/core/generic.py:5588\u001b[0m, in \u001b[0;36mNDFrame.__setattr__\u001b[0;34m(self, name, value)\u001b[0m\n\u001b[1;32m   5586\u001b[0m \u001b[39mtry\u001b[39;00m:\n\u001b[1;32m   5587\u001b[0m     \u001b[39mobject\u001b[39m\u001b[39m.\u001b[39m\u001b[39m__getattribute__\u001b[39m(\u001b[39mself\u001b[39m, name)\n\u001b[0;32m-> 5588\u001b[0m     \u001b[39mreturn\u001b[39;00m \u001b[39mobject\u001b[39;49m\u001b[39m.\u001b[39;49m\u001b[39m__setattr__\u001b[39;49m(\u001b[39mself\u001b[39;49m, name, value)\n\u001b[1;32m   5589\u001b[0m \u001b[39mexcept\u001b[39;00m \u001b[39mAttributeError\u001b[39;00m:\n\u001b[1;32m   5590\u001b[0m     \u001b[39mpass\u001b[39;00m\n",
      "File \u001b[0;32m~/dev/kaggle/code/venv/lib/python3.10/site-packages/pandas/_libs/properties.pyx:70\u001b[0m, in \u001b[0;36mpandas._libs.properties.AxisProperty.__set__\u001b[0;34m()\u001b[0m\n",
      "File \u001b[0;32m~/dev/kaggle/code/venv/lib/python3.10/site-packages/pandas/core/generic.py:769\u001b[0m, in \u001b[0;36mNDFrame._set_axis\u001b[0;34m(self, axis, labels)\u001b[0m\n\u001b[1;32m    767\u001b[0m \u001b[39mdef\u001b[39;00m \u001b[39m_set_axis\u001b[39m(\u001b[39mself\u001b[39m, axis: \u001b[39mint\u001b[39m, labels: Index) \u001b[39m-\u001b[39m\u001b[39m>\u001b[39m \u001b[39mNone\u001b[39;00m:\n\u001b[1;32m    768\u001b[0m     labels \u001b[39m=\u001b[39m ensure_index(labels)\n\u001b[0;32m--> 769\u001b[0m     \u001b[39mself\u001b[39;49m\u001b[39m.\u001b[39;49m_mgr\u001b[39m.\u001b[39;49mset_axis(axis, labels)\n\u001b[1;32m    770\u001b[0m     \u001b[39mself\u001b[39m\u001b[39m.\u001b[39m_clear_item_cache()\n",
      "File \u001b[0;32m~/dev/kaggle/code/venv/lib/python3.10/site-packages/pandas/core/internals/managers.py:214\u001b[0m, in \u001b[0;36mBaseBlockManager.set_axis\u001b[0;34m(self, axis, new_labels)\u001b[0m\n\u001b[1;32m    212\u001b[0m \u001b[39mdef\u001b[39;00m \u001b[39mset_axis\u001b[39m(\u001b[39mself\u001b[39m, axis: \u001b[39mint\u001b[39m, new_labels: Index) \u001b[39m-\u001b[39m\u001b[39m>\u001b[39m \u001b[39mNone\u001b[39;00m:\n\u001b[1;32m    213\u001b[0m     \u001b[39m# Caller is responsible for ensuring we have an Index object.\u001b[39;00m\n\u001b[0;32m--> 214\u001b[0m     \u001b[39mself\u001b[39;49m\u001b[39m.\u001b[39;49m_validate_set_axis(axis, new_labels)\n\u001b[1;32m    215\u001b[0m     \u001b[39mself\u001b[39m\u001b[39m.\u001b[39maxes[axis] \u001b[39m=\u001b[39m new_labels\n",
      "File \u001b[0;32m~/dev/kaggle/code/venv/lib/python3.10/site-packages/pandas/core/internals/base.py:69\u001b[0m, in \u001b[0;36mDataManager._validate_set_axis\u001b[0;34m(self, axis, new_labels)\u001b[0m\n\u001b[1;32m     66\u001b[0m     \u001b[39mpass\u001b[39;00m\n\u001b[1;32m     68\u001b[0m \u001b[39melif\u001b[39;00m new_len \u001b[39m!=\u001b[39m old_len:\n\u001b[0;32m---> 69\u001b[0m     \u001b[39mraise\u001b[39;00m \u001b[39mValueError\u001b[39;00m(\n\u001b[1;32m     70\u001b[0m         \u001b[39mf\u001b[39m\u001b[39m\"\u001b[39m\u001b[39mLength mismatch: Expected axis has \u001b[39m\u001b[39m{\u001b[39;00mold_len\u001b[39m}\u001b[39;00m\u001b[39m elements, new \u001b[39m\u001b[39m\"\u001b[39m\n\u001b[1;32m     71\u001b[0m         \u001b[39mf\u001b[39m\u001b[39m\"\u001b[39m\u001b[39mvalues have \u001b[39m\u001b[39m{\u001b[39;00mnew_len\u001b[39m}\u001b[39;00m\u001b[39m elements\u001b[39m\u001b[39m\"\u001b[39m\n\u001b[1;32m     72\u001b[0m     )\n",
      "\u001b[0;31mValueError\u001b[0m: Length mismatch: Expected axis has 0 elements, new values have 8 elements"
     ]
    }
   ],
   "source": [
    "# Export Data to CSV\n",
    "df2.columns = ['Bar 1 Distance', 'Bar 1 Speed', 'Bar 2 Distance',\n",
    "               'Bar 2 Speed', 'Jump', 'Grounded', 'Dead', 'Scored']\n",
    "try:\n",
    "    pd.concat([pd.read_csv(\"data.csv\"),\n",
    "               df2]).to_csv(\"data.csv\", index=False)\n",
    "except:\n",
    "    df2.to_csv(\"data.csv\", index=False)\n"
   ]
  },
  {
   "cell_type": "code",
   "execution_count": null,
   "metadata": {
    "pycharm": {
     "name": "#%%\n"
    }
   },
   "outputs": [],
   "source": [
    "# Close UDP Port When Game is Closed\n",
    "UDPServerSocket.close()"
   ]
  }
 ],
 "metadata": {
  "kernelspec": {
   "display_name": "Python 3.10.5 ('venv': venv)",
   "language": "python",
   "name": "python3"
  },
  "language_info": {
   "codemirror_mode": {
    "name": "ipython",
    "version": 3
   },
   "file_extension": ".py",
   "mimetype": "text/x-python",
   "name": "python",
   "nbconvert_exporter": "python",
   "pygments_lexer": "ipython3",
   "version": "3.10.5"
  },
  "orig_nbformat": 4,
  "vscode": {
   "interpreter": {
    "hash": "f5ff2f5e56ef3133dccc8e09d46b0dc57e2f5d1229922630f6f4d17b9c4b64d3"
   }
  }
 },
 "nbformat": 4,
 "nbformat_minor": 2
}
